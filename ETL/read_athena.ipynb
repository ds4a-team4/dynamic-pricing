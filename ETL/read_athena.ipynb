{
 "cells": [
  {
   "cell_type": "code",
   "execution_count": 1,
   "metadata": {},
   "outputs": [],
   "source": [
    "from pyathena import connect\n",
    "from pyathena.util import as_pandas\n",
    "import s3fs"
   ]
  },
  {
   "cell_type": "code",
   "execution_count": 2,
   "metadata": {},
   "outputs": [],
   "source": [
    "import pandas as pd"
   ]
  },
  {
   "cell_type": "code",
   "execution_count": 3,
   "metadata": {},
   "outputs": [],
   "source": [
    "#products = pd.read_csv('data/products.csv', dtype={'gtin':'str'})\n",
    "products = pd.read_csv('../data/electronics_products.csv', dtype={'value':'str'})"
   ]
  },
  {
   "cell_type": "code",
   "execution_count": 4,
   "metadata": {},
   "outputs": [
    {
     "data": {
      "text/html": [
       "<div>\n",
       "<style scoped>\n",
       "    .dataframe tbody tr th:only-of-type {\n",
       "        vertical-align: middle;\n",
       "    }\n",
       "\n",
       "    .dataframe tbody tr th {\n",
       "        vertical-align: top;\n",
       "    }\n",
       "\n",
       "    .dataframe thead th {\n",
       "        text-align: right;\n",
       "    }\n",
       "</style>\n",
       "<table border=\"1\" class=\"dataframe\">\n",
       "  <thead>\n",
       "    <tr style=\"text-align: right;\">\n",
       "      <th></th>\n",
       "      <th>odin</th>\n",
       "      <th>product_type</th>\n",
       "      <th>product_type_group</th>\n",
       "      <th>identifier_type</th>\n",
       "      <th>value</th>\n",
       "    </tr>\n",
       "  </thead>\n",
       "  <tbody>\n",
       "    <tr>\n",
       "      <th>0</th>\n",
       "      <td>O18AD42D9617AE40FBB5E72A174F98DE5B</td>\n",
       "      <td>Celular</td>\n",
       "      <td>eletronicos</td>\n",
       "      <td>gtin</td>\n",
       "      <td>7899838829838</td>\n",
       "    </tr>\n",
       "    <tr>\n",
       "      <th>1</th>\n",
       "      <td>O1E75679BD569C48E384C38838A701E301</td>\n",
       "      <td>Celular</td>\n",
       "      <td>eletronicos</td>\n",
       "      <td>gtin</td>\n",
       "      <td>6941059621027</td>\n",
       "    </tr>\n",
       "    <tr>\n",
       "      <th>2</th>\n",
       "      <td>O1DDFC947FF78A45F793AF84151F9F4785</td>\n",
       "      <td>Celular</td>\n",
       "      <td>eletronicos</td>\n",
       "      <td>gtin</td>\n",
       "      <td>848958032991</td>\n",
       "    </tr>\n",
       "    <tr>\n",
       "      <th>3</th>\n",
       "      <td>O1A5F8A4C0DADE4C179ABD49FE3117D7B3</td>\n",
       "      <td>Celular</td>\n",
       "      <td>eletronicos</td>\n",
       "      <td>gtin</td>\n",
       "      <td>6941377760507</td>\n",
       "    </tr>\n",
       "    <tr>\n",
       "      <th>4</th>\n",
       "      <td>O12829428330F5485CA7D16A6503B7FA28</td>\n",
       "      <td>Placa circuito</td>\n",
       "      <td>eletronicos</td>\n",
       "      <td>gtin</td>\n",
       "      <td>7896637630306</td>\n",
       "    </tr>\n",
       "  </tbody>\n",
       "</table>\n",
       "</div>"
      ],
      "text/plain": [
       "                                 odin    product_type product_type_group  \\\n",
       "0  O18AD42D9617AE40FBB5E72A174F98DE5B         Celular        eletronicos   \n",
       "1  O1E75679BD569C48E384C38838A701E301         Celular        eletronicos   \n",
       "2  O1DDFC947FF78A45F793AF84151F9F4785         Celular        eletronicos   \n",
       "3  O1A5F8A4C0DADE4C179ABD49FE3117D7B3         Celular        eletronicos   \n",
       "4  O12829428330F5485CA7D16A6503B7FA28  Placa circuito        eletronicos   \n",
       "\n",
       "  identifier_type          value  \n",
       "0            gtin  7899838829838  \n",
       "1            gtin  6941059621027  \n",
       "2            gtin   848958032991  \n",
       "3            gtin  6941377760507  \n",
       "4            gtin  7896637630306  "
      ]
     },
     "execution_count": 4,
     "metadata": {},
     "output_type": "execute_result"
    }
   ],
   "source": [
    "products.head()"
   ]
  },
  {
   "cell_type": "code",
   "execution_count": 5,
   "metadata": {},
   "outputs": [],
   "source": [
    "gtins = tuple(products.value)"
   ]
  },
  {
   "cell_type": "code",
   "execution_count": 6,
   "metadata": {},
   "outputs": [
    {
     "data": {
      "text/plain": [
       "('7899838829838', '6941059621027')"
      ]
     },
     "execution_count": 6,
     "metadata": {},
     "output_type": "execute_result"
    }
   ],
   "source": [
    "gtins[0:2]"
   ]
  },
  {
   "cell_type": "code",
   "execution_count": 7,
   "metadata": {},
   "outputs": [],
   "source": [
    "def get_data(products):\n",
    "    \"\"\"\n",
    "    Queries Athena and gets daily GMV\n",
    "    \"\"\"\n",
    "    cursor = connect(aws_access_key_id='',\n",
    "                     aws_secret_access_key='',\n",
    "                     s3_staging_dir='',\n",
    "                     region_name='').cursor()\n",
    "\n",
    "    cursor.execute(\"\"\"\n",
    "SELECT availability_days, brand, branded_store_slug, canonical_sku, catalog_feed_date, catalog_feed_id, category, category_info, channel_slug, commission_plan, created_at, currency, description, external_id, group_id, gtin, id, name, offer, offer_discount, parent_id, part_number, partition_0, price, price_freight_shift, reject_reason, seller_product_sku, sent_error_reason, status, stock, updated_at\n",
    "FROM \"olist-datalake-athena\".channels_api_products_channelproducthistory\n",
    "where gtin in {}\n",
    "UNION\n",
    "SELECT availability_days, brand, branded_store_slug, canonical_sku, catalog_feed_date, catalog_feed_id, category, category_info, channel_slug, commission_plan, created_at, currency, description, external_id, group_id, gtin, id, name, offer, offer_discount, parent_id, part_number, partition_0, price, price_freight_shift, reject_reason, seller_product_sku, sent_error_reason, status, stock, updated_at\n",
    "FROM \"olist-datalake-athena\".channels_api_products_channelproducthistory_2019\n",
    "where gtin in {}\n",
    "UNION\n",
    "SELECT availability_days, brand, branded_store_slug, canonical_sku, catalog_feed_date, catalog_feed_id, category, category_info, channel_slug, commission_plan, created_at, currency, description, external_id, group_id, gtin, id, name, offer, offer_discount, parent_id, part_number, partition_0, price, price_freight_shift, reject_reason, seller_product_sku, sent_error_reason, status, stock, updated_at\n",
    "FROM \"olist-datalake-athena\".channels_api_products_channelproducthistory_2020\n",
    "where gtin in {}\n",
    "\"\"\".format(products,products,products))\n",
    "\n",
    "    df = as_pandas(cursor)\n",
    "\n",
    "\n",
    "    return df"
   ]
  },
  {
   "cell_type": "code",
   "execution_count": 8,
   "metadata": {},
   "outputs": [],
   "source": [
    "def get_orders(gtin):\n",
    "    \"\"\"\n",
    "    \"\"\"\n",
    "    cursor = connect(aws_access_key_id='',\n",
    "                     aws_secret_access_key='',\n",
    "                     s3_staging_dir='',\n",
    "                     region_name='').cursor()\n",
    "\n",
    "    cursor.execute(\"\"\"\n",
    "SELECT\n",
    "*\n",
    "FROM \"olist-dw-athena\".orders\n",
    "WHERE\n",
    "    seller_item_gtin IN {};\n",
    "\"\"\".format(gtin))\n",
    "\n",
    "    df = as_pandas(cursor)\n",
    "\n",
    "\n",
    "    return df\n",
    "    "
   ]
  },
  {
   "cell_type": "code",
   "execution_count": 40,
   "metadata": {},
   "outputs": [],
   "source": [
    "def batch_execution(product_type, gtins):\n",
    "    fs = s3fs.S3FileSystem(anon=False)\n",
    "    # history\n",
    "    print('EXECUTING HISTORY: {}'.format(product_type))\n",
    "    df = get_data(gtins)\n",
    "    print('SAVING HISTORY')\n",
    "    #df.to_csv('../data/electronics/electronics_{}_history.csv'.format(product_type))\n",
    "    #bytes_to_write = df.to_csv(None).encode()\n",
    "    with fs.open('s3://bsa-correlation-one/electronics/electronics_{}_history.csv'.format(product_type), 'w') as f:\n",
    "        df.to_csv(f)\n",
    "    \n",
    "    print('EXECUTING ORDERS: {}'.format(product_type))\n",
    "    orders = get_orders(gtins)\n",
    "    to_drop = ['customer_id', 'payer_id', 'shipment_id',\n",
    "       'shipping_id', 'olist_shipment_id',\n",
    "       'olist_shipment_tracking_protocol', 'olist_shipment_tracking_url', 'olist_shipping_id',\n",
    "       'olist_shipping_shipping_estimate_id',\n",
    "       'olist_shipping_shipping_method_id',\n",
    "       'olist_shipping_shipping_method_name',\n",
    "        'olist_payer_id',\n",
    "       'olist_payer_name', 'olist_payer_document_number', 'olist_payer_email',\n",
    "       'olist_payer_birth_date', 'olist_payer_address_id', 'olist_customer_id',\n",
    "       'olist_customer_name', 'olist_customer_document_number',\n",
    "       'olist_customer_email', 'olist_customer_address_id', 'olist_order_raw_order']\n",
    "    \n",
    "    hashed = orders.drop(columns=to_drop)\n",
    "    print('SAVING {} ORDERS'.format(hashed.shape[0]))\n",
    "    #hashed.to_csv('../data/electronics/electronics_{}_orders.csv'.format(product_type), index=False)\n",
    "    #bytes_to_write = hashed.to_csv(None).encode()\n",
    "    with fs.open('s3://bsa-correlation-one/electronics/electronics_{}_orders.csv'.format(product_type), 'w') as f:\n",
    "        hashed.to_csv(f)\n",
    "    print('FINISHED {}'.format(product_type))\n",
    "    print('')\n",
    "    "
   ]
  },
  {
   "cell_type": "code",
   "execution_count": 44,
   "metadata": {
    "scrolled": true
   },
   "outputs": [],
   "source": [
    "types = products.product_type.unique().tolist()\n",
    "\n",
    "for i, product_type in enumerate(types[120:]):\n",
    "    current = products[products.product_type == product_type]\n",
    "    gtins = tuple(current.value)\n",
    "    print('Executing... {}/{}'.format(i, len(types[1:])))\n",
    "    print('Total gtins: ', len(gtins))\n",
    "    try:\n",
    "        batch_execution(product_type, gtins)\n",
    "    except Exception as e:\n",
    "        print('Failed {}'.format(product_type))\n",
    "        print(e)\n",
    "        print()"
   ]
  },
  {
   "cell_type": "code",
   "execution_count": null,
   "metadata": {},
   "outputs": [],
   "source": [
    "# cellphones = products[products.product_type == 'Celular']"
   ]
  },
  {
   "cell_type": "code",
   "execution_count": null,
   "metadata": {},
   "outputs": [],
   "source": [
    "# cells = tuple(cellphones.value)"
   ]
  },
  {
   "cell_type": "code",
   "execution_count": null,
   "metadata": {},
   "outputs": [],
   "source": [
    "# len(cells)"
   ]
  },
  {
   "cell_type": "code",
   "execution_count": null,
   "metadata": {},
   "outputs": [],
   "source": [
    "prods = tuple(products.value)"
   ]
  },
  {
   "cell_type": "code",
   "execution_count": null,
   "metadata": {},
   "outputs": [],
   "source": [
    "len(cells)"
   ]
  },
  {
   "cell_type": "code",
   "execution_count": null,
   "metadata": {},
   "outputs": [],
   "source": [
    "## CELLPHONES (TYPE) ~ 1879 gtins\n",
    "# df = get_data(cells)\n",
    "\n",
    "## ELECTRONICS (GROUP) ~ 29k gtins\n",
    "df = get_data(prods)\n"
   ]
  },
  {
   "cell_type": "code",
   "execution_count": null,
   "metadata": {},
   "outputs": [],
   "source": [
    "for i, product_type in enumerate(types[1:]):\n",
    "    current = products[products.product_type == product_type]\n",
    "    gtins = tuple(current.value)\n",
    "    print('Executing... {}/{}, type'.format(i, len(types[1:]), product_type))\n",
    "    print('Total gtins: ', len(gtins))\n",
    "    try:\n",
    "        batch_execution(product_type, gtins)\n",
    "    except:\n",
    "        print('Failed {}'.format(product_type))\n",
    "        print()\n",
    "    "
   ]
  },
  {
   "cell_type": "code",
   "execution_count": null,
   "metadata": {},
   "outputs": [],
   "source": [
    "df.shape"
   ]
  },
  {
   "cell_type": "code",
   "execution_count": null,
   "metadata": {},
   "outputs": [],
   "source": [
    "df.to_csv('../data/electro_history.csv', index=False)"
   ]
  },
  {
   "cell_type": "markdown",
   "metadata": {},
   "source": [
    "### Orders information"
   ]
  },
  {
   "cell_type": "code",
   "execution_count": null,
   "metadata": {},
   "outputs": [],
   "source": [
    "df.columns"
   ]
  },
  {
   "cell_type": "code",
   "execution_count": null,
   "metadata": {},
   "outputs": [],
   "source": [
    "orders_cellphone = get_orders(cells)"
   ]
  },
  {
   "cell_type": "code",
   "execution_count": null,
   "metadata": {},
   "outputs": [],
   "source": [
    "orders_cellphone.head()"
   ]
  },
  {
   "cell_type": "code",
   "execution_count": null,
   "metadata": {},
   "outputs": [],
   "source": [
    "orders_cellphone.shape"
   ]
  },
  {
   "cell_type": "code",
   "execution_count": null,
   "metadata": {},
   "outputs": [],
   "source": [
    "to_drop = ['customer_id', 'payer_id', 'shipment_id',\n",
    "       'shipping_id', 'olist_shipment_id',\n",
    "       'olist_shipment_tracking_protocol', 'olist_shipment_tracking_url', 'olist_shipping_id',\n",
    "       'olist_shipping_shipping_estimate_id',\n",
    "       'olist_shipping_shipping_method_id',\n",
    "       'olist_shipping_shipping_method_name',\n",
    "        'olist_payer_id',\n",
    "       'olist_payer_name', 'olist_payer_document_number', 'olist_payer_email',\n",
    "       'olist_payer_birth_date', 'olist_payer_address_id', 'olist_customer_id',\n",
    "       'olist_customer_name', 'olist_customer_document_number',\n",
    "       'olist_customer_email', 'olist_customer_address_id', 'olist_order_raw_order']"
   ]
  },
  {
   "cell_type": "code",
   "execution_count": null,
   "metadata": {},
   "outputs": [],
   "source": [
    "hashed = orders_cellphone.drop(columns=to_drop)"
   ]
  },
  {
   "cell_type": "code",
   "execution_count": null,
   "metadata": {},
   "outputs": [],
   "source": [
    "hashed.shape"
   ]
  },
  {
   "cell_type": "code",
   "execution_count": null,
   "metadata": {},
   "outputs": [],
   "source": [
    "hashed.to_csv('../data/cellphone_orders.csv', index=False)"
   ]
  },
  {
   "cell_type": "code",
   "execution_count": null,
   "metadata": {},
   "outputs": [],
   "source": []
  }
 ],
 "metadata": {
  "kernelspec": {
   "display_name": "Python 3",
   "language": "python",
   "name": "python3"
  },
  "language_info": {
   "codemirror_mode": {
    "name": "ipython",
    "version": 3
   },
   "file_extension": ".py",
   "mimetype": "text/x-python",
   "name": "python",
   "nbconvert_exporter": "python",
   "pygments_lexer": "ipython3",
   "version": "3.7.4"
  }
 },
 "nbformat": 4,
 "nbformat_minor": 4
}
