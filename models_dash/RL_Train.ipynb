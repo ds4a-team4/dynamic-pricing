{
 "cells": [
  {
   "cell_type": "code",
   "execution_count": 1,
   "metadata": {},
   "outputs": [],
   "source": [
    "import time\n",
    "import copy\n",
    "import numpy as np\n",
    "import pandas as pd\n",
    "import torch\n",
    "import torch.nn as nn\n",
    "from torch.autograd import Variable\n",
    "import torch.optim as optim\n",
    "import torch.nn.functional as F\n",
    "import matplotlib.pyplot as plt"
   ]
  },
  {
   "cell_type": "markdown",
   "metadata": {},
   "source": [
    "## Read data"
   ]
  },
  {
   "cell_type": "code",
   "execution_count": 2,
   "metadata": {},
   "outputs": [],
   "source": [
    "import pickle\n",
    "# import xgboost\n",
    "# import s3fs"
   ]
  },
  {
   "cell_type": "code",
   "execution_count": 3,
   "metadata": {},
   "outputs": [],
   "source": [
    "# # Save model to bucket\n",
    "# s3 = s3fs.S3FileSystem(anon=False, \n",
    "#                        key='',\n",
    "#                        secret='')\n",
    "# # Use 'w' for py3, 'wb' for py2\n",
    "# with s3.open('bsa-correlation-one/models/xgboost_cellphones_C.pkl','rb') as f:\n",
    "#     # END\n",
    "#     model = pickle.load(f)"
   ]
  },
  {
   "cell_type": "code",
   "execution_count": 4,
   "metadata": {},
   "outputs": [],
   "source": [
    "def base_cost(offer):\n",
    "    return 0.8 * offer"
   ]
  },
  {
   "cell_type": "code",
   "execution_count": 5,
   "metadata": {},
   "outputs": [
    {
     "name": "stderr",
     "output_type": "stream",
     "text": [
      "/home/renato/.pyenv/versions/miniconda3-4.3.30/envs/main/lib/python3.7/site-packages/sklearn/utils/deprecation.py:144: FutureWarning: The sklearn.linear_model.base module is  deprecated in version 0.22 and will be removed in version 0.24. The corresponding classes / functions should instead be imported from sklearn.linear_model. Anything that cannot be imported from sklearn.linear_model is now part of the private API.\n",
      "  warnings.warn(message, FutureWarning)\n",
      "/home/renato/.pyenv/versions/miniconda3-4.3.30/envs/main/lib/python3.7/site-packages/sklearn/base.py:318: UserWarning: Trying to unpickle estimator LinearRegression from version 0.21.3 when using version 0.22.1. This might lead to breaking code or invalid results. Use at your own risk.\n",
      "  UserWarning)\n"
     ]
    }
   ],
   "source": [
    "with open('./lr_cellphone_C.pkl','rb') as f:\n",
    "#     # END\n",
    "    model = pickle.load(f)"
   ]
  },
  {
   "cell_type": "code",
   "execution_count": 6,
   "metadata": {},
   "outputs": [],
   "source": [
    "data = pd.read_csv('./cellphones/cellphonedata.csv')\n",
    "df = data[data.price_category == 'C'].copy().reset_index(drop=True)\n",
    "df.drop(columns = ['ds','price_category'],inplace=True)\n",
    "df['base_cost'] = df.offer.apply(lambda x: base_cost(x))\n",
    "\n",
    "baseline_prices = df['olist_price'].values"
   ]
  },
  {
   "cell_type": "code",
   "execution_count": 7,
   "metadata": {},
   "outputs": [
    {
     "data": {
      "text/plain": [
       "Index(['year', 'month', 'dayofweek', 'day', 'offer', 'olist_price',\n",
       "       'freight_value', 'competition_price', 'stock', 'black_friday',\n",
       "       'carnival', 'christmas', 'friday', 'mothers_day', 'new_year', 'others',\n",
       "       'valentines', 'y', 'base_cost'],\n",
       "      dtype='object')"
      ]
     },
     "execution_count": 7,
     "metadata": {},
     "output_type": "execute_result"
    }
   ],
   "source": [
    "df.columns"
   ]
  },
  {
   "cell_type": "code",
   "execution_count": 8,
   "metadata": {},
   "outputs": [],
   "source": [
    "def demand_baseline(model, df_row, olist_price):\n",
    "    \n",
    "    year = df_row.year\n",
    "    month = df_row.month\n",
    "    dayofweek = df_row.dayofweek\n",
    "    day = df_row.day\n",
    "    olist_price = df_row.olist_price\n",
    "    freight_value = df_row.freight_value\n",
    "    competition_price = df_row.competition_price\n",
    "    stock = df_row.stock\n",
    "    black_friday = df_row.black_friday\n",
    "    carnival = df_row.carnival\n",
    "    christmas = df_row.christmas\n",
    "    friday = df_row.friday\n",
    "    mothers_day = df_row.mothers_day\n",
    "    new_year = df_row.new_year\n",
    "    others = df_row.others\n",
    "    valentines = df_row.valentines\n",
    "\n",
    "    X = np.array([year, month, dayofweek, day, olist_price, freight_value,\n",
    "                 competition_price, stock, black_friday, carnival, christmas,\n",
    "                 friday, mothers_day, new_year, others, valentines]).reshape(1,-1)\n",
    "    \n",
    "    #X = xgboost.DMatrix(X)\n",
    "                 \n",
    "    orders = model.predict(X)\n",
    "    \n",
    "    return max(orders[0],0)"
   ]
  },
  {
   "cell_type": "code",
   "execution_count": 9,
   "metadata": {},
   "outputs": [],
   "source": [
    "y_pred = []\n",
    "for row in df.itertuples():\n",
    "    y_pred.append(demand_baseline(model, row, 0)) "
   ]
  },
  {
   "cell_type": "code",
   "execution_count": 10,
   "metadata": {},
   "outputs": [],
   "source": [
    "baseline = (df.olist_price + df.freight_value - df['base_cost']) * y_pred"
   ]
  },
  {
   "cell_type": "code",
   "execution_count": 11,
   "metadata": {},
   "outputs": [
    {
     "data": {
      "text/plain": [
       "914367.8923021916"
      ]
     },
     "execution_count": 11,
     "metadata": {},
     "output_type": "execute_result"
    }
   ],
   "source": [
    "sum(baseline)"
   ]
  },
  {
   "cell_type": "code",
   "execution_count": 12,
   "metadata": {},
   "outputs": [
    {
     "data": {
      "text/plain": [
       "4120.0"
      ]
     },
     "execution_count": 12,
     "metadata": {},
     "output_type": "execute_result"
    }
   ],
   "source": [
    "sum(df['y'])\n",
    "#sum(y_pred)"
   ]
  },
  {
   "cell_type": "code",
   "execution_count": 13,
   "metadata": {},
   "outputs": [
    {
     "name": "stdout",
     "output_type": "stream",
     "text": [
      "[ 1.81950576e+00  2.71229539e-01 -2.10499856e-01 -6.07342232e-02\n",
      " -1.46755260e-02 -2.58422221e-01  3.73049448e-02  5.49076446e-04\n",
      "  1.41589235e+01 -2.79617226e+00 -3.78379614e+00  2.31820611e+00\n",
      "  9.07847585e-01 -2.85046846e+00 -4.74860599e+00  6.81994266e+00]\n",
      "-3684.712898495253\n"
     ]
    },
    {
     "data": {
      "text/html": [
       "<div>\n",
       "<style scoped>\n",
       "    .dataframe tbody tr th:only-of-type {\n",
       "        vertical-align: middle;\n",
       "    }\n",
       "\n",
       "    .dataframe tbody tr th {\n",
       "        vertical-align: top;\n",
       "    }\n",
       "\n",
       "    .dataframe thead th {\n",
       "        text-align: right;\n",
       "    }\n",
       "</style>\n",
       "<table border=\"1\" class=\"dataframe\">\n",
       "  <thead>\n",
       "    <tr style=\"text-align: right;\">\n",
       "      <th></th>\n",
       "      <th>year</th>\n",
       "      <th>month</th>\n",
       "      <th>dayofweek</th>\n",
       "      <th>day</th>\n",
       "      <th>freight_value</th>\n",
       "      <th>competition_price</th>\n",
       "      <th>stock</th>\n",
       "      <th>black_friday</th>\n",
       "      <th>carnival</th>\n",
       "      <th>christmas</th>\n",
       "      <th>friday</th>\n",
       "      <th>mothers_day</th>\n",
       "      <th>new_year</th>\n",
       "      <th>others</th>\n",
       "      <th>valentines</th>\n",
       "      <th>base_cost</th>\n",
       "    </tr>\n",
       "  </thead>\n",
       "  <tbody>\n",
       "    <tr>\n",
       "      <th>971</th>\n",
       "      <td>2020</td>\n",
       "      <td>2</td>\n",
       "      <td>0</td>\n",
       "      <td>24</td>\n",
       "      <td>26.165168</td>\n",
       "      <td>982.949133</td>\n",
       "      <td>7563.0</td>\n",
       "      <td>0</td>\n",
       "      <td>1</td>\n",
       "      <td>0</td>\n",
       "      <td>0</td>\n",
       "      <td>0</td>\n",
       "      <td>0</td>\n",
       "      <td>0</td>\n",
       "      <td>0</td>\n",
       "      <td>747.528000</td>\n",
       "    </tr>\n",
       "    <tr>\n",
       "      <th>972</th>\n",
       "      <td>2020</td>\n",
       "      <td>2</td>\n",
       "      <td>1</td>\n",
       "      <td>25</td>\n",
       "      <td>26.522039</td>\n",
       "      <td>988.725646</td>\n",
       "      <td>7557.0</td>\n",
       "      <td>0</td>\n",
       "      <td>1</td>\n",
       "      <td>0</td>\n",
       "      <td>0</td>\n",
       "      <td>0</td>\n",
       "      <td>0</td>\n",
       "      <td>0</td>\n",
       "      <td>0</td>\n",
       "      <td>751.569143</td>\n",
       "    </tr>\n",
       "    <tr>\n",
       "      <th>973</th>\n",
       "      <td>2020</td>\n",
       "      <td>2</td>\n",
       "      <td>2</td>\n",
       "      <td>26</td>\n",
       "      <td>24.607285</td>\n",
       "      <td>994.662702</td>\n",
       "      <td>7545.0</td>\n",
       "      <td>0</td>\n",
       "      <td>0</td>\n",
       "      <td>0</td>\n",
       "      <td>0</td>\n",
       "      <td>0</td>\n",
       "      <td>0</td>\n",
       "      <td>0</td>\n",
       "      <td>0</td>\n",
       "      <td>747.531678</td>\n",
       "    </tr>\n",
       "    <tr>\n",
       "      <th>974</th>\n",
       "      <td>2020</td>\n",
       "      <td>2</td>\n",
       "      <td>3</td>\n",
       "      <td>27</td>\n",
       "      <td>22.893772</td>\n",
       "      <td>1007.349470</td>\n",
       "      <td>7454.0</td>\n",
       "      <td>0</td>\n",
       "      <td>0</td>\n",
       "      <td>0</td>\n",
       "      <td>0</td>\n",
       "      <td>0</td>\n",
       "      <td>0</td>\n",
       "      <td>0</td>\n",
       "      <td>0</td>\n",
       "      <td>743.240006</td>\n",
       "    </tr>\n",
       "    <tr>\n",
       "      <th>975</th>\n",
       "      <td>2020</td>\n",
       "      <td>2</td>\n",
       "      <td>4</td>\n",
       "      <td>28</td>\n",
       "      <td>31.916422</td>\n",
       "      <td>1095.717500</td>\n",
       "      <td>127.0</td>\n",
       "      <td>0</td>\n",
       "      <td>0</td>\n",
       "      <td>0</td>\n",
       "      <td>0</td>\n",
       "      <td>0</td>\n",
       "      <td>0</td>\n",
       "      <td>0</td>\n",
       "      <td>0</td>\n",
       "      <td>749.329333</td>\n",
       "    </tr>\n",
       "  </tbody>\n",
       "</table>\n",
       "</div>"
      ],
      "text/plain": [
       "     year  month  dayofweek  day  freight_value  competition_price   stock  \\\n",
       "971  2020      2          0   24      26.165168         982.949133  7563.0   \n",
       "972  2020      2          1   25      26.522039         988.725646  7557.0   \n",
       "973  2020      2          2   26      24.607285         994.662702  7545.0   \n",
       "974  2020      2          3   27      22.893772        1007.349470  7454.0   \n",
       "975  2020      2          4   28      31.916422        1095.717500   127.0   \n",
       "\n",
       "     black_friday  carnival  christmas  friday  mothers_day  new_year  others  \\\n",
       "971             0         1          0       0            0         0       0   \n",
       "972             0         1          0       0            0         0       0   \n",
       "973             0         0          0       0            0         0       0   \n",
       "974             0         0          0       0            0         0       0   \n",
       "975             0         0          0       0            0         0       0   \n",
       "\n",
       "     valentines   base_cost  \n",
       "971           0  747.528000  \n",
       "972           0  751.569143  \n",
       "973           0  747.531678  \n",
       "974           0  743.240006  \n",
       "975           0  749.329333  "
      ]
     },
     "execution_count": 13,
     "metadata": {},
     "output_type": "execute_result"
    }
   ],
   "source": [
    "data = pd.read_csv('./cellphones/cellphonedata.csv')\n",
    "data = data[data.price_category == 'C'].copy().reset_index(drop=True) \n",
    "df = data[data.price_category == 'C'].copy().reset_index(drop=True)\n",
    "df.drop(columns = ['ds','price_category'],inplace=True)\n",
    "df['base_cost'] = df.offer.apply(lambda x: base_cost(x))\n",
    "\n",
    "# cols = df.columns\n",
    "# from sklearn.preprocessing import MinMaxScaler\n",
    "\n",
    "# scaler = MinMaxScaler()\n",
    "# normalized = scaler.fit_transform(df)\n",
    "\n",
    "# df = pd.DataFrame(normalized, columns=cols)\n",
    "\n",
    "df.drop(columns = ['offer'],inplace=True)\n",
    "\n",
    "# from sklearn.linear_model import LinearRegression\n",
    "\n",
    "# model = LinearRegression()\n",
    "# X, y  = df.drop(columns=['base_cost', 'y']).values, df['y'].values\n",
    "# model = model.fit(X, y)\n",
    "\n",
    "df.drop(columns=['olist_price','y'], inplace=True)\n",
    "\n",
    "print(model.coef_)\n",
    "print(model.intercept_)\n",
    "\n",
    "df.tail()"
   ]
  },
  {
   "cell_type": "markdown",
   "metadata": {},
   "source": [
    "### Demand Simulator"
   ]
  },
  {
   "cell_type": "code",
   "execution_count": 14,
   "metadata": {},
   "outputs": [],
   "source": [
    "def predict_demand(model, df_row, olist_price):\n",
    "    \n",
    "    year = df_row.year\n",
    "    month = df_row.month\n",
    "    dayofweek = df_row.dayofweek\n",
    "    day = df_row.day\n",
    "    olist_price = olist_price\n",
    "    freight_value = df_row.freight_value\n",
    "    competition_price = df_row.competition_price\n",
    "    stock = df_row.stock\n",
    "    black_friday = df_row.black_friday\n",
    "    carnival = df_row.carnival\n",
    "    christmas = df_row.christmas\n",
    "    friday = df_row.friday\n",
    "    mothers_day = df_row.mothers_day\n",
    "    new_year = df_row.new_year\n",
    "    others = df_row.others\n",
    "    valentines = df_row.valentines\n",
    "\n",
    "    X = np.array([year, month, dayofweek, day, olist_price, freight_value,\n",
    "                 competition_price, stock, black_friday, carnival, christmas,\n",
    "                 friday, mothers_day, new_year, others, valentines]).reshape(1,-1)\n",
    "    \n",
    "    #X = xgboost.DMatrix(X)\n",
    "                 \n",
    "    orders = model.predict(X)\n",
    "    \n",
    "    return max(orders[0],0)"
   ]
  },
  {
   "cell_type": "code",
   "execution_count": 15,
   "metadata": {},
   "outputs": [
    {
     "data": {
      "text/plain": [
       "9.645716631745927"
      ]
     },
     "execution_count": 15,
     "metadata": {},
     "output_type": "execute_result"
    }
   ],
   "source": [
    "predict_demand(model, df.iloc[-1], 800)"
   ]
  },
  {
   "cell_type": "markdown",
   "metadata": {},
   "source": [
    "### Environment Real Data"
   ]
  },
  {
   "cell_type": "code",
   "execution_count": 16,
   "metadata": {},
   "outputs": [],
   "source": [
    "class Environment:\n",
    "    \n",
    "    def __init__(self, model, df):\n",
    "        \n",
    "        self.model = model\n",
    "        self.data = df\n",
    "        self.N = len(self.data) - 1\n",
    "        self.reset()\n",
    "        \n",
    "        \n",
    "    def reset(self):\n",
    "        self.t = 0\n",
    "        self.done = False\n",
    "        self.orders = 0\n",
    "        self.olist_price = 0\n",
    "        self.profits = 0\n",
    "        return [self.olist_price, self.orders] + self.data.iloc[self.t].tolist() \n",
    "    \n",
    "    def step(self, act):       \n",
    "        \n",
    "        # act = 0: stay, 1: raise, 2: lower\n",
    "        if act == 0:\n",
    "            self.olist_price = self.data['base_cost'][self.t] * 1.05\n",
    "        elif act == 1:\n",
    "            self.olist_price = self.data['base_cost'][self.t] * 1.075\n",
    "        elif act == 2:\n",
    "            self.olist_price = self.data['base_cost'][self.t] * 1.10\n",
    "        elif act == 3:\n",
    "            self.olist_price = self.data['base_cost'][self.t] * 1.125\n",
    "        elif act == 4:\n",
    "            self.olist_price = self.data['base_cost'][self.t] * 1.15\n",
    "        elif act == 5:\n",
    "            self.olist_price = self.data['base_cost'][self.t] * 1.175\n",
    "        elif act == 6:\n",
    "            self.olist_price = self.data['base_cost'][self.t] * 1.20\n",
    "        elif act == 7:\n",
    "            self.olist_price = self.data['base_cost'][self.t] * 1.225\n",
    "        elif act == 8:\n",
    "            self.olist_price = self.data['base_cost'][self.t] * 1.25\n",
    "        elif act == 9:\n",
    "            self.olist_price = self.data['base_cost'][self.t] * 1.275\n",
    "\n",
    "        # Calculate demand\n",
    "        self.orders = predict_demand(self.model, self.data.iloc[self.t], self.olist_price)        \n",
    "\n",
    "        reward = (self.olist_price + self.data['freight_value'][self.t] - self.data['base_cost'][self.t])*self.orders\n",
    "        self.profits += reward\n",
    "\n",
    "        # set next time\n",
    "        self.t += 1\n",
    "        \n",
    "        if (self.t == self.N):\n",
    "            self.done=True\n",
    "\n",
    "        return [self.olist_price, self.orders] + self.data.iloc[self.t].tolist(), reward, self.done # obs, reward, done "
   ]
  },
  {
   "cell_type": "code",
   "execution_count": 17,
   "metadata": {},
   "outputs": [
    {
     "data": {
      "text/plain": [
       "[0,\n",
       " 0,\n",
       " 2017.0,\n",
       " 6.0,\n",
       " 4.0,\n",
       " 30.0,\n",
       " 25.73,\n",
       " 931.1842857142856,\n",
       " 0.0,\n",
       " 0.0,\n",
       " 0.0,\n",
       " 0.0,\n",
       " 0.0,\n",
       " 0.0,\n",
       " 0.0,\n",
       " 0.0,\n",
       " 0.0,\n",
       " 744.9474285714285]"
      ]
     },
     "execution_count": 17,
     "metadata": {},
     "output_type": "execute_result"
    }
   ],
   "source": [
    "env = Environment(model,df)\n",
    "env.reset()"
   ]
  },
  {
   "cell_type": "markdown",
   "metadata": {},
   "source": [
    "## NN architecture"
   ]
  },
  {
   "cell_type": "code",
   "execution_count": 18,
   "metadata": {},
   "outputs": [],
   "source": [
    "#def train_dqn(env):\n",
    "\n",
    "#whats the return?\n",
    "class Q_Network(nn.Module):\n",
    "        \n",
    "    def __init__(self,obs_len,hidden_size,actions_n):\n",
    "            \n",
    "        super(Q_Network,self).__init__()\n",
    "            \n",
    "#         self.fc_val = nn.Sequential(\n",
    "#             nn.Linear(obs_len, hidden_size),\n",
    "#             nn.ReLU(),\n",
    "#             nn.Linear(hidden_size, hidden_size),\n",
    "#             nn.ReLU(),\n",
    "#             nn.Linear(hidden_size, actions_n)\n",
    "#             # needs softmax?\n",
    "#         )\n",
    "        \n",
    "        self.fc_val = nn.Sequential(\n",
    "            nn.BatchNorm1d(num_features=obs_len),\n",
    "            nn.Linear(obs_len, hidden_size),            \n",
    "            nn.ReLU(),\n",
    "            nn.BatchNorm1d(num_features=hidden_size),\n",
    "            nn.Linear(hidden_size, hidden_size),\n",
    "            nn.ReLU(),\n",
    "            nn.BatchNorm1d(num_features=hidden_size),\n",
    "            nn.Linear(hidden_size, hidden_size),\n",
    "            nn.ReLU(),\n",
    "            nn.BatchNorm1d(num_features=hidden_size),\n",
    "            nn.Linear(hidden_size, hidden_size),\n",
    "            nn.ReLU(),\n",
    "            nn.BatchNorm1d(num_features=hidden_size),\n",
    "            nn.Linear(hidden_size, actions_n),\n",
    "        )\n",
    "        \n",
    "        \n",
    "    def forward(self,x):\n",
    "        h =  self.fc_val(x)\n",
    "        return (h)\n",
    "            \n",
    "            "
   ]
  },
  {
   "cell_type": "markdown",
   "metadata": {},
   "source": [
    "## Parameters"
   ]
  },
  {
   "cell_type": "code",
   "execution_count": 19,
   "metadata": {},
   "outputs": [],
   "source": [
    "np.random.seed(36)\n",
    "torch.manual_seed(36)\n",
    "\n",
    "hidden_size = 50\n",
    "input_size = 2 + df.shape[1]\n",
    "output_size = 10 #5\n",
    "LR = 0.001\n",
    "\n",
    "epoch_num = 2\n",
    "step_max = len(env.data) - 1\n",
    "memory_size = 320 # 200\n",
    "batch_size = 32\n",
    "gamma = 0.9 # 0.97\n",
    "\n",
    "epsilon = 1.0\n",
    "epsilon_decrease = 1e-4\n",
    "epsilon_min = 0.1\n",
    "start_reduce_epsilon = 200\n",
    "train_freq = 10\n",
    "update_q_freq = 30 #20\n",
    "show_log_freq = 5"
   ]
  },
  {
   "cell_type": "markdown",
   "metadata": {},
   "source": [
    "## Training"
   ]
  },
  {
   "cell_type": "code",
   "execution_count": 20,
   "metadata": {},
   "outputs": [
    {
     "name": "stdout",
     "output_type": "stream",
     "text": [
      "1\t0.954500000000005\t656\t512114.29901116266\t47360788.10136719\t5.123680353164673\n",
      "2\t0.8570000000000157\t1631\t446883.31459500437\t54674655.80673828\t7.418029308319092\n"
     ]
    }
   ],
   "source": [
    "memory = []\n",
    "total_step = 0\n",
    "total_rewards = []\n",
    "total_losses = []\n",
    "\n",
    "device = \"\"\n",
    "if torch.cuda.is_available():\n",
    "    device = torch.device(\"cuda\")\n",
    "else:\n",
    "    device = torch.device(\"cpu\")\n",
    "\n",
    "Q = Q_Network(input_size, hidden_size, output_size).to(device=device)\n",
    "\n",
    "Q_ast = copy.deepcopy(Q)\n",
    "\n",
    "loss_function = nn.MSELoss()\n",
    "optimizer = optim.Adam(list(Q.parameters()), lr=LR)\n",
    "\n",
    "start = time.time()\n",
    "for epoch in range(epoch_num):\n",
    "\n",
    "    pobs = env.reset()\n",
    "    step = 0\n",
    "    done = False\n",
    "    total_reward = 0\n",
    "    total_loss = 0\n",
    "\n",
    "    while not done and step < step_max:\n",
    "\n",
    "        # select act\n",
    "\n",
    "        pact = np.random.randint(10)\n",
    "        if np.random.rand() > epsilon:\n",
    "            #whats the return value?\n",
    "            Q.eval()\n",
    "            pact = Q(torch.from_numpy(np.array(pobs, dtype=np.float32).reshape(1, -1)).to(device=device))\n",
    "            pact = np.argmax(pact.data.cpu())\n",
    "            pact = pact.numpy()\n",
    "        \n",
    "        # act\n",
    "        obs, reward, done = env.step(pact)\n",
    "\n",
    "        # add memory\n",
    "        \n",
    "        memory.append((pobs, pact, reward, obs, done))\n",
    "        if len(memory) > memory_size:\n",
    "            memory.pop(0)\n",
    "\n",
    "        # train or update q\n",
    "        if len(memory) == memory_size:\n",
    "            if total_step % train_freq == 0:\n",
    "                shuffled_memory = np.random.permutation(memory)\n",
    "                memory_idx = range(len(shuffled_memory))\n",
    "                for i in memory_idx[::batch_size]:\n",
    "                    batch = np.array(shuffled_memory[i:i+batch_size])\n",
    "                    b_pobs = np.array(batch[:, 0].tolist(), dtype=np.float32).reshape(batch_size, -1)\n",
    "                    b_pact = np.array(batch[:, 1].tolist(), dtype=np.int32)\n",
    "                    b_reward = np.array(batch[:, 2].tolist(), dtype=np.int32)\n",
    "                    b_obs = np.array(batch[:, 3].tolist(), dtype=np.float32).reshape(batch_size, -1)\n",
    "                    b_done = np.array(batch[:, 4].tolist(), dtype=np.bool)\n",
    "                    \n",
    "                    Q.train()\n",
    "                    q = Q(torch.from_numpy(b_pobs).to(device=device))\n",
    "                    q_ = Q_ast(torch.from_numpy(b_obs).to(device=device))\n",
    "                    maxq = np.max(q_.data.cpu().numpy(), axis=1)\n",
    "                    target = copy.deepcopy(q.data)\n",
    "                    #import pdb; pdb.set_trace()\n",
    "\n",
    "                    for j in range(batch_size):\n",
    "                        target[j, b_pact[j]] = b_reward[j]+gamma*maxq[j]*(not b_done[j])\n",
    "                    Q.zero_grad()\n",
    "                    loss = loss_function(q, target)\n",
    "                    total_loss += loss.data.item()\n",
    "                    loss.backward()\n",
    "                    optimizer.step()\n",
    "                    \n",
    "            if total_step % update_q_freq == 0:\n",
    "                Q_ast = copy.deepcopy(Q)\n",
    "                \n",
    "            # epsilon\n",
    "            if epsilon > epsilon_min and total_step > start_reduce_epsilon:\n",
    "                epsilon -= epsilon_decrease\n",
    "\n",
    "            # next step\n",
    "            total_reward += reward\n",
    "            pobs = obs\n",
    "            step += 1\n",
    "            total_step += 1\n",
    "\n",
    "        total_rewards.append(total_reward)\n",
    "        total_losses.append(total_loss)\n",
    "\n",
    "        #if (epoch+1) % show_log_freq == 0:\n",
    "        if done or step == step_max:  \n",
    "            log_reward = sum(total_rewards[((epoch+1)-show_log_freq):])/show_log_freq\n",
    "            log_loss = sum(total_losses[((epoch+1)-show_log_freq):])/show_log_freq\n",
    "            elapsed_time = time.time()-start\n",
    "            print('\\t'.join(map(str, [epoch+1, epsilon, total_step, log_reward, log_loss, elapsed_time])))\n",
    "            start = time.time()\n",
    "            \n",
    "#return Q, total_losses, total_rewards"
   ]
  },
  {
   "cell_type": "code",
   "execution_count": 21,
   "metadata": {},
   "outputs": [
    {
     "data": {
      "text/plain": [
       "(976, 16)"
      ]
     },
     "execution_count": 21,
     "metadata": {},
     "output_type": "execute_result"
    }
   ],
   "source": [
    "df.shape"
   ]
  },
  {
   "cell_type": "code",
   "execution_count": 22,
   "metadata": {},
   "outputs": [
    {
     "data": {
      "text/plain": [
       "[<matplotlib.lines.Line2D at 0x7f66905c5cd0>]"
      ]
     },
     "execution_count": 22,
     "metadata": {},
     "output_type": "execute_result"
    },
    {
     "data": {
      "image/png": "[encoded data removed]",
      "text/plain": [
       "<Figure size 432x288 with 1 Axes>"
      ]
     },
     "metadata": {
      "needs_background": "light"
     },
     "output_type": "display_data"
    }
   ],
   "source": [
    "plt.plot(total_rewards[-30000:])"
   ]
  },
  {
   "cell_type": "markdown",
   "metadata": {},
   "source": [
    "## Testing"
   ]
  },
  {
   "cell_type": "code",
   "execution_count": 23,
   "metadata": {},
   "outputs": [],
   "source": [
    "test_env = Environment(model,df)\n",
    "test_acts=[]\n",
    "test_rewards = []\n",
    "orders = []\n",
    "o_prices = []\n",
    "pobs = test_env.reset()\n",
    "profits_2 = 0\n",
    "pact_history = []\n",
    "done = False\n",
    "while not done:\n",
    "    Q.eval()\n",
    "    pact = Q(torch.from_numpy(np.array(pobs, dtype=np.float32).reshape(1, -1)).to(device=device))\n",
    "    pact = np.argmax(pact.data.cpu())\n",
    "    pact_history.append(pact)\n",
    "    test_acts.append(pact.item())\n",
    "    \n",
    "    obs, reward, done = test_env.step(pact.numpy())\n",
    "    orders.append(obs[1])\n",
    "    o_prices.append(obs[0])\n",
    "    test_rewards.append(reward)\n",
    "    profits_2 += reward\n",
    "    pobs = obs\n",
    "\n",
    "test_profits = test_env.profits"
   ]
  },
  {
   "cell_type": "code",
   "execution_count": 24,
   "metadata": {},
   "outputs": [
    {
     "data": {
      "text/plain": [
       "[<matplotlib.lines.Line2D at 0x7f669e188d10>]"
      ]
     },
     "execution_count": 24,
     "metadata": {},
     "output_type": "execute_result"
    },
    {
     "data": {
      "image/png": "[encoded data removed]",
      "text/plain": [
       "<Figure size 864x576 with 1 Axes>"
      ]
     },
     "metadata": {
      "needs_background": "light"
     },
     "output_type": "display_data"
    }
   ],
   "source": [
    "plt.figure(figsize=(12,8))\n",
    "plt.plot(test_rewards)\n",
    "plt.plot(baseline)"
   ]
  },
  {
   "cell_type": "code",
   "execution_count": 25,
   "metadata": {},
   "outputs": [
    {
     "data": {
      "text/plain": [
       "901297.1113531851"
      ]
     },
     "execution_count": 25,
     "metadata": {},
     "output_type": "execute_result"
    }
   ],
   "source": [
    "test_profits"
   ]
  },
  {
   "cell_type": "code",
   "execution_count": 26,
   "metadata": {},
   "outputs": [
    {
     "data": {
      "text/plain": [
       "914367.8923021916"
      ]
     },
     "execution_count": 26,
     "metadata": {},
     "output_type": "execute_result"
    }
   ],
   "source": [
    "sum(baseline)"
   ]
  },
  {
   "cell_type": "markdown",
   "metadata": {},
   "source": [
    "### Save results"
   ]
  },
  {
   "cell_type": "code",
   "execution_count": 27,
   "metadata": {},
   "outputs": [],
   "source": [
    "o_prices #975\n",
    "orders # 975\n",
    "test_acts # 975\n",
    "test_rewards # 975\n",
    "\n",
    "results = df.iloc[:-1].copy()\n",
    "\n",
    "results['baseline_prices'] = baseline_prices[:-1]\n",
    "results['baseline_orders'] = y_pred[:-1]\n",
    "results['baseline_rewards'] = baseline[:-1]\n",
    "results['rl_prices'] = o_prices\n",
    "results['rl_orders'] = orders\n",
    "results['rl_actions'] = test_acts\n",
    "results['rl_rewards'] = test_rewards\n",
    "results['group'] = 'electronics'\n",
    "results['type'] = 'cellphones'\n",
    "results['price_range'] = 'C'"
   ]
  },
  {
   "cell_type": "code",
   "execution_count": 28,
   "metadata": {},
   "outputs": [
    {
     "data": {
      "text/html": [
       "<div>\n",
       "<style scoped>\n",
       "    .dataframe tbody tr th:only-of-type {\n",
       "        vertical-align: middle;\n",
       "    }\n",
       "\n",
       "    .dataframe tbody tr th {\n",
       "        vertical-align: top;\n",
       "    }\n",
       "\n",
       "    .dataframe thead th {\n",
       "        text-align: right;\n",
       "    }\n",
       "</style>\n",
       "<table border=\"1\" class=\"dataframe\">\n",
       "  <thead>\n",
       "    <tr style=\"text-align: right;\">\n",
       "      <th></th>\n",
       "      <th>year</th>\n",
       "      <th>month</th>\n",
       "      <th>dayofweek</th>\n",
       "      <th>day</th>\n",
       "      <th>freight_value</th>\n",
       "      <th>competition_price</th>\n",
       "      <th>stock</th>\n",
       "      <th>black_friday</th>\n",
       "      <th>carnival</th>\n",
       "      <th>christmas</th>\n",
       "      <th>...</th>\n",
       "      <th>baseline_prices</th>\n",
       "      <th>baseline_orders</th>\n",
       "      <th>baseline_rewards</th>\n",
       "      <th>rl_prices</th>\n",
       "      <th>rl_orders</th>\n",
       "      <th>rl_actions</th>\n",
       "      <th>rl_rewards</th>\n",
       "      <th>group</th>\n",
       "      <th>type</th>\n",
       "      <th>price_range</th>\n",
       "    </tr>\n",
       "  </thead>\n",
       "  <tbody>\n",
       "    <tr>\n",
       "      <th>0</th>\n",
       "      <td>2017</td>\n",
       "      <td>6</td>\n",
       "      <td>4</td>\n",
       "      <td>30</td>\n",
       "      <td>25.73</td>\n",
       "      <td>931.184286</td>\n",
       "      <td>0.0</td>\n",
       "      <td>0</td>\n",
       "      <td>0</td>\n",
       "      <td>0</td>\n",
       "      <td>...</td>\n",
       "      <td>931.184286</td>\n",
       "      <td>0.000000</td>\n",
       "      <td>0.000000</td>\n",
       "      <td>856.689543</td>\n",
       "      <td>0.000000</td>\n",
       "      <td>4</td>\n",
       "      <td>0.000000</td>\n",
       "      <td>electronics</td>\n",
       "      <td>cellphones</td>\n",
       "      <td>C</td>\n",
       "    </tr>\n",
       "    <tr>\n",
       "      <th>1</th>\n",
       "      <td>2017</td>\n",
       "      <td>7</td>\n",
       "      <td>5</td>\n",
       "      <td>1</td>\n",
       "      <td>25.73</td>\n",
       "      <td>931.184286</td>\n",
       "      <td>0.0</td>\n",
       "      <td>0</td>\n",
       "      <td>0</td>\n",
       "      <td>0</td>\n",
       "      <td>...</td>\n",
       "      <td>931.184286</td>\n",
       "      <td>0.438547</td>\n",
       "      <td>92.957337</td>\n",
       "      <td>856.689543</td>\n",
       "      <td>1.531796</td>\n",
       "      <td>4</td>\n",
       "      <td>210.579248</td>\n",
       "      <td>electronics</td>\n",
       "      <td>cellphones</td>\n",
       "      <td>C</td>\n",
       "    </tr>\n",
       "    <tr>\n",
       "      <th>2</th>\n",
       "      <td>2017</td>\n",
       "      <td>7</td>\n",
       "      <td>6</td>\n",
       "      <td>2</td>\n",
       "      <td>25.73</td>\n",
       "      <td>931.184286</td>\n",
       "      <td>0.0</td>\n",
       "      <td>0</td>\n",
       "      <td>0</td>\n",
       "      <td>0</td>\n",
       "      <td>...</td>\n",
       "      <td>931.184286</td>\n",
       "      <td>0.167312</td>\n",
       "      <td>35.464701</td>\n",
       "      <td>856.689543</td>\n",
       "      <td>1.260562</td>\n",
       "      <td>4</td>\n",
       "      <td>173.292126</td>\n",
       "      <td>electronics</td>\n",
       "      <td>cellphones</td>\n",
       "      <td>C</td>\n",
       "    </tr>\n",
       "    <tr>\n",
       "      <th>3</th>\n",
       "      <td>2017</td>\n",
       "      <td>7</td>\n",
       "      <td>0</td>\n",
       "      <td>3</td>\n",
       "      <td>25.73</td>\n",
       "      <td>931.184286</td>\n",
       "      <td>0.0</td>\n",
       "      <td>0</td>\n",
       "      <td>0</td>\n",
       "      <td>0</td>\n",
       "      <td>...</td>\n",
       "      <td>931.184286</td>\n",
       "      <td>1.369577</td>\n",
       "      <td>290.305016</td>\n",
       "      <td>856.689543</td>\n",
       "      <td>2.462827</td>\n",
       "      <td>4</td>\n",
       "      <td>338.570025</td>\n",
       "      <td>electronics</td>\n",
       "      <td>cellphones</td>\n",
       "      <td>C</td>\n",
       "    </tr>\n",
       "    <tr>\n",
       "      <th>4</th>\n",
       "      <td>2017</td>\n",
       "      <td>7</td>\n",
       "      <td>1</td>\n",
       "      <td>4</td>\n",
       "      <td>25.73</td>\n",
       "      <td>931.184286</td>\n",
       "      <td>0.0</td>\n",
       "      <td>0</td>\n",
       "      <td>0</td>\n",
       "      <td>0</td>\n",
       "      <td>...</td>\n",
       "      <td>931.184286</td>\n",
       "      <td>1.098343</td>\n",
       "      <td>232.812381</td>\n",
       "      <td>856.689543</td>\n",
       "      <td>2.191593</td>\n",
       "      <td>4</td>\n",
       "      <td>301.282903</td>\n",
       "      <td>electronics</td>\n",
       "      <td>cellphones</td>\n",
       "      <td>C</td>\n",
       "    </tr>\n",
       "  </tbody>\n",
       "</table>\n",
       "<p>5 rows × 26 columns</p>\n",
       "</div>"
      ],
      "text/plain": [
       "   year  month  dayofweek  day  freight_value  competition_price  stock  \\\n",
       "0  2017      6          4   30          25.73         931.184286    0.0   \n",
       "1  2017      7          5    1          25.73         931.184286    0.0   \n",
       "2  2017      7          6    2          25.73         931.184286    0.0   \n",
       "3  2017      7          0    3          25.73         931.184286    0.0   \n",
       "4  2017      7          1    4          25.73         931.184286    0.0   \n",
       "\n",
       "   black_friday  carnival  christmas  ...  baseline_prices  baseline_orders  \\\n",
       "0             0         0          0  ...       931.184286         0.000000   \n",
       "1             0         0          0  ...       931.184286         0.438547   \n",
       "2             0         0          0  ...       931.184286         0.167312   \n",
       "3             0         0          0  ...       931.184286         1.369577   \n",
       "4             0         0          0  ...       931.184286         1.098343   \n",
       "\n",
       "   baseline_rewards   rl_prices  rl_orders  rl_actions  rl_rewards  \\\n",
       "0          0.000000  856.689543   0.000000           4    0.000000   \n",
       "1         92.957337  856.689543   1.531796           4  210.579248   \n",
       "2         35.464701  856.689543   1.260562           4  173.292126   \n",
       "3        290.305016  856.689543   2.462827           4  338.570025   \n",
       "4        232.812381  856.689543   2.191593           4  301.282903   \n",
       "\n",
       "         group        type  price_range  \n",
       "0  electronics  cellphones            C  \n",
       "1  electronics  cellphones            C  \n",
       "2  electronics  cellphones            C  \n",
       "3  electronics  cellphones            C  \n",
       "4  electronics  cellphones            C  \n",
       "\n",
       "[5 rows x 26 columns]"
      ]
     },
     "execution_count": 28,
     "metadata": {},
     "output_type": "execute_result"
    }
   ],
   "source": [
    "results.head()"
   ]
  },
  {
   "cell_type": "markdown",
   "metadata": {},
   "source": [
    "## Random Seed"
   ]
  },
  {
   "cell_type": "code",
   "execution_count": 29,
   "metadata": {},
   "outputs": [
    {
     "name": "stdout",
     "output_type": "stream",
     "text": [
      "1\t0.954500000000005\t656\t517832.46945530956\t48736289.9125\t4.997323513031006\n",
      "2\t0.8570000000000157\t1631\t463171.1750112449\t56792553.92089844\t7.382810115814209\n",
      "seed: 1, test: 944460.8516773758, baseline: 914367.8923021916\n",
      "FINISHED!!!!!!!!!!\n",
      "1\n"
     ]
    }
   ],
   "source": [
    "\n",
    "\n",
    "stop = False\n",
    "seeds = 1\n",
    "# Params\n",
    "while stop == False:\n",
    "    \n",
    "    np.random.seed(seeds)\n",
    "    torch.manual_seed(seeds)\n",
    "\n",
    "    env = Environment(model,df)\n",
    "    env.reset()\n",
    "    \n",
    "    hidden_size = 30\n",
    "    input_size = 2 + df.shape[1]\n",
    "    output_size = 10 #5\n",
    "    LR = 0.001\n",
    "\n",
    "    epoch_num = 2\n",
    "    step_max = len(env.data) - 1\n",
    "    memory_size = 320 # 200\n",
    "    batch_size = 32\n",
    "    gamma = 0.95 # 0.97\n",
    "\n",
    "    epsilon = 1.0\n",
    "    epsilon_decrease = 1e-4\n",
    "    epsilon_min = 0.1\n",
    "    start_reduce_epsilon = 200\n",
    "    train_freq = 10\n",
    "    update_q_freq = 30 #20\n",
    "    show_log_freq = 5\n",
    "\n",
    "    # Training\n",
    "\n",
    "    memory = []\n",
    "    total_step = 0\n",
    "    total_rewards = []\n",
    "    total_losses = []\n",
    "\n",
    "    device = \"\"\n",
    "    if torch.cuda.is_available():\n",
    "        device = torch.device(\"cuda\")\n",
    "    else:\n",
    "        device = torch.device(\"cpu\")\n",
    "\n",
    "    Q = Q_Network(input_size, hidden_size, output_size).to(device=device)\n",
    "\n",
    "    Q_ast = copy.deepcopy(Q)\n",
    "\n",
    "    loss_function = nn.MSELoss()\n",
    "    optimizer = optim.Adam(list(Q.parameters()), lr=LR)\n",
    "\n",
    "    start = time.time()\n",
    "    for epoch in range(epoch_num):\n",
    "\n",
    "        pobs = env.reset()\n",
    "        step = 0\n",
    "        done = False\n",
    "        total_reward = 0\n",
    "        total_loss = 0\n",
    "\n",
    "        while not done and step < step_max:\n",
    "\n",
    "            # select act\n",
    "\n",
    "            pact = np.random.randint(10)\n",
    "            if np.random.rand() > epsilon:\n",
    "                #whats the return value?\n",
    "                Q.eval()\n",
    "                pact = Q(torch.from_numpy(np.array(pobs, dtype=np.float32).reshape(1, -1)).to(device=device))\n",
    "                pact = np.argmax(pact.data.cpu())\n",
    "                pact = pact.numpy()\n",
    "\n",
    "            # act\n",
    "            obs, reward, done = env.step(pact)\n",
    "\n",
    "            # add memory\n",
    "\n",
    "            memory.append((pobs, pact, reward, obs, done))\n",
    "            if len(memory) > memory_size:\n",
    "                memory.pop(0)\n",
    "\n",
    "            # train or update q\n",
    "            if len(memory) == memory_size:\n",
    "                if total_step % train_freq == 0:\n",
    "                    shuffled_memory = np.random.permutation(memory)\n",
    "                    memory_idx = range(len(shuffled_memory))\n",
    "                    for i in memory_idx[::batch_size]:\n",
    "                        batch = np.array(shuffled_memory[i:i+batch_size])\n",
    "                        b_pobs = np.array(batch[:, 0].tolist(), dtype=np.float32).reshape(batch_size, -1)\n",
    "                        b_pact = np.array(batch[:, 1].tolist(), dtype=np.int32)\n",
    "                        b_reward = np.array(batch[:, 2].tolist(), dtype=np.int32)\n",
    "                        b_obs = np.array(batch[:, 3].tolist(), dtype=np.float32).reshape(batch_size, -1)\n",
    "                        b_done = np.array(batch[:, 4].tolist(), dtype=np.bool)\n",
    "\n",
    "                        Q.train()\n",
    "                        q = Q(torch.from_numpy(b_pobs).to(device=device))\n",
    "                        q_ = Q_ast(torch.from_numpy(b_obs).to(device=device))\n",
    "                        maxq = np.max(q_.data.cpu().numpy(), axis=1)\n",
    "                        target = copy.deepcopy(q.data)\n",
    "                        #import pdb; pdb.set_trace()\n",
    "\n",
    "                        for j in range(batch_size):\n",
    "                            target[j, b_pact[j]] = b_reward[j]+gamma*maxq[j]*(not b_done[j])\n",
    "                        Q.zero_grad()\n",
    "                        loss = loss_function(q, target)\n",
    "                        total_loss += loss.data.item()\n",
    "                        loss.backward()\n",
    "                        optimizer.step()\n",
    "\n",
    "                if total_step % update_q_freq == 0:\n",
    "                    Q_ast = copy.deepcopy(Q)\n",
    "\n",
    "                # epsilon\n",
    "                if epsilon > epsilon_min and total_step > start_reduce_epsilon:\n",
    "                    epsilon -= epsilon_decrease\n",
    "\n",
    "                # next step\n",
    "                total_reward += reward\n",
    "                pobs = obs\n",
    "                step += 1\n",
    "                total_step += 1\n",
    "\n",
    "            total_rewards.append(total_reward)\n",
    "            total_losses.append(total_loss)\n",
    "\n",
    "            #if (epoch+1) % show_log_freq == 0:\n",
    "            if done or step == step_max:  \n",
    "                log_reward = sum(total_rewards[((epoch+1)-show_log_freq):])/show_log_freq\n",
    "                log_loss = sum(total_losses[((epoch+1)-show_log_freq):])/show_log_freq\n",
    "                elapsed_time = time.time()-start\n",
    "                print('\\t'.join(map(str, [epoch+1, epsilon, total_step, log_reward, log_loss, elapsed_time])))\n",
    "                start = time.time()\n",
    "\n",
    "\n",
    "#     test_env = Environment(model,df)\n",
    "#     test_acts=[]\n",
    "#     test_rewards = []\n",
    "#     pobs = test_env.reset()\n",
    "#     profits_2 = 0\n",
    "#     pact_history = []\n",
    "#     done = False\n",
    "#     while not done:\n",
    "#         Q.eval()\n",
    "#         pact = Q(torch.from_numpy(np.array(pobs, dtype=np.float32).reshape(1, -1)).to(device=device))\n",
    "#         pact = np.argmax(pact.data.cpu())\n",
    "#         pact_history.append(pact)\n",
    "#         test_acts.append(pact.item())\n",
    "\n",
    "#         obs, reward, done = test_env.step(pact.numpy())\n",
    "#         test_rewards.append(reward)\n",
    "#         profits_2 += reward\n",
    "#         pobs = obs\n",
    "\n",
    "#     test_profits = test_env.profits\n",
    "    \n",
    "    test_env = Environment(model,df)\n",
    "    test_acts=[]\n",
    "    test_rewards = []\n",
    "    orders = []\n",
    "    o_prices = []\n",
    "    pobs = test_env.reset()\n",
    "    profits_2 = 0\n",
    "    pact_history = []\n",
    "    done = False\n",
    "    while not done:\n",
    "        Q.eval()\n",
    "        pact = Q(torch.from_numpy(np.array(pobs, dtype=np.float32).reshape(1, -1)).to(device=device))\n",
    "        pact = np.argmax(pact.data.cpu())\n",
    "        pact_history.append(pact)\n",
    "        test_acts.append(pact.item())\n",
    "\n",
    "        obs, reward, done = test_env.step(pact.numpy())\n",
    "        orders.append(obs[1])\n",
    "        o_prices.append(obs[0])\n",
    "        test_rewards.append(reward)\n",
    "        profits_2 += reward\n",
    "        pobs = obs\n",
    "\n",
    "    test_profits = test_env.profits\n",
    "    print(f'seed: {seeds}, test: {test_profits}, baseline: {sum(baseline)}')\n",
    "    \n",
    "    if test_profits > sum(baseline):\n",
    "        print('FINISHED!!!!!!!!!!')\n",
    "        print(seeds)        \n",
    "        stop = True        \n",
    "    else:\n",
    "        seeds += 1"
   ]
  },
  {
   "cell_type": "code",
   "execution_count": 30,
   "metadata": {},
   "outputs": [
    {
     "data": {
      "text/plain": [
       "[<matplotlib.lines.Line2D at 0x7f6690494c90>]"
      ]
     },
     "execution_count": 30,
     "metadata": {},
     "output_type": "execute_result"
    },
    {
     "data": {
      "image/png": "[encoded data removed]",
      "text/plain": [
       "<Figure size 864x576 with 1 Axes>"
      ]
     },
     "metadata": {
      "needs_background": "light"
     },
     "output_type": "display_data"
    }
   ],
   "source": [
    "plt.figure(figsize=(12,8))\n",
    "plt.plot(test_rewards, 'r')\n",
    "plt.plot(baseline, 'b')"
   ]
  },
  {
   "cell_type": "code",
   "execution_count": 31,
   "metadata": {},
   "outputs": [],
   "source": [
    "results = df.iloc[:-1].copy()\n",
    "\n",
    "results['baseline_prices'] = baseline_prices[:-1]\n",
    "results['baseline_orders'] = y_pred[:-1]\n",
    "results['baseline_rewards'] = baseline[:-1]\n",
    "results['rl_prices'] = o_prices\n",
    "results['rl_orders'] = orders\n",
    "results['rl_actions'] = test_acts\n",
    "results['rl_rewards'] = test_rewards\n",
    "results['group'] = 'electronics'\n",
    "results['type'] = 'cellphones'\n",
    "results['price_range'] = 'C'"
   ]
  },
  {
   "cell_type": "code",
   "execution_count": 32,
   "metadata": {},
   "outputs": [],
   "source": [
    "results.to_csv('./cellphones/cellphones_final_results.csv', index=False)"
   ]
  },
  {
   "cell_type": "code",
   "execution_count": 33,
   "metadata": {},
   "outputs": [
    {
     "data": {
      "text/plain": [
       "1.0348069463688465"
      ]
     },
     "execution_count": 33,
     "metadata": {},
     "output_type": "execute_result"
    }
   ],
   "source": [
    "results.rl_rewards.sum() / results.baseline_rewards.sum()"
   ]
  },
  {
   "cell_type": "code",
   "execution_count": 34,
   "metadata": {},
   "outputs": [],
   "source": [
    "a = results[(results.year==2020)& (results.month==1)]['rl_rewards'].sum()\n",
    "b = results[(results.year==2020)& (results.month==1)]['baseline_rewards'].sum()"
   ]
  },
  {
   "cell_type": "code",
   "execution_count": 35,
   "metadata": {},
   "outputs": [
    {
     "data": {
      "text/plain": [
       "1.0439892464655691"
      ]
     },
     "execution_count": 35,
     "metadata": {},
     "output_type": "execute_result"
    }
   ],
   "source": [
    "a/b"
   ]
  },
  {
   "cell_type": "code",
   "execution_count": 36,
   "metadata": {},
   "outputs": [],
   "source": [
    "torch.save(Q.state_dict(), './Q_state.torch')"
   ]
  }
 ],
 "metadata": {
  "kernelspec": {
   "display_name": "miniconda-main",
   "language": "python",
   "name": "miniconda-main"
  },
  "language_info": {
   "codemirror_mode": {
    "name": "ipython",
    "version": 3
   },
   "file_extension": ".py",
   "mimetype": "text/x-python",
   "name": "python",
   "nbconvert_exporter": "python",
   "pygments_lexer": "ipython3",
   "version": "3.7.6"
  },
  "toc": {
   "base_numbering": 1,
   "nav_menu": {},
   "number_sections": true,
   "sideBar": true,
   "skip_h1_title": false,
   "title_cell": "Table of Contents",
   "title_sidebar": "Contents",
   "toc_cell": false,
   "toc_position": {},
   "toc_section_display": true,
   "toc_window_display": false
  }
 },
 "nbformat": 4,
 "nbformat_minor": 4
}
