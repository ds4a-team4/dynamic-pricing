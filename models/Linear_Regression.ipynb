{
 "cells": [
  {
   "cell_type": "code",
   "execution_count": 14,
   "metadata": {},
   "outputs": [],
   "source": [
    "import pandas as pd\n",
    "import numpy as np\n",
    "from sklearn import metrics, linear_model\n",
    "from scipy import stats\n",
    "import warnings\n",
    "warnings.filterwarnings('ignore')"
   ]
  },
  {
   "cell_type": "markdown",
   "metadata": {},
   "source": [
    "Loading the full dataset"
   ]
  },
  {
   "cell_type": "code",
   "execution_count": 2,
   "metadata": {},
   "outputs": [],
   "source": [
    "#df_all = pd.read_csv('https://bsa-correlation-one.s3.amazonaws.com/timeseries644.csv')\n",
    "df_all = pd.read_csv('../data/timeseries644.csv', dtype={'product_gtin':'str'})\n",
    "\n",
    "#converting the dates to datetime format\n",
    "df_all['date'] = pd.to_datetime(df_all['date'])"
   ]
  },
  {
   "cell_type": "markdown",
   "metadata": {},
   "source": [
    "Check the most important products_gtins on the x last_days"
   ]
  },
  {
   "cell_type": "code",
   "execution_count": 3,
   "metadata": {},
   "outputs": [],
   "source": [
    "#input the number of days to check the most important product in terms of orders.\n",
    "last_days = 60\n",
    "check_sales_date = df_all['date'].max() - pd.DateOffset(last_days)"
   ]
  },
  {
   "cell_type": "code",
   "execution_count": 4,
   "metadata": {},
   "outputs": [
    {
     "data": {
      "text/html": [
       "<div>\n",
       "<style scoped>\n",
       "    .dataframe tbody tr th:only-of-type {\n",
       "        vertical-align: middle;\n",
       "    }\n",
       "\n",
       "    .dataframe tbody tr th {\n",
       "        vertical-align: top;\n",
       "    }\n",
       "\n",
       "    .dataframe thead th {\n",
       "        text-align: right;\n",
       "    }\n",
       "</style>\n",
       "<table border=\"1\" class=\"dataframe\">\n",
       "  <thead>\n",
       "    <tr style=\"text-align: right;\">\n",
       "      <th></th>\n",
       "      <th>product_gtin</th>\n",
       "      <th>orders</th>\n",
       "    </tr>\n",
       "  </thead>\n",
       "  <tbody>\n",
       "    <tr>\n",
       "      <th>556</th>\n",
       "      <td>7908243600137</td>\n",
       "      <td>441.0</td>\n",
       "    </tr>\n",
       "    <tr>\n",
       "      <th>626</th>\n",
       "      <td>8800550956404</td>\n",
       "      <td>316.0</td>\n",
       "    </tr>\n",
       "    <tr>\n",
       "      <th>235</th>\n",
       "      <td>7892049060281</td>\n",
       "      <td>233.0</td>\n",
       "    </tr>\n",
       "    <tr>\n",
       "      <th>494</th>\n",
       "      <td>7899495703106</td>\n",
       "      <td>158.0</td>\n",
       "    </tr>\n",
       "    <tr>\n",
       "      <th>581</th>\n",
       "      <td>7909389621864</td>\n",
       "      <td>130.0</td>\n",
       "    </tr>\n",
       "    <tr>\n",
       "      <th>386</th>\n",
       "      <td>7898507470104</td>\n",
       "      <td>110.0</td>\n",
       "    </tr>\n",
       "    <tr>\n",
       "      <th>128</th>\n",
       "      <td>6951003643197</td>\n",
       "      <td>99.0</td>\n",
       "    </tr>\n",
       "    <tr>\n",
       "      <th>80</th>\n",
       "      <td>4206113771707</td>\n",
       "      <td>82.0</td>\n",
       "    </tr>\n",
       "    <tr>\n",
       "      <th>499</th>\n",
       "      <td>7899621100984</td>\n",
       "      <td>70.0</td>\n",
       "    </tr>\n",
       "    <tr>\n",
       "      <th>385</th>\n",
       "      <td>7898506456345</td>\n",
       "      <td>70.0</td>\n",
       "    </tr>\n",
       "  </tbody>\n",
       "</table>\n",
       "</div>"
      ],
      "text/plain": [
       "      product_gtin  orders\n",
       "556  7908243600137   441.0\n",
       "626  8800550956404   316.0\n",
       "235  7892049060281   233.0\n",
       "494  7899495703106   158.0\n",
       "581  7909389621864   130.0\n",
       "386  7898507470104   110.0\n",
       "128  6951003643197    99.0\n",
       "80   4206113771707    82.0\n",
       "499  7899621100984    70.0\n",
       "385  7898506456345    70.0"
      ]
     },
     "execution_count": 4,
     "metadata": {},
     "output_type": "execute_result"
    }
   ],
   "source": [
    "df_all[df_all['date'] >= check_sales_date].groupby(by=['product_gtin'])['orders'].sum().reset_index().sort_values(by = ['orders'], ascending = False).head(10)"
   ]
  },
  {
   "cell_type": "markdown",
   "metadata": {},
   "source": [
    "Chooses the product_gtin to make the predictions and drop days with orders < threshold"
   ]
  },
  {
   "cell_type": "code",
   "execution_count": 5,
   "metadata": {},
   "outputs": [],
   "source": [
    "#orders_min = 5\n",
    "#df = df_all[(df_all['product_gtin'] == '7908243600137') & (df_all['orders'] >= orders_min)]\n",
    "df = df_all[(df_all['product_gtin'] == '7908243600137')]"
   ]
  },
  {
   "cell_type": "markdown",
   "metadata": {},
   "source": [
    "Create some features for seasonality and convert them to dummies"
   ]
  },
  {
   "cell_type": "code",
   "execution_count": 6,
   "metadata": {},
   "outputs": [],
   "source": [
    "df['month'] = pd.DatetimeIndex(df['date']).month\n",
    "df['day'] = pd.DatetimeIndex(df['date']).day\n",
    "df['weekday'] = pd.DatetimeIndex(df['date']).weekday"
   ]
  },
  {
   "cell_type": "markdown",
   "metadata": {},
   "source": [
    "Fill the nan freight values by the median (we just have one product here)"
   ]
  },
  {
   "cell_type": "code",
   "execution_count": 7,
   "metadata": {},
   "outputs": [],
   "source": [
    "df['freight_value'] = df['freight_value'].fillna(df['freight_value'].median())"
   ]
  },
  {
   "cell_type": "code",
   "execution_count": 8,
   "metadata": {},
   "outputs": [],
   "source": [
    "vars_cat = ['weekday', 'month', 'day']\n",
    "df_cat_dummy = pd.get_dummies(df, columns = vars_cat, drop_first=True)"
   ]
  },
  {
   "cell_type": "markdown",
   "metadata": {},
   "source": [
    "Split traning and test samples"
   ]
  },
  {
   "cell_type": "code",
   "execution_count": 9,
   "metadata": {},
   "outputs": [],
   "source": [
    "#for time-series it's not a good idea subset train and test datasets randonly, because time is a important feature.\n",
    "#n_test = number os rows used in test dataset.\n",
    "n_test = 60                \n",
    "n_data = len(df_cat_dummy)\n",
    "n_train = n_data - n_test\n",
    "\n",
    "train = df_cat_dummy.iloc[0:n_train, :]\n",
    "test  = df_cat_dummy.iloc[n_train:n_data, :]"
   ]
  },
  {
   "cell_type": "markdown",
   "metadata": {},
   "source": [
    "Lets try a simple linear regression"
   ]
  },
  {
   "cell_type": "code",
   "execution_count": 10,
   "metadata": {},
   "outputs": [],
   "source": [
    "y = 'orders'\n",
    "x = ['competition_price', 'price', 'freight_value', 'stock_avg',\n",
    "     'weekday_1', 'weekday_2', 'weekday_3', 'weekday_4', 'weekday_5', 'weekday_6',\n",
    "     'month_2', 'month_3', 'month_4', 'month_5', 'month_6', 'month_7', \n",
    "     'month_8', 'month_9', 'month_10', 'month_11', 'month_12',\n",
    "     'day_2', 'day_3', 'day_4', 'day_5', 'day_6', 'day_7', 'day_8', 'day_9', 'day_10',\n",
    "     'day_11', 'day_12', 'day_13', 'day_14', 'day_15', 'day_16', 'day_17', 'day_18', 'day_19',\n",
    "     'day_20', 'day_21', 'day_22', 'day_23', 'day_24', 'day_25', 'day_26', 'day_27', 'day_28',\n",
    "     'day_29', 'day_30', 'day_31']"
   ]
  },
  {
   "cell_type": "code",
   "execution_count": 12,
   "metadata": {},
   "outputs": [],
   "source": [
    "mod0 = linear_model.LinearRegression()\n",
    "mod0.fit(train.loc[:,x], train.loc[:,y])\n",
    "mod0_pred = mod0.predict(test.loc[:,x])\n",
    "\n",
    "#evaluating model"
   ]
  },
  {
   "cell_type": "code",
   "execution_count": 18,
   "metadata": {},
   "outputs": [
    {
     "name": "stdout",
     "output_type": "stream",
     "text": [
      "5.502205551840806\n"
     ]
    }
   ],
   "source": [
    "median_absolute_error = metrics.median_absolute_error(test.loc[:,y], mod0_pred)\n",
    "r2 = metrics.r2_score(test.loc[:,y], mod0_pred)\n",
    "print (median_absolute_error)"
   ]
  },
  {
   "cell_type": "markdown",
   "metadata": {},
   "source": [
    "Let's run our regression without stock, price and offer avg, min and max....there's a lot of multicolinearity there. How deal with offer? Should we drop it? The question is, to forecast the number of orders we need input independent variables...do we have it?"
   ]
  },
  {
   "cell_type": "markdown",
   "metadata": {},
   "source": [
    "First we set a function to  calculate MAPE (to evaluate the output of our models)"
   ]
  },
  {
   "cell_type": "code",
   "execution_count": null,
   "metadata": {},
   "outputs": [],
   "source": [
    "def MAPE(y_true, y_pred): \n",
    "    y_true, y_pred = np.array(y_true), np.array(y_pred)\n",
    "    return np.mean(np.abs((y_true - y_pred)"
   ]
  },
  {
   "cell_type": "code",
   "execution_count": null,
   "metadata": {},
   "outputs": [],
   "source": [
    "#vars we dont run in the regression.\n",
    "var_drop = ['date', 'product_gtin','product_type', 'product_type_group', 'orders','stock_max', 'stock_min',\n",
    "            'stock_avg', 'price_max', 'price_min', 'price_avg', 'offer_max','offer_min', 'offer_avg', 'commission_product_olist',\n",
    "            'commission_freight_olist']\n",
    "\n",
    "y_df = pd.DataFrame(list_var)\n",
    "y_df = y_df[~y_df[0].isin(var_drop)]\n",
    "\n",
    "\n",
    "#input p-value threshold\n",
    "threshold = 0.05\n",
    "\n",
    "#set y variables\n",
    "y = y_df[0]\n",
    "\n",
    "#set X variable - manually, but dont change.\n",
    "X = 'orders ~ '\n",
    "\n",
    "#set initial parameters for record the results\n",
    "nPar_i = len(y) #number of parameter at the beggining\n",
    "nPar_f = 0 #number of parameters after the selection\n",
    "model_form = []\n",
    "model_nfeat = []\n",
    "model_aic = []\n",
    "model_r2 = []\n",
    "model_MAPE = []\n",
    "\n",
    "while nPar_f < nPar_i:\n",
    "    #load the formula\n",
    "    nPar_i = len(y) #number of parameters before the feature selection\n",
    "    yform = ' + '.join(y)\n",
    "    formula = X + yform\n",
    "    #run the model\n",
    "    model = smf.ols(formula=formula, data=train).fit()\n",
    "    predictions = model.predict(test)\n",
    "    #feed model output in lists\n",
    "    model_form.append(formula) #formula used\n",
    "    model_aic.append(model.aic) #aic\n",
    "    model_r2.append(model.rsquared) #r2\n",
    "    model_nfeat.append(len(model.params)) \n",
    "    model_MAPE.append(MAPE(test['orders'], predictions))\n",
    "    #feed a dataframe with features of formula and p-values. drop the intercept, reset index, build a column abs(p-value) and filter rows with abs_p-value < threshold\n",
    "    params = pd.DataFrame(model.pvalues)\n",
    "    params = params.drop(['Intercept']).rename(columns = {0: 'p-value'}).reset_index()\n",
    "    params['abs_p-value'] = abs(params['p-value'])\n",
    "    y = params['index'][params['abs_p-value'] <= threshold]\n",
    "    nPar_f = len(y) #number of parameters after feature selection\n",
    "\n"
   ]
  },
  {
   "cell_type": "code",
   "execution_count": null,
   "metadata": {},
   "outputs": [],
   "source": [
    "#print the dataframe with final analysis.\n",
    "pd.DataFrame({'formula': model_form, 'aic': model_aic, 'r2' : model_r2, 'nfeat' : model_nfeat, 'mape': model_MAPE})"
   ]
  },
  {
   "cell_type": "code",
   "execution_count": null,
   "metadata": {},
   "outputs": [],
   "source": [
    "#o mape nao ta calculando direito. nao to conseguindo plotar o test.orders x prediction\n",
    "trace0 = go.Scatter(x=test.date,\n",
    "                   y=test.orders, mode='lines', name='orders')\n",
    "\n",
    "trace1 = go.Scatter(x=df.date,\n",
    "                    y=predictions, mode='markers', name='competition price')\n",
    "\n",
    "iplot([trace0])"
   ]
  },
  {
   "cell_type": "markdown",
   "metadata": {},
   "source": [
    "Transforming float variables by boxcox criterium. The interpretation indexes was found here: https://www.statisticshowto.com/box-cox-transformation/"
   ]
  },
  {
   "cell_type": "code",
   "execution_count": null,
   "metadata": {},
   "outputs": [],
   "source": [
    "#creating a function to check if data is float and if it is, convert it by boxcox criterium. I added 0.0001 to allow the log calculations.\n",
    "\n",
    "def transf_boxcox(data):\n",
    "    temp, fitted_lambda = stats.boxcox(data+0.0001)\n",
    "    if fitted_lambda < -2.7:\n",
    "        return (1/(data+0.0001)**3)\n",
    "    elif fitted_lambda <-1.7:\n",
    "        return (1/(data+0.0001)**2)\n",
    "    elif fitted_lambda <-0.7:\n",
    "        return (1/(data+0.0001))\n",
    "    elif fitted_lambda <-0.3:\n",
    "        return (1/(data+0.0001)**0.5)\n",
    "    elif fitted_lambda <0.3:\n",
    "        return np.log(data+0.0001)\n",
    "    elif fitted_lambda <0.7:\n",
    "        return ((data+0.0001)**0.5)\n",
    "    elif fitted_lambda <1.3:\n",
    "        return ((data+0.0001))\n",
    "    elif fitted_lambda <2.3:\n",
    "        return ((data+0.0001)**2)\n",
    "    elif fitted_lambda <3.3:\n",
    "        return ((data+0.0001)**3)\n",
    "    else:\n",
    "        return ((data+0.0001))"
   ]
  },
  {
   "cell_type": "code",
   "execution_count": null,
   "metadata": {},
   "outputs": [],
   "source": [
    "df_cat_dummy_t = df_cat_dummy.copy()\n",
    "for col in df_cat_dummy_t.columns:\n",
    "    if df_cat_dummy_t[col].dtypes == \"float\":\n",
    "        df_cat_dummy_t[col] = transf_boxcox(df_cat_dummy_t[col])"
   ]
  },
  {
   "cell_type": "code",
   "execution_count": null,
   "metadata": {},
   "outputs": [],
   "source": [
    "df_cat_dummy_t"
   ]
  },
  {
   "cell_type": "code",
   "execution_count": null,
   "metadata": {},
   "outputs": [],
   "source": [
    "train = df_cat_dummy_t.iloc[0:n_train, :]\n",
    "test  = df_cat_dummy_t.iloc[n_train:n_data, :]"
   ]
  },
  {
   "cell_type": "code",
   "execution_count": null,
   "metadata": {},
   "outputs": [],
   "source": [
    "#vars we dont run in the regression.\n",
    "var_drop = ['date', 'product_gtin','product_type', 'product_type_group', 'orders','stock_max', 'stock_min',\n",
    "            'stock_avg', 'price_max', 'price_min', 'price_avg', 'offer_max','offer_min', 'offer_avg', 'commission_product_olist',\n",
    "            'commission_freight_olist']\n",
    "\n",
    "y_df = pd.DataFrame(list_var)\n",
    "y_df = y_df[~y_df[0].isin(var_drop)]\n",
    "\n",
    "\n",
    "#input p-value threshold\n",
    "threshold = 0.05\n",
    "\n",
    "#set y variables\n",
    "y = y_df[0]\n",
    "\n",
    "#set X variable - manually, but dont change.\n",
    "X = 'orders ~ '\n",
    "\n",
    "#set the dataset\n",
    "dataset = 'train'\n",
    "\n",
    "#set initial parameters for record the results\n",
    "nPar_i = len(y) #number of parameter at the beggining\n",
    "nPar_f = 0 #number of parameters after the selection\n",
    "model_form = []\n",
    "model_nfeat = []\n",
    "model_aic = []\n",
    "model_r2 = []\n",
    "model_MAPE = []\n",
    "\n",
    "while nPar_f < nPar_i:\n",
    "    #load the formula\n",
    "    nPar_i = len(y) #number of parameters before the feature selection\n",
    "    yform = ' + '.join(y)\n",
    "    formula = X + yform\n",
    "    #run the model\n",
    "    model = smf.ols(formula=formula, data=train).fit()\n",
    "    predictions = model.predict(test)\n",
    "    #feed model output in lists\n",
    "    model_form.append(formula) #formula used\n",
    "    model_aic.append(model.aic) #aic\n",
    "    model_r2.append(model.rsquared) #r2\n",
    "    model_nfeat.append(len(model.params)) \n",
    "    model_MAPE.append(MAPE(test['orders'], predictions))\n",
    "    #feed a dataframe with features of formula and p-values. drop the intercept, reset index, build a column abs(p-value) and filter rows with abs_p-value < threshold\n",
    "    params = pd.DataFrame(model.pvalues)\n",
    "    params = params.drop(['Intercept']).rename(columns = {0: 'p-value'}).reset_index()\n",
    "    params['abs_p-value'] = abs(params['p-value'])\n",
    "    y = params['index'][params['abs_p-value'] <= threshold]\n",
    "    nPar_f = len(y) #number of parameters after feature selection\n",
    "\n"
   ]
  },
  {
   "cell_type": "code",
   "execution_count": null,
   "metadata": {},
   "outputs": [],
   "source": [
    "#print the dataframe with final analysis.\n",
    "pd.DataFrame({'formula': model_form, 'aic': model_aic, 'r2' : model_r2, 'nfeat' : model_nfeat, 'mape': model_MAPE})"
   ]
  }
 ],
 "metadata": {
  "kernelspec": {
   "display_name": "Python 3",
   "language": "python",
   "name": "python3"
  },
  "language_info": {
   "codemirror_mode": {
    "name": "ipython",
    "version": 3
   },
   "file_extension": ".py",
   "mimetype": "text/x-python",
   "name": "python",
   "nbconvert_exporter": "python",
   "pygments_lexer": "ipython3",
   "version": "3.7.6"
  }
 },
 "nbformat": 4,
 "nbformat_minor": 4
}
