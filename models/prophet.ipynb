{
 "cells": [
  {
   "cell_type": "code",
   "execution_count": 5,
   "metadata": {},
   "outputs": [],
   "source": [
    "import numpy as np\n",
    "import pandas as pd\n",
    "from fbprophet import Prophet"
   ]
  },
  {
   "cell_type": "code",
   "execution_count": 6,
   "metadata": {},
   "outputs": [
    {
     "name": "stdout",
     "output_type": "stream",
     "text": [
      "Collecting htsprophet\n",
      "  Downloading htsprophet-0.1.0-py3-none-any.whl (20 kB)\n",
      "Requirement already satisfied: numpy in /Users/henrique/anaconda3/envs/ds4a/lib/python3.7/site-packages (from htsprophet) (1.18.2)\n",
      "Requirement already satisfied: matplotlib in /Users/henrique/anaconda3/envs/ds4a/lib/python3.7/site-packages (from htsprophet) (3.2.1)\n",
      "Requirement already satisfied: pandas>=0.18.1 in /Users/henrique/anaconda3/envs/ds4a/lib/python3.7/site-packages (from htsprophet) (0.25.1)\n",
      "Requirement already satisfied: fbprophet in /Users/henrique/anaconda3/envs/ds4a/lib/python3.7/site-packages (from htsprophet) (0.5)\n",
      "Requirement already satisfied: scikit-learn>=0.18 in /Users/henrique/anaconda3/envs/ds4a/lib/python3.7/site-packages (from htsprophet) (0.22.2.post1)\n",
      "Requirement already satisfied: pyparsing!=2.0.4,!=2.1.2,!=2.1.6,>=2.0.1 in /Users/henrique/anaconda3/envs/ds4a/lib/python3.7/site-packages (from matplotlib->htsprophet) (2.4.7)\n",
      "Requirement already satisfied: cycler>=0.10 in /Users/henrique/anaconda3/envs/ds4a/lib/python3.7/site-packages (from matplotlib->htsprophet) (0.10.0)\n",
      "Requirement already satisfied: python-dateutil>=2.1 in /Users/henrique/anaconda3/envs/ds4a/lib/python3.7/site-packages (from matplotlib->htsprophet) (2.8.1)\n",
      "Requirement already satisfied: kiwisolver>=1.0.1 in /Users/henrique/anaconda3/envs/ds4a/lib/python3.7/site-packages (from matplotlib->htsprophet) (1.2.0)\n",
      "Requirement already satisfied: pytz>=2017.2 in /Users/henrique/anaconda3/envs/ds4a/lib/python3.7/site-packages (from pandas>=0.18.1->htsprophet) (2019.3)\n",
      "Requirement already satisfied: setuptools-git>=1.2 in /Users/henrique/anaconda3/envs/ds4a/lib/python3.7/site-packages (from fbprophet->htsprophet) (1.2)\n",
      "Requirement already satisfied: Cython>=0.22 in /Users/henrique/anaconda3/envs/ds4a/lib/python3.7/site-packages (from fbprophet->htsprophet) (0.29.13)\n",
      "Requirement already satisfied: lunardate>=0.1.5 in /Users/henrique/anaconda3/envs/ds4a/lib/python3.7/site-packages (from fbprophet->htsprophet) (0.2.0)\n",
      "Requirement already satisfied: convertdate>=2.1.2 in /Users/henrique/anaconda3/envs/ds4a/lib/python3.7/site-packages (from fbprophet->htsprophet) (2.1.3)\n",
      "Requirement already satisfied: holidays>=0.9.5 in /Users/henrique/anaconda3/envs/ds4a/lib/python3.7/site-packages (from fbprophet->htsprophet) (0.10.1)\n",
      "Requirement already satisfied: pystan>=2.14 in /Users/henrique/anaconda3/envs/ds4a/lib/python3.7/site-packages (from fbprophet->htsprophet) (2.17.1.0)\n",
      "Requirement already satisfied: joblib>=0.11 in /Users/henrique/anaconda3/envs/ds4a/lib/python3.7/site-packages (from scikit-learn>=0.18->htsprophet) (0.14.1)\n",
      "Requirement already satisfied: scipy>=0.17.0 in /Users/henrique/anaconda3/envs/ds4a/lib/python3.7/site-packages (from scikit-learn>=0.18->htsprophet) (1.4.1)\n",
      "Requirement already satisfied: six in /Users/henrique/anaconda3/envs/ds4a/lib/python3.7/site-packages (from cycler>=0.10->matplotlib->htsprophet) (1.14.0)\n",
      "Requirement already satisfied: ephem<3.8,>=3.7.5.3 in /Users/henrique/anaconda3/envs/ds4a/lib/python3.7/site-packages (from convertdate>=2.1.2->fbprophet->htsprophet) (3.7.7.1)\n",
      "Installing collected packages: htsprophet\n",
      "Successfully installed htsprophet-0.1.0\n"
     ]
    }
   ],
   "source": [
    "!pip install htsprophet"
   ]
  },
  {
   "cell_type": "code",
   "execution_count": null,
   "metadata": {},
   "outputs": [],
   "source": []
  }
 ],
 "metadata": {
  "kernelspec": {
   "display_name": "ds4a",
   "language": "python",
   "name": "ds4a"
  },
  "language_info": {
   "codemirror_mode": {
    "name": "ipython",
    "version": 3
   },
   "file_extension": ".py",
   "mimetype": "text/x-python",
   "name": "python",
   "nbconvert_exporter": "python",
   "pygments_lexer": "ipython3",
   "version": "3.7.7"
  }
 },
 "nbformat": 4,
 "nbformat_minor": 4
}
