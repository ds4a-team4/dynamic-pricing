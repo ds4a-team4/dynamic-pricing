{
 "cells": [
  {
   "cell_type": "code",
   "execution_count": 1,
   "metadata": {},
   "outputs": [],
   "source": [
    "import numpy as np\n",
    "import pandas as pd\n",
    "import s3fs\n",
    "import fbprophet\n",
    "import matplotlib.pyplot as plt\n",
    "import seaborn as sns\n",
    "\n",
    "from datetime import datetime\n",
    "\n",
    "from htsprophet.hts import hts, orderHier, makeWeekly\n",
    "from htsprophet.htsPlot import plotNode, plotChild, plotNodeComponents\n",
    "\n",
    "from fbprophet import Prophet\n",
    "from fbprophet.diagnostics import cross_validation, performance_metrics"
   ]
  },
  {
   "cell_type": "code",
   "execution_count": 2,
   "metadata": {},
   "outputs": [],
   "source": [
    "data = pd.read_csv('s3://bsa-correlation-one/electronics_data.csv', dtype={'gtin':'str'})"
   ]
  },
  {
   "cell_type": "code",
   "execution_count": 3,
   "metadata": {},
   "outputs": [],
   "source": [
    "df = data[['date', 'product_group','product_type', 'olist_price', 'orders']].copy()"
   ]
  },
  {
   "cell_type": "code",
   "execution_count": 4,
   "metadata": {},
   "outputs": [],
   "source": [
    "df['olist_price'] = round(df.olist_price,2)"
   ]
  },
  {
   "cell_type": "code",
   "execution_count": 5,
   "metadata": {},
   "outputs": [],
   "source": [
    "df = df.groupby(['date','product_group','product_type','olist_price']).sum().reset_index()"
   ]
  },
  {
   "cell_type": "code",
   "execution_count": 31,
   "metadata": {},
   "outputs": [
    {
     "data": {
      "text/plain": [
       "<matplotlib.axes._subplots.AxesSubplot at 0x7f76bfd257b8>"
      ]
     },
     "execution_count": 31,
     "metadata": {},
     "output_type": "execute_result"
    },
    {
     "data": {
      "image/png": "[encoded data removed]",
      "text/plain": [
       "<Figure size 432x288 with 1 Axes>"
      ]
     },
     "metadata": {
      "needs_background": "light"
     },
     "output_type": "display_data"
    }
   ],
   "source": [
    "sns.boxplot(x='product_type', y='olist_price', data=df)"
   ]
  },
  {
   "cell_type": "markdown",
   "metadata": {},
   "source": [
    "### Grouping products by type and price quantiles ranges"
   ]
  },
  {
   "cell_type": "code",
   "execution_count": 9,
   "metadata": {},
   "outputs": [],
   "source": [
    "price_cat = {}\n",
    "for prod_type in df.product_type.unique():\n",
    "    temp = df[df.product_type == prod_type].copy()\n",
    "    price_cat[prod_type] = np.quantile(temp.olist_price.values, np.arange(0.25,1,0.25))"
   ]
  },
  {
   "cell_type": "code",
   "execution_count": 19,
   "metadata": {},
   "outputs": [],
   "source": [
    "def price_range(prod_category, price):\n",
    "    prices = price_cat[prod_category]\n",
    "    if price < prices[0]:\n",
    "        return 'A'\n",
    "    elif price < prices[1]:\n",
    "        return 'B'\n",
    "    elif price < prices[2]:\n",
    "        return 'C'\n",
    "    else:\n",
    "        return 'D'"
   ]
  },
  {
   "cell_type": "code",
   "execution_count": 20,
   "metadata": {},
   "outputs": [],
   "source": [
    "df['price_category'] = df.apply(lambda row: price_range(row['product_type'], row['olist_price']), axis=1)"
   ]
  },
  {
   "cell_type": "code",
   "execution_count": 21,
   "metadata": {},
   "outputs": [
    {
     "data": {
      "text/html": [
       "<div>\n",
       "<style scoped>\n",
       "    .dataframe tbody tr th:only-of-type {\n",
       "        vertical-align: middle;\n",
       "    }\n",
       "\n",
       "    .dataframe tbody tr th {\n",
       "        vertical-align: top;\n",
       "    }\n",
       "\n",
       "    .dataframe thead th {\n",
       "        text-align: right;\n",
       "    }\n",
       "</style>\n",
       "<table border=\"1\" class=\"dataframe\">\n",
       "  <thead>\n",
       "    <tr style=\"text-align: right;\">\n",
       "      <th></th>\n",
       "      <th>date</th>\n",
       "      <th>product_group</th>\n",
       "      <th>product_type</th>\n",
       "      <th>olist_price</th>\n",
       "      <th>orders</th>\n",
       "      <th>price_category</th>\n",
       "    </tr>\n",
       "  </thead>\n",
       "  <tbody>\n",
       "    <tr>\n",
       "      <th>0</th>\n",
       "      <td>2017-06-30</td>\n",
       "      <td>electronics</td>\n",
       "      <td>Celular</td>\n",
       "      <td>129.90</td>\n",
       "      <td>0.0</td>\n",
       "      <td>A</td>\n",
       "    </tr>\n",
       "    <tr>\n",
       "      <th>1</th>\n",
       "      <td>2017-06-30</td>\n",
       "      <td>electronics</td>\n",
       "      <td>Celular</td>\n",
       "      <td>169.90</td>\n",
       "      <td>0.0</td>\n",
       "      <td>A</td>\n",
       "    </tr>\n",
       "    <tr>\n",
       "      <th>2</th>\n",
       "      <td>2017-06-30</td>\n",
       "      <td>electronics</td>\n",
       "      <td>Celular</td>\n",
       "      <td>349.90</td>\n",
       "      <td>0.0</td>\n",
       "      <td>B</td>\n",
       "    </tr>\n",
       "    <tr>\n",
       "      <th>3</th>\n",
       "      <td>2017-06-30</td>\n",
       "      <td>electronics</td>\n",
       "      <td>Celular</td>\n",
       "      <td>813.63</td>\n",
       "      <td>0.0</td>\n",
       "      <td>C</td>\n",
       "    </tr>\n",
       "    <tr>\n",
       "      <th>4</th>\n",
       "      <td>2017-06-30</td>\n",
       "      <td>electronics</td>\n",
       "      <td>Controle remoto</td>\n",
       "      <td>42.50</td>\n",
       "      <td>0.0</td>\n",
       "      <td>D</td>\n",
       "    </tr>\n",
       "  </tbody>\n",
       "</table>\n",
       "</div>"
      ],
      "text/plain": [
       "         date product_group     product_type  olist_price  orders  \\\n",
       "0  2017-06-30   electronics          Celular       129.90     0.0   \n",
       "1  2017-06-30   electronics          Celular       169.90     0.0   \n",
       "2  2017-06-30   electronics          Celular       349.90     0.0   \n",
       "3  2017-06-30   electronics          Celular       813.63     0.0   \n",
       "4  2017-06-30   electronics  Controle remoto        42.50     0.0   \n",
       "\n",
       "  price_category  \n",
       "0              A  \n",
       "1              A  \n",
       "2              B  \n",
       "3              C  \n",
       "4              D  "
      ]
     },
     "execution_count": 21,
     "metadata": {},
     "output_type": "execute_result"
    }
   ],
   "source": [
    "df.head()"
   ]
  },
  {
   "cell_type": "markdown",
   "metadata": {},
   "source": [
    "### Group by price category and product_type:"
   ]
  },
  {
   "cell_type": "code",
   "execution_count": 24,
   "metadata": {},
   "outputs": [],
   "source": [
    "df_gr = df.groupby(['date','product_group','product_type','price_category'])[['orders']].sum().reset_index()"
   ]
  },
  {
   "cell_type": "code",
   "execution_count": 25,
   "metadata": {},
   "outputs": [
    {
     "data": {
      "text/html": [
       "<div>\n",
       "<style scoped>\n",
       "    .dataframe tbody tr th:only-of-type {\n",
       "        vertical-align: middle;\n",
       "    }\n",
       "\n",
       "    .dataframe tbody tr th {\n",
       "        vertical-align: top;\n",
       "    }\n",
       "\n",
       "    .dataframe thead th {\n",
       "        text-align: right;\n",
       "    }\n",
       "</style>\n",
       "<table border=\"1\" class=\"dataframe\">\n",
       "  <thead>\n",
       "    <tr style=\"text-align: right;\">\n",
       "      <th></th>\n",
       "      <th>date</th>\n",
       "      <th>product_group</th>\n",
       "      <th>product_type</th>\n",
       "      <th>price_category</th>\n",
       "      <th>orders</th>\n",
       "    </tr>\n",
       "  </thead>\n",
       "  <tbody>\n",
       "    <tr>\n",
       "      <th>0</th>\n",
       "      <td>2017-06-30</td>\n",
       "      <td>electronics</td>\n",
       "      <td>Celular</td>\n",
       "      <td>A</td>\n",
       "      <td>0.0</td>\n",
       "    </tr>\n",
       "    <tr>\n",
       "      <th>1</th>\n",
       "      <td>2017-06-30</td>\n",
       "      <td>electronics</td>\n",
       "      <td>Celular</td>\n",
       "      <td>B</td>\n",
       "      <td>0.0</td>\n",
       "    </tr>\n",
       "    <tr>\n",
       "      <th>2</th>\n",
       "      <td>2017-06-30</td>\n",
       "      <td>electronics</td>\n",
       "      <td>Celular</td>\n",
       "      <td>C</td>\n",
       "      <td>0.0</td>\n",
       "    </tr>\n",
       "    <tr>\n",
       "      <th>3</th>\n",
       "      <td>2017-06-30</td>\n",
       "      <td>electronics</td>\n",
       "      <td>Controle remoto</td>\n",
       "      <td>D</td>\n",
       "      <td>0.0</td>\n",
       "    </tr>\n",
       "    <tr>\n",
       "      <th>4</th>\n",
       "      <td>2017-06-30</td>\n",
       "      <td>electronics</td>\n",
       "      <td>Microfone</td>\n",
       "      <td>A</td>\n",
       "      <td>0.0</td>\n",
       "    </tr>\n",
       "  </tbody>\n",
       "</table>\n",
       "</div>"
      ],
      "text/plain": [
       "         date product_group     product_type price_category  orders\n",
       "0  2017-06-30   electronics          Celular              A     0.0\n",
       "1  2017-06-30   electronics          Celular              B     0.0\n",
       "2  2017-06-30   electronics          Celular              C     0.0\n",
       "3  2017-06-30   electronics  Controle remoto              D     0.0\n",
       "4  2017-06-30   electronics        Microfone              A     0.0"
      ]
     },
     "execution_count": 25,
     "metadata": {},
     "output_type": "execute_result"
    }
   ],
   "source": [
    "df_gr.head()"
   ]
  },
  {
   "cell_type": "markdown",
   "metadata": {},
   "source": [
    "### holidays"
   ]
  },
  {
   "cell_type": "code",
   "execution_count": 26,
   "metadata": {},
   "outputs": [],
   "source": [
    "def get_holidays():\n",
    "    \"\"\"\n",
    "    Get Black Friday dates\n",
    "    \"\"\"\n",
    "    black_friday = pd.DataFrame({\n",
    "                  'holiday': 'black_friday',\n",
    "                  'ds': pd.to_datetime(['2017-11-24', '2018-11-23', '2019-11-29',\n",
    "                                        '2020-11-27', '2021-11-26', '2022-11-25',\n",
    "                                        '2023-11-24', '2024-11-29', '2025-11-28']),\n",
    "                  'lower_window': -1,\n",
    "                  'upper_window': 3,\n",
    "                })\n",
    "\n",
    "    xmas = pd.DataFrame({\n",
    "                  'holiday': 'christmas',\n",
    "                  'ds': pd.to_datetime(['2017-12-25', '2018-12-25', '2019-12-25',\n",
    "                                        '2020-12-25', '2021-12-25', '2022-12-25',\n",
    "                                        '2023-12-25', '2024-12-25', '2025-12-25']),\n",
    "                  'lower_window': -1,\n",
    "                  'upper_window': 0,\n",
    "                })\n",
    "\n",
    "    new_year = pd.DataFrame({\n",
    "                  'holiday': 'new_year',\n",
    "                  'ds': pd.to_datetime(['2017-01-01', '2018-01-01', '2019-01-01',\n",
    "                                        '2020-01-01', '2021-01-01', '2022-01-01',\n",
    "                                        '2023-01-01', '2024-01-01', '2025-01-01']),\n",
    "                  'lower_window': -1,\n",
    "                  'upper_window': 0,\n",
    "                })\n",
    "\n",
    "    carnival = pd.DataFrame({\n",
    "                  'holiday': 'carnival',\n",
    "                  'ds': pd.to_datetime(['2017-02-28', '2018-02-13', '2019-03-05',\n",
    "                                        '2020-02-25', '2021-02-16', '2022-03-01',\n",
    "                                        '2023-02-21', '2024-02-13', '2025-03-04']),\n",
    "                  'lower_window': -1,\n",
    "                  'upper_window': 0,\n",
    "                })\n",
    "\n",
    "    good_friday = pd.DataFrame({\n",
    "                  'holiday': 'good_friday',\n",
    "                  'ds': pd.to_datetime(['2018-03-18','2019-04-19','2020-04-10',\n",
    "                                        '2021-04-02','2022-04-15','2023-04-07',\n",
    "                                        '2024-03-29']),\n",
    "                  'lower_window': 0,\n",
    "                  'upper_window': 2,\n",
    "                })\n",
    "\n",
    "    # long holidays\n",
    "\n",
    "    monday = pd.DataFrame({\n",
    "                  'holiday': 'monday',\n",
    "                  'ds': pd.to_datetime(['2020-09-07','2020-10-12','2020-11-02',\n",
    "                                        '2021-11-15']),\n",
    "                  'lower_window': -2,\n",
    "                  'upper_window': 0,\n",
    "                })\n",
    "\n",
    "    friday = pd.DataFrame({\n",
    "                  'holiday': 'friday',\n",
    "                  'ds': pd.to_datetime(['2018-09-07','2018-10-12','2018-11-02',\n",
    "                                        '2019-11-15','2020-05-01']),\n",
    "                  'lower_window': 0,\n",
    "                  'upper_window': 2,\n",
    "                })\n",
    "\n",
    "    # Different cases\n",
    "    # 2019-12-30 (christmas and New year's eve from tuesday to wednesday. Monday was also affected)\n",
    "    others = pd.DataFrame({\n",
    "                  'holiday': 'others',\n",
    "                  'ds': pd.to_datetime(['2019-12-23','2019-12-30']),\n",
    "                  'lower_window': 0,\n",
    "                  'upper_window': 0,\n",
    "                })\n",
    "\n",
    "    holidays = pd.concat((black_friday, xmas, new_year, carnival,\n",
    "                         monday, friday, others))\n",
    "\n",
    "    return holidays"
   ]
  },
  {
   "cell_type": "code",
   "execution_count": 27,
   "metadata": {},
   "outputs": [],
   "source": [
    "holidays = get_holidays()"
   ]
  },
  {
   "cell_type": "markdown",
   "metadata": {},
   "source": [
    "### htsprophet"
   ]
  },
  {
   "cell_type": "code",
   "execution_count": 28,
   "metadata": {},
   "outputs": [
    {
     "data": {
      "text/html": [
       "<div>\n",
       "<style scoped>\n",
       "    .dataframe tbody tr th:only-of-type {\n",
       "        vertical-align: middle;\n",
       "    }\n",
       "\n",
       "    .dataframe tbody tr th {\n",
       "        vertical-align: top;\n",
       "    }\n",
       "\n",
       "    .dataframe thead th {\n",
       "        text-align: right;\n",
       "    }\n",
       "</style>\n",
       "<table border=\"1\" class=\"dataframe\">\n",
       "  <thead>\n",
       "    <tr style=\"text-align: right;\">\n",
       "      <th></th>\n",
       "      <th>date</th>\n",
       "      <th>product_group</th>\n",
       "      <th>product_type</th>\n",
       "      <th>price_category</th>\n",
       "      <th>orders</th>\n",
       "    </tr>\n",
       "  </thead>\n",
       "  <tbody>\n",
       "    <tr>\n",
       "      <th>0</th>\n",
       "      <td>2017-06-30</td>\n",
       "      <td>electronics</td>\n",
       "      <td>Celular</td>\n",
       "      <td>A</td>\n",
       "      <td>0.0</td>\n",
       "    </tr>\n",
       "    <tr>\n",
       "      <th>1</th>\n",
       "      <td>2017-06-30</td>\n",
       "      <td>electronics</td>\n",
       "      <td>Celular</td>\n",
       "      <td>B</td>\n",
       "      <td>0.0</td>\n",
       "    </tr>\n",
       "    <tr>\n",
       "      <th>2</th>\n",
       "      <td>2017-06-30</td>\n",
       "      <td>electronics</td>\n",
       "      <td>Celular</td>\n",
       "      <td>C</td>\n",
       "      <td>0.0</td>\n",
       "    </tr>\n",
       "    <tr>\n",
       "      <th>3</th>\n",
       "      <td>2017-06-30</td>\n",
       "      <td>electronics</td>\n",
       "      <td>Controle remoto</td>\n",
       "      <td>D</td>\n",
       "      <td>0.0</td>\n",
       "    </tr>\n",
       "    <tr>\n",
       "      <th>4</th>\n",
       "      <td>2017-06-30</td>\n",
       "      <td>electronics</td>\n",
       "      <td>Microfone</td>\n",
       "      <td>A</td>\n",
       "      <td>0.0</td>\n",
       "    </tr>\n",
       "  </tbody>\n",
       "</table>\n",
       "</div>"
      ],
      "text/plain": [
       "         date product_group     product_type price_category  orders\n",
       "0  2017-06-30   electronics          Celular              A     0.0\n",
       "1  2017-06-30   electronics          Celular              B     0.0\n",
       "2  2017-06-30   electronics          Celular              C     0.0\n",
       "3  2017-06-30   electronics  Controle remoto              D     0.0\n",
       "4  2017-06-30   electronics        Microfone              A     0.0"
      ]
     },
     "execution_count": 28,
     "metadata": {},
     "output_type": "execute_result"
    }
   ],
   "source": [
    "df_gr.head()"
   ]
  },
  {
   "cell_type": "code",
   "execution_count": 58,
   "metadata": {},
   "outputs": [
    {
     "name": "stdout",
     "output_type": "stream",
     "text": [
      "Executed in: 0:00:19.432320\n"
     ]
    }
   ],
   "source": [
    "start = datetime.now()\n",
    "data_hts, nodes = orderHier(df_gr, 1, 2, 3)\n",
    "end = datetime.now()\n",
    "print('Executed in: {}'.format(end-start))"
   ]
  },
  {
   "cell_type": "code",
   "execution_count": 59,
   "metadata": {},
   "outputs": [
    {
     "data": {
      "text/html": [
       "<div>\n",
       "<style scoped>\n",
       "    .dataframe tbody tr th:only-of-type {\n",
       "        vertical-align: middle;\n",
       "    }\n",
       "\n",
       "    .dataframe tbody tr th {\n",
       "        vertical-align: top;\n",
       "    }\n",
       "\n",
       "    .dataframe thead th {\n",
       "        text-align: right;\n",
       "    }\n",
       "</style>\n",
       "<table border=\"1\" class=\"dataframe\">\n",
       "  <thead>\n",
       "    <tr style=\"text-align: right;\">\n",
       "      <th></th>\n",
       "      <th>time</th>\n",
       "      <th>Total</th>\n",
       "      <th>electronics</th>\n",
       "      <th>electronics_Celular</th>\n",
       "      <th>electronics_Controle remoto</th>\n",
       "      <th>electronics_Microfone</th>\n",
       "      <th>electronics_Bateria para notebook</th>\n",
       "      <th>electronics_Caixa de som</th>\n",
       "      <th>electronics_Fone de ouvido</th>\n",
       "      <th>electronics_Potenciômetro</th>\n",
       "      <th>...</th>\n",
       "      <th>electronics_Tecla botão home para celular_C</th>\n",
       "      <th>electronics_Tecla botão home para celular_D</th>\n",
       "      <th>electronics_Processador de áudio_A</th>\n",
       "      <th>electronics_Processador de áudio_B</th>\n",
       "      <th>electronics_Processador de áudio_C</th>\n",
       "      <th>electronics_Processador de áudio_D</th>\n",
       "      <th>electronics_Botoeira de sobrepor_A</th>\n",
       "      <th>electronics_Botoeira de sobrepor_B</th>\n",
       "      <th>electronics_Botoeira de sobrepor_C</th>\n",
       "      <th>electronics_Botoeira de sobrepor_D</th>\n",
       "    </tr>\n",
       "  </thead>\n",
       "  <tbody>\n",
       "    <tr>\n",
       "      <th>0</th>\n",
       "      <td>2017-06-30</td>\n",
       "      <td>0.0</td>\n",
       "      <td>0.0</td>\n",
       "      <td>0.0</td>\n",
       "      <td>0.0</td>\n",
       "      <td>0.0</td>\n",
       "      <td>1.0</td>\n",
       "      <td>1.0</td>\n",
       "      <td>1.0</td>\n",
       "      <td>1.0</td>\n",
       "      <td>...</td>\n",
       "      <td>1.0</td>\n",
       "      <td>1.0</td>\n",
       "      <td>1.0</td>\n",
       "      <td>1.0</td>\n",
       "      <td>1.0</td>\n",
       "      <td>1.0</td>\n",
       "      <td>1.0</td>\n",
       "      <td>1.0</td>\n",
       "      <td>1.0</td>\n",
       "      <td>1.0</td>\n",
       "    </tr>\n",
       "    <tr>\n",
       "      <th>1</th>\n",
       "      <td>2017-07-01</td>\n",
       "      <td>0.0</td>\n",
       "      <td>0.0</td>\n",
       "      <td>0.0</td>\n",
       "      <td>0.0</td>\n",
       "      <td>0.0</td>\n",
       "      <td>1.0</td>\n",
       "      <td>1.0</td>\n",
       "      <td>1.0</td>\n",
       "      <td>1.0</td>\n",
       "      <td>...</td>\n",
       "      <td>1.0</td>\n",
       "      <td>1.0</td>\n",
       "      <td>1.0</td>\n",
       "      <td>1.0</td>\n",
       "      <td>1.0</td>\n",
       "      <td>1.0</td>\n",
       "      <td>1.0</td>\n",
       "      <td>1.0</td>\n",
       "      <td>1.0</td>\n",
       "      <td>1.0</td>\n",
       "    </tr>\n",
       "    <tr>\n",
       "      <th>2</th>\n",
       "      <td>2017-07-02</td>\n",
       "      <td>0.0</td>\n",
       "      <td>0.0</td>\n",
       "      <td>0.0</td>\n",
       "      <td>0.0</td>\n",
       "      <td>0.0</td>\n",
       "      <td>1.0</td>\n",
       "      <td>1.0</td>\n",
       "      <td>1.0</td>\n",
       "      <td>1.0</td>\n",
       "      <td>...</td>\n",
       "      <td>1.0</td>\n",
       "      <td>1.0</td>\n",
       "      <td>1.0</td>\n",
       "      <td>1.0</td>\n",
       "      <td>1.0</td>\n",
       "      <td>1.0</td>\n",
       "      <td>1.0</td>\n",
       "      <td>1.0</td>\n",
       "      <td>1.0</td>\n",
       "      <td>1.0</td>\n",
       "    </tr>\n",
       "    <tr>\n",
       "      <th>3</th>\n",
       "      <td>2017-07-03</td>\n",
       "      <td>0.0</td>\n",
       "      <td>0.0</td>\n",
       "      <td>0.0</td>\n",
       "      <td>0.0</td>\n",
       "      <td>0.0</td>\n",
       "      <td>0.0</td>\n",
       "      <td>0.0</td>\n",
       "      <td>0.0</td>\n",
       "      <td>0.0</td>\n",
       "      <td>...</td>\n",
       "      <td>1.0</td>\n",
       "      <td>1.0</td>\n",
       "      <td>1.0</td>\n",
       "      <td>1.0</td>\n",
       "      <td>1.0</td>\n",
       "      <td>1.0</td>\n",
       "      <td>1.0</td>\n",
       "      <td>1.0</td>\n",
       "      <td>1.0</td>\n",
       "      <td>1.0</td>\n",
       "    </tr>\n",
       "    <tr>\n",
       "      <th>4</th>\n",
       "      <td>2017-07-04</td>\n",
       "      <td>0.0</td>\n",
       "      <td>0.0</td>\n",
       "      <td>0.0</td>\n",
       "      <td>0.0</td>\n",
       "      <td>0.0</td>\n",
       "      <td>0.0</td>\n",
       "      <td>0.0</td>\n",
       "      <td>0.0</td>\n",
       "      <td>0.0</td>\n",
       "      <td>...</td>\n",
       "      <td>1.0</td>\n",
       "      <td>1.0</td>\n",
       "      <td>1.0</td>\n",
       "      <td>1.0</td>\n",
       "      <td>1.0</td>\n",
       "      <td>1.0</td>\n",
       "      <td>1.0</td>\n",
       "      <td>1.0</td>\n",
       "      <td>1.0</td>\n",
       "      <td>1.0</td>\n",
       "    </tr>\n",
       "  </tbody>\n",
       "</table>\n",
       "<p>5 rows × 508 columns</p>\n",
       "</div>"
      ],
      "text/plain": [
       "         time  Total  electronics  electronics_Celular  \\\n",
       "0  2017-06-30    0.0          0.0                  0.0   \n",
       "1  2017-07-01    0.0          0.0                  0.0   \n",
       "2  2017-07-02    0.0          0.0                  0.0   \n",
       "3  2017-07-03    0.0          0.0                  0.0   \n",
       "4  2017-07-04    0.0          0.0                  0.0   \n",
       "\n",
       "   electronics_Controle remoto  electronics_Microfone  \\\n",
       "0                          0.0                    0.0   \n",
       "1                          0.0                    0.0   \n",
       "2                          0.0                    0.0   \n",
       "3                          0.0                    0.0   \n",
       "4                          0.0                    0.0   \n",
       "\n",
       "   electronics_Bateria para notebook  electronics_Caixa de som  \\\n",
       "0                                1.0                       1.0   \n",
       "1                                1.0                       1.0   \n",
       "2                                1.0                       1.0   \n",
       "3                                0.0                       0.0   \n",
       "4                                0.0                       0.0   \n",
       "\n",
       "   electronics_Fone de ouvido  electronics_Potenciômetro  ...  \\\n",
       "0                         1.0                        1.0  ...   \n",
       "1                         1.0                        1.0  ...   \n",
       "2                         1.0                        1.0  ...   \n",
       "3                         0.0                        0.0  ...   \n",
       "4                         0.0                        0.0  ...   \n",
       "\n",
       "   electronics_Tecla botão home para celular_C  \\\n",
       "0                                          1.0   \n",
       "1                                          1.0   \n",
       "2                                          1.0   \n",
       "3                                          1.0   \n",
       "4                                          1.0   \n",
       "\n",
       "   electronics_Tecla botão home para celular_D  \\\n",
       "0                                          1.0   \n",
       "1                                          1.0   \n",
       "2                                          1.0   \n",
       "3                                          1.0   \n",
       "4                                          1.0   \n",
       "\n",
       "   electronics_Processador de áudio_A  electronics_Processador de áudio_B  \\\n",
       "0                                 1.0                                 1.0   \n",
       "1                                 1.0                                 1.0   \n",
       "2                                 1.0                                 1.0   \n",
       "3                                 1.0                                 1.0   \n",
       "4                                 1.0                                 1.0   \n",
       "\n",
       "   electronics_Processador de áudio_C  electronics_Processador de áudio_D  \\\n",
       "0                                 1.0                                 1.0   \n",
       "1                                 1.0                                 1.0   \n",
       "2                                 1.0                                 1.0   \n",
       "3                                 1.0                                 1.0   \n",
       "4                                 1.0                                 1.0   \n",
       "\n",
       "   electronics_Botoeira de sobrepor_A  electronics_Botoeira de sobrepor_B  \\\n",
       "0                                 1.0                                 1.0   \n",
       "1                                 1.0                                 1.0   \n",
       "2                                 1.0                                 1.0   \n",
       "3                                 1.0                                 1.0   \n",
       "4                                 1.0                                 1.0   \n",
       "\n",
       "   electronics_Botoeira de sobrepor_C  electronics_Botoeira de sobrepor_D  \n",
       "0                                 1.0                                 1.0  \n",
       "1                                 1.0                                 1.0  \n",
       "2                                 1.0                                 1.0  \n",
       "3                                 1.0                                 1.0  \n",
       "4                                 1.0                                 1.0  \n",
       "\n",
       "[5 rows x 508 columns]"
      ]
     },
     "execution_count": 59,
     "metadata": {},
     "output_type": "execute_result"
    }
   ],
   "source": [
    "data_hts.head()"
   ]
  },
  {
   "cell_type": "code",
   "execution_count": 60,
   "metadata": {},
   "outputs": [],
   "source": [
    "data_hts['time'] = pd.to_datetime(data_hts['time'])"
   ]
  },
  {
   "cell_type": "code",
   "execution_count": 61,
   "metadata": {},
   "outputs": [
    {
     "data": {
      "text/plain": [
       "(974, 508)"
      ]
     },
     "execution_count": 61,
     "metadata": {},
     "output_type": "execute_result"
    }
   ],
   "source": [
    "data_hts.shape"
   ]
  },
  {
   "cell_type": "code",
   "execution_count": 62,
   "metadata": {},
   "outputs": [
    {
     "ename": "SystemExit",
     "evalue": "The sum of the nodes list does not equal the number of columns - 2, dataframe should contain a time column in the 0th pos. Double check node input",
     "output_type": "error",
     "traceback": [
      "An exception has occurred, use %tb to see the full traceback.\n",
      "\u001b[0;31mSystemExit\u001b[0m\u001b[0;31m:\u001b[0m The sum of the nodes list does not equal the number of columns - 2, dataframe should contain a time column in the 0th pos. Double check node input\n"
     ]
    },
    {
     "name": "stderr",
     "output_type": "stream",
     "text": [
      "/home/ubuntu/.local/lib/python3.6/site-packages/IPython/core/interactiveshell.py:3339: UserWarning:\n",
      "\n",
      "To exit: use 'exit', 'quit', or Ctrl-D.\n",
      "\n"
     ]
    }
   ],
   "source": [
    "start = datetime.now()\n",
    "myDict = hts(data_hts, 7, nodes, holidays = holidays, method = \"FP\")\n",
    "end = datetime.now()\n",
    "print('Executed in: {}'.format(end-start))"
   ]
  },
  {
   "cell_type": "markdown",
   "metadata": {},
   "source": [
    "### fbprophet bottom-up approach"
   ]
  },
  {
   "cell_type": "code",
   "execution_count": 67,
   "metadata": {},
   "outputs": [],
   "source": [
    "cols = [each for each in data_hts.columns if len(each.split('_')) == 3]"
   ]
  },
  {
   "cell_type": "code",
   "execution_count": 75,
   "metadata": {},
   "outputs": [
    {
     "data": {
      "text/plain": [
       "'electronics_Celular_A'"
      ]
     },
     "execution_count": 75,
     "metadata": {},
     "output_type": "execute_result"
    }
   ],
   "source": [
    "cols[0]"
   ]
  },
  {
   "cell_type": "code",
   "execution_count": 83,
   "metadata": {},
   "outputs": [
    {
     "name": "stderr",
     "output_type": "stream",
     "text": [
      "INFO:fbprophet:Disabling daily seasonality. Run prophet with daily_seasonality=True to override this.\n"
     ]
    }
   ],
   "source": [
    "for each in ['electronics_Celular_A']:\n",
    "    temp = data_hts[['time', each]]\n",
    "    temp.rename(columns={'time':'ds', each:'y'}, inplace=True)\n",
    "    model = Prophet(holidays=holidays)\n",
    "    model.fit(temp)\n",
    "    future = model.make_future_dataframe(periods=7, freq='D', include_history=True)\n",
    "    fcst = model.predict(future)"
   ]
  },
  {
   "cell_type": "code",
   "execution_count": 79,
   "metadata": {},
   "outputs": [
    {
     "data": {
      "text/plain": [
       "<matplotlib.axes._subplots.AxesSubplot at 0x7fd93cd2b4a8>"
      ]
     },
     "execution_count": 79,
     "metadata": {},
     "output_type": "execute_result"
    },
    {
     "data": {
      "image/png": "[encoded data removed]",
      "text/plain": [
       "<Figure size 432x288 with 1 Axes>"
      ]
     },
     "metadata": {
      "needs_background": "light"
     },
     "output_type": "display_data"
    }
   ],
   "source": [
    "model.p"
   ]
  },
  {
   "cell_type": "code",
   "execution_count": null,
   "metadata": {},
   "outputs": [],
   "source": []
  }
 ],
 "metadata": {
  "kernelspec": {
   "display_name": "ds4a",
   "language": "python",
   "name": "ds4a"
  },
  "language_info": {
   "codemirror_mode": {
    "name": "ipython",
    "version": 3
   },
   "file_extension": ".py",
   "mimetype": "text/x-python",
   "name": "python",
   "nbconvert_exporter": "python",
   "pygments_lexer": "ipython3",
   "version": "3.6.6"
  }
 },
 "nbformat": 4,
 "nbformat_minor": 4
}
