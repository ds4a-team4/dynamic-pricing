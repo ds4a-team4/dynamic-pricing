{
 "cells": [
  {
   "cell_type": "markdown",
   "metadata": {},
   "source": [
    "# Bottom-up model\n",
    "\n",
    "Our objective is to create a simulator scenario. It should model how our orders would behave if we changed a few parameters."
   ]
  },
  {
   "cell_type": "markdown",
   "metadata": {},
   "source": [
    "##### Imports"
   ]
  },
  {
   "cell_type": "code",
   "execution_count": 1,
   "metadata": {},
   "outputs": [],
   "source": [
    "import numpy as np\n",
    "import pandas as pd\n",
    "import s3fs\n",
    "import fbprophet\n",
    "import matplotlib.pyplot as plt\n",
    "import seaborn as sns\n",
    "from datetime import datetime\n",
    "\n",
    "from fbprophet import Prophet\n",
    "from fbprophet.diagnostics import cross_validation, performance_metrics"
   ]
  },
  {
   "cell_type": "code",
   "execution_count": 21,
   "metadata": {},
   "outputs": [],
   "source": [
    "import boto3\n",
    "import pickle\n",
    "import json"
   ]
  },
  {
   "cell_type": "markdown",
   "metadata": {},
   "source": [
    "#### Reading data\n",
    "We will gather the necessary information to fit our prediction models.  \n",
    "Our dataframes are hosted in s3."
   ]
  },
  {
   "cell_type": "code",
   "execution_count": 3,
   "metadata": {},
   "outputs": [],
   "source": [
    "data = pd.read_csv('s3://bsa-correlation-one/electronics_data.csv', dtype={'gtin':'str'})"
   ]
  },
  {
   "cell_type": "code",
   "execution_count": 4,
   "metadata": {},
   "outputs": [
    {
     "data": {
      "text/html": [
       "<div>\n",
       "<style scoped>\n",
       "    .dataframe tbody tr th:only-of-type {\n",
       "        vertical-align: middle;\n",
       "    }\n",
       "\n",
       "    .dataframe tbody tr th {\n",
       "        vertical-align: top;\n",
       "    }\n",
       "\n",
       "    .dataframe thead th {\n",
       "        text-align: right;\n",
       "    }\n",
       "</style>\n",
       "<table border=\"1\" class=\"dataframe\">\n",
       "  <thead>\n",
       "    <tr style=\"text-align: right;\">\n",
       "      <th></th>\n",
       "      <th>Unnamed: 0</th>\n",
       "      <th>date</th>\n",
       "      <th>competition_price</th>\n",
       "      <th>gtin</th>\n",
       "      <th>item_name</th>\n",
       "      <th>enable_subsidy</th>\n",
       "      <th>gmv</th>\n",
       "      <th>revenue</th>\n",
       "      <th>cogs</th>\n",
       "      <th>gross_profit</th>\n",
       "      <th>...</th>\n",
       "      <th>stock_min</th>\n",
       "      <th>stock_avg</th>\n",
       "      <th>price_max</th>\n",
       "      <th>price_min</th>\n",
       "      <th>price_avg</th>\n",
       "      <th>offer_max</th>\n",
       "      <th>offer_min</th>\n",
       "      <th>offer_avg</th>\n",
       "      <th>product_type</th>\n",
       "      <th>product_group</th>\n",
       "    </tr>\n",
       "  </thead>\n",
       "  <tbody>\n",
       "    <tr>\n",
       "      <th>0</th>\n",
       "      <td>0</td>\n",
       "      <td>2019-05-06</td>\n",
       "      <td>NaN</td>\n",
       "      <td>7435315014405</td>\n",
       "      <td>Dongle Cast Ezcast Adaptador Hdmi Anycast Weca...</td>\n",
       "      <td>NaN</td>\n",
       "      <td>0.0</td>\n",
       "      <td>0.0</td>\n",
       "      <td>0.0</td>\n",
       "      <td>0.0</td>\n",
       "      <td>...</td>\n",
       "      <td>5.0</td>\n",
       "      <td>27.5</td>\n",
       "      <td>69.99</td>\n",
       "      <td>69.99</td>\n",
       "      <td>69.99</td>\n",
       "      <td>69.99</td>\n",
       "      <td>69.99</td>\n",
       "      <td>69.99</td>\n",
       "      <td>Adaptador eletrônico</td>\n",
       "      <td>electronics</td>\n",
       "    </tr>\n",
       "  </tbody>\n",
       "</table>\n",
       "<p>1 rows × 29 columns</p>\n",
       "</div>"
      ],
      "text/plain": [
       "   Unnamed: 0        date  competition_price           gtin  \\\n",
       "0           0  2019-05-06                NaN  7435315014405   \n",
       "\n",
       "                                           item_name enable_subsidy  gmv  \\\n",
       "0  Dongle Cast Ezcast Adaptador Hdmi Anycast Weca...            NaN  0.0   \n",
       "\n",
       "   revenue  cogs  gross_profit  ...  stock_min  stock_avg  price_max  \\\n",
       "0      0.0   0.0           0.0  ...        5.0       27.5      69.99   \n",
       "\n",
       "   price_min  price_avg  offer_max  offer_min  offer_avg  \\\n",
       "0      69.99      69.99      69.99      69.99      69.99   \n",
       "\n",
       "            product_type  product_group  \n",
       "0  Adaptador eletrônico    electronics  \n",
       "\n",
       "[1 rows x 29 columns]"
      ]
     },
     "execution_count": 4,
     "metadata": {},
     "output_type": "execute_result"
    }
   ],
   "source": [
    "data.head(1)"
   ]
  },
  {
   "cell_type": "code",
   "execution_count": null,
   "metadata": {},
   "outputs": [],
   "source": [
    "#data['delta_price'] = (data.olist_price.values/data.competition_price.values)-1"
   ]
  },
  {
   "cell_type": "code",
   "execution_count": 5,
   "metadata": {},
   "outputs": [],
   "source": [
    "#df = data[['date', 'product_group','product_type', 'olist_price','delta_price', 'orders']].copy()\n",
    "df = data[['date', 'product_group','product_type', 'olist_price','competition_price','freight_value','stock_max', 'orders']].copy()"
   ]
  },
  {
   "cell_type": "code",
   "execution_count": 6,
   "metadata": {},
   "outputs": [],
   "source": [
    "df.loc[(df[\"competition_price\"].isnull()) & (df['orders']>0),'competition_price'] = df['olist_price']"
   ]
  },
  {
   "cell_type": "code",
   "execution_count": 7,
   "metadata": {},
   "outputs": [],
   "source": [
    "df['olist_price'] = round(df.olist_price,2)\n",
    "df['competition_price'] = round(df.competition_price,2)"
   ]
  },
  {
   "cell_type": "code",
   "execution_count": null,
   "metadata": {},
   "outputs": [],
   "source": [
    "#df['delta_price'] = round(df.delta_price,3)"
   ]
  },
  {
   "cell_type": "code",
   "execution_count": 8,
   "metadata": {},
   "outputs": [
    {
     "data": {
      "text/html": [
       "<div>\n",
       "<style scoped>\n",
       "    .dataframe tbody tr th:only-of-type {\n",
       "        vertical-align: middle;\n",
       "    }\n",
       "\n",
       "    .dataframe tbody tr th {\n",
       "        vertical-align: top;\n",
       "    }\n",
       "\n",
       "    .dataframe thead th {\n",
       "        text-align: right;\n",
       "    }\n",
       "</style>\n",
       "<table border=\"1\" class=\"dataframe\">\n",
       "  <thead>\n",
       "    <tr style=\"text-align: right;\">\n",
       "      <th></th>\n",
       "      <th>date</th>\n",
       "      <th>product_group</th>\n",
       "      <th>product_type</th>\n",
       "      <th>olist_price</th>\n",
       "      <th>competition_price</th>\n",
       "      <th>freight_value</th>\n",
       "      <th>stock_max</th>\n",
       "      <th>orders</th>\n",
       "    </tr>\n",
       "  </thead>\n",
       "  <tbody>\n",
       "    <tr>\n",
       "      <th>0</th>\n",
       "      <td>2019-05-06</td>\n",
       "      <td>electronics</td>\n",
       "      <td>Adaptador eletrônico</td>\n",
       "      <td>69.99</td>\n",
       "      <td>NaN</td>\n",
       "      <td>NaN</td>\n",
       "      <td>50.0</td>\n",
       "      <td>0.0</td>\n",
       "    </tr>\n",
       "    <tr>\n",
       "      <th>1</th>\n",
       "      <td>2019-05-07</td>\n",
       "      <td>electronics</td>\n",
       "      <td>Adaptador eletrônico</td>\n",
       "      <td>69.99</td>\n",
       "      <td>NaN</td>\n",
       "      <td>NaN</td>\n",
       "      <td>50.0</td>\n",
       "      <td>0.0</td>\n",
       "    </tr>\n",
       "  </tbody>\n",
       "</table>\n",
       "</div>"
      ],
      "text/plain": [
       "         date product_group           product_type  olist_price  \\\n",
       "0  2019-05-06   electronics  Adaptador eletrônico        69.99   \n",
       "1  2019-05-07   electronics  Adaptador eletrônico        69.99   \n",
       "\n",
       "   competition_price  freight_value  stock_max  orders  \n",
       "0                NaN            NaN       50.0     0.0  \n",
       "1                NaN            NaN       50.0     0.0  "
      ]
     },
     "execution_count": 8,
     "metadata": {},
     "output_type": "execute_result"
    }
   ],
   "source": [
    "df.head(2)"
   ]
  },
  {
   "cell_type": "markdown",
   "metadata": {},
   "source": [
    "### Create price categories\n",
    "\n",
    "Working with each product individually would be infeasible, as some of them have extremely short and/or volatile and/or sparse time series. In order to mitigate such behaviors, we grouped each product taking its type and price range into consideration.  \n",
    "For example: Cellphones prices were categorized with respect to the prices distribution for this product type. Every product that had lower prices than its 25-th percentile was categorized as 'A', then 'B' for products cheaper than the 50-th percentile, 'C' for products cheaper then the 75-th percentile. All other products were categorized as 'D'.  \n",
    "Then, we finally concatenate the product's group, type and price range category into one column.\n",
    "A different model will be fit to each of these combinations."
   ]
  },
  {
   "cell_type": "code",
   "execution_count": 9,
   "metadata": {},
   "outputs": [],
   "source": [
    "price_cat = {}\n",
    "for prod_type in df.product_type.unique():\n",
    "    temp = df[df.product_type == prod_type].copy()\n",
    "    price_cat[prod_type] = np.quantile(temp.olist_price.values, np.arange(0.25,1,0.25))"
   ]
  },
  {
   "cell_type": "code",
   "execution_count": 10,
   "metadata": {},
   "outputs": [],
   "source": [
    "def price_range(prod_category, price):\n",
    "    prices = price_cat[prod_category]\n",
    "    if price < prices[0]:\n",
    "        return 'A'\n",
    "    elif price < prices[1]:\n",
    "        return 'B'\n",
    "    elif price < prices[2]:\n",
    "        return 'C'\n",
    "    else:\n",
    "        return 'D'"
   ]
  },
  {
   "cell_type": "code",
   "execution_count": 11,
   "metadata": {},
   "outputs": [],
   "source": [
    "df['price_category'] = df.apply(lambda row: price_range(row['product_type'], row['olist_price']), axis=1)"
   ]
  },
  {
   "cell_type": "code",
   "execution_count": null,
   "metadata": {},
   "outputs": [],
   "source": [
    "#df_gr = df.groupby(['date','product_group','product_type','price_category'])\\\n",
    "#          .agg({'orders':'sum', 'delta_price': 'mean'}).reset_index()"
   ]
  },
  {
   "cell_type": "code",
   "execution_count": 12,
   "metadata": {},
   "outputs": [],
   "source": [
    "df_gr = df.groupby(['date','product_group','product_type','price_category'])\\\n",
    "          .agg({'olist_price': 'mean', 'competition_price':'mean', 'freight_value':'mean',\n",
    "                'stock_max':'sum', 'orders':'sum'}).reset_index()"
   ]
  },
  {
   "cell_type": "code",
   "execution_count": 13,
   "metadata": {},
   "outputs": [
    {
     "data": {
      "text/html": [
       "<div>\n",
       "<style scoped>\n",
       "    .dataframe tbody tr th:only-of-type {\n",
       "        vertical-align: middle;\n",
       "    }\n",
       "\n",
       "    .dataframe tbody tr th {\n",
       "        vertical-align: top;\n",
       "    }\n",
       "\n",
       "    .dataframe thead th {\n",
       "        text-align: right;\n",
       "    }\n",
       "</style>\n",
       "<table border=\"1\" class=\"dataframe\">\n",
       "  <thead>\n",
       "    <tr style=\"text-align: right;\">\n",
       "      <th></th>\n",
       "      <th>date</th>\n",
       "      <th>product_group</th>\n",
       "      <th>product_type</th>\n",
       "      <th>price_category</th>\n",
       "      <th>olist_price</th>\n",
       "      <th>competition_price</th>\n",
       "      <th>freight_value</th>\n",
       "      <th>stock_max</th>\n",
       "      <th>orders</th>\n",
       "    </tr>\n",
       "  </thead>\n",
       "  <tbody>\n",
       "    <tr>\n",
       "      <th>0</th>\n",
       "      <td>2017-06-30</td>\n",
       "      <td>electronics</td>\n",
       "      <td>Celular</td>\n",
       "      <td>A</td>\n",
       "      <td>149.90</td>\n",
       "      <td>NaN</td>\n",
       "      <td>NaN</td>\n",
       "      <td>20.0</td>\n",
       "      <td>0.0</td>\n",
       "    </tr>\n",
       "    <tr>\n",
       "      <th>1</th>\n",
       "      <td>2017-06-30</td>\n",
       "      <td>electronics</td>\n",
       "      <td>Celular</td>\n",
       "      <td>B</td>\n",
       "      <td>349.90</td>\n",
       "      <td>NaN</td>\n",
       "      <td>NaN</td>\n",
       "      <td>10.0</td>\n",
       "      <td>0.0</td>\n",
       "    </tr>\n",
       "    <tr>\n",
       "      <th>2</th>\n",
       "      <td>2017-06-30</td>\n",
       "      <td>electronics</td>\n",
       "      <td>Celular</td>\n",
       "      <td>C</td>\n",
       "      <td>813.63</td>\n",
       "      <td>NaN</td>\n",
       "      <td>NaN</td>\n",
       "      <td>5.0</td>\n",
       "      <td>0.0</td>\n",
       "    </tr>\n",
       "    <tr>\n",
       "      <th>3</th>\n",
       "      <td>2017-06-30</td>\n",
       "      <td>electronics</td>\n",
       "      <td>Controle remoto</td>\n",
       "      <td>D</td>\n",
       "      <td>42.50</td>\n",
       "      <td>NaN</td>\n",
       "      <td>NaN</td>\n",
       "      <td>0.0</td>\n",
       "      <td>0.0</td>\n",
       "    </tr>\n",
       "    <tr>\n",
       "      <th>4</th>\n",
       "      <td>2017-06-30</td>\n",
       "      <td>electronics</td>\n",
       "      <td>Microfone</td>\n",
       "      <td>A</td>\n",
       "      <td>39.95</td>\n",
       "      <td>NaN</td>\n",
       "      <td>NaN</td>\n",
       "      <td>0.0</td>\n",
       "      <td>0.0</td>\n",
       "    </tr>\n",
       "  </tbody>\n",
       "</table>\n",
       "</div>"
      ],
      "text/plain": [
       "         date product_group     product_type price_category  olist_price  \\\n",
       "0  2017-06-30   electronics          Celular              A       149.90   \n",
       "1  2017-06-30   electronics          Celular              B       349.90   \n",
       "2  2017-06-30   electronics          Celular              C       813.63   \n",
       "3  2017-06-30   electronics  Controle remoto              D        42.50   \n",
       "4  2017-06-30   electronics        Microfone              A        39.95   \n",
       "\n",
       "   competition_price  freight_value  stock_max  orders  \n",
       "0                NaN            NaN       20.0     0.0  \n",
       "1                NaN            NaN       10.0     0.0  \n",
       "2                NaN            NaN        5.0     0.0  \n",
       "3                NaN            NaN        0.0     0.0  \n",
       "4                NaN            NaN        0.0     0.0  "
      ]
     },
     "execution_count": 13,
     "metadata": {},
     "output_type": "execute_result"
    }
   ],
   "source": [
    "df_gr.head()"
   ]
  },
  {
   "cell_type": "code",
   "execution_count": 14,
   "metadata": {},
   "outputs": [],
   "source": [
    "df_gr['group_type_price'] = df_gr.product_group + '_' + df_gr.product_type + '_' +df_gr.price_category"
   ]
  },
  {
   "cell_type": "code",
   "execution_count": 15,
   "metadata": {},
   "outputs": [],
   "source": [
    "#df_final = df_gr[['date','group_type_price','delta_price', 'orders']].copy()\n",
    "df_final = df_gr[['date','group_type_price','olist_price', 'competition_price','freight_value', 'stock_max', 'orders']].copy()"
   ]
  },
  {
   "cell_type": "code",
   "execution_count": 16,
   "metadata": {},
   "outputs": [],
   "source": [
    "df_final['date'] = pd.to_datetime(df_final['date'])"
   ]
  },
  {
   "cell_type": "code",
   "execution_count": 17,
   "metadata": {},
   "outputs": [],
   "source": [
    "df_final.rename(columns={'date':'ds', 'orders':'y'}, inplace=True)"
   ]
  },
  {
   "cell_type": "code",
   "execution_count": 18,
   "metadata": {},
   "outputs": [
    {
     "data": {
      "text/html": [
       "<div>\n",
       "<style scoped>\n",
       "    .dataframe tbody tr th:only-of-type {\n",
       "        vertical-align: middle;\n",
       "    }\n",
       "\n",
       "    .dataframe tbody tr th {\n",
       "        vertical-align: top;\n",
       "    }\n",
       "\n",
       "    .dataframe thead th {\n",
       "        text-align: right;\n",
       "    }\n",
       "</style>\n",
       "<table border=\"1\" class=\"dataframe\">\n",
       "  <thead>\n",
       "    <tr style=\"text-align: right;\">\n",
       "      <th></th>\n",
       "      <th>ds</th>\n",
       "      <th>group_type_price</th>\n",
       "      <th>olist_price</th>\n",
       "      <th>competition_price</th>\n",
       "      <th>freight_value</th>\n",
       "      <th>stock_max</th>\n",
       "      <th>y</th>\n",
       "    </tr>\n",
       "  </thead>\n",
       "  <tbody>\n",
       "    <tr>\n",
       "      <th>0</th>\n",
       "      <td>2017-06-30</td>\n",
       "      <td>electronics_Celular_A</td>\n",
       "      <td>149.90</td>\n",
       "      <td>NaN</td>\n",
       "      <td>NaN</td>\n",
       "      <td>20.0</td>\n",
       "      <td>0.0</td>\n",
       "    </tr>\n",
       "    <tr>\n",
       "      <th>1</th>\n",
       "      <td>2017-06-30</td>\n",
       "      <td>electronics_Celular_B</td>\n",
       "      <td>349.90</td>\n",
       "      <td>NaN</td>\n",
       "      <td>NaN</td>\n",
       "      <td>10.0</td>\n",
       "      <td>0.0</td>\n",
       "    </tr>\n",
       "    <tr>\n",
       "      <th>2</th>\n",
       "      <td>2017-06-30</td>\n",
       "      <td>electronics_Celular_C</td>\n",
       "      <td>813.63</td>\n",
       "      <td>NaN</td>\n",
       "      <td>NaN</td>\n",
       "      <td>5.0</td>\n",
       "      <td>0.0</td>\n",
       "    </tr>\n",
       "    <tr>\n",
       "      <th>3</th>\n",
       "      <td>2017-06-30</td>\n",
       "      <td>electronics_Controle remoto_D</td>\n",
       "      <td>42.50</td>\n",
       "      <td>NaN</td>\n",
       "      <td>NaN</td>\n",
       "      <td>0.0</td>\n",
       "      <td>0.0</td>\n",
       "    </tr>\n",
       "    <tr>\n",
       "      <th>4</th>\n",
       "      <td>2017-06-30</td>\n",
       "      <td>electronics_Microfone_A</td>\n",
       "      <td>39.95</td>\n",
       "      <td>NaN</td>\n",
       "      <td>NaN</td>\n",
       "      <td>0.0</td>\n",
       "      <td>0.0</td>\n",
       "    </tr>\n",
       "  </tbody>\n",
       "</table>\n",
       "</div>"
      ],
      "text/plain": [
       "          ds               group_type_price  olist_price  competition_price  \\\n",
       "0 2017-06-30          electronics_Celular_A       149.90                NaN   \n",
       "1 2017-06-30          electronics_Celular_B       349.90                NaN   \n",
       "2 2017-06-30          electronics_Celular_C       813.63                NaN   \n",
       "3 2017-06-30  electronics_Controle remoto_D        42.50                NaN   \n",
       "4 2017-06-30        electronics_Microfone_A        39.95                NaN   \n",
       "\n",
       "   freight_value  stock_max    y  \n",
       "0            NaN       20.0  0.0  \n",
       "1            NaN       10.0  0.0  \n",
       "2            NaN        5.0  0.0  \n",
       "3            NaN        0.0  0.0  \n",
       "4            NaN        0.0  0.0  "
      ]
     },
     "execution_count": 18,
     "metadata": {},
     "output_type": "execute_result"
    }
   ],
   "source": [
    "df_final.head()"
   ]
  },
  {
   "cell_type": "markdown",
   "metadata": {},
   "source": [
    "### Holidays\n",
    "\n",
    "Let's create a dataframe with the most important holidays that could affect sales."
   ]
  },
  {
   "cell_type": "code",
   "execution_count": 19,
   "metadata": {},
   "outputs": [],
   "source": [
    "def get_holidays():\n",
    "    \"\"\"\n",
    "    Get Black Friday dates\n",
    "    \"\"\"\n",
    "    black_friday = pd.DataFrame({\n",
    "                  'holiday': 'black_friday',\n",
    "                  'ds': pd.to_datetime(['2017-11-24', '2018-11-23', '2019-11-29',\n",
    "                                        '2020-11-27', '2021-11-26', '2022-11-25',\n",
    "                                        '2023-11-24', '2024-11-29', '2025-11-28']),\n",
    "                  'lower_window': -1,\n",
    "                  'upper_window': 3,\n",
    "                })\n",
    "\n",
    "    xmas = pd.DataFrame({\n",
    "                  'holiday': 'christmas',\n",
    "                  'ds': pd.to_datetime(['2017-12-25', '2018-12-25', '2019-12-25',\n",
    "                                        '2020-12-25', '2021-12-25', '2022-12-25',\n",
    "                                        '2023-12-25', '2024-12-25', '2025-12-25']),\n",
    "                  'lower_window': -1,\n",
    "                  'upper_window': 0,\n",
    "                })\n",
    "\n",
    "    new_year = pd.DataFrame({\n",
    "                  'holiday': 'new_year',\n",
    "                  'ds': pd.to_datetime(['2017-01-01', '2018-01-01', '2019-01-01',\n",
    "                                        '2020-01-01', '2021-01-01', '2022-01-01',\n",
    "                                        '2023-01-01', '2024-01-01', '2025-01-01']),\n",
    "                  'lower_window': -1,\n",
    "                  'upper_window': 0,\n",
    "                })\n",
    "\n",
    "    carnival = pd.DataFrame({\n",
    "                  'holiday': 'carnival',\n",
    "                  'ds': pd.to_datetime(['2017-02-28', '2018-02-13', '2019-03-05',\n",
    "                                        '2020-02-25', '2021-02-16', '2022-03-01',\n",
    "                                        '2023-02-21', '2024-02-13', '2025-03-04']),\n",
    "                  'lower_window': -1,\n",
    "                  'upper_window': 0,\n",
    "                })\n",
    "\n",
    "    good_friday = pd.DataFrame({\n",
    "                  'holiday': 'good_friday',\n",
    "                  'ds': pd.to_datetime(['2018-03-18','2019-04-19','2020-04-10',\n",
    "                                        '2021-04-02','2022-04-15','2023-04-07',\n",
    "                                        '2024-03-29']),\n",
    "                  'lower_window': 0,\n",
    "                  'upper_window': 2,\n",
    "                })\n",
    "\n",
    "    # long holidays\n",
    "\n",
    "    monday = pd.DataFrame({\n",
    "                  'holiday': 'monday',\n",
    "                  'ds': pd.to_datetime(['2020-09-07','2020-10-12','2020-11-02',\n",
    "                                        '2021-11-15']),\n",
    "                  'lower_window': -2,\n",
    "                  'upper_window': 0,\n",
    "                })\n",
    "\n",
    "    friday = pd.DataFrame({\n",
    "                  'holiday': 'friday',\n",
    "                  'ds': pd.to_datetime(['2018-09-07','2018-10-12','2018-11-02',\n",
    "                                        '2019-11-15','2020-05-01']),\n",
    "                  'lower_window': 0,\n",
    "                  'upper_window': 2,\n",
    "                })\n",
    "\n",
    "    # Different cases\n",
    "    # 2019-12-30 (christmas and New year's eve from tuesday to wednesday. Monday was also affected)\n",
    "    others = pd.DataFrame({\n",
    "                  'holiday': 'others',\n",
    "                  'ds': pd.to_datetime(['2019-12-23','2019-12-30']),\n",
    "                  'lower_window': 0,\n",
    "                  'upper_window': 0,\n",
    "                })\n",
    "\n",
    "    holidays = pd.concat((black_friday, xmas, new_year, carnival,\n",
    "                         monday, friday, others))\n",
    "\n",
    "    return holidays"
   ]
  },
  {
   "cell_type": "code",
   "execution_count": 20,
   "metadata": {},
   "outputs": [],
   "source": [
    "holidays = get_holidays()"
   ]
  },
  {
   "cell_type": "markdown",
   "metadata": {},
   "source": [
    "### Bottom-up prophet\n",
    "\n",
    "Below, you can see the first draft of the modeling process.  \n",
    "In the example below, we predicted a few scenarios for the cheapest (price category 'A') for cellphones."
   ]
  },
  {
   "cell_type": "markdown",
   "metadata": {},
   "source": [
    "# Create models\n",
    "We start by fitting models for each product group_type_pricerange. We then save such models to a dictionary."
   ]
  },
  {
   "cell_type": "code",
   "execution_count": 88,
   "metadata": {},
   "outputs": [
    {
     "name": "stderr",
     "output_type": "stream",
     "text": [
      "INFO:fbprophet:Disabling daily seasonality. Run prophet with daily_seasonality=True to override this.\n",
      "INFO:fbprophet:Disabling daily seasonality. Run prophet with daily_seasonality=True to override this.\n",
      "INFO:fbprophet:Disabling daily seasonality. Run prophet with daily_seasonality=True to override this.\n",
      "INFO:fbprophet:Disabling daily seasonality. Run prophet with daily_seasonality=True to override this.\n"
     ]
    },
    {
     "name": "stdout",
     "output_type": "stream",
     "text": [
      "Executed in 0:00:00.609003\n"
     ]
    }
   ],
   "source": [
    "start = datetime.now()\n",
    "models = {}\n",
    "#deltas = {}\n",
    "olist = {}\n",
    "competition = {}\n",
    "freight = {}\n",
    "inventory = {}\n",
    "\n",
    "#for each in df_final.group_type_price.unique():\n",
    "for each in ['electronics_Celular_A','electronics_Celular_B','electronics_Celular_C','electronics_Celular_D']:# each in df_final.group_type_price.unique()['electronics_Celular_A']\n",
    "    try:\n",
    "        temp = df_final[df_final['group_type_price']==each].copy()\n",
    "        temp.reset_index(drop=True, inplace=True)\n",
    "        first_valid = temp[temp.competition_price.notnull()].index[0]\n",
    "        temp = temp.iloc[first_valid:].copy()\n",
    "        temp = temp[temp.ds >= '2019-01-01']\n",
    "        # fillna values with mean?\n",
    "        #temp['delta_price'] = temp.delta_price.fillna(value=temp.delta_price.mean())\n",
    "        #deltas[each] = temp['delta_price'].tolist()\n",
    "        temp['olist_price'].fillna(method='ffill',inplace=True)\n",
    "        temp['competition_price'].fillna(method='ffill',inplace=True)\n",
    "        temp['freight_value'].fillna(method='ffill',inplace=True)\n",
    "        temp['freight_value'].fillna(value=temp['freight_value'].median(), inplace=True)\n",
    "        \n",
    "        olist[each] = temp['olist_price'].tolist()\n",
    "        competition[each] = temp['competition_price'].tolist()\n",
    "        freight[each] = temp['freight_value'].tolist()\n",
    "        \n",
    "        model = Prophet(yearly_seasonality=True, holidays=holidays,\n",
    "                        interval_width=0.8, seasonality_mode='additive')\n",
    "        #model.add_regressor('delta_price')\n",
    "        model.add_regressor('olist_price')\n",
    "        model.add_regressor('competition_price')\n",
    "        model.add_regressor('freight_value')\n",
    "        model.fit(temp)\n",
    "\n",
    "\n",
    "        models[each] = model\n",
    "        \n",
    "        # Save to bucket\n",
    "#         s3 = s3fs.S3FileSystem(anon=False, \n",
    "#                                key='',\n",
    "#                                secret='')\n",
    "#         # Use 'w' for py3, 'wb' for py2\n",
    "#         with s3.open('bsa-correlation-one/models/fbprophet_{}.pkl'.format(each),'wb') as f:\n",
    "#             # for python 3.6, remove stan backend logger\n",
    "#             model.stan_backend.logger = None\n",
    "#             # END\n",
    "#             pickle.dump(model, f)\n",
    "            \n",
    "        \n",
    "\n",
    "    except Exception as e:\n",
    "        print('Failed ', each)\n",
    "        print(e)\n",
    "        pass\n",
    "        \n",
    "\n",
    "# with s3.open('bsa-correlation-one/models/olist_prices.json'.format(each),'wb') as f:\n",
    "#     f.write(json.dumps(olist).encode('utf-8'))\n",
    "    \n",
    "# with s3.open('bsa-correlation-one/models/competition_prices.json'.format(each),'wb') as f:\n",
    "#     f.write(json.dumps(competition).encode('utf-8'))\n",
    "\n",
    "# with s3.open('bsa-correlation-one/models/freight_prices.json'.format(each),'wb') as f:\n",
    "#     f.write(json.dumps(freight).encode('utf-8'))\n",
    "\n",
    "\n",
    "    \n",
    "end = datetime.now()\n",
    "print('Executed in {}'.format(end-start))"
   ]
  },
  {
   "cell_type": "markdown",
   "metadata": {},
   "source": [
    "### Scenario simulation\n",
    "Below, you can see the predictions for Cellphones in price range 'A', when we change the % delta between olist and competitor's prices.  \n",
    "We study how our orders would behave if we were selling 40% and 20% below our competitor's prices, with the ame prices and 20% above our competitor's prices. See how the forecasted order quantities decrease when we increase our prices."
   ]
  },
  {
   "cell_type": "code",
   "execution_count": 96,
   "metadata": {},
   "outputs": [],
   "source": [
    "category = 'electronics_Celular_A'\n",
    "m = models[category]\n",
    "o = olist[category]\n",
    "c = competition[category]\n",
    "f = freight[category]\n",
    "#d = deltas['electronics_Celular_A']"
   ]
  },
  {
   "cell_type": "code",
   "execution_count": 97,
   "metadata": {},
   "outputs": [
    {
     "data": {
      "text/html": [
       "<div>\n",
       "<style scoped>\n",
       "    .dataframe tbody tr th:only-of-type {\n",
       "        vertical-align: middle;\n",
       "    }\n",
       "\n",
       "    .dataframe tbody tr th {\n",
       "        vertical-align: top;\n",
       "    }\n",
       "\n",
       "    .dataframe thead th {\n",
       "        text-align: right;\n",
       "    }\n",
       "</style>\n",
       "<table border=\"1\" class=\"dataframe\">\n",
       "  <thead>\n",
       "    <tr style=\"text-align: right;\">\n",
       "      <th></th>\n",
       "      <th>ds</th>\n",
       "      <th>group_type_price</th>\n",
       "      <th>olist_price</th>\n",
       "      <th>competition_price</th>\n",
       "      <th>freight_value</th>\n",
       "      <th>stock_max</th>\n",
       "      <th>y</th>\n",
       "    </tr>\n",
       "  </thead>\n",
       "  <tbody>\n",
       "    <tr>\n",
       "      <th>234255</th>\n",
       "      <td>2020-02-24</td>\n",
       "      <td>electronics_Celular_A</td>\n",
       "      <td>134.999333</td>\n",
       "      <td>143.899310</td>\n",
       "      <td>19.293611</td>\n",
       "      <td>503277.0</td>\n",
       "      <td>13.0</td>\n",
       "    </tr>\n",
       "    <tr>\n",
       "      <th>234443</th>\n",
       "      <td>2020-02-25</td>\n",
       "      <td>electronics_Celular_A</td>\n",
       "      <td>135.898214</td>\n",
       "      <td>144.118846</td>\n",
       "      <td>19.143750</td>\n",
       "      <td>503087.0</td>\n",
       "      <td>5.0</td>\n",
       "    </tr>\n",
       "    <tr>\n",
       "      <th>234625</th>\n",
       "      <td>2020-02-26</td>\n",
       "      <td>electronics_Celular_A</td>\n",
       "      <td>127.661154</td>\n",
       "      <td>135.369200</td>\n",
       "      <td>12.860811</td>\n",
       "      <td>303034.0</td>\n",
       "      <td>27.0</td>\n",
       "    </tr>\n",
       "    <tr>\n",
       "      <th>234802</th>\n",
       "      <td>2020-02-27</td>\n",
       "      <td>electronics_Celular_A</td>\n",
       "      <td>119.542222</td>\n",
       "      <td>146.047222</td>\n",
       "      <td>14.992085</td>\n",
       "      <td>101691.0</td>\n",
       "      <td>95.0</td>\n",
       "    </tr>\n",
       "    <tr>\n",
       "      <th>234929</th>\n",
       "      <td>2020-02-28</td>\n",
       "      <td>electronics_Celular_A</td>\n",
       "      <td>90.252000</td>\n",
       "      <td>183.096000</td>\n",
       "      <td>10.228923</td>\n",
       "      <td>187.0</td>\n",
       "      <td>39.0</td>\n",
       "    </tr>\n",
       "  </tbody>\n",
       "</table>\n",
       "</div>"
      ],
      "text/plain": [
       "               ds       group_type_price  olist_price  competition_price  \\\n",
       "234255 2020-02-24  electronics_Celular_A   134.999333         143.899310   \n",
       "234443 2020-02-25  electronics_Celular_A   135.898214         144.118846   \n",
       "234625 2020-02-26  electronics_Celular_A   127.661154         135.369200   \n",
       "234802 2020-02-27  electronics_Celular_A   119.542222         146.047222   \n",
       "234929 2020-02-28  electronics_Celular_A    90.252000         183.096000   \n",
       "\n",
       "        freight_value  stock_max     y  \n",
       "234255      19.293611   503277.0  13.0  \n",
       "234443      19.143750   503087.0   5.0  \n",
       "234625      12.860811   303034.0  27.0  \n",
       "234802      14.992085   101691.0  95.0  \n",
       "234929      10.228923      187.0  39.0  "
      ]
     },
     "execution_count": 97,
     "metadata": {},
     "output_type": "execute_result"
    }
   ],
   "source": [
    "df_final[df_final['group_type_price']==category].tail(5)"
   ]
  },
  {
   "cell_type": "code",
   "execution_count": 99,
   "metadata": {},
   "outputs": [],
   "source": [
    "# delta_prediction = [-0.1]*7 # [0.2, -0.4, ...] \n",
    "# deltas = d + delta_prediction\n",
    "o_pred = [100]*7\n",
    "c_pred = [140]*7\n",
    "f_pred = [10]*7\n",
    "\n",
    "olists = o + o_pred\n",
    "competitions = c + c_pred\n",
    "freights = f + f_pred"
   ]
  },
  {
   "cell_type": "code",
   "execution_count": 100,
   "metadata": {},
   "outputs": [],
   "source": [
    "future = m.make_future_dataframe(periods=7, freq='D', include_history=True)\n",
    "#future['delta_price'] = deltas\n",
    "future['olist_price'] = olists\n",
    "future['competition_price'] = competitions\n",
    "future['freight_value'] = freights"
   ]
  },
  {
   "cell_type": "code",
   "execution_count": 101,
   "metadata": {},
   "outputs": [],
   "source": [
    "fcst = m.predict(future)"
   ]
  },
  {
   "cell_type": "code",
   "execution_count": 102,
   "metadata": {},
   "outputs": [
    {
     "data": {
      "text/html": [
       "<div>\n",
       "<style scoped>\n",
       "    .dataframe tbody tr th:only-of-type {\n",
       "        vertical-align: middle;\n",
       "    }\n",
       "\n",
       "    .dataframe tbody tr th {\n",
       "        vertical-align: top;\n",
       "    }\n",
       "\n",
       "    .dataframe thead th {\n",
       "        text-align: right;\n",
       "    }\n",
       "</style>\n",
       "<table border=\"1\" class=\"dataframe\">\n",
       "  <thead>\n",
       "    <tr style=\"text-align: right;\">\n",
       "      <th></th>\n",
       "      <th>ds</th>\n",
       "      <th>yhat</th>\n",
       "      <th>yhat_lower</th>\n",
       "      <th>yhat_upper</th>\n",
       "    </tr>\n",
       "  </thead>\n",
       "  <tbody>\n",
       "    <tr>\n",
       "      <th>419</th>\n",
       "      <td>2020-02-24</td>\n",
       "      <td>33.080663</td>\n",
       "      <td>-40.627017</td>\n",
       "      <td>102.843614</td>\n",
       "    </tr>\n",
       "    <tr>\n",
       "      <th>420</th>\n",
       "      <td>2020-02-25</td>\n",
       "      <td>19.273072</td>\n",
       "      <td>-54.499965</td>\n",
       "      <td>94.908228</td>\n",
       "    </tr>\n",
       "    <tr>\n",
       "      <th>421</th>\n",
       "      <td>2020-02-26</td>\n",
       "      <td>42.447173</td>\n",
       "      <td>-41.901513</td>\n",
       "      <td>118.436640</td>\n",
       "    </tr>\n",
       "    <tr>\n",
       "      <th>422</th>\n",
       "      <td>2020-02-27</td>\n",
       "      <td>62.558885</td>\n",
       "      <td>-11.183742</td>\n",
       "      <td>135.704757</td>\n",
       "    </tr>\n",
       "    <tr>\n",
       "      <th>423</th>\n",
       "      <td>2020-02-28</td>\n",
       "      <td>188.812273</td>\n",
       "      <td>116.728554</td>\n",
       "      <td>263.246564</td>\n",
       "    </tr>\n",
       "    <tr>\n",
       "      <th>424</th>\n",
       "      <td>2020-02-29</td>\n",
       "      <td>94.594236</td>\n",
       "      <td>23.051950</td>\n",
       "      <td>170.597116</td>\n",
       "    </tr>\n",
       "    <tr>\n",
       "      <th>425</th>\n",
       "      <td>2020-03-01</td>\n",
       "      <td>84.252159</td>\n",
       "      <td>10.600553</td>\n",
       "      <td>159.718758</td>\n",
       "    </tr>\n",
       "    <tr>\n",
       "      <th>426</th>\n",
       "      <td>2020-03-02</td>\n",
       "      <td>97.304504</td>\n",
       "      <td>15.515761</td>\n",
       "      <td>162.973881</td>\n",
       "    </tr>\n",
       "    <tr>\n",
       "      <th>427</th>\n",
       "      <td>2020-03-03</td>\n",
       "      <td>103.859916</td>\n",
       "      <td>29.908707</td>\n",
       "      <td>174.762877</td>\n",
       "    </tr>\n",
       "    <tr>\n",
       "      <th>428</th>\n",
       "      <td>2020-03-04</td>\n",
       "      <td>122.623166</td>\n",
       "      <td>50.025914</td>\n",
       "      <td>197.151530</td>\n",
       "    </tr>\n",
       "    <tr>\n",
       "      <th>429</th>\n",
       "      <td>2020-03-05</td>\n",
       "      <td>109.879167</td>\n",
       "      <td>30.841217</td>\n",
       "      <td>188.943852</td>\n",
       "    </tr>\n",
       "    <tr>\n",
       "      <th>430</th>\n",
       "      <td>2020-03-06</td>\n",
       "      <td>103.478712</td>\n",
       "      <td>32.429871</td>\n",
       "      <td>172.431287</td>\n",
       "    </tr>\n",
       "  </tbody>\n",
       "</table>\n",
       "</div>"
      ],
      "text/plain": [
       "            ds        yhat  yhat_lower  yhat_upper\n",
       "419 2020-02-24   33.080663  -40.627017  102.843614\n",
       "420 2020-02-25   19.273072  -54.499965   94.908228\n",
       "421 2020-02-26   42.447173  -41.901513  118.436640\n",
       "422 2020-02-27   62.558885  -11.183742  135.704757\n",
       "423 2020-02-28  188.812273  116.728554  263.246564\n",
       "424 2020-02-29   94.594236   23.051950  170.597116\n",
       "425 2020-03-01   84.252159   10.600553  159.718758\n",
       "426 2020-03-02   97.304504   15.515761  162.973881\n",
       "427 2020-03-03  103.859916   29.908707  174.762877\n",
       "428 2020-03-04  122.623166   50.025914  197.151530\n",
       "429 2020-03-05  109.879167   30.841217  188.943852\n",
       "430 2020-03-06  103.478712   32.429871  172.431287"
      ]
     },
     "execution_count": 102,
     "metadata": {},
     "output_type": "execute_result"
    }
   ],
   "source": [
    "fcst.tail(12)[['ds','yhat','yhat_lower','yhat_upper']]"
   ]
  },
  {
   "cell_type": "code",
   "execution_count": 103,
   "metadata": {},
   "outputs": [
    {
     "name": "stdout",
     "output_type": "stream",
     "text": [
      "Olist price       = 100\n",
      "Competition price = 140\n",
      "Shipping value    = 10\n"
     ]
    },
    {
     "data": {
      "image/png": "[encoded data removed]",
      "text/plain": [
       "<Figure size 720x432 with 1 Axes>"
      ]
     },
     "metadata": {},
     "output_type": "display_data"
    }
   ],
   "source": [
    "print('Olist price       = {}'.format(o_pred[0]))\n",
    "print('Competition price = {}'.format(c_pred[0]))\n",
    "print('Shipping value    = {}'.format(f_pred[0]))\n",
    "m.plot(fcst)\n",
    "plt.show()"
   ]
  },
  {
   "cell_type": "code",
   "execution_count": 59,
   "metadata": {},
   "outputs": [
    {
     "name": "stderr",
     "output_type": "stream",
     "text": [
      "INFO:fbprophet:Making 378 forecasts with cutoffs between 2019-08-22 12:00:00 and 2020-02-27 00:00:00\n"
     ]
    }
   ],
   "source": [
    "df_cv = cross_validation(m, horizon='1 day')\n",
    "df_p = performance_metrics(df_cv)"
   ]
  },
  {
   "cell_type": "code",
   "execution_count": 60,
   "metadata": {},
   "outputs": [
    {
     "data": {
      "text/html": [
       "<div>\n",
       "<style scoped>\n",
       "    .dataframe tbody tr th:only-of-type {\n",
       "        vertical-align: middle;\n",
       "    }\n",
       "\n",
       "    .dataframe tbody tr th {\n",
       "        vertical-align: top;\n",
       "    }\n",
       "\n",
       "    .dataframe thead th {\n",
       "        text-align: right;\n",
       "    }\n",
       "</style>\n",
       "<table border=\"1\" class=\"dataframe\">\n",
       "  <thead>\n",
       "    <tr style=\"text-align: right;\">\n",
       "      <th></th>\n",
       "      <th>horizon</th>\n",
       "      <th>mse</th>\n",
       "      <th>rmse</th>\n",
       "      <th>mae</th>\n",
       "      <th>mape</th>\n",
       "      <th>mdape</th>\n",
       "      <th>coverage</th>\n",
       "    </tr>\n",
       "  </thead>\n",
       "  <tbody>\n",
       "    <tr>\n",
       "      <th>0</th>\n",
       "      <td>0 days 12:00:00</td>\n",
       "      <td>8418.270528</td>\n",
       "      <td>91.751134</td>\n",
       "      <td>40.742992</td>\n",
       "      <td>1.584013</td>\n",
       "      <td>0.650274</td>\n",
       "      <td>0.375661</td>\n",
       "    </tr>\n",
       "    <tr>\n",
       "      <th>1</th>\n",
       "      <td>1 days 00:00:00</td>\n",
       "      <td>8420.232602</td>\n",
       "      <td>91.761825</td>\n",
       "      <td>40.800478</td>\n",
       "      <td>1.580367</td>\n",
       "      <td>0.650274</td>\n",
       "      <td>0.370370</td>\n",
       "    </tr>\n",
       "  </tbody>\n",
       "</table>\n",
       "</div>"
      ],
      "text/plain": [
       "          horizon          mse       rmse        mae      mape     mdape  \\\n",
       "0 0 days 12:00:00  8418.270528  91.751134  40.742992  1.584013  0.650274   \n",
       "1 1 days 00:00:00  8420.232602  91.761825  40.800478  1.580367  0.650274   \n",
       "\n",
       "   coverage  \n",
       "0  0.375661  \n",
       "1  0.370370  "
      ]
     },
     "execution_count": 60,
     "metadata": {},
     "output_type": "execute_result"
    }
   ],
   "source": [
    "df_p"
   ]
  },
  {
   "cell_type": "code",
   "execution_count": 105,
   "metadata": {},
   "outputs": [],
   "source": [
    "temp = df_final[(df_final['group_type_price']==category) & (df_final['ds']>='2019-01-01')].copy()"
   ]
  },
  {
   "cell_type": "code",
   "execution_count": 107,
   "metadata": {},
   "outputs": [
    {
     "data": {
      "text/html": [
       "<div>\n",
       "<style scoped>\n",
       "    .dataframe tbody tr th:only-of-type {\n",
       "        vertical-align: middle;\n",
       "    }\n",
       "\n",
       "    .dataframe tbody tr th {\n",
       "        vertical-align: top;\n",
       "    }\n",
       "\n",
       "    .dataframe thead th {\n",
       "        text-align: right;\n",
       "    }\n",
       "</style>\n",
       "<table border=\"1\" class=\"dataframe\">\n",
       "  <thead>\n",
       "    <tr style=\"text-align: right;\">\n",
       "      <th></th>\n",
       "      <th>ds</th>\n",
       "      <th>group_type_price</th>\n",
       "      <th>olist_price</th>\n",
       "      <th>competition_price</th>\n",
       "      <th>freight_value</th>\n",
       "      <th>stock_max</th>\n",
       "      <th>y</th>\n",
       "    </tr>\n",
       "  </thead>\n",
       "  <tbody>\n",
       "    <tr>\n",
       "      <th>229531</th>\n",
       "      <td>2020-02-05</td>\n",
       "      <td>electronics_Celular_A</td>\n",
       "      <td>132.437414</td>\n",
       "      <td>147.161875</td>\n",
       "      <td>20.194556</td>\n",
       "      <td>53802.0</td>\n",
       "      <td>988.0</td>\n",
       "    </tr>\n",
       "  </tbody>\n",
       "</table>\n",
       "</div>"
      ],
      "text/plain": [
       "               ds       group_type_price  olist_price  competition_price  \\\n",
       "229531 2020-02-05  electronics_Celular_A   132.437414         147.161875   \n",
       "\n",
       "        freight_value  stock_max      y  \n",
       "229531      20.194556    53802.0  988.0  "
      ]
     },
     "execution_count": 107,
     "metadata": {},
     "output_type": "execute_result"
    }
   ],
   "source": [
    "temp[temp['y']==max(temp.y)]"
   ]
  },
  {
   "cell_type": "markdown",
   "metadata": {},
   "source": [
    "## OLDS"
   ]
  },
  {
   "cell_type": "code",
   "execution_count": null,
   "metadata": {},
   "outputs": [],
   "source": [
    "print('20% less then competition')\n",
    "m.plot(fcst)\n",
    "plt.show()"
   ]
  },
  {
   "cell_type": "code",
   "execution_count": null,
   "metadata": {},
   "outputs": [],
   "source": [
    "#df_gr[df_gr.group_type_price == 'electronics_Celular_A'].head(4)\n",
    "df_gr[(df_gr.orders>0) & (df_gr.freight_value.isnull())].head(4)\n"
   ]
  },
  {
   "cell_type": "code",
   "execution_count": null,
   "metadata": {},
   "outputs": [],
   "source": [
    "fcst.tail(7)[['ds','delta_price','yhat']]"
   ]
  },
  {
   "cell_type": "code",
   "execution_count": null,
   "metadata": {},
   "outputs": [],
   "source": [
    "print('40% less then competition')\n",
    "m.plot(fcst)\n",
    "plt.show()"
   ]
  },
  {
   "cell_type": "code",
   "execution_count": null,
   "metadata": {},
   "outputs": [],
   "source": [
    "fcst.tail(7)[['ds','delta_price','yhat']]"
   ]
  },
  {
   "cell_type": "code",
   "execution_count": null,
   "metadata": {},
   "outputs": [],
   "source": [
    "print('equal to competition')\n",
    "m.plot(fcst)\n",
    "plt.show()"
   ]
  },
  {
   "cell_type": "code",
   "execution_count": null,
   "metadata": {},
   "outputs": [],
   "source": [
    "fcst.tail(7)[['ds','delta_price','yhat']]"
   ]
  },
  {
   "cell_type": "code",
   "execution_count": null,
   "metadata": {},
   "outputs": [],
   "source": [
    "print('20% above competition')\n",
    "m.plot(fcst)\n",
    "plt.show()"
   ]
  },
  {
   "cell_type": "code",
   "execution_count": null,
   "metadata": {},
   "outputs": [],
   "source": [
    "fcst.tail(7)[['ds','delta_price','yhat']]"
   ]
  },
  {
   "cell_type": "markdown",
   "metadata": {},
   "source": [
    "### TODO: Parameters Search + modelling Competition Prices, Olist Prices and Shipping Values + calculate estimated reward.\n",
    "Try to calculate the estimated rewards based on the final prices;  \n",
    "Use grid or random search for parameters to optimize reward;  "
   ]
  }
 ],
 "metadata": {
  "kernelspec": {
   "display_name": "ds4a",
   "language": "python",
   "name": "ds4a"
  },
  "language_info": {
   "codemirror_mode": {
    "name": "ipython",
    "version": 3
   },
   "file_extension": ".py",
   "mimetype": "text/x-python",
   "name": "python",
   "nbconvert_exporter": "python",
   "pygments_lexer": "ipython3",
   "version": "3.6.6"
  }
 },
 "nbformat": 4,
 "nbformat_minor": 4
}
