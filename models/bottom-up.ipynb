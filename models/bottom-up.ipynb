{
 "cells": [
  {
   "cell_type": "code",
   "execution_count": 1,
   "metadata": {},
   "outputs": [],
   "source": [
    "import numpy as np\n",
    "import pandas as pd\n",
    "import s3fs\n",
    "import fbprophet\n",
    "import matplotlib.pyplot as plt\n",
    "import seaborn as sns\n",
    "from datetime import datetime\n",
    "\n",
    "from fbprophet import Prophet\n",
    "from fbprophet.diagnostics import cross_validation, performance_metrics"
   ]
  },
  {
   "cell_type": "code",
   "execution_count": 2,
   "metadata": {},
   "outputs": [],
   "source": [
    "data = pd.read_csv('s3://bsa-correlation-one/electronics_data.csv', dtype={'gtin':'str'})"
   ]
  },
  {
   "cell_type": "code",
   "execution_count": 5,
   "metadata": {},
   "outputs": [],
   "source": [
    "data['delta_price'] = (data.olist_price.values/data.competition_price.values)-1"
   ]
  },
  {
   "cell_type": "code",
   "execution_count": 7,
   "metadata": {},
   "outputs": [],
   "source": [
    "df = data[['date', 'product_group','product_type', 'olist_price','delta_price', 'orders']].copy()"
   ]
  },
  {
   "cell_type": "code",
   "execution_count": 8,
   "metadata": {},
   "outputs": [],
   "source": [
    "df['olist_price'] = round(df.olist_price,2)"
   ]
  },
  {
   "cell_type": "code",
   "execution_count": 9,
   "metadata": {},
   "outputs": [],
   "source": [
    "df['delta_price'] = round(df.delta_price,3)"
   ]
  },
  {
   "cell_type": "markdown",
   "metadata": {},
   "source": [
    "### Create price categories"
   ]
  },
  {
   "cell_type": "code",
   "execution_count": 14,
   "metadata": {},
   "outputs": [],
   "source": [
    "price_cat = {}\n",
    "for prod_type in df.product_type.unique():\n",
    "    temp = df[df.product_type == prod_type].copy()\n",
    "    price_cat[prod_type] = np.quantile(temp.olist_price.values, np.arange(0.25,1,0.25))"
   ]
  },
  {
   "cell_type": "code",
   "execution_count": 15,
   "metadata": {},
   "outputs": [],
   "source": [
    "def price_range(prod_category, price):\n",
    "    prices = price_cat[prod_category]\n",
    "    if price < prices[0]:\n",
    "        return 'A'\n",
    "    elif price < prices[1]:\n",
    "        return 'B'\n",
    "    elif price < prices[2]:\n",
    "        return 'C'\n",
    "    else:\n",
    "        return 'D'"
   ]
  },
  {
   "cell_type": "code",
   "execution_count": 16,
   "metadata": {},
   "outputs": [],
   "source": [
    "df['price_category'] = df.apply(lambda row: price_range(row['product_type'], row['olist_price']), axis=1)"
   ]
  },
  {
   "cell_type": "code",
   "execution_count": 19,
   "metadata": {},
   "outputs": [],
   "source": [
    "df_gr = df.groupby(['date','product_group','product_type','price_category'])\\\n",
    "          .agg({'orders':'sum', 'delta_price': 'mean'}).reset_index()"
   ]
  },
  {
   "cell_type": "code",
   "execution_count": 20,
   "metadata": {},
   "outputs": [
    {
     "data": {
      "text/html": [
       "<div>\n",
       "<style scoped>\n",
       "    .dataframe tbody tr th:only-of-type {\n",
       "        vertical-align: middle;\n",
       "    }\n",
       "\n",
       "    .dataframe tbody tr th {\n",
       "        vertical-align: top;\n",
       "    }\n",
       "\n",
       "    .dataframe thead th {\n",
       "        text-align: right;\n",
       "    }\n",
       "</style>\n",
       "<table border=\"1\" class=\"dataframe\">\n",
       "  <thead>\n",
       "    <tr style=\"text-align: right;\">\n",
       "      <th></th>\n",
       "      <th>date</th>\n",
       "      <th>product_group</th>\n",
       "      <th>product_type</th>\n",
       "      <th>price_category</th>\n",
       "      <th>orders</th>\n",
       "      <th>delta_price</th>\n",
       "    </tr>\n",
       "  </thead>\n",
       "  <tbody>\n",
       "    <tr>\n",
       "      <th>0</th>\n",
       "      <td>2017-06-30</td>\n",
       "      <td>electronics</td>\n",
       "      <td>Celular</td>\n",
       "      <td>A</td>\n",
       "      <td>0.0</td>\n",
       "      <td>NaN</td>\n",
       "    </tr>\n",
       "    <tr>\n",
       "      <th>1</th>\n",
       "      <td>2017-06-30</td>\n",
       "      <td>electronics</td>\n",
       "      <td>Celular</td>\n",
       "      <td>B</td>\n",
       "      <td>0.0</td>\n",
       "      <td>NaN</td>\n",
       "    </tr>\n",
       "    <tr>\n",
       "      <th>2</th>\n",
       "      <td>2017-06-30</td>\n",
       "      <td>electronics</td>\n",
       "      <td>Celular</td>\n",
       "      <td>C</td>\n",
       "      <td>0.0</td>\n",
       "      <td>NaN</td>\n",
       "    </tr>\n",
       "    <tr>\n",
       "      <th>3</th>\n",
       "      <td>2017-06-30</td>\n",
       "      <td>electronics</td>\n",
       "      <td>Controle remoto</td>\n",
       "      <td>D</td>\n",
       "      <td>0.0</td>\n",
       "      <td>NaN</td>\n",
       "    </tr>\n",
       "    <tr>\n",
       "      <th>4</th>\n",
       "      <td>2017-06-30</td>\n",
       "      <td>electronics</td>\n",
       "      <td>Microfone</td>\n",
       "      <td>A</td>\n",
       "      <td>0.0</td>\n",
       "      <td>NaN</td>\n",
       "    </tr>\n",
       "  </tbody>\n",
       "</table>\n",
       "</div>"
      ],
      "text/plain": [
       "         date product_group     product_type price_category  orders  \\\n",
       "0  2017-06-30   electronics          Celular              A     0.0   \n",
       "1  2017-06-30   electronics          Celular              B     0.0   \n",
       "2  2017-06-30   electronics          Celular              C     0.0   \n",
       "3  2017-06-30   electronics  Controle remoto              D     0.0   \n",
       "4  2017-06-30   electronics        Microfone              A     0.0   \n",
       "\n",
       "   delta_price  \n",
       "0          NaN  \n",
       "1          NaN  \n",
       "2          NaN  \n",
       "3          NaN  \n",
       "4          NaN  "
      ]
     },
     "execution_count": 20,
     "metadata": {},
     "output_type": "execute_result"
    }
   ],
   "source": [
    "df_gr.head()"
   ]
  },
  {
   "cell_type": "code",
   "execution_count": 23,
   "metadata": {},
   "outputs": [],
   "source": [
    "df_gr['group_type_price'] = df_gr.product_group + '_' + df_gr.product_type + '_' +df_gr.price_category"
   ]
  },
  {
   "cell_type": "code",
   "execution_count": 25,
   "metadata": {},
   "outputs": [],
   "source": [
    "df_final = df_gr[['date','group_type_price','delta_price', 'orders']].copy()"
   ]
  },
  {
   "cell_type": "code",
   "execution_count": 33,
   "metadata": {},
   "outputs": [],
   "source": [
    "df_final['date'] = pd.to_datetime(df_final['date'])"
   ]
  },
  {
   "cell_type": "code",
   "execution_count": 35,
   "metadata": {},
   "outputs": [],
   "source": [
    "df_final.rename(columns={'date':'ds', 'orders':'y'}, inplace=True)"
   ]
  },
  {
   "cell_type": "code",
   "execution_count": 36,
   "metadata": {},
   "outputs": [
    {
     "data": {
      "text/html": [
       "<div>\n",
       "<style scoped>\n",
       "    .dataframe tbody tr th:only-of-type {\n",
       "        vertical-align: middle;\n",
       "    }\n",
       "\n",
       "    .dataframe tbody tr th {\n",
       "        vertical-align: top;\n",
       "    }\n",
       "\n",
       "    .dataframe thead th {\n",
       "        text-align: right;\n",
       "    }\n",
       "</style>\n",
       "<table border=\"1\" class=\"dataframe\">\n",
       "  <thead>\n",
       "    <tr style=\"text-align: right;\">\n",
       "      <th></th>\n",
       "      <th>ds</th>\n",
       "      <th>group_type_price</th>\n",
       "      <th>delta_price</th>\n",
       "      <th>y</th>\n",
       "    </tr>\n",
       "  </thead>\n",
       "  <tbody>\n",
       "    <tr>\n",
       "      <th>0</th>\n",
       "      <td>2017-06-30</td>\n",
       "      <td>electronics_Celular_A</td>\n",
       "      <td>NaN</td>\n",
       "      <td>0.0</td>\n",
       "    </tr>\n",
       "    <tr>\n",
       "      <th>1</th>\n",
       "      <td>2017-06-30</td>\n",
       "      <td>electronics_Celular_B</td>\n",
       "      <td>NaN</td>\n",
       "      <td>0.0</td>\n",
       "    </tr>\n",
       "    <tr>\n",
       "      <th>2</th>\n",
       "      <td>2017-06-30</td>\n",
       "      <td>electronics_Celular_C</td>\n",
       "      <td>NaN</td>\n",
       "      <td>0.0</td>\n",
       "    </tr>\n",
       "    <tr>\n",
       "      <th>3</th>\n",
       "      <td>2017-06-30</td>\n",
       "      <td>electronics_Controle remoto_D</td>\n",
       "      <td>NaN</td>\n",
       "      <td>0.0</td>\n",
       "    </tr>\n",
       "    <tr>\n",
       "      <th>4</th>\n",
       "      <td>2017-06-30</td>\n",
       "      <td>electronics_Microfone_A</td>\n",
       "      <td>NaN</td>\n",
       "      <td>0.0</td>\n",
       "    </tr>\n",
       "  </tbody>\n",
       "</table>\n",
       "</div>"
      ],
      "text/plain": [
       "          ds               group_type_price  delta_price    y\n",
       "0 2017-06-30          electronics_Celular_A          NaN  0.0\n",
       "1 2017-06-30          electronics_Celular_B          NaN  0.0\n",
       "2 2017-06-30          electronics_Celular_C          NaN  0.0\n",
       "3 2017-06-30  electronics_Controle remoto_D          NaN  0.0\n",
       "4 2017-06-30        electronics_Microfone_A          NaN  0.0"
      ]
     },
     "execution_count": 36,
     "metadata": {},
     "output_type": "execute_result"
    }
   ],
   "source": [
    "df_final.head()"
   ]
  },
  {
   "cell_type": "markdown",
   "metadata": {},
   "source": [
    "### Holidays"
   ]
  },
  {
   "cell_type": "code",
   "execution_count": 29,
   "metadata": {},
   "outputs": [],
   "source": [
    "def get_holidays():\n",
    "    \"\"\"\n",
    "    Get Black Friday dates\n",
    "    \"\"\"\n",
    "    black_friday = pd.DataFrame({\n",
    "                  'holiday': 'black_friday',\n",
    "                  'ds': pd.to_datetime(['2017-11-24', '2018-11-23', '2019-11-29',\n",
    "                                        '2020-11-27', '2021-11-26', '2022-11-25',\n",
    "                                        '2023-11-24', '2024-11-29', '2025-11-28']),\n",
    "                  'lower_window': -1,\n",
    "                  'upper_window': 3,\n",
    "                })\n",
    "\n",
    "    xmas = pd.DataFrame({\n",
    "                  'holiday': 'christmas',\n",
    "                  'ds': pd.to_datetime(['2017-12-25', '2018-12-25', '2019-12-25',\n",
    "                                        '2020-12-25', '2021-12-25', '2022-12-25',\n",
    "                                        '2023-12-25', '2024-12-25', '2025-12-25']),\n",
    "                  'lower_window': -1,\n",
    "                  'upper_window': 0,\n",
    "                })\n",
    "\n",
    "    new_year = pd.DataFrame({\n",
    "                  'holiday': 'new_year',\n",
    "                  'ds': pd.to_datetime(['2017-01-01', '2018-01-01', '2019-01-01',\n",
    "                                        '2020-01-01', '2021-01-01', '2022-01-01',\n",
    "                                        '2023-01-01', '2024-01-01', '2025-01-01']),\n",
    "                  'lower_window': -1,\n",
    "                  'upper_window': 0,\n",
    "                })\n",
    "\n",
    "    carnival = pd.DataFrame({\n",
    "                  'holiday': 'carnival',\n",
    "                  'ds': pd.to_datetime(['2017-02-28', '2018-02-13', '2019-03-05',\n",
    "                                        '2020-02-25', '2021-02-16', '2022-03-01',\n",
    "                                        '2023-02-21', '2024-02-13', '2025-03-04']),\n",
    "                  'lower_window': -1,\n",
    "                  'upper_window': 0,\n",
    "                })\n",
    "\n",
    "    good_friday = pd.DataFrame({\n",
    "                  'holiday': 'good_friday',\n",
    "                  'ds': pd.to_datetime(['2018-03-18','2019-04-19','2020-04-10',\n",
    "                                        '2021-04-02','2022-04-15','2023-04-07',\n",
    "                                        '2024-03-29']),\n",
    "                  'lower_window': 0,\n",
    "                  'upper_window': 2,\n",
    "                })\n",
    "\n",
    "    # long holidays\n",
    "\n",
    "    monday = pd.DataFrame({\n",
    "                  'holiday': 'monday',\n",
    "                  'ds': pd.to_datetime(['2020-09-07','2020-10-12','2020-11-02',\n",
    "                                        '2021-11-15']),\n",
    "                  'lower_window': -2,\n",
    "                  'upper_window': 0,\n",
    "                })\n",
    "\n",
    "    friday = pd.DataFrame({\n",
    "                  'holiday': 'friday',\n",
    "                  'ds': pd.to_datetime(['2018-09-07','2018-10-12','2018-11-02',\n",
    "                                        '2019-11-15','2020-05-01']),\n",
    "                  'lower_window': 0,\n",
    "                  'upper_window': 2,\n",
    "                })\n",
    "\n",
    "    # Different cases\n",
    "    # 2019-12-30 (christmas and New year's eve from tuesday to wednesday. Monday was also affected)\n",
    "    others = pd.DataFrame({\n",
    "                  'holiday': 'others',\n",
    "                  'ds': pd.to_datetime(['2019-12-23','2019-12-30']),\n",
    "                  'lower_window': 0,\n",
    "                  'upper_window': 0,\n",
    "                })\n",
    "\n",
    "    holidays = pd.concat((black_friday, xmas, new_year, carnival,\n",
    "                         monday, friday, others))\n",
    "\n",
    "    return holidays"
   ]
  },
  {
   "cell_type": "code",
   "execution_count": 30,
   "metadata": {},
   "outputs": [],
   "source": [
    "holidays = get_holidays()"
   ]
  },
  {
   "cell_type": "markdown",
   "metadata": {},
   "source": [
    "### Bottom-up prophet"
   ]
  },
  {
   "cell_type": "code",
   "execution_count": 41,
   "metadata": {},
   "outputs": [],
   "source": [
    "temp = df_final[df_final['group_type_price']=='electronics_Celular_A'].copy()\n",
    "temp['delta_price'] = temp.delta_price.fillna(value=temp.delta_price.mean())"
   ]
  },
  {
   "cell_type": "code",
   "execution_count": 66,
   "metadata": {},
   "outputs": [
    {
     "name": "stderr",
     "output_type": "stream",
     "text": [
      "INFO:fbprophet:Disabling daily seasonality. Run prophet with daily_seasonality=True to override this.\n"
     ]
    }
   ],
   "source": [
    "models = {}\n",
    "deltas = {}\n",
    "\n",
    "for each in ['electronics_Celular_A']:\n",
    "    temp = df_final[df_final['group_type_price']==each].copy()\n",
    "    # fillna values with mean?\n",
    "    temp['delta_price'] = temp.delta_price.fillna(value=temp.delta_price.mean())\n",
    "    deltas[each] = temp['delta_price'].tolist()\n",
    "    \n",
    "    model = Prophet(yearly_seasonality=True, holidays=holidays,\n",
    "                    interval_width=0.95, seasonality_mode='multiplicative')\n",
    "    model.add_regressor('delta_price')\n",
    "    model.fit(temp)\n",
    "    \n",
    "\n",
    "    models[each] = model"
   ]
  },
  {
   "cell_type": "code",
   "execution_count": 44,
   "metadata": {},
   "outputs": [],
   "source": [
    "m = models['electronics_Celular_A']\n",
    "d = deltas['electronics_Celular_A']"
   ]
  },
  {
   "cell_type": "code",
   "execution_count": 58,
   "metadata": {},
   "outputs": [],
   "source": [
    "delta_prediction = [-0.20]*7\n",
    "deltas = d + delta"
   ]
  },
  {
   "cell_type": "code",
   "execution_count": 59,
   "metadata": {},
   "outputs": [],
   "source": [
    "future = m.make_future_dataframe(periods=7, freq='D', include_history=True)\n",
    "future['delta_price'] = deltas"
   ]
  },
  {
   "cell_type": "code",
   "execution_count": 60,
   "metadata": {},
   "outputs": [],
   "source": [
    "fcst = m.predict(future)"
   ]
  },
  {
   "cell_type": "code",
   "execution_count": 61,
   "metadata": {},
   "outputs": [
    {
     "data": {
      "image/png": "[encoded data removed]",
      "text/plain": [
       "<Figure size 720x432 with 1 Axes>"
      ]
     },
     "metadata": {},
     "output_type": "display_data"
    }
   ],
   "source": [
    "m.plot(fcst)\n",
    "plt.show()"
   ]
  },
  {
   "cell_type": "code",
   "execution_count": 63,
   "metadata": {},
   "outputs": [
    {
     "data": {
      "text/html": [
       "<div>\n",
       "<style scoped>\n",
       "    .dataframe tbody tr th:only-of-type {\n",
       "        vertical-align: middle;\n",
       "    }\n",
       "\n",
       "    .dataframe tbody tr th {\n",
       "        vertical-align: top;\n",
       "    }\n",
       "\n",
       "    .dataframe thead th {\n",
       "        text-align: right;\n",
       "    }\n",
       "</style>\n",
       "<table border=\"1\" class=\"dataframe\">\n",
       "  <thead>\n",
       "    <tr style=\"text-align: right;\">\n",
       "      <th></th>\n",
       "      <th>ds</th>\n",
       "      <th>group_type_price</th>\n",
       "      <th>delta_price</th>\n",
       "      <th>y</th>\n",
       "    </tr>\n",
       "  </thead>\n",
       "  <tbody>\n",
       "    <tr>\n",
       "      <th>234443</th>\n",
       "      <td>2020-02-25</td>\n",
       "      <td>electronics_Celular_A</td>\n",
       "      <td>0.043231</td>\n",
       "      <td>5.0</td>\n",
       "    </tr>\n",
       "    <tr>\n",
       "      <th>234625</th>\n",
       "      <td>2020-02-26</td>\n",
       "      <td>electronics_Celular_A</td>\n",
       "      <td>0.050760</td>\n",
       "      <td>27.0</td>\n",
       "    </tr>\n",
       "    <tr>\n",
       "      <th>234802</th>\n",
       "      <td>2020-02-27</td>\n",
       "      <td>electronics_Celular_A</td>\n",
       "      <td>-0.086824</td>\n",
       "      <td>95.0</td>\n",
       "    </tr>\n",
       "    <tr>\n",
       "      <th>234929</th>\n",
       "      <td>2020-02-28</td>\n",
       "      <td>electronics_Celular_A</td>\n",
       "      <td>-0.400200</td>\n",
       "      <td>39.0</td>\n",
       "    </tr>\n",
       "  </tbody>\n",
       "</table>\n",
       "</div>"
      ],
      "text/plain": [
       "               ds       group_type_price  delta_price     y\n",
       "234443 2020-02-25  electronics_Celular_A     0.043231   5.0\n",
       "234625 2020-02-26  electronics_Celular_A     0.050760  27.0\n",
       "234802 2020-02-27  electronics_Celular_A    -0.086824  95.0\n",
       "234929 2020-02-28  electronics_Celular_A    -0.400200  39.0"
      ]
     },
     "execution_count": 63,
     "metadata": {},
     "output_type": "execute_result"
    }
   ],
   "source": [
    "temp.tail(4)"
   ]
  },
  {
   "cell_type": "code",
   "execution_count": 65,
   "metadata": {},
   "outputs": [
    {
     "data": {
      "text/html": [
       "<div>\n",
       "<style scoped>\n",
       "    .dataframe tbody tr th:only-of-type {\n",
       "        vertical-align: middle;\n",
       "    }\n",
       "\n",
       "    .dataframe tbody tr th {\n",
       "        vertical-align: top;\n",
       "    }\n",
       "\n",
       "    .dataframe thead th {\n",
       "        text-align: right;\n",
       "    }\n",
       "</style>\n",
       "<table border=\"1\" class=\"dataframe\">\n",
       "  <thead>\n",
       "    <tr style=\"text-align: right;\">\n",
       "      <th></th>\n",
       "      <th>ds</th>\n",
       "      <th>delta_price</th>\n",
       "      <th>yhat</th>\n",
       "    </tr>\n",
       "  </thead>\n",
       "  <tbody>\n",
       "    <tr>\n",
       "      <th>974</th>\n",
       "      <td>2020-02-29</td>\n",
       "      <td>2.95155</td>\n",
       "      <td>79.472476</td>\n",
       "    </tr>\n",
       "    <tr>\n",
       "      <th>975</th>\n",
       "      <td>2020-03-01</td>\n",
       "      <td>2.95155</td>\n",
       "      <td>59.727762</td>\n",
       "    </tr>\n",
       "    <tr>\n",
       "      <th>976</th>\n",
       "      <td>2020-03-02</td>\n",
       "      <td>2.95155</td>\n",
       "      <td>95.035437</td>\n",
       "    </tr>\n",
       "    <tr>\n",
       "      <th>977</th>\n",
       "      <td>2020-03-03</td>\n",
       "      <td>2.95155</td>\n",
       "      <td>97.146377</td>\n",
       "    </tr>\n",
       "    <tr>\n",
       "      <th>978</th>\n",
       "      <td>2020-03-04</td>\n",
       "      <td>2.95155</td>\n",
       "      <td>145.578132</td>\n",
       "    </tr>\n",
       "    <tr>\n",
       "      <th>979</th>\n",
       "      <td>2020-03-05</td>\n",
       "      <td>2.95155</td>\n",
       "      <td>115.505463</td>\n",
       "    </tr>\n",
       "    <tr>\n",
       "      <th>980</th>\n",
       "      <td>2020-03-06</td>\n",
       "      <td>2.95155</td>\n",
       "      <td>117.730910</td>\n",
       "    </tr>\n",
       "  </tbody>\n",
       "</table>\n",
       "</div>"
      ],
      "text/plain": [
       "            ds  delta_price        yhat\n",
       "974 2020-02-29      2.95155   79.472476\n",
       "975 2020-03-01      2.95155   59.727762\n",
       "976 2020-03-02      2.95155   95.035437\n",
       "977 2020-03-03      2.95155   97.146377\n",
       "978 2020-03-04      2.95155  145.578132\n",
       "979 2020-03-05      2.95155  115.505463\n",
       "980 2020-03-06      2.95155  117.730910"
      ]
     },
     "execution_count": 65,
     "metadata": {},
     "output_type": "execute_result"
    }
   ],
   "source": [
    "fcst.tail(7)[['ds','delta_price','yhat']]"
   ]
  },
  {
   "cell_type": "code",
   "execution_count": null,
   "metadata": {},
   "outputs": [],
   "source": []
  }
 ],
 "metadata": {
  "kernelspec": {
   "display_name": "ds4a",
   "language": "python",
   "name": "ds4a"
  },
  "language_info": {
   "codemirror_mode": {
    "name": "ipython",
    "version": 3
   },
   "file_extension": ".py",
   "mimetype": "text/x-python",
   "name": "python",
   "nbconvert_exporter": "python",
   "pygments_lexer": "ipython3",
   "version": "3.6.6"
  }
 },
 "nbformat": 4,
 "nbformat_minor": 4
}
