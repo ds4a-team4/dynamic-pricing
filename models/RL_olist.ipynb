{
 "cells": [
  {
   "cell_type": "code",
   "execution_count": 1,
   "metadata": {},
   "outputs": [],
   "source": [
    "import time\n",
    "import copy\n",
    "import numpy as np\n",
    "import pandas as pd\n",
    "import torch\n",
    "import torch.nn as nn\n",
    "from torch.autograd import Variable\n",
    "import torch.optim as optim\n",
    "import torch.nn.functional as F\n",
    "import matplotlib.pyplot as plt"
   ]
  },
  {
   "cell_type": "markdown",
   "metadata": {},
   "source": [
    "## Read data"
   ]
  },
  {
   "cell_type": "code",
   "execution_count": 2,
   "metadata": {},
   "outputs": [
    {
     "name": "stderr",
     "output_type": "stream",
     "text": [
      "/home/ubuntu/anaconda3/lib/python3.6/site-packages/distributed/config.py:63: YAMLLoadWarning: calling yaml.load() without Loader=... is deprecated, as the default Loader is unsafe. Please read https://msg.pyyaml.org/load for full details.\n",
      "  config.update(yaml.load(text) or {})\n"
     ]
    }
   ],
   "source": [
    "import pickle\n",
    "import xgboost\n",
    "import s3fs"
   ]
  },
  {
   "cell_type": "code",
   "execution_count": null,
   "metadata": {},
   "outputs": [],
   "source": [
    "# # Save model to bucket\n",
    "# s3 = s3fs.S3FileSystem(anon=False, \n",
    "#                        key='',\n",
    "#                        secret='')\n",
    "# # Use 'w' for py3, 'wb' for py2\n",
    "# with s3.open('bsa-correlation-one/models/xgboost_cellphones_C.pkl','rb') as f:\n",
    "#     # END\n",
    "#     model = pickle.load(f)"
   ]
  },
  {
   "cell_type": "code",
   "execution_count": 3,
   "metadata": {},
   "outputs": [],
   "source": [
    "with open('./lr_cellphone_C.pkl','rb') as f:\n",
    "    # END\n",
    "    model = pickle.load(f)\n",
    "\n",
    "\n",
    "# with open('./scalerX_cellphone_C.pkl','rb') as f:\n",
    "#     # END\n",
    "#     scaler_x = pickle.load(f)\n",
    "    \n",
    "    \n",
    "# with open('./scalerY_cellphone_C.pkl','rb') as f:\n",
    "#     # END\n",
    "#     scaler_y = pickle.load(f)"
   ]
  },
  {
   "cell_type": "code",
   "execution_count": 4,
   "metadata": {},
   "outputs": [],
   "source": [
    "def base_cost(offer):\n",
    "    return 0.8 * offer"
   ]
  },
  {
   "cell_type": "code",
   "execution_count": 5,
   "metadata": {},
   "outputs": [
    {
     "data": {
      "text/html": [
       "<div>\n",
       "<style scoped>\n",
       "    .dataframe tbody tr th:only-of-type {\n",
       "        vertical-align: middle;\n",
       "    }\n",
       "\n",
       "    .dataframe tbody tr th {\n",
       "        vertical-align: top;\n",
       "    }\n",
       "\n",
       "    .dataframe thead th {\n",
       "        text-align: right;\n",
       "    }\n",
       "</style>\n",
       "<table border=\"1\" class=\"dataframe\">\n",
       "  <thead>\n",
       "    <tr style=\"text-align: right;\">\n",
       "      <th></th>\n",
       "      <th>year</th>\n",
       "      <th>month</th>\n",
       "      <th>dayofweek</th>\n",
       "      <th>day</th>\n",
       "      <th>freight_value</th>\n",
       "      <th>competition_price</th>\n",
       "      <th>stock</th>\n",
       "      <th>black_friday</th>\n",
       "      <th>carnival</th>\n",
       "      <th>christmas</th>\n",
       "      <th>friday</th>\n",
       "      <th>mothers_day</th>\n",
       "      <th>new_year</th>\n",
       "      <th>others</th>\n",
       "      <th>valentines</th>\n",
       "      <th>base_cost</th>\n",
       "    </tr>\n",
       "  </thead>\n",
       "  <tbody>\n",
       "    <tr>\n",
       "      <th>971</th>\n",
       "      <td>2020</td>\n",
       "      <td>2</td>\n",
       "      <td>0</td>\n",
       "      <td>24</td>\n",
       "      <td>26.165168</td>\n",
       "      <td>982.949133</td>\n",
       "      <td>7563.0</td>\n",
       "      <td>0</td>\n",
       "      <td>1</td>\n",
       "      <td>0</td>\n",
       "      <td>0</td>\n",
       "      <td>0</td>\n",
       "      <td>0</td>\n",
       "      <td>0</td>\n",
       "      <td>0</td>\n",
       "      <td>747.528000</td>\n",
       "    </tr>\n",
       "    <tr>\n",
       "      <th>972</th>\n",
       "      <td>2020</td>\n",
       "      <td>2</td>\n",
       "      <td>1</td>\n",
       "      <td>25</td>\n",
       "      <td>26.522039</td>\n",
       "      <td>988.725646</td>\n",
       "      <td>7557.0</td>\n",
       "      <td>0</td>\n",
       "      <td>1</td>\n",
       "      <td>0</td>\n",
       "      <td>0</td>\n",
       "      <td>0</td>\n",
       "      <td>0</td>\n",
       "      <td>0</td>\n",
       "      <td>0</td>\n",
       "      <td>751.569143</td>\n",
       "    </tr>\n",
       "    <tr>\n",
       "      <th>973</th>\n",
       "      <td>2020</td>\n",
       "      <td>2</td>\n",
       "      <td>2</td>\n",
       "      <td>26</td>\n",
       "      <td>24.607285</td>\n",
       "      <td>994.662702</td>\n",
       "      <td>7545.0</td>\n",
       "      <td>0</td>\n",
       "      <td>0</td>\n",
       "      <td>0</td>\n",
       "      <td>0</td>\n",
       "      <td>0</td>\n",
       "      <td>0</td>\n",
       "      <td>0</td>\n",
       "      <td>0</td>\n",
       "      <td>747.531678</td>\n",
       "    </tr>\n",
       "    <tr>\n",
       "      <th>974</th>\n",
       "      <td>2020</td>\n",
       "      <td>2</td>\n",
       "      <td>3</td>\n",
       "      <td>27</td>\n",
       "      <td>22.893772</td>\n",
       "      <td>1007.349470</td>\n",
       "      <td>7454.0</td>\n",
       "      <td>0</td>\n",
       "      <td>0</td>\n",
       "      <td>0</td>\n",
       "      <td>0</td>\n",
       "      <td>0</td>\n",
       "      <td>0</td>\n",
       "      <td>0</td>\n",
       "      <td>0</td>\n",
       "      <td>743.240006</td>\n",
       "    </tr>\n",
       "    <tr>\n",
       "      <th>975</th>\n",
       "      <td>2020</td>\n",
       "      <td>2</td>\n",
       "      <td>4</td>\n",
       "      <td>28</td>\n",
       "      <td>31.916422</td>\n",
       "      <td>1095.717500</td>\n",
       "      <td>127.0</td>\n",
       "      <td>0</td>\n",
       "      <td>0</td>\n",
       "      <td>0</td>\n",
       "      <td>0</td>\n",
       "      <td>0</td>\n",
       "      <td>0</td>\n",
       "      <td>0</td>\n",
       "      <td>0</td>\n",
       "      <td>749.329333</td>\n",
       "    </tr>\n",
       "  </tbody>\n",
       "</table>\n",
       "</div>"
      ],
      "text/plain": [
       "     year  month  dayofweek  day  freight_value  competition_price   stock  \\\n",
       "971  2020      2          0   24      26.165168         982.949133  7563.0   \n",
       "972  2020      2          1   25      26.522039         988.725646  7557.0   \n",
       "973  2020      2          2   26      24.607285         994.662702  7545.0   \n",
       "974  2020      2          3   27      22.893772        1007.349470  7454.0   \n",
       "975  2020      2          4   28      31.916422        1095.717500   127.0   \n",
       "\n",
       "     black_friday  carnival  christmas  friday  mothers_day  new_year  others  \\\n",
       "971             0         1          0       0            0         0       0   \n",
       "972             0         1          0       0            0         0       0   \n",
       "973             0         0          0       0            0         0       0   \n",
       "974             0         0          0       0            0         0       0   \n",
       "975             0         0          0       0            0         0       0   \n",
       "\n",
       "     valentines   base_cost  \n",
       "971           0  747.528000  \n",
       "972           0  751.569143  \n",
       "973           0  747.531678  \n",
       "974           0  743.240006  \n",
       "975           0  749.329333  "
      ]
     },
     "execution_count": 5,
     "metadata": {},
     "output_type": "execute_result"
    }
   ],
   "source": [
    "data = pd.read_csv('./cellphones/cellphonedata.csv')\n",
    "\n",
    "df = data[data.price_category == 'C'].copy().reset_index(drop=True)\n",
    "# df.drop(columns = ['ds','price_category','y','offer'],inplace=True)\n",
    "df.drop(columns = ['ds','price_category','y'],inplace=True)\n",
    "\n",
    "cols = df.columns\n",
    "#array = scaler_x.transform(df)\n",
    "#df = pd.DataFrame(array,columns=cols)\n",
    "df['base_cost'] = df.offer.apply(lambda x: base_cost(x))\n",
    "df.drop(columns=['olist_price','offer'], inplace = True)\n",
    "\n",
    "df.tail()"
   ]
  },
  {
   "cell_type": "markdown",
   "metadata": {},
   "source": [
    "### Demand Simulator"
   ]
  },
  {
   "cell_type": "code",
   "execution_count": 6,
   "metadata": {},
   "outputs": [],
   "source": [
    "def predict_demand(model, df_row, olist_price):\n",
    "    \n",
    "    year = df_row.year\n",
    "    month = df_row.month\n",
    "    dayofweek = df_row.dayofweek\n",
    "    day = df_row.day\n",
    "    olist_price = olist_price\n",
    "    freight_value = df_row.freight_value\n",
    "    competition_price = df_row.competition_price\n",
    "    stock = df_row.stock\n",
    "    black_friday = df_row.black_friday\n",
    "    carnival = df_row.carnival\n",
    "    christmas = df_row.christmas\n",
    "    friday = df_row.friday\n",
    "    mothers_day = df_row.mothers_day\n",
    "    new_year = df_row.new_year\n",
    "    others = df_row.others\n",
    "    valentines = df_row.valentines\n",
    "\n",
    "    X = np.array([year, month, dayofweek, day, olist_price, freight_value,\n",
    "                 competition_price, stock, black_friday, carnival, christmas,\n",
    "                 friday, mothers_day, new_year, others, valentines]).reshape(1,-1)\n",
    "    \n",
    "    #X = xgboost.DMatrix(X)\n",
    "                 \n",
    "    orders = model.predict(X)\n",
    "    \n",
    "    return max(orders[0],0)"
   ]
  },
  {
   "cell_type": "code",
   "execution_count": 7,
   "metadata": {},
   "outputs": [
    {
     "data": {
      "text/plain": [
       "7.517765366013464"
      ]
     },
     "execution_count": 7,
     "metadata": {},
     "output_type": "execute_result"
    }
   ],
   "source": [
    "predict_demand(model, df.iloc[-1], 945)"
   ]
  },
  {
   "cell_type": "code",
   "execution_count": 8,
   "metadata": {},
   "outputs": [
    {
     "data": {
      "text/plain": [
       "2017.0"
      ]
     },
     "execution_count": 8,
     "metadata": {},
     "output_type": "execute_result"
    }
   ],
   "source": [
    "df.iloc[0].year"
   ]
  },
  {
   "cell_type": "markdown",
   "metadata": {},
   "source": [
    "### Environment Real Data"
   ]
  },
  {
   "cell_type": "code",
   "execution_count": 9,
   "metadata": {},
   "outputs": [],
   "source": [
    "class Environment:\n",
    "    \n",
    "    def __init__(self, model, df):\n",
    "        \n",
    "        self.model = model\n",
    "        self.data = df\n",
    "        self.N = len(self.data) - 1\n",
    "        # want to obtain\n",
    "        # self.olist_price = 0\n",
    "        # self.freight_value = 0\n",
    "        \n",
    "        self.reset()\n",
    "        \n",
    "#         #try loading row\n",
    "#         self.year = year\n",
    "#         self.month = month\n",
    "#         self.dayofweek = dayofweek\n",
    "#         self.day = day\n",
    "#         self.competition_price = competition_price\n",
    "#         self.stock = stock\n",
    "#         self.black_friday = black_friday\n",
    "#         self.carnival = carnival\n",
    "#         self.christmas = christmas\n",
    "#         self.friday = friday\n",
    "#         self.mothers_day = mothers_day\n",
    "#         self.new_year = new_year\n",
    "#         self.others = others\n",
    "#         self.valentines = valentines\n",
    "#         self.base_cost = base_cost\n",
    "        \n",
    "        # self.price_init = cost/0.8\n",
    "        \n",
    "        \n",
    "        \n",
    "        \n",
    "    def reset(self):\n",
    "        self.t = 0\n",
    "        self.done = False\n",
    "        #self.demand_h = [0 for _ in range(self.demand_t)]\n",
    "        #self.competitor_h = [0 for _ in range(self.competitor_t)]\n",
    "        self.orders = 0\n",
    "        self.olist_price = 0\n",
    "        self.profits = 0\n",
    "        return [self.olist_price, self.orders] + self.data.iloc[self.t].tolist() \n",
    "    \n",
    "    def step(self, act):       \n",
    "        \n",
    "        # act = 0: stay, 1: raise, 2: lower\n",
    "        if act == 0:\n",
    "            self.olist_price = self.data['base_cost'][self.t] * 1.05\n",
    "        elif act == 1:\n",
    "            self.olist_price = self.data['base_cost'][self.t] * 1.10\n",
    "        elif act == 2:\n",
    "            self.olist_price = self.data['base_cost'][self.t] * 1.15\n",
    "        elif act == 3:\n",
    "            self.olist_price = self.data['base_cost'][self.t] * 1.20\n",
    "        elif act == 4:\n",
    "            self.olist_price = self.data['base_cost'][self.t] * 1.25\n",
    "\n",
    "        # Calculate demand\n",
    "        self.orders = predict_demand(self.model, self.data.iloc[self.t], self.olist_price)        \n",
    "\n",
    "        reward = (self.olist_price + self.data['freight_value'][self.t] - self.data['base_cost'][self.t])*self.orders\n",
    "        self.profits += reward\n",
    "\n",
    "        # set next time\n",
    "        self.t += 1\n",
    "        \n",
    "        if (self.t == self.N):\n",
    "            self.done=True\n",
    "\n",
    "        return [self.olist_price, self.orders] + self.data.iloc[self.t].tolist(), reward, self.done # obs, reward, done "
   ]
  },
  {
   "cell_type": "code",
   "execution_count": 10,
   "metadata": {},
   "outputs": [
    {
     "data": {
      "text/plain": [
       "[0,\n",
       " 0,\n",
       " 2017.0,\n",
       " 6.0,\n",
       " 4.0,\n",
       " 30.0,\n",
       " 25.73,\n",
       " 931.1842857142856,\n",
       " 0.0,\n",
       " 0.0,\n",
       " 0.0,\n",
       " 0.0,\n",
       " 0.0,\n",
       " 0.0,\n",
       " 0.0,\n",
       " 0.0,\n",
       " 0.0,\n",
       " 744.9474285714285]"
      ]
     },
     "execution_count": 10,
     "metadata": {},
     "output_type": "execute_result"
    }
   ],
   "source": [
    "env = Environment(model,df)\n",
    "env.reset()"
   ]
  },
  {
   "cell_type": "markdown",
   "metadata": {},
   "source": [
    "## NN architecture"
   ]
  },
  {
   "cell_type": "code",
   "execution_count": 11,
   "metadata": {},
   "outputs": [],
   "source": [
    "#def train_dqn(env):\n",
    "\n",
    "#whats the return?\n",
    "class Q_Network(nn.Module):\n",
    "        \n",
    "    def __init__(self,obs_len,hidden_size,actions_n):\n",
    "            \n",
    "        super(Q_Network,self).__init__()\n",
    "            \n",
    "        self.fc_val = nn.Sequential(\n",
    "            nn.Linear(obs_len, hidden_size),\n",
    "            nn.ReLU(),\n",
    "            nn.Linear(hidden_size, hidden_size),\n",
    "            nn.ReLU(),\n",
    "            nn.Linear(hidden_size, actions_n)\n",
    "            # needs softmax?\n",
    "        )\n",
    "        \n",
    "        \n",
    "    def forward(self,x):\n",
    "        h =  self.fc_val(x)\n",
    "        return (h)\n",
    "            "
   ]
  },
  {
   "cell_type": "markdown",
   "metadata": {},
   "source": [
    "## Parameters"
   ]
  },
  {
   "cell_type": "code",
   "execution_count": 12,
   "metadata": {},
   "outputs": [],
   "source": [
    "hidden_size = 50 #100\n",
    "input_size = 2 + df.shape[1]\n",
    "output_size=5\n",
    "LR = 0.001\n",
    "\n",
    "epoch_num = 50\n",
    "step_max = len(env.data) - 1\n",
    "memory_size = 128 # 200\n",
    "batch_size = 64\n",
    "gamma = 0.97\n",
    "\n",
    "epsilon = 1.0\n",
    "epsilon_decrease = 1e-3\n",
    "epsilon_min = 0.1\n",
    "start_reduce_epsilon = 200\n",
    "train_freq = 10\n",
    "update_q_freq = 20\n",
    "show_log_freq = 5"
   ]
  },
  {
   "cell_type": "markdown",
   "metadata": {},
   "source": [
    "## Training"
   ]
  },
  {
   "cell_type": "code",
   "execution_count": 13,
   "metadata": {},
   "outputs": [
    {
     "name": "stdout",
     "output_type": "stream",
     "text": [
      "1\t0.3529999999999994\t848\t581680.0369998108\t142917054.14375\t1.4994351863861084\n",
      "2\t0.0999999999999992\t1823\t512280.07847948687\t219932558.94609374\t1.835559606552124\n"
     ]
    },
    {
     "ename": "KeyboardInterrupt",
     "evalue": "",
     "output_type": "error",
     "traceback": [
      "\u001b[0;31m---------------------------------------------------------------------------\u001b[0m",
      "\u001b[0;31mKeyboardInterrupt\u001b[0m                         Traceback (most recent call last)",
      "\u001b[0;32m<ipython-input-13-46d93418a19e>\u001b[0m in \u001b[0;36m<module>\u001b[0;34m\u001b[0m\n\u001b[1;32m     70\u001b[0m                     \u001b[0mloss\u001b[0m \u001b[0;34m=\u001b[0m \u001b[0mloss_function\u001b[0m\u001b[0;34m(\u001b[0m\u001b[0mq\u001b[0m\u001b[0;34m,\u001b[0m \u001b[0mtarget\u001b[0m\u001b[0;34m)\u001b[0m\u001b[0;34m\u001b[0m\u001b[0m\n\u001b[1;32m     71\u001b[0m                     \u001b[0mtotal_loss\u001b[0m \u001b[0;34m+=\u001b[0m \u001b[0mloss\u001b[0m\u001b[0;34m.\u001b[0m\u001b[0mdata\u001b[0m\u001b[0;34m.\u001b[0m\u001b[0mitem\u001b[0m\u001b[0;34m(\u001b[0m\u001b[0;34m)\u001b[0m\u001b[0;34m\u001b[0m\u001b[0m\n\u001b[0;32m---> 72\u001b[0;31m                     \u001b[0mloss\u001b[0m\u001b[0;34m.\u001b[0m\u001b[0mbackward\u001b[0m\u001b[0;34m(\u001b[0m\u001b[0;34m)\u001b[0m\u001b[0;34m\u001b[0m\u001b[0m\n\u001b[0m\u001b[1;32m     73\u001b[0m                     \u001b[0moptimizer\u001b[0m\u001b[0;34m.\u001b[0m\u001b[0mstep\u001b[0m\u001b[0;34m(\u001b[0m\u001b[0;34m)\u001b[0m\u001b[0;34m\u001b[0m\u001b[0m\n\u001b[1;32m     74\u001b[0m \u001b[0;34m\u001b[0m\u001b[0m\n",
      "\u001b[0;32m~/anaconda3/lib/python3.6/site-packages/torch/tensor.py\u001b[0m in \u001b[0;36mbackward\u001b[0;34m(self, gradient, retain_graph, create_graph)\u001b[0m\n\u001b[1;32m    196\u001b[0m                 \u001b[0mproducts\u001b[0m\u001b[0;34m.\u001b[0m \u001b[0mDefaults\u001b[0m \u001b[0mto\u001b[0m\u001b[0;31m \u001b[0m\u001b[0;31m`\u001b[0m\u001b[0;31m`\u001b[0m\u001b[0;32mFalse\u001b[0m\u001b[0;31m`\u001b[0m\u001b[0;31m`\u001b[0m\u001b[0;34m.\u001b[0m\u001b[0;34m\u001b[0m\u001b[0m\n\u001b[1;32m    197\u001b[0m         \"\"\"\n\u001b[0;32m--> 198\u001b[0;31m         \u001b[0mtorch\u001b[0m\u001b[0;34m.\u001b[0m\u001b[0mautograd\u001b[0m\u001b[0;34m.\u001b[0m\u001b[0mbackward\u001b[0m\u001b[0;34m(\u001b[0m\u001b[0mself\u001b[0m\u001b[0;34m,\u001b[0m \u001b[0mgradient\u001b[0m\u001b[0;34m,\u001b[0m \u001b[0mretain_graph\u001b[0m\u001b[0;34m,\u001b[0m \u001b[0mcreate_graph\u001b[0m\u001b[0;34m)\u001b[0m\u001b[0;34m\u001b[0m\u001b[0m\n\u001b[0m\u001b[1;32m    199\u001b[0m \u001b[0;34m\u001b[0m\u001b[0m\n\u001b[1;32m    200\u001b[0m     \u001b[0;32mdef\u001b[0m \u001b[0mregister_hook\u001b[0m\u001b[0;34m(\u001b[0m\u001b[0mself\u001b[0m\u001b[0;34m,\u001b[0m \u001b[0mhook\u001b[0m\u001b[0;34m)\u001b[0m\u001b[0;34m:\u001b[0m\u001b[0;34m\u001b[0m\u001b[0m\n",
      "\u001b[0;32m~/anaconda3/lib/python3.6/site-packages/torch/autograd/__init__.py\u001b[0m in \u001b[0;36mbackward\u001b[0;34m(tensors, grad_tensors, retain_graph, create_graph, grad_variables)\u001b[0m\n\u001b[1;32m     98\u001b[0m     Variable._execution_engine.run_backward(\n\u001b[1;32m     99\u001b[0m         \u001b[0mtensors\u001b[0m\u001b[0;34m,\u001b[0m \u001b[0mgrad_tensors\u001b[0m\u001b[0;34m,\u001b[0m \u001b[0mretain_graph\u001b[0m\u001b[0;34m,\u001b[0m \u001b[0mcreate_graph\u001b[0m\u001b[0;34m,\u001b[0m\u001b[0;34m\u001b[0m\u001b[0m\n\u001b[0;32m--> 100\u001b[0;31m         allow_unreachable=True)  # allow_unreachable flag\n\u001b[0m\u001b[1;32m    101\u001b[0m \u001b[0;34m\u001b[0m\u001b[0m\n\u001b[1;32m    102\u001b[0m \u001b[0;34m\u001b[0m\u001b[0m\n",
      "\u001b[0;31mKeyboardInterrupt\u001b[0m: "
     ]
    }
   ],
   "source": [
    "memory = []\n",
    "total_step = 0\n",
    "total_rewards = []\n",
    "total_losses = []\n",
    "\n",
    "device = \"\"\n",
    "if torch.cuda.is_available():\n",
    "    device = torch.device(\"cuda\")\n",
    "else:\n",
    "    device = torch.device(\"cpu\")\n",
    "\n",
    "Q = Q_Network(input_size, hidden_size, output_size).to(device=device)\n",
    "\n",
    "Q_ast = copy.deepcopy(Q)\n",
    "\n",
    "loss_function = nn.MSELoss()\n",
    "optimizer = optim.Adam(list(Q.parameters()), lr=LR)\n",
    "\n",
    "start = time.time()\n",
    "for epoch in range(epoch_num):\n",
    "\n",
    "    pobs = env.reset()\n",
    "    step = 0\n",
    "    done = False\n",
    "    total_reward = 0\n",
    "    total_loss = 0\n",
    "\n",
    "    while not done and step < step_max:\n",
    "\n",
    "        # select act\n",
    "\n",
    "        pact = np.random.randint(5)\n",
    "        if np.random.rand() > epsilon:\n",
    "            #whats the return value?\n",
    "            pact = Q(torch.from_numpy(np.array(pobs, dtype=np.float32).reshape(1, -1)).to(device=device))\n",
    "            pact = np.argmax(pact.data.cpu())\n",
    "            pact = pact.numpy()\n",
    "        \n",
    "        # act\n",
    "        obs, reward, done = env.step(pact)\n",
    "\n",
    "        # add memory\n",
    "        \n",
    "        memory.append((pobs, pact, reward, obs, done))\n",
    "        if len(memory) > memory_size:\n",
    "            memory.pop(0)\n",
    "\n",
    "        # train or update q\n",
    "        if len(memory) == memory_size:\n",
    "            if total_step % train_freq == 0:\n",
    "                shuffled_memory = np.random.permutation(memory)\n",
    "                memory_idx = range(len(shuffled_memory))\n",
    "                for i in memory_idx[::batch_size]:\n",
    "                    batch = np.array(shuffled_memory[i:i+batch_size])\n",
    "                    b_pobs = np.array(batch[:, 0].tolist(), dtype=np.float32).reshape(batch_size, -1)\n",
    "                    b_pact = np.array(batch[:, 1].tolist(), dtype=np.int32)\n",
    "                    b_reward = np.array(batch[:, 2].tolist(), dtype=np.int32)\n",
    "                    b_obs = np.array(batch[:, 3].tolist(), dtype=np.float32).reshape(batch_size, -1)\n",
    "                    b_done = np.array(batch[:, 4].tolist(), dtype=np.bool)\n",
    "\n",
    "                    q = Q(torch.from_numpy(b_pobs).to(device=device))\n",
    "                    q_ = Q_ast(torch.from_numpy(b_obs).to(device=device))\n",
    "                    maxq = np.max(q_.data.cpu().numpy(), axis=1)\n",
    "                    target = copy.deepcopy(q.data)\n",
    "                    #import pdb; pdb.set_trace()\n",
    "\n",
    "                    for j in range(batch_size):\n",
    "                        target[j, b_pact[j]] = b_reward[j]+gamma*maxq[j]*(not b_done[j])\n",
    "                    Q.zero_grad()\n",
    "                    loss = loss_function(q, target)\n",
    "                    total_loss += loss.data.item()\n",
    "                    loss.backward()\n",
    "                    optimizer.step()\n",
    "                    \n",
    "            if total_step % update_q_freq == 0:\n",
    "                Q_ast = copy.deepcopy(Q)\n",
    "                \n",
    "            # epsilon\n",
    "            if epsilon > epsilon_min and total_step > start_reduce_epsilon:\n",
    "                epsilon -= epsilon_decrease\n",
    "\n",
    "            # next step\n",
    "            total_reward += reward\n",
    "            pobs = obs\n",
    "            step += 1\n",
    "            total_step += 1\n",
    "\n",
    "        total_rewards.append(total_reward)\n",
    "        total_losses.append(total_loss)\n",
    "\n",
    "        #if (epoch+1) % show_log_freq == 0:\n",
    "        if done or step == step_max:  \n",
    "            log_reward = sum(total_rewards[((epoch+1)-show_log_freq):])/show_log_freq\n",
    "            log_loss = sum(total_losses[((epoch+1)-show_log_freq):])/show_log_freq\n",
    "            elapsed_time = time.time()-start\n",
    "            print('\\t'.join(map(str, [epoch+1, epsilon, total_step, log_reward, log_loss, elapsed_time])))\n",
    "            start = time.time()\n",
    "            \n",
    "#return Q, total_losses, total_rewards"
   ]
  },
  {
   "cell_type": "code",
   "execution_count": 21,
   "metadata": {},
   "outputs": [
    {
     "data": {
      "text/plain": [
       "(976, 16)"
      ]
     },
     "execution_count": 21,
     "metadata": {},
     "output_type": "execute_result"
    }
   ],
   "source": [
    "df.shape"
   ]
  },
  {
   "cell_type": "code",
   "execution_count": null,
   "metadata": {},
   "outputs": [],
   "source": [
    "plt.plot(total_rewards[-30000:])"
   ]
  },
  {
   "cell_type": "markdown",
   "metadata": {},
   "source": [
    "## Testing"
   ]
  },
  {
   "cell_type": "code",
   "execution_count": null,
   "metadata": {},
   "outputs": [],
   "source": [
    "test_env = Environment1(competitor_s)\n",
    "test_acts=[]\n",
    "test_rewards = []\n",
    "pobs = test_env.reset()\n",
    "\n",
    "done = False\n",
    "while not done:\n",
    "    pact = Q(torch.from_numpy(np.array(pobs, dtype=np.float32).reshape(1, -1)).to(device=device))\n",
    "    pact = np.argmax(pact.data.cpu())\n",
    "    test_acts.append(pact.item())\n",
    "    \n",
    "    obs, reward, done = test_env.step(pact.numpy())\n",
    "    test_rewards.append(reward)\n",
    "    pobs = obs\n",
    "\n",
    "test_profits = test_env.profits"
   ]
  },
  {
   "cell_type": "code",
   "execution_count": null,
   "metadata": {},
   "outputs": [],
   "source": [
    "plt.plot(test_rewards)"
   ]
  },
  {
   "cell_type": "code",
   "execution_count": null,
   "metadata": {},
   "outputs": [],
   "source": [
    "test_profits"
   ]
  }
 ],
 "metadata": {
  "kernelspec": {
   "display_name": "Python 3",
   "language": "python",
   "name": "python3"
  },
  "language_info": {
   "codemirror_mode": {
    "name": "ipython",
    "version": 3
   },
   "file_extension": ".py",
   "mimetype": "text/x-python",
   "name": "python",
   "nbconvert_exporter": "python",
   "pygments_lexer": "ipython3",
   "version": "3.8.2"
  },
  "toc": {
   "base_numbering": 1,
   "nav_menu": {},
   "number_sections": true,
   "sideBar": true,
   "skip_h1_title": false,
   "title_cell": "Table of Contents",
   "title_sidebar": "Contents",
   "toc_cell": false,
   "toc_position": {},
   "toc_section_display": true,
   "toc_window_display": false
  }
 },
 "nbformat": 4,
 "nbformat_minor": 4
}
