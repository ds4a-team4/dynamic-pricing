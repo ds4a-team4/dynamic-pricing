{
 "cells": [
  {
   "cell_type": "code",
   "execution_count": 1,
   "metadata": {},
   "outputs": [],
   "source": [
    "import time\n",
    "import copy\n",
    "import numpy as np\n",
    "import pandas as pd\n",
    "import torch\n",
    "import torch.nn as nn\n",
    "from torch.autograd import Variable\n",
    "import torch.optim as optim\n",
    "import torch.nn.functional as F\n",
    "import matplotlib.pyplot as plt"
   ]
  },
  {
   "cell_type": "markdown",
   "metadata": {},
   "source": [
    "## Read data"
   ]
  },
  {
   "cell_type": "code",
   "execution_count": 2,
   "metadata": {},
   "outputs": [
    {
     "name": "stderr",
     "output_type": "stream",
     "text": [
      "/home/ubuntu/anaconda3/lib/python3.6/site-packages/distributed/config.py:63: YAMLLoadWarning: calling yaml.load() without Loader=... is deprecated, as the default Loader is unsafe. Please read https://msg.pyyaml.org/load for full details.\n",
      "  config.update(yaml.load(text) or {})\n"
     ]
    }
   ],
   "source": [
    "import pickle\n",
    "import xgboost\n",
    "import s3fs"
   ]
  },
  {
   "cell_type": "code",
   "execution_count": null,
   "metadata": {},
   "outputs": [],
   "source": [
    "# # Save model to bucket\n",
    "# s3 = s3fs.S3FileSystem(anon=False, \n",
    "#                        key='',\n",
    "#                        secret='')\n",
    "# # Use 'w' for py3, 'wb' for py2\n",
    "# with s3.open('bsa-correlation-one/models/xgboost_cellphones_C.pkl','rb') as f:\n",
    "#     # END\n",
    "#     model = pickle.load(f)"
   ]
  },
  {
   "cell_type": "code",
   "execution_count": 3,
   "metadata": {},
   "outputs": [],
   "source": [
    "with open('./lr_cellphone_C.pkl','rb') as f:\n",
    "    # END\n",
    "    model = pickle.load(f)\n",
    "\n",
    "\n",
    "# with open('./scalerX_cellphone_C.pkl','rb') as f:\n",
    "#     # END\n",
    "#     scaler_x = pickle.load(f)\n",
    "    \n",
    "    \n",
    "# with open('./scalerY_cellphone_C.pkl','rb') as f:\n",
    "#     # END\n",
    "#     scaler_y = pickle.load(f)"
   ]
  },
  {
   "cell_type": "code",
   "execution_count": 4,
   "metadata": {},
   "outputs": [],
   "source": [
    "def base_cost(offer):\n",
    "    return 0.8 * offer"
   ]
  },
  {
   "cell_type": "code",
   "execution_count": 5,
   "metadata": {},
   "outputs": [
    {
     "data": {
      "text/html": [
       "<div>\n",
       "<style scoped>\n",
       "    .dataframe tbody tr th:only-of-type {\n",
       "        vertical-align: middle;\n",
       "    }\n",
       "\n",
       "    .dataframe tbody tr th {\n",
       "        vertical-align: top;\n",
       "    }\n",
       "\n",
       "    .dataframe thead th {\n",
       "        text-align: right;\n",
       "    }\n",
       "</style>\n",
       "<table border=\"1\" class=\"dataframe\">\n",
       "  <thead>\n",
       "    <tr style=\"text-align: right;\">\n",
       "      <th></th>\n",
       "      <th>year</th>\n",
       "      <th>month</th>\n",
       "      <th>dayofweek</th>\n",
       "      <th>day</th>\n",
       "      <th>freight_value</th>\n",
       "      <th>competition_price</th>\n",
       "      <th>stock</th>\n",
       "      <th>black_friday</th>\n",
       "      <th>carnival</th>\n",
       "      <th>christmas</th>\n",
       "      <th>friday</th>\n",
       "      <th>mothers_day</th>\n",
       "      <th>new_year</th>\n",
       "      <th>others</th>\n",
       "      <th>valentines</th>\n",
       "      <th>base_cost</th>\n",
       "    </tr>\n",
       "  </thead>\n",
       "  <tbody>\n",
       "    <tr>\n",
       "      <th>971</th>\n",
       "      <td>2020</td>\n",
       "      <td>2</td>\n",
       "      <td>0</td>\n",
       "      <td>24</td>\n",
       "      <td>26.165168</td>\n",
       "      <td>982.949133</td>\n",
       "      <td>7563.0</td>\n",
       "      <td>0</td>\n",
       "      <td>1</td>\n",
       "      <td>0</td>\n",
       "      <td>0</td>\n",
       "      <td>0</td>\n",
       "      <td>0</td>\n",
       "      <td>0</td>\n",
       "      <td>0</td>\n",
       "      <td>747.528000</td>\n",
       "    </tr>\n",
       "    <tr>\n",
       "      <th>972</th>\n",
       "      <td>2020</td>\n",
       "      <td>2</td>\n",
       "      <td>1</td>\n",
       "      <td>25</td>\n",
       "      <td>26.522039</td>\n",
       "      <td>988.725646</td>\n",
       "      <td>7557.0</td>\n",
       "      <td>0</td>\n",
       "      <td>1</td>\n",
       "      <td>0</td>\n",
       "      <td>0</td>\n",
       "      <td>0</td>\n",
       "      <td>0</td>\n",
       "      <td>0</td>\n",
       "      <td>0</td>\n",
       "      <td>751.569143</td>\n",
       "    </tr>\n",
       "    <tr>\n",
       "      <th>973</th>\n",
       "      <td>2020</td>\n",
       "      <td>2</td>\n",
       "      <td>2</td>\n",
       "      <td>26</td>\n",
       "      <td>24.607285</td>\n",
       "      <td>994.662702</td>\n",
       "      <td>7545.0</td>\n",
       "      <td>0</td>\n",
       "      <td>0</td>\n",
       "      <td>0</td>\n",
       "      <td>0</td>\n",
       "      <td>0</td>\n",
       "      <td>0</td>\n",
       "      <td>0</td>\n",
       "      <td>0</td>\n",
       "      <td>747.531678</td>\n",
       "    </tr>\n",
       "    <tr>\n",
       "      <th>974</th>\n",
       "      <td>2020</td>\n",
       "      <td>2</td>\n",
       "      <td>3</td>\n",
       "      <td>27</td>\n",
       "      <td>22.893772</td>\n",
       "      <td>1007.349470</td>\n",
       "      <td>7454.0</td>\n",
       "      <td>0</td>\n",
       "      <td>0</td>\n",
       "      <td>0</td>\n",
       "      <td>0</td>\n",
       "      <td>0</td>\n",
       "      <td>0</td>\n",
       "      <td>0</td>\n",
       "      <td>0</td>\n",
       "      <td>743.240006</td>\n",
       "    </tr>\n",
       "    <tr>\n",
       "      <th>975</th>\n",
       "      <td>2020</td>\n",
       "      <td>2</td>\n",
       "      <td>4</td>\n",
       "      <td>28</td>\n",
       "      <td>31.916422</td>\n",
       "      <td>1095.717500</td>\n",
       "      <td>127.0</td>\n",
       "      <td>0</td>\n",
       "      <td>0</td>\n",
       "      <td>0</td>\n",
       "      <td>0</td>\n",
       "      <td>0</td>\n",
       "      <td>0</td>\n",
       "      <td>0</td>\n",
       "      <td>0</td>\n",
       "      <td>749.329333</td>\n",
       "    </tr>\n",
       "  </tbody>\n",
       "</table>\n",
       "</div>"
      ],
      "text/plain": [
       "     year  month  dayofweek  day  freight_value  competition_price   stock  \\\n",
       "971  2020      2          0   24      26.165168         982.949133  7563.0   \n",
       "972  2020      2          1   25      26.522039         988.725646  7557.0   \n",
       "973  2020      2          2   26      24.607285         994.662702  7545.0   \n",
       "974  2020      2          3   27      22.893772        1007.349470  7454.0   \n",
       "975  2020      2          4   28      31.916422        1095.717500   127.0   \n",
       "\n",
       "     black_friday  carnival  christmas  friday  mothers_day  new_year  others  \\\n",
       "971             0         1          0       0            0         0       0   \n",
       "972             0         1          0       0            0         0       0   \n",
       "973             0         0          0       0            0         0       0   \n",
       "974             0         0          0       0            0         0       0   \n",
       "975             0         0          0       0            0         0       0   \n",
       "\n",
       "     valentines   base_cost  \n",
       "971           0  747.528000  \n",
       "972           0  751.569143  \n",
       "973           0  747.531678  \n",
       "974           0  743.240006  \n",
       "975           0  749.329333  "
      ]
     },
     "execution_count": 5,
     "metadata": {},
     "output_type": "execute_result"
    }
   ],
   "source": [
    "data = pd.read_csv('./cellphones/cellphonedata.csv')\n",
    "\n",
    "df = data[data.price_category == 'C'].copy().reset_index(drop=True)\n",
    "# df.drop(columns = ['ds','price_category','y','offer'],inplace=True)\n",
    "df.drop(columns = ['ds','price_category','y'],inplace=True)\n",
    "\n",
    "cols = df.columns\n",
    "#array = scaler_x.transform(df)\n",
    "#df = pd.DataFrame(array,columns=cols)\n",
    "df['base_cost'] = df.offer.apply(lambda x: base_cost(x))\n",
    "df.drop(columns=['olist_price','offer'], inplace = True)\n",
    "\n",
    "df.tail()"
   ]
  },
  {
   "cell_type": "markdown",
   "metadata": {},
   "source": [
    "### Demand Simulator"
   ]
  },
  {
   "cell_type": "code",
   "execution_count": 6,
   "metadata": {},
   "outputs": [],
   "source": [
    "def predict_demand(model, df_row, olist_price):\n",
    "    \n",
    "    year = df_row.year\n",
    "    month = df_row.month\n",
    "    dayofweek = df_row.dayofweek\n",
    "    day = df_row.day\n",
    "    olist_price = olist_price\n",
    "    freight_value = df_row.freight_value\n",
    "    competition_price = df_row.competition_price\n",
    "    stock = df_row.stock\n",
    "    black_friday = df_row.black_friday\n",
    "    carnival = df_row.carnival\n",
    "    christmas = df_row.christmas\n",
    "    friday = df_row.friday\n",
    "    mothers_day = df_row.mothers_day\n",
    "    new_year = df_row.new_year\n",
    "    others = df_row.others\n",
    "    valentines = df_row.valentines\n",
    "\n",
    "    X = np.array([year, month, dayofweek, day, olist_price, freight_value,\n",
    "                 competition_price, stock, black_friday, carnival, christmas,\n",
    "                 friday, mothers_day, new_year, others, valentines]).reshape(1,-1)\n",
    "    \n",
    "    #X = xgboost.DMatrix(X)\n",
    "                 \n",
    "    orders = model.predict(X)\n",
    "    \n",
    "    return max(orders[0],0)"
   ]
  },
  {
   "cell_type": "code",
   "execution_count": 9,
   "metadata": {},
   "outputs": [
    {
     "data": {
      "text/plain": [
       "7.517765366013464"
      ]
     },
     "execution_count": 9,
     "metadata": {},
     "output_type": "execute_result"
    }
   ],
   "source": [
    "predict_demand(model, df.iloc[-1], 945)"
   ]
  },
  {
   "cell_type": "code",
   "execution_count": null,
   "metadata": {},
   "outputs": [],
   "source": [
    "df.iloc[0].year"
   ]
  },
  {
   "cell_type": "markdown",
   "metadata": {},
   "source": [
    "### Environment Real Data"
   ]
  },
  {
   "cell_type": "code",
   "execution_count": 23,
   "metadata": {},
   "outputs": [],
   "source": [
    "class Environment:\n",
    "    \n",
    "    def __init__(self, model, df):\n",
    "        \n",
    "        self.model = model\n",
    "        self.data = df\n",
    "        self.N = len(self.data) - 1\n",
    "        # want to obtain\n",
    "        # self.olist_price = 0\n",
    "        # self.freight_value = 0\n",
    "        \n",
    "        self.reset()\n",
    "        \n",
    "#         #try loading row\n",
    "#         self.year = year\n",
    "#         self.month = month\n",
    "#         self.dayofweek = dayofweek\n",
    "#         self.day = day\n",
    "#         self.competition_price = competition_price\n",
    "#         self.stock = stock\n",
    "#         self.black_friday = black_friday\n",
    "#         self.carnival = carnival\n",
    "#         self.christmas = christmas\n",
    "#         self.friday = friday\n",
    "#         self.mothers_day = mothers_day\n",
    "#         self.new_year = new_year\n",
    "#         self.others = others\n",
    "#         self.valentines = valentines\n",
    "#         self.base_cost = base_cost\n",
    "        \n",
    "        # self.price_init = cost/0.8\n",
    "        \n",
    "        \n",
    "        \n",
    "        \n",
    "    def reset(self):\n",
    "        self.t = 0\n",
    "        self.done = False\n",
    "        #self.demand_h = [0 for _ in range(self.demand_t)]\n",
    "        #self.competitor_h = [0 for _ in range(self.competitor_t)]\n",
    "        self.orders = 0\n",
    "        self.olist_price = 0\n",
    "        self.profits = 0\n",
    "        return [self.olist_price, self.orders] + self.data.iloc[self.t].tolist() \n",
    "    \n",
    "    def step(self, act):       \n",
    "        \n",
    "        # act = 0: stay, 1: raise, 2: lower\n",
    "        if act == 0:\n",
    "            self.olist_price = self.data['base_cost'][self.t] * 1.05\n",
    "        elif act == 1:\n",
    "            self.olist_price = self.data['base_cost'][self.t] * 1.10\n",
    "        elif act == 2:\n",
    "            self.olist_price = self.data['base_cost'][self.t] * 1.15\n",
    "        elif act == 3:\n",
    "            self.olist_price = self.data['base_cost'][self.t] * 1.20\n",
    "        elif act == 4:\n",
    "            self.olist_price = self.data['base_cost'][self.t] * 1.25\n",
    "\n",
    "        # Calculate demand\n",
    "        self.orders = predict_demand(self.model, self.data.iloc[self.t], self.olist_price)        \n",
    "\n",
    "        reward = (self.olist_price + self.data['freight_value'][self.t] - self.data['base_cost'][self.t])*self.orders\n",
    "        self.profits += reward\n",
    "\n",
    "        # set next time\n",
    "        self.t += 1\n",
    "        \n",
    "        if (self.t == self.N):\n",
    "            self.done=True\n",
    "\n",
    "        return [self.olist_price, self.orders] + self.data.iloc[self.t].tolist(), reward, self.done # obs, reward, done "
   ]
  },
  {
   "cell_type": "code",
   "execution_count": 24,
   "metadata": {},
   "outputs": [
    {
     "data": {
      "text/plain": [
       "[0,\n",
       " 0,\n",
       " 2017.0,\n",
       " 6.0,\n",
       " 4.0,\n",
       " 30.0,\n",
       " 25.73,\n",
       " 931.1842857142856,\n",
       " 0.0,\n",
       " 0.0,\n",
       " 0.0,\n",
       " 0.0,\n",
       " 0.0,\n",
       " 0.0,\n",
       " 0.0,\n",
       " 0.0,\n",
       " 0.0,\n",
       " 744.9474285714285]"
      ]
     },
     "execution_count": 24,
     "metadata": {},
     "output_type": "execute_result"
    }
   ],
   "source": [
    "env = Environment(model,df)\n",
    "env.reset()"
   ]
  },
  {
   "cell_type": "markdown",
   "metadata": {},
   "source": [
    "## NN architecture"
   ]
  },
  {
   "cell_type": "code",
   "execution_count": 17,
   "metadata": {},
   "outputs": [],
   "source": [
    "#def train_dqn(env):\n",
    "\n",
    "#whats the return?\n",
    "class Q_Network(nn.Module):\n",
    "        \n",
    "    def __init__(self,obs_len,hidden_size,actions_n):\n",
    "            \n",
    "        super(Q_Network,self).__init__()\n",
    "            \n",
    "        self.fc_val = nn.Sequential(\n",
    "            nn.Linear(obs_len, hidden_size),\n",
    "            nn.ReLU(),\n",
    "            nn.Linear(hidden_size, hidden_size),\n",
    "            nn.ReLU(),\n",
    "            nn.Linear(hidden_size, actions_n)\n",
    "            # needs softmax?\n",
    "        )\n",
    "        \n",
    "        \n",
    "    def forward(self,x):\n",
    "        h =  self.fc_val(x)\n",
    "        return (h)\n",
    "            "
   ]
  },
  {
   "cell_type": "markdown",
   "metadata": {},
   "source": [
    "## Parameters"
   ]
  },
  {
   "cell_type": "code",
   "execution_count": 25,
   "metadata": {},
   "outputs": [],
   "source": [
    "hidden_size = 100\n",
    "input_size = 2 + df.shape[1]\n",
    "output_size=5\n",
    "LR = 0.001\n",
    "\n",
    "epoch_num = 50\n",
    "step_max = len(env.data) - 1\n",
    "memory_size = 200\n",
    "batch_size = 50\n",
    "gamma = 0.97\n",
    "\n",
    "epsilon = 1.0\n",
    "epsilon_decrease = 1e-3\n",
    "epsilon_min = 0.1\n",
    "start_reduce_epsilon = 200\n",
    "train_freq = 10\n",
    "update_q_freq = 20\n",
    "show_log_freq = 5"
   ]
  },
  {
   "cell_type": "code",
   "execution_count": 22,
   "metadata": {},
   "outputs": [
    {
     "data": {
      "text/plain": [
       "976"
      ]
     },
     "execution_count": 22,
     "metadata": {},
     "output_type": "execute_result"
    }
   ],
   "source": []
  },
  {
   "cell_type": "markdown",
   "metadata": {},
   "source": [
    "## Training"
   ]
  },
  {
   "cell_type": "code",
   "execution_count": 26,
   "metadata": {},
   "outputs": [
    {
     "name": "stdout",
     "output_type": "stream",
     "text": [
      "1\t0.4249999999999995\t776\t555026.0470119469\t98821585.14804688\t1.8552618026733398\n",
      "2\t0.0999999999999992\t1751\t513806.55899221014\t99060254.82148437\t2.376893997192383\n",
      "3\t0.0999999999999992\t2726\t326595.8746247925\t52307734.36621094\t2.4133100509643555\n",
      "4\t0.0999999999999992\t3701\t163863.8631801862\t29346232.580859374\t2.450756072998047\n",
      "5\t0.0999999999999992\t4676\t272386100.922974\t92504780081.26913\t2.431658983230591\n",
      "6\t0.0999999999999992\t5651\t330703497.7897004\t112659406797.13594\t2.4489970207214355\n",
      "7\t0.0999999999999992\t6626\t388614388.6464996\t133072061305.85762\t2.459160327911377\n",
      "8\t0.0999999999999992\t7601\t445082702.2719469\t154206389455.93808\t2.4988207817077637\n",
      "9\t0.0999999999999992\t8576\t502102437.6508306\t173780613995.55762\t2.469538450241089\n",
      "10\t0.0999999999999992\t9551\t559588733.7564944\t195027101091.75507\t2.4646944999694824\n",
      "11\t0.0999999999999992\t10526\t618113504.6787125\t213481887245.40155\t2.4401473999023438\n",
      "12\t0.0999999999999992\t11501\t672547798.4114105\t235608229202.00684\t2.449993848800659\n",
      "13\t0.0999999999999992\t12476\t732260792.7662115\t253258917471.7377\t2.824995756149292\n",
      "14\t0.0999999999999992\t13451\t791067863.2699534\t274584069354.23886\t2.259913206100464\n",
      "15\t0.0999999999999992\t14426\t849932612.6234078\t294642310658.194\t2.128563165664673\n",
      "16\t0.0999999999999992\t15401\t908640644.0920051\t315640084656.23474\t2.1131949424743652\n",
      "17\t0.0999999999999992\t16376\t963748176.746233\t334307421985.4113\t2.1124765872955322\n",
      "18\t0.0999999999999992\t17351\t1018266608.4565645\t352674689077.575\t2.1436469554901123\n",
      "19\t0.0999999999999992\t18326\t1073013001.7235817\t372036212344.8148\t2.131800651550293\n",
      "20\t0.0999999999999992\t19301\t1129394066.8416495\t391561661292.99884\t2.1168153285980225\n",
      "21\t0.0999999999999992\t20276\t1187257369.2970207\t413550701119.43555\t2.120234489440918\n",
      "22\t0.0999999999999992\t21251\t1244205911.7688177\t437569573984.2664\t2.1266815662384033\n",
      "23\t0.0999999999999992\t22226\t1298121138.5887895\t461053441063.6699\t2.1210925579071045\n",
      "24\t0.0999999999999992\t23201\t1354129523.9104385\t484353489877.4398\t2.118471384048462\n",
      "25\t0.0999999999999992\t24176\t1409569180.0140011\t506781130425.0836\t2.1172444820404053\n",
      "26\t0.0999999999999992\t25151\t1470108635.7273457\t530249897308.2584\t2.146103858947754\n",
      "27\t0.0999999999999992\t26126\t1528441765.769218\t551963312592.6029\t2.1139893531799316\n",
      "28\t0.0999999999999992\t27101\t1587248705.1898031\t575961408393.5674\t2.127892017364502\n",
      "29\t0.0999999999999992\t28076\t1641162024.513235\t599746828605.7275\t2.1340408325195312\n",
      "30\t0.0999999999999992\t29051\t1698674999.8030186\t621666445814.7712\t2.118637800216675\n",
      "31\t0.0999999999999992\t30026\t1756866020.5860565\t642868103605.5486\t2.1090197563171387\n",
      "32\t0.0999999999999992\t31001\t1811797969.3573887\t667737696734.9283\t2.1154425144195557\n",
      "33\t0.0999999999999992\t31976\t1870017805.3777497\t693612045237.7643\t2.2297909259796143\n",
      "34\t0.0999999999999992\t32951\t1926314107.6412487\t719579538605.0759\t2.437690019607544\n",
      "35\t0.0999999999999992\t33926\t1981929799.3221195\t746106784602.2354\t2.3481860160827637\n",
      "36\t0.0999999999999992\t34901\t2037475236.209715\t769810738640.9697\t2.139845848083496\n",
      "37\t0.0999999999999992\t35876\t2096916971.9931939\t794657427123.2487\t2.166127920150757\n",
      "38\t0.0999999999999992\t36851\t2157538530.642402\t825858339364.1799\t2.1539807319641113\n",
      "39\t0.0999999999999992\t37826\t2217678656.131818\t854712545988.5408\t2.1435787677764893\n",
      "40\t0.0999999999999992\t38801\t2279388326.5875874\t885663966225.222\t2.1541171073913574\n",
      "41\t0.0999999999999992\t39776\t2336081510.653018\t914846706202.4908\t2.134953498840332\n",
      "42\t0.0999999999999992\t40751\t2394726040.2783384\t944872544559.6315\t2.1290855407714844\n",
      "43\t0.0999999999999992\t41726\t2455162471.57879\t973115573500.0377\t2.12695050239563\n",
      "44\t0.0999999999999992\t42701\t2515667233.866416\t1004576916265.051\t2.3153789043426514\n",
      "45\t0.0999999999999992\t43676\t2576761405.514027\t1031945619267.4072\t2.420926809310913\n",
      "46\t0.0999999999999992\t44651\t2632873720.504525\t1060121372209.8103\t2.442233085632324\n",
      "47\t0.0999999999999992\t45626\t2686578217.2826242\t1087577371793.99\t2.4374752044677734\n",
      "48\t0.0999999999999992\t46601\t2743863916.5304546\t1115151745345.5354\t2.4431090354919434\n"
     ]
    },
    {
     "ename": "KeyboardInterrupt",
     "evalue": "",
     "output_type": "error",
     "traceback": [
      "\u001b[0;31m---------------------------------------------------------------------------\u001b[0m",
      "\u001b[0;31mKeyboardInterrupt\u001b[0m                         Traceback (most recent call last)",
      "\u001b[0;32m<ipython-input-26-46d93418a19e>\u001b[0m in \u001b[0;36m<module>\u001b[0;34m\u001b[0m\n\u001b[1;32m     70\u001b[0m                     \u001b[0mloss\u001b[0m \u001b[0;34m=\u001b[0m \u001b[0mloss_function\u001b[0m\u001b[0;34m(\u001b[0m\u001b[0mq\u001b[0m\u001b[0;34m,\u001b[0m \u001b[0mtarget\u001b[0m\u001b[0;34m)\u001b[0m\u001b[0;34m\u001b[0m\u001b[0m\n\u001b[1;32m     71\u001b[0m                     \u001b[0mtotal_loss\u001b[0m \u001b[0;34m+=\u001b[0m \u001b[0mloss\u001b[0m\u001b[0;34m.\u001b[0m\u001b[0mdata\u001b[0m\u001b[0;34m.\u001b[0m\u001b[0mitem\u001b[0m\u001b[0;34m(\u001b[0m\u001b[0;34m)\u001b[0m\u001b[0;34m\u001b[0m\u001b[0m\n\u001b[0;32m---> 72\u001b[0;31m                     \u001b[0mloss\u001b[0m\u001b[0;34m.\u001b[0m\u001b[0mbackward\u001b[0m\u001b[0;34m(\u001b[0m\u001b[0;34m)\u001b[0m\u001b[0;34m\u001b[0m\u001b[0m\n\u001b[0m\u001b[1;32m     73\u001b[0m                     \u001b[0moptimizer\u001b[0m\u001b[0;34m.\u001b[0m\u001b[0mstep\u001b[0m\u001b[0;34m(\u001b[0m\u001b[0;34m)\u001b[0m\u001b[0;34m\u001b[0m\u001b[0m\n\u001b[1;32m     74\u001b[0m \u001b[0;34m\u001b[0m\u001b[0m\n",
      "\u001b[0;32m~/anaconda3/lib/python3.6/site-packages/torch/tensor.py\u001b[0m in \u001b[0;36mbackward\u001b[0;34m(self, gradient, retain_graph, create_graph)\u001b[0m\n\u001b[1;32m    196\u001b[0m                 \u001b[0mproducts\u001b[0m\u001b[0;34m.\u001b[0m \u001b[0mDefaults\u001b[0m \u001b[0mto\u001b[0m\u001b[0;31m \u001b[0m\u001b[0;31m`\u001b[0m\u001b[0;31m`\u001b[0m\u001b[0;32mFalse\u001b[0m\u001b[0;31m`\u001b[0m\u001b[0;31m`\u001b[0m\u001b[0;34m.\u001b[0m\u001b[0;34m\u001b[0m\u001b[0m\n\u001b[1;32m    197\u001b[0m         \"\"\"\n\u001b[0;32m--> 198\u001b[0;31m         \u001b[0mtorch\u001b[0m\u001b[0;34m.\u001b[0m\u001b[0mautograd\u001b[0m\u001b[0;34m.\u001b[0m\u001b[0mbackward\u001b[0m\u001b[0;34m(\u001b[0m\u001b[0mself\u001b[0m\u001b[0;34m,\u001b[0m \u001b[0mgradient\u001b[0m\u001b[0;34m,\u001b[0m \u001b[0mretain_graph\u001b[0m\u001b[0;34m,\u001b[0m \u001b[0mcreate_graph\u001b[0m\u001b[0;34m)\u001b[0m\u001b[0;34m\u001b[0m\u001b[0m\n\u001b[0m\u001b[1;32m    199\u001b[0m \u001b[0;34m\u001b[0m\u001b[0m\n\u001b[1;32m    200\u001b[0m     \u001b[0;32mdef\u001b[0m \u001b[0mregister_hook\u001b[0m\u001b[0;34m(\u001b[0m\u001b[0mself\u001b[0m\u001b[0;34m,\u001b[0m \u001b[0mhook\u001b[0m\u001b[0;34m)\u001b[0m\u001b[0;34m:\u001b[0m\u001b[0;34m\u001b[0m\u001b[0m\n",
      "\u001b[0;32m~/anaconda3/lib/python3.6/site-packages/torch/autograd/__init__.py\u001b[0m in \u001b[0;36mbackward\u001b[0;34m(tensors, grad_tensors, retain_graph, create_graph, grad_variables)\u001b[0m\n\u001b[1;32m     98\u001b[0m     Variable._execution_engine.run_backward(\n\u001b[1;32m     99\u001b[0m         \u001b[0mtensors\u001b[0m\u001b[0;34m,\u001b[0m \u001b[0mgrad_tensors\u001b[0m\u001b[0;34m,\u001b[0m \u001b[0mretain_graph\u001b[0m\u001b[0;34m,\u001b[0m \u001b[0mcreate_graph\u001b[0m\u001b[0;34m,\u001b[0m\u001b[0;34m\u001b[0m\u001b[0m\n\u001b[0;32m--> 100\u001b[0;31m         allow_unreachable=True)  # allow_unreachable flag\n\u001b[0m\u001b[1;32m    101\u001b[0m \u001b[0;34m\u001b[0m\u001b[0m\n\u001b[1;32m    102\u001b[0m \u001b[0;34m\u001b[0m\u001b[0m\n",
      "\u001b[0;31mKeyboardInterrupt\u001b[0m: "
     ]
    }
   ],
   "source": [
    "memory = []\n",
    "total_step = 0\n",
    "total_rewards = []\n",
    "total_losses = []\n",
    "\n",
    "device = \"\"\n",
    "if torch.cuda.is_available():\n",
    "    device = torch.device(\"cuda\")\n",
    "else:\n",
    "    device = torch.device(\"cpu\")\n",
    "\n",
    "Q = Q_Network(input_size, hidden_size, output_size).to(device=device)\n",
    "\n",
    "Q_ast = copy.deepcopy(Q)\n",
    "\n",
    "loss_function = nn.MSELoss()\n",
    "optimizer = optim.Adam(list(Q.parameters()), lr=LR)\n",
    "\n",
    "start = time.time()\n",
    "for epoch in range(epoch_num):\n",
    "\n",
    "    pobs = env.reset()\n",
    "    step = 0\n",
    "    done = False\n",
    "    total_reward = 0\n",
    "    total_loss = 0\n",
    "\n",
    "    while not done and step < step_max:\n",
    "\n",
    "        # select act\n",
    "\n",
    "        pact = np.random.randint(5)\n",
    "        if np.random.rand() > epsilon:\n",
    "            #whats the return value?\n",
    "            pact = Q(torch.from_numpy(np.array(pobs, dtype=np.float32).reshape(1, -1)).to(device=device))\n",
    "            pact = np.argmax(pact.data.cpu())\n",
    "            pact = pact.numpy()\n",
    "        \n",
    "        # act\n",
    "        obs, reward, done = env.step(pact)\n",
    "\n",
    "        # add memory\n",
    "        \n",
    "        memory.append((pobs, pact, reward, obs, done))\n",
    "        if len(memory) > memory_size:\n",
    "            memory.pop(0)\n",
    "\n",
    "        # train or update q\n",
    "        if len(memory) == memory_size:\n",
    "            if total_step % train_freq == 0:\n",
    "                shuffled_memory = np.random.permutation(memory)\n",
    "                memory_idx = range(len(shuffled_memory))\n",
    "                for i in memory_idx[::batch_size]:\n",
    "                    batch = np.array(shuffled_memory[i:i+batch_size])\n",
    "                    b_pobs = np.array(batch[:, 0].tolist(), dtype=np.float32).reshape(batch_size, -1)\n",
    "                    b_pact = np.array(batch[:, 1].tolist(), dtype=np.int32)\n",
    "                    b_reward = np.array(batch[:, 2].tolist(), dtype=np.int32)\n",
    "                    b_obs = np.array(batch[:, 3].tolist(), dtype=np.float32).reshape(batch_size, -1)\n",
    "                    b_done = np.array(batch[:, 4].tolist(), dtype=np.bool)\n",
    "\n",
    "                    q = Q(torch.from_numpy(b_pobs).to(device=device))\n",
    "                    q_ = Q_ast(torch.from_numpy(b_obs).to(device=device))\n",
    "                    maxq = np.max(q_.data.cpu().numpy(), axis=1)\n",
    "                    target = copy.deepcopy(q.data)\n",
    "                    #import pdb; pdb.set_trace()\n",
    "\n",
    "                    for j in range(batch_size):\n",
    "                        target[j, b_pact[j]] = b_reward[j]+gamma*maxq[j]*(not b_done[j])\n",
    "                    Q.zero_grad()\n",
    "                    loss = loss_function(q, target)\n",
    "                    total_loss += loss.data.item()\n",
    "                    loss.backward()\n",
    "                    optimizer.step()\n",
    "                    \n",
    "            if total_step % update_q_freq == 0:\n",
    "                Q_ast = copy.deepcopy(Q)\n",
    "                \n",
    "            # epsilon\n",
    "            if epsilon > epsilon_min and total_step > start_reduce_epsilon:\n",
    "                epsilon -= epsilon_decrease\n",
    "\n",
    "            # next step\n",
    "            total_reward += reward\n",
    "            pobs = obs\n",
    "            step += 1\n",
    "            total_step += 1\n",
    "\n",
    "        total_rewards.append(total_reward)\n",
    "        total_losses.append(total_loss)\n",
    "\n",
    "        #if (epoch+1) % show_log_freq == 0:\n",
    "        if done or step == step_max:  \n",
    "            log_reward = sum(total_rewards[((epoch+1)-show_log_freq):])/show_log_freq\n",
    "            log_loss = sum(total_losses[((epoch+1)-show_log_freq):])/show_log_freq\n",
    "            elapsed_time = time.time()-start\n",
    "            print('\\t'.join(map(str, [epoch+1, epsilon, total_step, log_reward, log_loss, elapsed_time])))\n",
    "            start = time.time()\n",
    "            \n",
    "#return Q, total_losses, total_rewards"
   ]
  },
  {
   "cell_type": "code",
   "execution_count": 21,
   "metadata": {},
   "outputs": [
    {
     "data": {
      "text/plain": [
       "(976, 16)"
      ]
     },
     "execution_count": 21,
     "metadata": {},
     "output_type": "execute_result"
    }
   ],
   "source": [
    "df.shape"
   ]
  },
  {
   "cell_type": "code",
   "execution_count": 20,
   "metadata": {},
   "outputs": [
    {
     "name": "stdout",
     "output_type": "stream",
     "text": [
      "> \u001b[0;32m/home/ubuntu/.local/lib/python3.6/site-packages/pandas/core/indexing.py\u001b[0m(2088)\u001b[0;36m_validate_integer\u001b[0;34m()\u001b[0m\n",
      "\u001b[0;32m   2086 \u001b[0;31m        \u001b[0mlen_axis\u001b[0m \u001b[0;34m=\u001b[0m \u001b[0mlen\u001b[0m\u001b[0;34m(\u001b[0m\u001b[0mself\u001b[0m\u001b[0;34m.\u001b[0m\u001b[0mobj\u001b[0m\u001b[0;34m.\u001b[0m\u001b[0m_get_axis\u001b[0m\u001b[0;34m(\u001b[0m\u001b[0maxis\u001b[0m\u001b[0;34m)\u001b[0m\u001b[0;34m)\u001b[0m\u001b[0;34m\u001b[0m\u001b[0m\n",
      "\u001b[0m\u001b[0;32m   2087 \u001b[0;31m        \u001b[0;32mif\u001b[0m \u001b[0mkey\u001b[0m \u001b[0;34m>=\u001b[0m \u001b[0mlen_axis\u001b[0m \u001b[0;32mor\u001b[0m \u001b[0mkey\u001b[0m \u001b[0;34m<\u001b[0m \u001b[0;34m-\u001b[0m\u001b[0mlen_axis\u001b[0m\u001b[0;34m:\u001b[0m\u001b[0;34m\u001b[0m\u001b[0m\n",
      "\u001b[0m\u001b[0;32m-> 2088 \u001b[0;31m            \u001b[0;32mraise\u001b[0m \u001b[0mIndexError\u001b[0m\u001b[0;34m(\u001b[0m\u001b[0;34m\"single positional indexer is out-of-bounds\"\u001b[0m\u001b[0;34m)\u001b[0m\u001b[0;34m\u001b[0m\u001b[0m\n",
      "\u001b[0m\u001b[0;32m   2089 \u001b[0;31m\u001b[0;34m\u001b[0m\u001b[0m\n",
      "\u001b[0m\u001b[0;32m   2090 \u001b[0;31m    \u001b[0;32mdef\u001b[0m \u001b[0m_getitem_tuple\u001b[0m\u001b[0;34m(\u001b[0m\u001b[0mself\u001b[0m\u001b[0;34m,\u001b[0m \u001b[0mtup\u001b[0m\u001b[0;34m)\u001b[0m\u001b[0;34m:\u001b[0m\u001b[0;34m\u001b[0m\u001b[0m\n",
      "\u001b[0m\n",
      "*** NameError: name 'obs' is not defined\n",
      "*** NameError: name 'pact' is not defined\n",
      "*** NameError: name 'act' is not defined\n",
      "976\n",
      "*** SyntaxError: unexpected EOF while parsing\n",
      "*** NameError: name 'df' is not defined\n",
      "976\n"
     ]
    }
   ],
   "source": [
    "%debug"
   ]
  },
  {
   "cell_type": "code",
   "execution_count": null,
   "metadata": {},
   "outputs": [],
   "source": [
    "plt.plot(total_rewards[-30000:])"
   ]
  },
  {
   "cell_type": "markdown",
   "metadata": {},
   "source": [
    "## Testing"
   ]
  },
  {
   "cell_type": "code",
   "execution_count": null,
   "metadata": {},
   "outputs": [],
   "source": [
    "test_env = Environment1(competitor_s)\n",
    "test_acts=[]\n",
    "test_rewards = []\n",
    "pobs = test_env.reset()\n",
    "\n",
    "done = False\n",
    "while not done:\n",
    "    pact = Q(torch.from_numpy(np.array(pobs, dtype=np.float32).reshape(1, -1)).to(device=device))\n",
    "    pact = np.argmax(pact.data.cpu())\n",
    "    test_acts.append(pact.item())\n",
    "    \n",
    "    obs, reward, done = test_env.step(pact.numpy())\n",
    "    test_rewards.append(reward)\n",
    "    pobs = obs\n",
    "\n",
    "test_profits = test_env.profits"
   ]
  },
  {
   "cell_type": "code",
   "execution_count": null,
   "metadata": {},
   "outputs": [],
   "source": [
    "plt.plot(test_rewards)"
   ]
  },
  {
   "cell_type": "code",
   "execution_count": null,
   "metadata": {},
   "outputs": [],
   "source": [
    "test_profits"
   ]
  }
 ],
 "metadata": {
  "kernelspec": {
   "display_name": "ds4a",
   "language": "python",
   "name": "ds4a"
  },
  "language_info": {
   "codemirror_mode": {
    "name": "ipython",
    "version": 3
   },
   "file_extension": ".py",
   "mimetype": "text/x-python",
   "name": "python",
   "nbconvert_exporter": "python",
   "pygments_lexer": "ipython3",
   "version": "3.6.6"
  },
  "toc": {
   "base_numbering": 1,
   "nav_menu": {},
   "number_sections": true,
   "sideBar": true,
   "skip_h1_title": false,
   "title_cell": "Table of Contents",
   "title_sidebar": "Contents",
   "toc_cell": false,
   "toc_position": {},
   "toc_section_display": true,
   "toc_window_display": false
  }
 },
 "nbformat": 4,
 "nbformat_minor": 4
}
