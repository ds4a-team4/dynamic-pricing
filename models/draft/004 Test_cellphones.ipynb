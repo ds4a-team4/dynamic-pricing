{
 "cells": [
  {
   "cell_type": "markdown",
   "metadata": {},
   "source": [
    "## 4 - ETL of Celular Dataset to later use"
   ]
  },
  {
   "cell_type": "code",
   "execution_count": 1,
   "metadata": {},
   "outputs": [],
   "source": [
    "import warnings\n",
    "warnings.filterwarnings('ignore')\n",
    "\n",
    "import pandas as pd\n",
    "import numpy as np"
   ]
  },
  {
   "cell_type": "markdown",
   "metadata": {},
   "source": [
    "### Loading the full celular dataset"
   ]
  },
  {
   "cell_type": "code",
   "execution_count": 2,
   "metadata": {},
   "outputs": [],
   "source": [
    "df_all = pd.read_csv('../data/celular_data.csv', dtype={'gtin':'str'})\n",
    "df_all['date'] = pd.to_datetime(df_all['date'])"
   ]
  },
  {
   "cell_type": "markdown",
   "metadata": {},
   "source": [
    "### Basic ETL, basically transforming NaNs in median for stocks and equal to olist_price for competition prices"
   ]
  },
  {
   "cell_type": "code",
   "execution_count": 3,
   "metadata": {},
   "outputs": [],
   "source": [
    "#filtering dates when stock >0\n",
    "df = df_all[df_all['stock_avg'] >0]\n",
    "\n",
    "#probably there's some way to do that easier...but I can't find it.\n",
    "#calculate the median of freight_value by product_gtin\n",
    "gtin_freight = df.groupby(['gtin'])['freight_value'].median()\n",
    "gtin_freight = gtin_freight.fillna(0)\n",
    "\n",
    "#split the datasets where freight_value = nan\n",
    "df_freightna = df[df['freight_value'].isna() == True]\n",
    "df_freightok = df[df['freight_value'].isna() == False]\n",
    "\n",
    "#merge the freight_value median with the dataset with freight = na.\n",
    "#drop the original freight_value column and rename the new.\n",
    "df_freightna = df_freightna.merge(gtin_freight, on = 'gtin').drop(['freight_value_x'], axis = 1).rename({'freight_value_y' : 'freight_value'}, axis = 1)\n",
    "\n",
    "#join the datasets with freight = nan and the others\n",
    "df = df_freightok.append(df_freightna)\n",
    "\n",
    "#fill competition_price nan as olist_price\n",
    "df.competition_price = df.competition_price.fillna(df['olist_price'])"
   ]
  },
  {
   "cell_type": "markdown",
   "metadata": {},
   "source": [
    "### Selecting columns to dataset"
   ]
  },
  {
   "cell_type": "code",
   "execution_count": 4,
   "metadata": {},
   "outputs": [],
   "source": [
    "sel_col = ['date', 'gtin', 'item_name', 'competition_price', 'olist_price', 'freight_value', 'orders']\n",
    "df = df[df.columns.intersection(sel_col)]"
   ]
  },
  {
   "cell_type": "markdown",
   "metadata": {},
   "source": [
    "### Calculating price_ratio, freight_ratio and dummies"
   ]
  },
  {
   "cell_type": "code",
   "execution_count": 5,
   "metadata": {},
   "outputs": [],
   "source": [
    "df['price_ratio'] = df['olist_price'] / df['competition_price']\n",
    "df['freight_ratio'] = df['freight_value'] / df['olist_price']\n",
    "df['month'] = pd.DatetimeIndex(df['date']).month\n",
    "df['monthday'] = pd.DatetimeIndex(df['date']).day\n",
    "df['weekday'] = pd.DatetimeIndex(df['date']).weekday\n",
    "df['week'] = pd.DatetimeIndex(df['date']).week"
   ]
  },
  {
   "cell_type": "code",
   "execution_count": 6,
   "metadata": {},
   "outputs": [],
   "source": [
    "vars_cat = ['weekday', 'week', 'month', 'monthday']\n",
    "df_dummies = pd.get_dummies(df, columns = vars_cat, drop_first=True)"
   ]
  },
  {
   "cell_type": "markdown",
   "metadata": {},
   "source": [
    "### Calculating the total orders by gtin to, later, select only those with total ordes > 50"
   ]
  },
  {
   "cell_type": "code",
   "execution_count": 7,
   "metadata": {},
   "outputs": [],
   "source": [
    "mean_price = pd.DataFrame(df.groupby('gtin')['olist_price'].mean())\n",
    "total_orders = pd.DataFrame(df.groupby('gtin')['orders'].sum())\n",
    "df_summary = mean_price.merge(total_orders, on='gtin').sort_values('orders', ascending = False)"
   ]
  },
  {
   "cell_type": "code",
   "execution_count": 8,
   "metadata": {},
   "outputs": [
    {
     "name": "stdout",
     "output_type": "stream",
     "text": [
      "55\n"
     ]
    }
   ],
   "source": [
    "#Create a df with products total orders > 50.\n",
    "df_50 = df_summary[df_summary['orders'] > 50]\n",
    "print(len(df_50))\n",
    "\n",
    "#filter df original only with gtins with order > 50\n",
    "df_clean = df_dummies[df_dummies['gtin'].isin(df_50.index)]"
   ]
  },
  {
   "cell_type": "markdown",
   "metadata": {},
   "source": [
    "From 537 gtins of cellphones, we have 55 that had total orders > 50. Let's filter only those gtin to model. I think there's no data enough to model all."
   ]
  },
  {
   "cell_type": "markdown",
   "metadata": {},
   "source": [
    "### Saving the dataset post-ETL to use on predictions"
   ]
  },
  {
   "cell_type": "code",
   "execution_count": 10,
   "metadata": {},
   "outputs": [],
   "source": [
    "df_clean.to_csv('../data/celular_over50.csv', index = False)"
   ]
  }
 ],
 "metadata": {
  "kernelspec": {
   "display_name": "Python 3",
   "language": "python",
   "name": "python3"
  },
  "language_info": {
   "codemirror_mode": {
    "name": "ipython",
    "version": 3
   },
   "file_extension": ".py",
   "mimetype": "text/x-python",
   "name": "python",
   "nbconvert_exporter": "python",
   "pygments_lexer": "ipython3",
   "version": "3.7.6"
  }
 },
 "nbformat": 4,
 "nbformat_minor": 4
}
