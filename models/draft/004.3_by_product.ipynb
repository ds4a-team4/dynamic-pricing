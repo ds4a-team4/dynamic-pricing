{
 "cells": [
  {
   "cell_type": "markdown",
   "metadata": {},
   "source": [
    "## 4.1.2 - Running regressions for all products in one model after clusterization"
   ]
  },
  {
   "cell_type": "code",
   "execution_count": 3,
   "metadata": {},
   "outputs": [],
   "source": [
    "import warnings\n",
    "warnings.filterwarnings('ignore')\n",
    "\n",
    "import pandas as pd\n",
    "import numpy as np\n",
    "from scipy import stats\n",
    "from statistics import mean \n",
    "\n",
    "from sklearn.cluster import KMeans\n",
    "from yellowbrick.cluster import KElbowVisualizer\n",
    "\n",
    "import statsmodels.formula.api as smf\n",
    "import statsmodels.api as sm\n",
    "from sklearn import metrics, linear_model\n",
    "from sklearn.metrics import mean_squared_error, r2_score\n",
    "from sklearn.preprocessing import MinMaxScaler, minmax_scale\n",
    "from sklearn.model_selection import train_test_split\n",
    "from sklearn.tree import DecisionTreeRegressor\n",
    "from sklearn.ensemble import RandomForestRegressor\n",
    "from sklearn.svm import SVR\n",
    "\n",
    "\n",
    "import matplotlib.pyplot       as plt\n",
    "import seaborn                 as sns"
   ]
  },
  {
   "cell_type": "markdown",
   "metadata": {},
   "source": [
    "### Loading the cleaned dataset"
   ]
  },
  {
   "cell_type": "code",
   "execution_count": 4,
   "metadata": {},
   "outputs": [
    {
     "data": {
      "text/html": [
       "<div>\n",
       "<style scoped>\n",
       "    .dataframe tbody tr th:only-of-type {\n",
       "        vertical-align: middle;\n",
       "    }\n",
       "\n",
       "    .dataframe tbody tr th {\n",
       "        vertical-align: top;\n",
       "    }\n",
       "\n",
       "    .dataframe thead th {\n",
       "        text-align: right;\n",
       "    }\n",
       "</style>\n",
       "<table border=\"1\" class=\"dataframe\">\n",
       "  <thead>\n",
       "    <tr style=\"text-align: right;\">\n",
       "      <th></th>\n",
       "      <th>date</th>\n",
       "      <th>competition_price</th>\n",
       "      <th>gtin</th>\n",
       "      <th>item_name</th>\n",
       "      <th>orders</th>\n",
       "      <th>olist_price</th>\n",
       "      <th>freight_value</th>\n",
       "      <th>price_ratio</th>\n",
       "      <th>freight_ratio</th>\n",
       "      <th>weekday_1</th>\n",
       "      <th>...</th>\n",
       "      <th>monthday_22</th>\n",
       "      <th>monthday_23</th>\n",
       "      <th>monthday_24</th>\n",
       "      <th>monthday_25</th>\n",
       "      <th>monthday_26</th>\n",
       "      <th>monthday_27</th>\n",
       "      <th>monthday_28</th>\n",
       "      <th>monthday_29</th>\n",
       "      <th>monthday_30</th>\n",
       "      <th>monthday_31</th>\n",
       "    </tr>\n",
       "  </thead>\n",
       "  <tbody>\n",
       "    <tr>\n",
       "      <th>0</th>\n",
       "      <td>2019-07-14</td>\n",
       "      <td>419.90</td>\n",
       "      <td>6438409014344</td>\n",
       "      <td>Nokia  8110 4g  dual chip amarelo .</td>\n",
       "      <td>1.0</td>\n",
       "      <td>419.9</td>\n",
       "      <td>24.23</td>\n",
       "      <td>1.000000</td>\n",
       "      <td>0.057704</td>\n",
       "      <td>0</td>\n",
       "      <td>...</td>\n",
       "      <td>0</td>\n",
       "      <td>0</td>\n",
       "      <td>0</td>\n",
       "      <td>0</td>\n",
       "      <td>0</td>\n",
       "      <td>0</td>\n",
       "      <td>0</td>\n",
       "      <td>0</td>\n",
       "      <td>0</td>\n",
       "      <td>0</td>\n",
       "    </tr>\n",
       "    <tr>\n",
       "      <th>1</th>\n",
       "      <td>2019-07-15</td>\n",
       "      <td>419.90</td>\n",
       "      <td>6438409014344</td>\n",
       "      <td>Nokia  8110 4g  Dual Chip Amarelo</td>\n",
       "      <td>1.0</td>\n",
       "      <td>419.9</td>\n",
       "      <td>24.23</td>\n",
       "      <td>1.000000</td>\n",
       "      <td>0.057704</td>\n",
       "      <td>0</td>\n",
       "      <td>...</td>\n",
       "      <td>0</td>\n",
       "      <td>0</td>\n",
       "      <td>0</td>\n",
       "      <td>0</td>\n",
       "      <td>0</td>\n",
       "      <td>0</td>\n",
       "      <td>0</td>\n",
       "      <td>0</td>\n",
       "      <td>0</td>\n",
       "      <td>0</td>\n",
       "    </tr>\n",
       "    <tr>\n",
       "      <th>2</th>\n",
       "      <td>2019-07-21</td>\n",
       "      <td>377.91</td>\n",
       "      <td>6438409014344</td>\n",
       "      <td>Nokia  8110 4g  Dual Chip Amarelo</td>\n",
       "      <td>1.0</td>\n",
       "      <td>419.9</td>\n",
       "      <td>24.23</td>\n",
       "      <td>1.111111</td>\n",
       "      <td>0.057704</td>\n",
       "      <td>0</td>\n",
       "      <td>...</td>\n",
       "      <td>0</td>\n",
       "      <td>0</td>\n",
       "      <td>0</td>\n",
       "      <td>0</td>\n",
       "      <td>0</td>\n",
       "      <td>0</td>\n",
       "      <td>0</td>\n",
       "      <td>0</td>\n",
       "      <td>0</td>\n",
       "      <td>0</td>\n",
       "    </tr>\n",
       "    <tr>\n",
       "      <th>3</th>\n",
       "      <td>2019-07-27</td>\n",
       "      <td>377.91</td>\n",
       "      <td>6438409014344</td>\n",
       "      <td>Nokia  8110 4g  dual chip amarelo .</td>\n",
       "      <td>1.0</td>\n",
       "      <td>419.9</td>\n",
       "      <td>42.58</td>\n",
       "      <td>1.111111</td>\n",
       "      <td>0.101405</td>\n",
       "      <td>0</td>\n",
       "      <td>...</td>\n",
       "      <td>0</td>\n",
       "      <td>0</td>\n",
       "      <td>0</td>\n",
       "      <td>0</td>\n",
       "      <td>0</td>\n",
       "      <td>1</td>\n",
       "      <td>0</td>\n",
       "      <td>0</td>\n",
       "      <td>0</td>\n",
       "      <td>0</td>\n",
       "    </tr>\n",
       "    <tr>\n",
       "      <th>4</th>\n",
       "      <td>2019-08-05</td>\n",
       "      <td>379.90</td>\n",
       "      <td>6438409014344</td>\n",
       "      <td>Nokia  8110 4g  Dual Chip Amarelo</td>\n",
       "      <td>1.0</td>\n",
       "      <td>419.9</td>\n",
       "      <td>20.19</td>\n",
       "      <td>1.105291</td>\n",
       "      <td>0.048083</td>\n",
       "      <td>0</td>\n",
       "      <td>...</td>\n",
       "      <td>0</td>\n",
       "      <td>0</td>\n",
       "      <td>0</td>\n",
       "      <td>0</td>\n",
       "      <td>0</td>\n",
       "      <td>0</td>\n",
       "      <td>0</td>\n",
       "      <td>0</td>\n",
       "      <td>0</td>\n",
       "      <td>0</td>\n",
       "    </tr>\n",
       "  </tbody>\n",
       "</table>\n",
       "<p>5 rows × 107 columns</p>\n",
       "</div>"
      ],
      "text/plain": [
       "        date  competition_price           gtin  \\\n",
       "0 2019-07-14             419.90  6438409014344   \n",
       "1 2019-07-15             419.90  6438409014344   \n",
       "2 2019-07-21             377.91  6438409014344   \n",
       "3 2019-07-27             377.91  6438409014344   \n",
       "4 2019-08-05             379.90  6438409014344   \n",
       "\n",
       "                             item_name  orders  olist_price  freight_value  \\\n",
       "0  Nokia  8110 4g  dual chip amarelo .     1.0        419.9          24.23   \n",
       "1    Nokia  8110 4g  Dual Chip Amarelo     1.0        419.9          24.23   \n",
       "2    Nokia  8110 4g  Dual Chip Amarelo     1.0        419.9          24.23   \n",
       "3  Nokia  8110 4g  dual chip amarelo .     1.0        419.9          42.58   \n",
       "4    Nokia  8110 4g  Dual Chip Amarelo     1.0        419.9          20.19   \n",
       "\n",
       "   price_ratio  freight_ratio  weekday_1  ...  monthday_22  monthday_23  \\\n",
       "0     1.000000       0.057704          0  ...            0            0   \n",
       "1     1.000000       0.057704          0  ...            0            0   \n",
       "2     1.111111       0.057704          0  ...            0            0   \n",
       "3     1.111111       0.101405          0  ...            0            0   \n",
       "4     1.105291       0.048083          0  ...            0            0   \n",
       "\n",
       "   monthday_24  monthday_25  monthday_26  monthday_27  monthday_28  \\\n",
       "0            0            0            0            0            0   \n",
       "1            0            0            0            0            0   \n",
       "2            0            0            0            0            0   \n",
       "3            0            0            0            1            0   \n",
       "4            0            0            0            0            0   \n",
       "\n",
       "   monthday_29  monthday_30  monthday_31  \n",
       "0            0            0            0  \n",
       "1            0            0            0  \n",
       "2            0            0            0  \n",
       "3            0            0            0  \n",
       "4            0            0            0  \n",
       "\n",
       "[5 rows x 107 columns]"
      ]
     },
     "execution_count": 4,
     "metadata": {},
     "output_type": "execute_result"
    }
   ],
   "source": [
    "df = pd.read_csv('../data/celular_over50.csv', dtype={'gtin':'str'})\n",
    "df['date'] = pd.to_datetime(df['date'])\n",
    "df.head()"
   ]
  },
  {
   "cell_type": "markdown",
   "metadata": {},
   "source": [
    "### Normalizing the prices and freights"
   ]
  },
  {
   "cell_type": "code",
   "execution_count": 5,
   "metadata": {},
   "outputs": [],
   "source": [
    "df['competition_price_sc'] = df.groupby('gtin').competition_price.transform(lambda x: minmax_scale(x.astype(float)))\n",
    "df['price_sc'] = df.groupby('gtin').olist_price.transform(lambda x: minmax_scale(x.astype(float)))\n",
    "df['freight_sc'] = df.groupby('gtin').freight_value.transform(lambda x: minmax_scale(x.astype(float)))"
   ]
  },
  {
   "cell_type": "markdown",
   "metadata": {},
   "source": [
    "### Group the data, trying to find the most important products"
   ]
  },
  {
   "cell_type": "code",
   "execution_count": 6,
   "metadata": {},
   "outputs": [],
   "source": [
    "price_ratio = pd.DataFrame(df.groupby('gtin')['price_ratio'].mean())\n",
    "freight_ratio = pd.DataFrame(df.groupby('gtin')['freight_ratio'].mean())\n",
    "total_orders = pd.DataFrame(df.groupby('gtin')['orders'].sum())"
   ]
  },
  {
   "cell_type": "code",
   "execution_count": 7,
   "metadata": {},
   "outputs": [
    {
     "data": {
      "text/html": [
       "<div>\n",
       "<style scoped>\n",
       "    .dataframe tbody tr th:only-of-type {\n",
       "        vertical-align: middle;\n",
       "    }\n",
       "\n",
       "    .dataframe tbody tr th {\n",
       "        vertical-align: top;\n",
       "    }\n",
       "\n",
       "    .dataframe thead th {\n",
       "        text-align: right;\n",
       "    }\n",
       "</style>\n",
       "<table border=\"1\" class=\"dataframe\">\n",
       "  <thead>\n",
       "    <tr style=\"text-align: right;\">\n",
       "      <th></th>\n",
       "      <th>price_ratio</th>\n",
       "      <th>orders</th>\n",
       "      <th>freight_ratio</th>\n",
       "    </tr>\n",
       "    <tr>\n",
       "      <th>gtin</th>\n",
       "      <th></th>\n",
       "      <th></th>\n",
       "      <th></th>\n",
       "    </tr>\n",
       "  </thead>\n",
       "  <tbody>\n",
       "    <tr>\n",
       "      <th>7893299910340</th>\n",
       "      <td>0.981869</td>\n",
       "      <td>3417.0</td>\n",
       "      <td>0.005112</td>\n",
       "    </tr>\n",
       "    <tr>\n",
       "      <th>7893299910425</th>\n",
       "      <td>0.978969</td>\n",
       "      <td>3146.0</td>\n",
       "      <td>0.004572</td>\n",
       "    </tr>\n",
       "    <tr>\n",
       "      <th>7893299910418</th>\n",
       "      <td>1.015605</td>\n",
       "      <td>1239.0</td>\n",
       "      <td>0.012521</td>\n",
       "    </tr>\n",
       "    <tr>\n",
       "      <th>7892509104661</th>\n",
       "      <td>1.015379</td>\n",
       "      <td>1213.0</td>\n",
       "      <td>0.004321</td>\n",
       "    </tr>\n",
       "    <tr>\n",
       "      <th>7892509104586</th>\n",
       "      <td>1.005820</td>\n",
       "      <td>1101.0</td>\n",
       "      <td>0.003551</td>\n",
       "    </tr>\n",
       "  </tbody>\n",
       "</table>\n",
       "</div>"
      ],
      "text/plain": [
       "               price_ratio  orders  freight_ratio\n",
       "gtin                                             \n",
       "7893299910340     0.981869  3417.0       0.005112\n",
       "7893299910425     0.978969  3146.0       0.004572\n",
       "7893299910418     1.015605  1239.0       0.012521\n",
       "7892509104661     1.015379  1213.0       0.004321\n",
       "7892509104586     1.005820  1101.0       0.003551"
      ]
     },
     "execution_count": 7,
     "metadata": {},
     "output_type": "execute_result"
    }
   ],
   "source": [
    "df_summary = price_ratio.merge(total_orders, on='gtin').sort_values('orders', ascending = False)\n",
    "df_summary = df_summary.merge(freight_ratio, on='gtin').sort_values('orders', ascending = False)\n",
    "df_summary.head()"
   ]
  },
  {
   "cell_type": "markdown",
   "metadata": {},
   "source": [
    "## Product 1"
   ]
  },
  {
   "cell_type": "code",
   "execution_count": 10,
   "metadata": {},
   "outputs": [],
   "source": [
    "sel_gtin = '7893299910340'\n",
    "df_c = df[df['gtin'] == sel_gtin]"
   ]
  },
  {
   "cell_type": "markdown",
   "metadata": {},
   "source": [
    "### Trying some regressions"
   ]
  },
  {
   "cell_type": "code",
   "execution_count": 13,
   "metadata": {},
   "outputs": [
    {
     "data": {
      "text/plain": [
       "5.0975776034040186"
      ]
     },
     "execution_count": 13,
     "metadata": {},
     "output_type": "execute_result"
    }
   ],
   "source": [
    "mae = []\n",
    "for i in range(0,100):\n",
    "    train, test = train_test_split(df_c, test_size=0.8)\n",
    "    formula = 'orders ~ olist_price + competition_price + freight_value'\n",
    "    model = smf.ols(formula = formula, data = train).fit()\n",
    "    mae.append(metrics.median_absolute_error(test['orders'], model.predict(test)))\n",
    "\n",
    "mean(mae)    \n",
    "#print(model.summary())\n",
    "    "
   ]
  },
  {
   "cell_type": "code",
   "execution_count": 14,
   "metadata": {},
   "outputs": [
    {
     "data": {
      "text/plain": [
       "5.361899218915834"
      ]
     },
     "execution_count": 14,
     "metadata": {},
     "output_type": "execute_result"
    }
   ],
   "source": [
    "mae = []\n",
    "for i in range(0,100):\n",
    "    train, test = train_test_split(df_c, test_size=0.8)\n",
    "    formula = 'orders ~ price_sc + competition_price_sc + freight_ratio'\n",
    "    model = smf.ols(formula = formula, data = train).fit()\n",
    "    mae.append(metrics.median_absolute_error(test['orders'], model.predict(test)))\n",
    "\n",
    "mean(mae)    \n",
    "#print(model.summary())\n",
    "    "
   ]
  },
  {
   "cell_type": "code",
   "execution_count": 15,
   "metadata": {},
   "outputs": [
    {
     "data": {
      "text/plain": [
       "4.949045070792471"
      ]
     },
     "execution_count": 15,
     "metadata": {},
     "output_type": "execute_result"
    }
   ],
   "source": [
    "mae = []\n",
    "for i in range(0,100):\n",
    "    train, test = train_test_split(df_c, test_size=0.8)\n",
    "    formula = 'orders ~ price_ratio + freight_ratio'\n",
    "    model = smf.ols(formula = formula, data = train).fit()\n",
    "    mae.append(metrics.median_absolute_error(test['orders'], model.predict(test)))\n",
    "\n",
    "mean(mae)\n",
    "#print(model.summary())\n",
    "    "
   ]
  },
  {
   "cell_type": "code",
   "execution_count": 16,
   "metadata": {},
   "outputs": [
    {
     "data": {
      "text/plain": [
       "10.18992209136789"
      ]
     },
     "execution_count": 16,
     "metadata": {},
     "output_type": "execute_result"
    }
   ],
   "source": [
    "mae = []\n",
    "for i in range(0,100):\n",
    "    train, test = train_test_split(df_c, test_size=0.8)\n",
    "    formula = 'orders ~ price_ratio + freight_ratio + competition_price_sc + price_sc + freight_sc + weekday_1 + weekday_2 + weekday_3 +\\\n",
    "        weekday_4 + weekday_5 + weekday_6 + week_2 + week_3 + week_4 + week_5 + week_6 + week_7 + \\\n",
    "        week_8 + week_9 + week_10 + week_11 + week_12 + week_13 + week_14 + week_15 + week_16 + week_17 +\\\n",
    "        week_18 + week_19 + week_20 + week_21 + week_22 + week_23 + week_24 + week_25 + week_26 + week_27 +\\\n",
    "        week_28 + week_29 + week_30 + week_31 + week_32 + week_33 + week_34 + week_35 + week_36 + week_37 +\\\n",
    "        week_38 + week_39 + week_40 + week_41 + week_42 + week_43 + week_44 + week_45 + week_46 + week_47 +\\\n",
    "        week_48 + week_49 + week_50 + week_51 + week_52 + month_2 + month_3 + month_4 + month_5 + month_6 +\\\n",
    "        month_7 + month_8 + month_9 + month_10 + month_11 + month_12 + monthday_2 + monthday_3 + monthday_4 +\\\n",
    "        monthday_5 + monthday_6 + monthday_7 + monthday_8 + monthday_9 + monthday_10 + monthday_11 + monthday_12 +\\\n",
    "        monthday_13 + monthday_14 + monthday_15 + monthday_16 + monthday_17 + monthday_18 + monthday_19 +\\\n",
    "        monthday_20 + monthday_21 + monthday_22 + monthday_23 + monthday_24 + monthday_25 + monthday_26 +\\\n",
    "        monthday_27 + monthday_28 + monthday_29 + monthday_30 + monthday_31'\n",
    "    model = smf.ols(formula = formula, data = train).fit()\n",
    "    mae.append(metrics.median_absolute_error(test['orders'], model.predict(test)))\n",
    "\n",
    "mean(mae)   \n",
    "#print(model.summary())\n",
    "    "
   ]
  },
  {
   "cell_type": "markdown",
   "metadata": {},
   "source": [
    "### Decision Trees"
   ]
  },
  {
   "cell_type": "code",
   "execution_count": 18,
   "metadata": {},
   "outputs": [
    {
     "data": {
      "text/plain": [
       "0.5869787067197068"
      ]
     },
     "execution_count": 18,
     "metadata": {},
     "output_type": "execute_result"
    }
   ],
   "source": [
    "sel_col = ['competition_price_sc', 'price_sc', 'freight_value_sc']\n",
    "y = df_c['orders']\n",
    "x = df_c[df_c.columns.intersection(sel_col)]\n",
    "mae = []\n",
    "\n",
    "for i in range(0,100):\n",
    "    x_train, x_test, y_train, y_test = train_test_split(x, y, test_size=0.2)\n",
    "    treeregressor = DecisionTreeRegressor(max_depth = 5)\n",
    "    tree_fit = treeregressor.fit(x_train, y_train)\n",
    "    tree_pred = tree_fit.predict(x_test)\n",
    "    mae.append(metrics.median_absolute_error(y_test, tree_pred))\n",
    "\n",
    "mean(mae)"
   ]
  },
  {
   "cell_type": "code",
   "execution_count": 19,
   "metadata": {},
   "outputs": [
    {
     "data": {
      "text/plain": [
       "0.5395505992292956"
      ]
     },
     "execution_count": 19,
     "metadata": {},
     "output_type": "execute_result"
    }
   ],
   "source": [
    "sel_col = ['competition_price_sc', 'price_sc', 'freight_value_sc', 'price_ratio', 'freight_ratio']\n",
    "y = df_c['orders']\n",
    "x = df_c[df_c.columns.intersection(sel_col)]\n",
    "mae = []\n",
    "\n",
    "for i in range(0,100):\n",
    "    x_train, x_test, y_train, y_test = train_test_split(x, y, test_size=0.2)\n",
    "    treeregressor = DecisionTreeRegressor(max_depth = 5)\n",
    "    tree_fit = treeregressor.fit(x_train, y_train)\n",
    "    tree_pred = tree_fit.predict(x_test)\n",
    "    mae.append(metrics.median_absolute_error(y_test, tree_pred))\n",
    "\n",
    "mean(mae)"
   ]
  },
  {
   "cell_type": "code",
   "execution_count": 20,
   "metadata": {},
   "outputs": [
    {
     "data": {
      "text/plain": [
       "0.5367134846518279"
      ]
     },
     "execution_count": 20,
     "metadata": {},
     "output_type": "execute_result"
    }
   ],
   "source": [
    "sel_col = ['competition_price_sc', 'price_sc', 'freight_value_sc', 'price_ratio', 'freight_ratio', \n",
    "           'weekday_1', 'weekday_2', 'weekday_3', 'weekday_4', 'weekday_5', 'weekday_6']\n",
    "y = df_c['orders']\n",
    "x = df_c[df_c.columns.intersection(sel_col)]\n",
    "mae = []\n",
    "\n",
    "for i in range(0,100):\n",
    "    x_train, x_test, y_train, y_test = train_test_split(x, y, test_size=0.2)\n",
    "    treeregressor = DecisionTreeRegressor(max_depth = 5)\n",
    "    tree_fit = treeregressor.fit(x_train, y_train)\n",
    "    tree_pred = tree_fit.predict(x_test)\n",
    "    mae.append(metrics.median_absolute_error(y_test, tree_pred))\n",
    "\n",
    "mean(mae)"
   ]
  },
  {
   "cell_type": "code",
   "execution_count": 21,
   "metadata": {},
   "outputs": [
    {
     "data": {
      "text/plain": [
       "0.5385429025444879"
      ]
     },
     "execution_count": 21,
     "metadata": {},
     "output_type": "execute_result"
    }
   ],
   "source": [
    "sel_col = ['competition_price_sc', 'price_sc', 'freight_value_sc', 'price_ratio', 'freight_ratio', \n",
    "           'weekday_1', 'weekday_2', 'weekday_3', 'weekday_4', 'weekday_5', 'weekday_6', 'week_2', 'week_3', 'week_4',\n",
    "            'week_5', 'week_6', 'week_7', 'week_8', 'week_9', 'week_10', 'week_11', 'week_12', 'week_13',\n",
    "            'week_14', 'week_15', 'week_16', 'week_17', 'week_18', 'week_19', 'week_20', 'week_21', 'week_22',\n",
    "            'week_23', 'week_24', 'week_25', 'week_26', 'week_27', 'week_28', 'week_29', 'week_30', 'week_31', \n",
    "            'week_32', 'week_33', 'week_34', 'week_35', 'week_36', 'week_37', 'week_38', 'week_39', 'week_40', \n",
    "            'week_41', 'week_42', 'week_43', 'week_44', 'week_45', 'week_46', 'week_47', 'week_48', 'week_49', \n",
    "            'week_50', 'week_51', 'week_52']\n",
    "y = df_c['orders']\n",
    "x = df_c[df_c.columns.intersection(sel_col)]\n",
    "mae = []\n",
    "\n",
    "for i in range(0,100):\n",
    "    x_train, x_test, y_train, y_test = train_test_split(x, y, test_size=0.2)\n",
    "    treeregressor = DecisionTreeRegressor(max_depth = 5)\n",
    "    tree_fit = treeregressor.fit(x_train, y_train)\n",
    "    tree_pred = tree_fit.predict(x_test)\n",
    "    mae.append(metrics.median_absolute_error(y_test, tree_pred))\n",
    "\n",
    "mean(mae)"
   ]
  },
  {
   "cell_type": "code",
   "execution_count": 23,
   "metadata": {},
   "outputs": [
    {
     "data": {
      "text/plain": [
       "0.5675450996441634"
      ]
     },
     "execution_count": 23,
     "metadata": {},
     "output_type": "execute_result"
    }
   ],
   "source": [
    "sel_col = ['competition_price_sc', 'price_sc', 'freight_value_sc', 'price_ratio', 'freight_ratio', \n",
    "           'weekday_1', 'weekday_2', 'weekday_3', 'weekday_4', 'weekday_5', 'weekday_6', 'month_2',\n",
    "           'month_3', 'month_4', 'month_5', 'month_6', 'month_7', 'month_8', 'month_9', 'month_10', \n",
    "           'month_11','month_12']\n",
    "y = df_c['orders']\n",
    "x = df_c[df_c.columns.intersection(sel_col)]\n",
    "mae = []\n",
    "\n",
    "for i in range(0,100):\n",
    "    x_train, x_test, y_train, y_test = train_test_split(x, y, test_size=0.2)\n",
    "    treeregressor = DecisionTreeRegressor(max_depth = 5)\n",
    "    tree_fit = treeregressor.fit(x_train, y_train)\n",
    "    tree_pred = tree_fit.predict(x_test)\n",
    "    mae.append(metrics.median_absolute_error(y_test, tree_pred))\n",
    "\n",
    "mean(mae)"
   ]
  },
  {
   "cell_type": "code",
   "execution_count": 24,
   "metadata": {},
   "outputs": [
    {
     "data": {
      "text/plain": [
       "0.5514843459594453"
      ]
     },
     "execution_count": 24,
     "metadata": {},
     "output_type": "execute_result"
    }
   ],
   "source": [
    "sel_col = ['competition_price_sc', 'price_sc', 'freight_value_sc', 'price_ratio', 'freight_ratio', \n",
    "            'weekday_1', 'weekday_2', 'weekday_3', 'weekday_4', 'weekday_5', 'weekday_6', 'month_2',\n",
    "            'month_3', 'month_4', 'month_5', 'month_6', 'month_7', 'month_8', 'month_9', 'month_10', \n",
    "            'month_11','month_12''monthday_2', 'monthday_3', 'monthday_4', 'monthday_5', 'monthday_6', \n",
    "            'monthday_7', 'monthday_8', 'monthday_9', 'monthday_10', 'monthday_11', 'monthday_12', \n",
    "            'monthday_13', 'monthday_14', 'monthday_15', 'monthday_16', 'monthday_17', 'monthday_18', \n",
    "            'monthday_19', 'monthday_20', 'monthday_21', 'monthday_22', 'monthday_23','monthday_24',\n",
    "            'monthday_25', 'monthday_26', 'monthday_27', 'monthday_28', 'monthday_29', 'monthday_30',\n",
    "            'monthday_31']\n",
    "y = df_c['orders']\n",
    "x = df_c[df_c.columns.intersection(sel_col)]\n",
    "mae = []\n",
    "\n",
    "for i in range(0,100):\n",
    "    x_train, x_test, y_train, y_test = train_test_split(x, y, test_size=0.2)\n",
    "    treeregressor = DecisionTreeRegressor(max_depth = 5)\n",
    "    tree_fit = treeregressor.fit(x_train, y_train)\n",
    "    tree_pred = tree_fit.predict(x_test)\n",
    "    mae.append(metrics.median_absolute_error(y_test, tree_pred))\n",
    "\n",
    "mean(mae)"
   ]
  },
  {
   "cell_type": "markdown",
   "metadata": {},
   "source": [
    "### Random Forest"
   ]
  },
  {
   "cell_type": "markdown",
   "metadata": {},
   "source": [
    "After some hyperparameter adjusts, I found that. It's not better than decicion tree"
   ]
  },
  {
   "cell_type": "code",
   "execution_count": 26,
   "metadata": {},
   "outputs": [
    {
     "name": "stdout",
     "output_type": "stream",
     "text": [
      "0.49046123065994157\n"
     ]
    }
   ],
   "source": [
    "sel_col = ['competition_price_sc', 'price_sc', 'freight_value_sc']\n",
    "y = df_c['orders']\n",
    "x = df_c[df_c.columns.intersection(sel_col)]\n",
    "\n",
    "x_train, x_test, y_train, y_test = train_test_split(x, y, test_size=0.2)\n",
    "treeregressor = RandomForestRegressor(n_estimators=1000, max_depth=5)\n",
    "tree_fit = treeregressor.fit(x_train, y_train)\n",
    "tree_pred = tree_fit.predict(x_test)\n",
    "print(metrics.median_absolute_error(y_test, tree_pred))\n"
   ]
  },
  {
   "cell_type": "markdown",
   "metadata": {},
   "source": [
    "### SVM"
   ]
  },
  {
   "cell_type": "code",
   "execution_count": 27,
   "metadata": {},
   "outputs": [
    {
     "name": "stdout",
     "output_type": "stream",
     "text": [
      "MAE: 0.5834451976590613\n"
     ]
    }
   ],
   "source": [
    "sel_col = ['competition_price', 'olist_price', 'freight_value', 'price_ratio', \n",
    "           'freight_ratio', 'competition_price_sc', 'price_sc', 'freight_sc']\n",
    "y = df_c['orders']\n",
    "x = df_c[df_c.columns.intersection(sel_col)]\n",
    "\n",
    "x_train, x_test, y_train, y_test = train_test_split(x, y, test_size=0.2, random_state=42)\n",
    "\n",
    "regressor = SVR(C=1.0, epsilon=0.2)\n",
    "fit = regressor.fit(x_train, y_train)\n",
    "pred = fit.predict(x_test)\n",
    "print('MAE: '+ str(metrics.median_absolute_error(y_test, pred)))"
   ]
  },
  {
   "cell_type": "code",
   "execution_count": 28,
   "metadata": {},
   "outputs": [
    {
     "name": "stdout",
     "output_type": "stream",
     "text": [
      "MAE: 0.692335942841106\n"
     ]
    }
   ],
   "source": [
    "sel_col = ['competition_price', 'olist_price', 'freight_value', 'price_ratio', 'freight_ratio', 'weekday_1',\n",
    "            'weekday_2', 'weekday_3', 'weekday_4', 'weekday_5', 'weekday_6', 'week_2', 'week_3', 'week_4',\n",
    "            'week_5', 'week_6', 'week_7', 'week_8', 'week_9', 'week_10', 'week_11', 'week_12', 'week_13',\n",
    "            'week_14', 'week_15', 'week_16', 'week_17', 'week_18', 'week_19', 'week_20', 'week_21', 'week_22',\n",
    "            'week_23', 'week_24', 'week_25', 'week_26', 'week_27', 'week_28', 'week_29', 'week_30', 'week_31', 'week_32',\n",
    "            'week_33', 'week_34', 'week_35', 'week_36', 'week_37', 'week_38', 'week_39', 'week_40', 'week_41', 'week_42',\n",
    "            'week_43', 'week_44', 'week_45', 'week_46', 'week_47', 'week_48', 'week_49', 'week_50', 'week_51', 'week_52',\n",
    "            'month_2', 'month_3', 'month_4', 'month_5', 'month_6', 'month_7', 'month_8', 'month_9', 'month_10', 'month_11',\n",
    "            'month_12', 'monthday_2', 'monthday_3', 'monthday_4', 'monthday_5', 'monthday_6', 'monthday_7', 'monthday_8',\n",
    "            'monthday_9', 'monthday_10', 'monthday_11', 'monthday_12', 'monthday_13', 'monthday_14', 'monthday_15', 'monthday_16',\n",
    "            'monthday_17', 'monthday_18', 'monthday_19', 'monthday_20', 'monthday_21', 'monthday_22', 'monthday_23','monthday_24',\n",
    "            'monthday_25', 'monthday_26', 'monthday_27', 'monthday_28', 'monthday_29', 'monthday_30', 'monthday_31','competition_price_sc',\n",
    "            'price_sc', 'freight_sc']\n",
    "y = df_c['orders']\n",
    "x = df_c[df_c.columns.intersection(sel_col)]\n",
    "\n",
    "x_train, x_test, y_train, y_test = train_test_split(x, y, test_size=0.2, random_state=42)\n",
    "\n",
    "regressor = SVR(C=1.0, epsilon=0.2)\n",
    "fit = regressor.fit(x_train, y_train)\n",
    "pred = fit.predict(x_test)\n",
    "print('MAE: '+ str(metrics.median_absolute_error(y_test, pred)))"
   ]
  },
  {
   "cell_type": "markdown",
   "metadata": {},
   "source": [
    "for the most sold product, the results are worst than the cluster and even the all by gtin."
   ]
  },
  {
   "cell_type": "markdown",
   "metadata": {},
   "source": [
    "## Product 2"
   ]
  },
  {
   "cell_type": "code",
   "execution_count": 29,
   "metadata": {},
   "outputs": [],
   "source": [
    "sel_gtin = '7893299910425'\n",
    "df_c = df[df['gtin'] == sel_gtin]"
   ]
  },
  {
   "cell_type": "markdown",
   "metadata": {},
   "source": [
    "### Trying some regressions"
   ]
  },
  {
   "cell_type": "code",
   "execution_count": 30,
   "metadata": {},
   "outputs": [
    {
     "data": {
      "text/plain": [
       "6.708218839049585"
      ]
     },
     "execution_count": 30,
     "metadata": {},
     "output_type": "execute_result"
    }
   ],
   "source": [
    "mae = []\n",
    "for i in range(0,100):\n",
    "    train, test = train_test_split(df_c, test_size=0.8)\n",
    "    formula = 'orders ~ olist_price + competition_price + freight_value'\n",
    "    model = smf.ols(formula = formula, data = train).fit()\n",
    "    mae.append(metrics.median_absolute_error(test['orders'], model.predict(test)))\n",
    "\n",
    "mean(mae)    \n",
    "#print(model.summary())\n",
    "    "
   ]
  },
  {
   "cell_type": "code",
   "execution_count": 31,
   "metadata": {},
   "outputs": [
    {
     "data": {
      "text/plain": [
       "6.902281711550244"
      ]
     },
     "execution_count": 31,
     "metadata": {},
     "output_type": "execute_result"
    }
   ],
   "source": [
    "mae = []\n",
    "for i in range(0,100):\n",
    "    train, test = train_test_split(df_c, test_size=0.8)\n",
    "    formula = 'orders ~ price_sc + competition_price_sc + freight_ratio'\n",
    "    model = smf.ols(formula = formula, data = train).fit()\n",
    "    mae.append(metrics.median_absolute_error(test['orders'], model.predict(test)))\n",
    "\n",
    "mean(mae)    \n",
    "#print(model.summary())\n",
    "    "
   ]
  },
  {
   "cell_type": "code",
   "execution_count": 32,
   "metadata": {},
   "outputs": [
    {
     "data": {
      "text/plain": [
       "7.030892447594522"
      ]
     },
     "execution_count": 32,
     "metadata": {},
     "output_type": "execute_result"
    }
   ],
   "source": [
    "mae = []\n",
    "for i in range(0,100):\n",
    "    train, test = train_test_split(df_c, test_size=0.8)\n",
    "    formula = 'orders ~ price_ratio + freight_ratio'\n",
    "    model = smf.ols(formula = formula, data = train).fit()\n",
    "    mae.append(metrics.median_absolute_error(test['orders'], model.predict(test)))\n",
    "\n",
    "mean(mae)\n",
    "#print(model.summary())\n",
    "    "
   ]
  },
  {
   "cell_type": "code",
   "execution_count": 33,
   "metadata": {},
   "outputs": [
    {
     "data": {
      "text/plain": [
       "824.7140915788691"
      ]
     },
     "execution_count": 33,
     "metadata": {},
     "output_type": "execute_result"
    }
   ],
   "source": [
    "mae = []\n",
    "for i in range(0,100):\n",
    "    train, test = train_test_split(df_c, test_size=0.8)\n",
    "    formula = 'orders ~ price_ratio + freight_ratio + competition_price_sc + price_sc + freight_sc + weekday_1 + weekday_2 + weekday_3 +\\\n",
    "        weekday_4 + weekday_5 + weekday_6 + week_2 + week_3 + week_4 + week_5 + week_6 + week_7 + \\\n",
    "        week_8 + week_9 + week_10 + week_11 + week_12 + week_13 + week_14 + week_15 + week_16 + week_17 +\\\n",
    "        week_18 + week_19 + week_20 + week_21 + week_22 + week_23 + week_24 + week_25 + week_26 + week_27 +\\\n",
    "        week_28 + week_29 + week_30 + week_31 + week_32 + week_33 + week_34 + week_35 + week_36 + week_37 +\\\n",
    "        week_38 + week_39 + week_40 + week_41 + week_42 + week_43 + week_44 + week_45 + week_46 + week_47 +\\\n",
    "        week_48 + week_49 + week_50 + week_51 + week_52 + month_2 + month_3 + month_4 + month_5 + month_6 +\\\n",
    "        month_7 + month_8 + month_9 + month_10 + month_11 + month_12 + monthday_2 + monthday_3 + monthday_4 +\\\n",
    "        monthday_5 + monthday_6 + monthday_7 + monthday_8 + monthday_9 + monthday_10 + monthday_11 + monthday_12 +\\\n",
    "        monthday_13 + monthday_14 + monthday_15 + monthday_16 + monthday_17 + monthday_18 + monthday_19 +\\\n",
    "        monthday_20 + monthday_21 + monthday_22 + monthday_23 + monthday_24 + monthday_25 + monthday_26 +\\\n",
    "        monthday_27 + monthday_28 + monthday_29 + monthday_30 + monthday_31'\n",
    "    model = smf.ols(formula = formula, data = train).fit()\n",
    "    mae.append(metrics.median_absolute_error(test['orders'], model.predict(test)))\n",
    "\n",
    "mean(mae)   \n",
    "#print(model.summary())\n",
    "    "
   ]
  },
  {
   "cell_type": "markdown",
   "metadata": {},
   "source": [
    "### Decision Trees"
   ]
  },
  {
   "cell_type": "code",
   "execution_count": 34,
   "metadata": {},
   "outputs": [
    {
     "data": {
      "text/plain": [
       "1.2750121630980253"
      ]
     },
     "execution_count": 34,
     "metadata": {},
     "output_type": "execute_result"
    }
   ],
   "source": [
    "sel_col = ['competition_price_sc', 'price_sc', 'freight_value_sc']\n",
    "y = df_c['orders']\n",
    "x = df_c[df_c.columns.intersection(sel_col)]\n",
    "mae = []\n",
    "\n",
    "for i in range(0,100):\n",
    "    x_train, x_test, y_train, y_test = train_test_split(x, y, test_size=0.2)\n",
    "    treeregressor = DecisionTreeRegressor(max_depth = 5)\n",
    "    tree_fit = treeregressor.fit(x_train, y_train)\n",
    "    tree_pred = tree_fit.predict(x_test)\n",
    "    mae.append(metrics.median_absolute_error(y_test, tree_pred))\n",
    "\n",
    "mean(mae)"
   ]
  },
  {
   "cell_type": "code",
   "execution_count": 35,
   "metadata": {},
   "outputs": [
    {
     "data": {
      "text/plain": [
       "1.2723782816972862"
      ]
     },
     "execution_count": 35,
     "metadata": {},
     "output_type": "execute_result"
    }
   ],
   "source": [
    "sel_col = ['competition_price_sc', 'price_sc', 'freight_value_sc', 'price_ratio', 'freight_ratio']\n",
    "y = df_c['orders']\n",
    "x = df_c[df_c.columns.intersection(sel_col)]\n",
    "mae = []\n",
    "\n",
    "for i in range(0,100):\n",
    "    x_train, x_test, y_train, y_test = train_test_split(x, y, test_size=0.2)\n",
    "    treeregressor = DecisionTreeRegressor(max_depth = 5)\n",
    "    tree_fit = treeregressor.fit(x_train, y_train)\n",
    "    tree_pred = tree_fit.predict(x_test)\n",
    "    mae.append(metrics.median_absolute_error(y_test, tree_pred))\n",
    "\n",
    "mean(mae)"
   ]
  },
  {
   "cell_type": "code",
   "execution_count": 36,
   "metadata": {},
   "outputs": [
    {
     "data": {
      "text/plain": [
       "1.303531140217483"
      ]
     },
     "execution_count": 36,
     "metadata": {},
     "output_type": "execute_result"
    }
   ],
   "source": [
    "sel_col = ['competition_price_sc', 'price_sc', 'freight_value_sc', 'price_ratio', 'freight_ratio', \n",
    "           'weekday_1', 'weekday_2', 'weekday_3', 'weekday_4', 'weekday_5', 'weekday_6']\n",
    "y = df_c['orders']\n",
    "x = df_c[df_c.columns.intersection(sel_col)]\n",
    "mae = []\n",
    "\n",
    "for i in range(0,100):\n",
    "    x_train, x_test, y_train, y_test = train_test_split(x, y, test_size=0.2)\n",
    "    treeregressor = DecisionTreeRegressor(max_depth = 5)\n",
    "    tree_fit = treeregressor.fit(x_train, y_train)\n",
    "    tree_pred = tree_fit.predict(x_test)\n",
    "    mae.append(metrics.median_absolute_error(y_test, tree_pred))\n",
    "\n",
    "mean(mae)"
   ]
  },
  {
   "cell_type": "code",
   "execution_count": 37,
   "metadata": {},
   "outputs": [
    {
     "data": {
      "text/plain": [
       "1.2070998217094837"
      ]
     },
     "execution_count": 37,
     "metadata": {},
     "output_type": "execute_result"
    }
   ],
   "source": [
    "sel_col = ['competition_price_sc', 'price_sc', 'freight_value_sc', 'price_ratio', 'freight_ratio', \n",
    "           'weekday_1', 'weekday_2', 'weekday_3', 'weekday_4', 'weekday_5', 'weekday_6', 'week_2', 'week_3', 'week_4',\n",
    "            'week_5', 'week_6', 'week_7', 'week_8', 'week_9', 'week_10', 'week_11', 'week_12', 'week_13',\n",
    "            'week_14', 'week_15', 'week_16', 'week_17', 'week_18', 'week_19', 'week_20', 'week_21', 'week_22',\n",
    "            'week_23', 'week_24', 'week_25', 'week_26', 'week_27', 'week_28', 'week_29', 'week_30', 'week_31', \n",
    "            'week_32', 'week_33', 'week_34', 'week_35', 'week_36', 'week_37', 'week_38', 'week_39', 'week_40', \n",
    "            'week_41', 'week_42', 'week_43', 'week_44', 'week_45', 'week_46', 'week_47', 'week_48', 'week_49', \n",
    "            'week_50', 'week_51', 'week_52']\n",
    "y = df_c['orders']\n",
    "x = df_c[df_c.columns.intersection(sel_col)]\n",
    "mae = []\n",
    "\n",
    "for i in range(0,100):\n",
    "    x_train, x_test, y_train, y_test = train_test_split(x, y, test_size=0.2)\n",
    "    treeregressor = DecisionTreeRegressor(max_depth = 5)\n",
    "    tree_fit = treeregressor.fit(x_train, y_train)\n",
    "    tree_pred = tree_fit.predict(x_test)\n",
    "    mae.append(metrics.median_absolute_error(y_test, tree_pred))\n",
    "\n",
    "mean(mae)"
   ]
  },
  {
   "cell_type": "code",
   "execution_count": 38,
   "metadata": {},
   "outputs": [
    {
     "data": {
      "text/plain": [
       "1.3229796382054668"
      ]
     },
     "execution_count": 38,
     "metadata": {},
     "output_type": "execute_result"
    }
   ],
   "source": [
    "sel_col = ['competition_price_sc', 'price_sc', 'freight_value_sc', 'price_ratio', 'freight_ratio', \n",
    "           'weekday_1', 'weekday_2', 'weekday_3', 'weekday_4', 'weekday_5', 'weekday_6', 'month_2',\n",
    "           'month_3', 'month_4', 'month_5', 'month_6', 'month_7', 'month_8', 'month_9', 'month_10', \n",
    "           'month_11','month_12']\n",
    "y = df_c['orders']\n",
    "x = df_c[df_c.columns.intersection(sel_col)]\n",
    "mae = []\n",
    "\n",
    "for i in range(0,100):\n",
    "    x_train, x_test, y_train, y_test = train_test_split(x, y, test_size=0.2)\n",
    "    treeregressor = DecisionTreeRegressor(max_depth = 5)\n",
    "    tree_fit = treeregressor.fit(x_train, y_train)\n",
    "    tree_pred = tree_fit.predict(x_test)\n",
    "    mae.append(metrics.median_absolute_error(y_test, tree_pred))\n",
    "\n",
    "mean(mae)"
   ]
  },
  {
   "cell_type": "code",
   "execution_count": 39,
   "metadata": {},
   "outputs": [
    {
     "data": {
      "text/plain": [
       "1.3611796941606313"
      ]
     },
     "execution_count": 39,
     "metadata": {},
     "output_type": "execute_result"
    }
   ],
   "source": [
    "sel_col = ['competition_price_sc', 'price_sc', 'freight_value_sc', 'price_ratio', 'freight_ratio', \n",
    "            'weekday_1', 'weekday_2', 'weekday_3', 'weekday_4', 'weekday_5', 'weekday_6', 'month_2',\n",
    "            'month_3', 'month_4', 'month_5', 'month_6', 'month_7', 'month_8', 'month_9', 'month_10', \n",
    "            'month_11','month_12''monthday_2', 'monthday_3', 'monthday_4', 'monthday_5', 'monthday_6', \n",
    "            'monthday_7', 'monthday_8', 'monthday_9', 'monthday_10', 'monthday_11', 'monthday_12', \n",
    "            'monthday_13', 'monthday_14', 'monthday_15', 'monthday_16', 'monthday_17', 'monthday_18', \n",
    "            'monthday_19', 'monthday_20', 'monthday_21', 'monthday_22', 'monthday_23','monthday_24',\n",
    "            'monthday_25', 'monthday_26', 'monthday_27', 'monthday_28', 'monthday_29', 'monthday_30',\n",
    "            'monthday_31']\n",
    "y = df_c['orders']\n",
    "x = df_c[df_c.columns.intersection(sel_col)]\n",
    "mae = []\n",
    "\n",
    "for i in range(0,100):\n",
    "    x_train, x_test, y_train, y_test = train_test_split(x, y, test_size=0.2)\n",
    "    treeregressor = DecisionTreeRegressor(max_depth = 5)\n",
    "    tree_fit = treeregressor.fit(x_train, y_train)\n",
    "    tree_pred = tree_fit.predict(x_test)\n",
    "    mae.append(metrics.median_absolute_error(y_test, tree_pred))\n",
    "\n",
    "mean(mae)"
   ]
  },
  {
   "cell_type": "markdown",
   "metadata": {},
   "source": [
    "### Random Forest"
   ]
  },
  {
   "cell_type": "markdown",
   "metadata": {},
   "source": [
    "After some hyperparameter adjusts, I found that. It's not better than decicion tree"
   ]
  },
  {
   "cell_type": "code",
   "execution_count": 40,
   "metadata": {},
   "outputs": [
    {
     "name": "stdout",
     "output_type": "stream",
     "text": [
      "1.140330702034054\n"
     ]
    }
   ],
   "source": [
    "sel_col = ['competition_price_sc', 'price_sc', 'freight_value_sc']\n",
    "y = df_c['orders']\n",
    "x = df_c[df_c.columns.intersection(sel_col)]\n",
    "\n",
    "x_train, x_test, y_train, y_test = train_test_split(x, y, test_size=0.2)\n",
    "treeregressor = RandomForestRegressor(n_estimators=1000, max_depth=5)\n",
    "tree_fit = treeregressor.fit(x_train, y_train)\n",
    "tree_pred = tree_fit.predict(x_test)\n",
    "print(metrics.median_absolute_error(y_test, tree_pred))\n"
   ]
  },
  {
   "cell_type": "markdown",
   "metadata": {},
   "source": [
    "### SVM"
   ]
  },
  {
   "cell_type": "code",
   "execution_count": 41,
   "metadata": {},
   "outputs": [
    {
     "name": "stdout",
     "output_type": "stream",
     "text": [
      "MAE: 1.4128847997968155\n"
     ]
    }
   ],
   "source": [
    "sel_col = ['competition_price', 'olist_price', 'freight_value', 'price_ratio', \n",
    "           'freight_ratio', 'competition_price_sc', 'price_sc', 'freight_sc']\n",
    "y = df_c['orders']\n",
    "x = df_c[df_c.columns.intersection(sel_col)]\n",
    "\n",
    "x_train, x_test, y_train, y_test = train_test_split(x, y, test_size=0.2, random_state=42)\n",
    "\n",
    "regressor = SVR(C=1.0, epsilon=0.2)\n",
    "fit = regressor.fit(x_train, y_train)\n",
    "pred = fit.predict(x_test)\n",
    "print('MAE: '+ str(metrics.median_absolute_error(y_test, pred)))"
   ]
  },
  {
   "cell_type": "code",
   "execution_count": 42,
   "metadata": {},
   "outputs": [
    {
     "name": "stdout",
     "output_type": "stream",
     "text": [
      "MAE: 1.2975983338440897\n"
     ]
    }
   ],
   "source": [
    "sel_col = ['competition_price', 'olist_price', 'freight_value', 'price_ratio', 'freight_ratio', 'weekday_1',\n",
    "            'weekday_2', 'weekday_3', 'weekday_4', 'weekday_5', 'weekday_6', 'week_2', 'week_3', 'week_4',\n",
    "            'week_5', 'week_6', 'week_7', 'week_8', 'week_9', 'week_10', 'week_11', 'week_12', 'week_13',\n",
    "            'week_14', 'week_15', 'week_16', 'week_17', 'week_18', 'week_19', 'week_20', 'week_21', 'week_22',\n",
    "            'week_23', 'week_24', 'week_25', 'week_26', 'week_27', 'week_28', 'week_29', 'week_30', 'week_31', 'week_32',\n",
    "            'week_33', 'week_34', 'week_35', 'week_36', 'week_37', 'week_38', 'week_39', 'week_40', 'week_41', 'week_42',\n",
    "            'week_43', 'week_44', 'week_45', 'week_46', 'week_47', 'week_48', 'week_49', 'week_50', 'week_51', 'week_52',\n",
    "            'month_2', 'month_3', 'month_4', 'month_5', 'month_6', 'month_7', 'month_8', 'month_9', 'month_10', 'month_11',\n",
    "            'month_12', 'monthday_2', 'monthday_3', 'monthday_4', 'monthday_5', 'monthday_6', 'monthday_7', 'monthday_8',\n",
    "            'monthday_9', 'monthday_10', 'monthday_11', 'monthday_12', 'monthday_13', 'monthday_14', 'monthday_15', 'monthday_16',\n",
    "            'monthday_17', 'monthday_18', 'monthday_19', 'monthday_20', 'monthday_21', 'monthday_22', 'monthday_23','monthday_24',\n",
    "            'monthday_25', 'monthday_26', 'monthday_27', 'monthday_28', 'monthday_29', 'monthday_30', 'monthday_31','competition_price_sc',\n",
    "            'price_sc', 'freight_sc']\n",
    "y = df_c['orders']\n",
    "x = df_c[df_c.columns.intersection(sel_col)]\n",
    "\n",
    "x_train, x_test, y_train, y_test = train_test_split(x, y, test_size=0.2, random_state=42)\n",
    "\n",
    "regressor = SVR(C=1.0, epsilon=0.2)\n",
    "fit = regressor.fit(x_train, y_train)\n",
    "pred = fit.predict(x_test)\n",
    "print('MAE: '+ str(metrics.median_absolute_error(y_test, pred)))"
   ]
  },
  {
   "cell_type": "markdown",
   "metadata": {},
   "source": [
    "## Product 3"
   ]
  },
  {
   "cell_type": "code",
   "execution_count": 43,
   "metadata": {},
   "outputs": [],
   "source": [
    "sel_gtin = '7893299910418'\n",
    "df_c = df[df['gtin'] == sel_gtin]"
   ]
  },
  {
   "cell_type": "markdown",
   "metadata": {},
   "source": [
    "### Trying some regressions"
   ]
  },
  {
   "cell_type": "code",
   "execution_count": 44,
   "metadata": {},
   "outputs": [
    {
     "data": {
      "text/plain": [
       "2.5247520992208203"
      ]
     },
     "execution_count": 44,
     "metadata": {},
     "output_type": "execute_result"
    }
   ],
   "source": [
    "mae = []\n",
    "for i in range(0,100):\n",
    "    train, test = train_test_split(df_c, test_size=0.8)\n",
    "    formula = 'orders ~ olist_price + competition_price + freight_value'\n",
    "    model = smf.ols(formula = formula, data = train).fit()\n",
    "    mae.append(metrics.median_absolute_error(test['orders'], model.predict(test)))\n",
    "\n",
    "mean(mae)    \n",
    "#print(model.summary())\n",
    "    "
   ]
  },
  {
   "cell_type": "code",
   "execution_count": 45,
   "metadata": {},
   "outputs": [
    {
     "data": {
      "text/plain": [
       "2.4208492445377847"
      ]
     },
     "execution_count": 45,
     "metadata": {},
     "output_type": "execute_result"
    }
   ],
   "source": [
    "mae = []\n",
    "for i in range(0,100):\n",
    "    train, test = train_test_split(df_c, test_size=0.8)\n",
    "    formula = 'orders ~ price_sc + competition_price_sc + freight_ratio'\n",
    "    model = smf.ols(formula = formula, data = train).fit()\n",
    "    mae.append(metrics.median_absolute_error(test['orders'], model.predict(test)))\n",
    "\n",
    "mean(mae)    \n",
    "#print(model.summary())\n",
    "    "
   ]
  },
  {
   "cell_type": "code",
   "execution_count": 46,
   "metadata": {},
   "outputs": [
    {
     "data": {
      "text/plain": [
       "3.306922966803859"
      ]
     },
     "execution_count": 46,
     "metadata": {},
     "output_type": "execute_result"
    }
   ],
   "source": [
    "mae = []\n",
    "for i in range(0,100):\n",
    "    train, test = train_test_split(df_c, test_size=0.8)\n",
    "    formula = 'orders ~ price_ratio + freight_ratio'\n",
    "    model = smf.ols(formula = formula, data = train).fit()\n",
    "    mae.append(metrics.median_absolute_error(test['orders'], model.predict(test)))\n",
    "\n",
    "mean(mae)\n",
    "#print(model.summary())\n",
    "    "
   ]
  },
  {
   "cell_type": "code",
   "execution_count": 47,
   "metadata": {},
   "outputs": [
    {
     "data": {
      "text/plain": [
       "90.70254817332004"
      ]
     },
     "execution_count": 47,
     "metadata": {},
     "output_type": "execute_result"
    }
   ],
   "source": [
    "mae = []\n",
    "for i in range(0,100):\n",
    "    train, test = train_test_split(df_c, test_size=0.8)\n",
    "    formula = 'orders ~ price_ratio + freight_ratio + competition_price_sc + price_sc + freight_sc + weekday_1 + weekday_2 + weekday_3 +\\\n",
    "        weekday_4 + weekday_5 + weekday_6 + week_2 + week_3 + week_4 + week_5 + week_6 + week_7 + \\\n",
    "        week_8 + week_9 + week_10 + week_11 + week_12 + week_13 + week_14 + week_15 + week_16 + week_17 +\\\n",
    "        week_18 + week_19 + week_20 + week_21 + week_22 + week_23 + week_24 + week_25 + week_26 + week_27 +\\\n",
    "        week_28 + week_29 + week_30 + week_31 + week_32 + week_33 + week_34 + week_35 + week_36 + week_37 +\\\n",
    "        week_38 + week_39 + week_40 + week_41 + week_42 + week_43 + week_44 + week_45 + week_46 + week_47 +\\\n",
    "        week_48 + week_49 + week_50 + week_51 + week_52 + month_2 + month_3 + month_4 + month_5 + month_6 +\\\n",
    "        month_7 + month_8 + month_9 + month_10 + month_11 + month_12 + monthday_2 + monthday_3 + monthday_4 +\\\n",
    "        monthday_5 + monthday_6 + monthday_7 + monthday_8 + monthday_9 + monthday_10 + monthday_11 + monthday_12 +\\\n",
    "        monthday_13 + monthday_14 + monthday_15 + monthday_16 + monthday_17 + monthday_18 + monthday_19 +\\\n",
    "        monthday_20 + monthday_21 + monthday_22 + monthday_23 + monthday_24 + monthday_25 + monthday_26 +\\\n",
    "        monthday_27 + monthday_28 + monthday_29 + monthday_30 + monthday_31'\n",
    "    model = smf.ols(formula = formula, data = train).fit()\n",
    "    mae.append(metrics.median_absolute_error(test['orders'], model.predict(test)))\n",
    "\n",
    "mean(mae)   \n",
    "#print(model.summary())\n",
    "    "
   ]
  },
  {
   "cell_type": "markdown",
   "metadata": {},
   "source": [
    "### Decision Trees"
   ]
  },
  {
   "cell_type": "code",
   "execution_count": 48,
   "metadata": {},
   "outputs": [
    {
     "data": {
      "text/plain": [
       "0.5055140914405667"
      ]
     },
     "execution_count": 48,
     "metadata": {},
     "output_type": "execute_result"
    }
   ],
   "source": [
    "sel_col = ['competition_price_sc', 'price_sc', 'freight_value_sc']\n",
    "y = df_c['orders']\n",
    "x = df_c[df_c.columns.intersection(sel_col)]\n",
    "mae = []\n",
    "\n",
    "for i in range(0,100):\n",
    "    x_train, x_test, y_train, y_test = train_test_split(x, y, test_size=0.2)\n",
    "    treeregressor = DecisionTreeRegressor(max_depth = 5)\n",
    "    tree_fit = treeregressor.fit(x_train, y_train)\n",
    "    tree_pred = tree_fit.predict(x_test)\n",
    "    mae.append(metrics.median_absolute_error(y_test, tree_pred))\n",
    "\n",
    "mean(mae)"
   ]
  },
  {
   "cell_type": "code",
   "execution_count": 49,
   "metadata": {},
   "outputs": [
    {
     "data": {
      "text/plain": [
       "0.4377837201554403"
      ]
     },
     "execution_count": 49,
     "metadata": {},
     "output_type": "execute_result"
    }
   ],
   "source": [
    "sel_col = ['competition_price_sc', 'price_sc', 'freight_value_sc', 'price_ratio', 'freight_ratio']\n",
    "y = df_c['orders']\n",
    "x = df_c[df_c.columns.intersection(sel_col)]\n",
    "mae = []\n",
    "\n",
    "for i in range(0,100):\n",
    "    x_train, x_test, y_train, y_test = train_test_split(x, y, test_size=0.2)\n",
    "    treeregressor = DecisionTreeRegressor(max_depth = 5)\n",
    "    tree_fit = treeregressor.fit(x_train, y_train)\n",
    "    tree_pred = tree_fit.predict(x_test)\n",
    "    mae.append(metrics.median_absolute_error(y_test, tree_pred))\n",
    "\n",
    "mean(mae)"
   ]
  },
  {
   "cell_type": "code",
   "execution_count": 50,
   "metadata": {},
   "outputs": [
    {
     "data": {
      "text/plain": [
       "0.4238434376452884"
      ]
     },
     "execution_count": 50,
     "metadata": {},
     "output_type": "execute_result"
    }
   ],
   "source": [
    "sel_col = ['competition_price_sc', 'price_sc', 'freight_value_sc', 'price_ratio', 'freight_ratio', \n",
    "           'weekday_1', 'weekday_2', 'weekday_3', 'weekday_4', 'weekday_5', 'weekday_6']\n",
    "y = df_c['orders']\n",
    "x = df_c[df_c.columns.intersection(sel_col)]\n",
    "mae = []\n",
    "\n",
    "for i in range(0,100):\n",
    "    x_train, x_test, y_train, y_test = train_test_split(x, y, test_size=0.2)\n",
    "    treeregressor = DecisionTreeRegressor(max_depth = 5)\n",
    "    tree_fit = treeregressor.fit(x_train, y_train)\n",
    "    tree_pred = tree_fit.predict(x_test)\n",
    "    mae.append(metrics.median_absolute_error(y_test, tree_pred))\n",
    "\n",
    "mean(mae)"
   ]
  },
  {
   "cell_type": "code",
   "execution_count": 51,
   "metadata": {},
   "outputs": [
    {
     "data": {
      "text/plain": [
       "0.47970736008552856"
      ]
     },
     "execution_count": 51,
     "metadata": {},
     "output_type": "execute_result"
    }
   ],
   "source": [
    "sel_col = ['competition_price_sc', 'price_sc', 'freight_value_sc', 'price_ratio', 'freight_ratio', \n",
    "           'weekday_1', 'weekday_2', 'weekday_3', 'weekday_4', 'weekday_5', 'weekday_6', 'week_2', 'week_3', 'week_4',\n",
    "            'week_5', 'week_6', 'week_7', 'week_8', 'week_9', 'week_10', 'week_11', 'week_12', 'week_13',\n",
    "            'week_14', 'week_15', 'week_16', 'week_17', 'week_18', 'week_19', 'week_20', 'week_21', 'week_22',\n",
    "            'week_23', 'week_24', 'week_25', 'week_26', 'week_27', 'week_28', 'week_29', 'week_30', 'week_31', \n",
    "            'week_32', 'week_33', 'week_34', 'week_35', 'week_36', 'week_37', 'week_38', 'week_39', 'week_40', \n",
    "            'week_41', 'week_42', 'week_43', 'week_44', 'week_45', 'week_46', 'week_47', 'week_48', 'week_49', \n",
    "            'week_50', 'week_51', 'week_52']\n",
    "y = df_c['orders']\n",
    "x = df_c[df_c.columns.intersection(sel_col)]\n",
    "mae = []\n",
    "\n",
    "for i in range(0,100):\n",
    "    x_train, x_test, y_train, y_test = train_test_split(x, y, test_size=0.2)\n",
    "    treeregressor = DecisionTreeRegressor(max_depth = 5)\n",
    "    tree_fit = treeregressor.fit(x_train, y_train)\n",
    "    tree_pred = tree_fit.predict(x_test)\n",
    "    mae.append(metrics.median_absolute_error(y_test, tree_pred))\n",
    "\n",
    "mean(mae)"
   ]
  },
  {
   "cell_type": "code",
   "execution_count": 52,
   "metadata": {},
   "outputs": [
    {
     "data": {
      "text/plain": [
       "0.42597850706642154"
      ]
     },
     "execution_count": 52,
     "metadata": {},
     "output_type": "execute_result"
    }
   ],
   "source": [
    "sel_col = ['competition_price_sc', 'price_sc', 'freight_value_sc', 'price_ratio', 'freight_ratio', \n",
    "           'weekday_1', 'weekday_2', 'weekday_3', 'weekday_4', 'weekday_5', 'weekday_6', 'month_2',\n",
    "           'month_3', 'month_4', 'month_5', 'month_6', 'month_7', 'month_8', 'month_9', 'month_10', \n",
    "           'month_11','month_12']\n",
    "y = df_c['orders']\n",
    "x = df_c[df_c.columns.intersection(sel_col)]\n",
    "mae = []\n",
    "\n",
    "for i in range(0,100):\n",
    "    x_train, x_test, y_train, y_test = train_test_split(x, y, test_size=0.2)\n",
    "    treeregressor = DecisionTreeRegressor(max_depth = 5)\n",
    "    tree_fit = treeregressor.fit(x_train, y_train)\n",
    "    tree_pred = tree_fit.predict(x_test)\n",
    "    mae.append(metrics.median_absolute_error(y_test, tree_pred))\n",
    "\n",
    "mean(mae)"
   ]
  },
  {
   "cell_type": "code",
   "execution_count": 53,
   "metadata": {},
   "outputs": [
    {
     "data": {
      "text/plain": [
       "0.46470988926970846"
      ]
     },
     "execution_count": 53,
     "metadata": {},
     "output_type": "execute_result"
    }
   ],
   "source": [
    "sel_col = ['competition_price_sc', 'price_sc', 'freight_value_sc', 'price_ratio', 'freight_ratio', \n",
    "            'weekday_1', 'weekday_2', 'weekday_3', 'weekday_4', 'weekday_5', 'weekday_6', 'month_2',\n",
    "            'month_3', 'month_4', 'month_5', 'month_6', 'month_7', 'month_8', 'month_9', 'month_10', \n",
    "            'month_11','month_12''monthday_2', 'monthday_3', 'monthday_4', 'monthday_5', 'monthday_6', \n",
    "            'monthday_7', 'monthday_8', 'monthday_9', 'monthday_10', 'monthday_11', 'monthday_12', \n",
    "            'monthday_13', 'monthday_14', 'monthday_15', 'monthday_16', 'monthday_17', 'monthday_18', \n",
    "            'monthday_19', 'monthday_20', 'monthday_21', 'monthday_22', 'monthday_23','monthday_24',\n",
    "            'monthday_25', 'monthday_26', 'monthday_27', 'monthday_28', 'monthday_29', 'monthday_30',\n",
    "            'monthday_31']\n",
    "y = df_c['orders']\n",
    "x = df_c[df_c.columns.intersection(sel_col)]\n",
    "mae = []\n",
    "\n",
    "for i in range(0,100):\n",
    "    x_train, x_test, y_train, y_test = train_test_split(x, y, test_size=0.2)\n",
    "    treeregressor = DecisionTreeRegressor(max_depth = 5)\n",
    "    tree_fit = treeregressor.fit(x_train, y_train)\n",
    "    tree_pred = tree_fit.predict(x_test)\n",
    "    mae.append(metrics.median_absolute_error(y_test, tree_pred))\n",
    "\n",
    "mean(mae)"
   ]
  },
  {
   "cell_type": "markdown",
   "metadata": {},
   "source": [
    "### Random Forest"
   ]
  },
  {
   "cell_type": "markdown",
   "metadata": {},
   "source": [
    "After some hyperparameter adjusts, I found that. It's not better than decicion tree"
   ]
  },
  {
   "cell_type": "code",
   "execution_count": 54,
   "metadata": {},
   "outputs": [
    {
     "name": "stdout",
     "output_type": "stream",
     "text": [
      "0.3883602604379657\n"
     ]
    }
   ],
   "source": [
    "sel_col = ['competition_price_sc', 'price_sc', 'freight_value_sc']\n",
    "y = df_c['orders']\n",
    "x = df_c[df_c.columns.intersection(sel_col)]\n",
    "\n",
    "x_train, x_test, y_train, y_test = train_test_split(x, y, test_size=0.2)\n",
    "treeregressor = RandomForestRegressor(n_estimators=1000, max_depth=5)\n",
    "tree_fit = treeregressor.fit(x_train, y_train)\n",
    "tree_pred = tree_fit.predict(x_test)\n",
    "print(metrics.median_absolute_error(y_test, tree_pred))\n"
   ]
  },
  {
   "cell_type": "markdown",
   "metadata": {},
   "source": [
    "### SVM"
   ]
  },
  {
   "cell_type": "code",
   "execution_count": 55,
   "metadata": {},
   "outputs": [
    {
     "name": "stdout",
     "output_type": "stream",
     "text": [
      "MAE: 0.47109290910771895\n"
     ]
    }
   ],
   "source": [
    "sel_col = ['competition_price', 'olist_price', 'freight_value', 'price_ratio', \n",
    "           'freight_ratio', 'competition_price_sc', 'price_sc', 'freight_sc']\n",
    "y = df_c['orders']\n",
    "x = df_c[df_c.columns.intersection(sel_col)]\n",
    "\n",
    "x_train, x_test, y_train, y_test = train_test_split(x, y, test_size=0.2, random_state=42)\n",
    "\n",
    "regressor = SVR(C=1.0, epsilon=0.2)\n",
    "fit = regressor.fit(x_train, y_train)\n",
    "pred = fit.predict(x_test)\n",
    "print('MAE: '+ str(metrics.median_absolute_error(y_test, pred)))"
   ]
  },
  {
   "cell_type": "code",
   "execution_count": 56,
   "metadata": {},
   "outputs": [
    {
     "name": "stdout",
     "output_type": "stream",
     "text": [
      "MAE: 0.4074482131109316\n"
     ]
    }
   ],
   "source": [
    "sel_col = ['competition_price', 'olist_price', 'freight_value', 'price_ratio', 'freight_ratio', 'weekday_1',\n",
    "            'weekday_2', 'weekday_3', 'weekday_4', 'weekday_5', 'weekday_6', 'week_2', 'week_3', 'week_4',\n",
    "            'week_5', 'week_6', 'week_7', 'week_8', 'week_9', 'week_10', 'week_11', 'week_12', 'week_13',\n",
    "            'week_14', 'week_15', 'week_16', 'week_17', 'week_18', 'week_19', 'week_20', 'week_21', 'week_22',\n",
    "            'week_23', 'week_24', 'week_25', 'week_26', 'week_27', 'week_28', 'week_29', 'week_30', 'week_31', 'week_32',\n",
    "            'week_33', 'week_34', 'week_35', 'week_36', 'week_37', 'week_38', 'week_39', 'week_40', 'week_41', 'week_42',\n",
    "            'week_43', 'week_44', 'week_45', 'week_46', 'week_47', 'week_48', 'week_49', 'week_50', 'week_51', 'week_52',\n",
    "            'month_2', 'month_3', 'month_4', 'month_5', 'month_6', 'month_7', 'month_8', 'month_9', 'month_10', 'month_11',\n",
    "            'month_12', 'monthday_2', 'monthday_3', 'monthday_4', 'monthday_5', 'monthday_6', 'monthday_7', 'monthday_8',\n",
    "            'monthday_9', 'monthday_10', 'monthday_11', 'monthday_12', 'monthday_13', 'monthday_14', 'monthday_15', 'monthday_16',\n",
    "            'monthday_17', 'monthday_18', 'monthday_19', 'monthday_20', 'monthday_21', 'monthday_22', 'monthday_23','monthday_24',\n",
    "            'monthday_25', 'monthday_26', 'monthday_27', 'monthday_28', 'monthday_29', 'monthday_30', 'monthday_31','competition_price_sc',\n",
    "            'price_sc', 'freight_sc']\n",
    "y = df_c['orders']\n",
    "x = df_c[df_c.columns.intersection(sel_col)]\n",
    "\n",
    "x_train, x_test, y_train, y_test = train_test_split(x, y, test_size=0.2, random_state=42)\n",
    "\n",
    "regressor = SVR(C=1.0, epsilon=0.2)\n",
    "fit = regressor.fit(x_train, y_train)\n",
    "pred = fit.predict(x_test)\n",
    "print('MAE: '+ str(metrics.median_absolute_error(y_test, pred)))"
   ]
  }
 ],
 "metadata": {
  "kernelspec": {
   "display_name": "Python 3",
   "language": "python",
   "name": "python3"
  },
  "language_info": {
   "codemirror_mode": {
    "name": "ipython",
    "version": 3
   },
   "file_extension": ".py",
   "mimetype": "text/x-python",
   "name": "python",
   "nbconvert_exporter": "python",
   "pygments_lexer": "ipython3",
   "version": "3.6.6"
  }
 },
 "nbformat": 4,
 "nbformat_minor": 4
}
