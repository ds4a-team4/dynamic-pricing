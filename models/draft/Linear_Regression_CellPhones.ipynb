{
 "cells": [
  {
   "cell_type": "code",
   "execution_count": 98,
   "metadata": {},
   "outputs": [],
   "source": [
    "import pandas as pd\n",
    "import numpy as np\n",
    "from sklearn import metrics, linear_model\n",
    "from sklearn.metrics import mean_squared_error, r2_score\n",
    "import statsmodels.formula.api as smf\n",
    "from scipy import stats\n",
    "import warnings\n",
    "import matplotlib.pyplot       as plt\n",
    "import seaborn                 as sns\n",
    "warnings.filterwarnings('ignore')"
   ]
  },
  {
   "cell_type": "markdown",
   "metadata": {},
   "source": [
    "Loading the full celular dataset"
   ]
  },
  {
   "cell_type": "code",
   "execution_count": 2,
   "metadata": {},
   "outputs": [],
   "source": [
    "df_all = pd.read_csv('../data/celular_data.csv', dtype={'gtin':'str'})\n",
    "df_all['date'] = pd.to_datetime(df_all['date'])"
   ]
  },
  {
   "cell_type": "markdown",
   "metadata": {},
   "source": [
    "Range of dates"
   ]
  },
  {
   "cell_type": "code",
   "execution_count": 3,
   "metadata": {},
   "outputs": [
    {
     "name": "stdout",
     "output_type": "stream",
     "text": [
      "2017-06-30 00:00:00\n",
      "2020-02-28 00:00:00\n",
      "974\n"
     ]
    }
   ],
   "source": [
    "date_min = df_all['date'].min()\n",
    "print(date_min)\n",
    "date_max = df_all['date'].max()\n",
    "print(date_max)\n",
    "n_days_total =  len(df_all['date'].unique())\n",
    "print(n_days_total)"
   ]
  },
  {
   "cell_type": "code",
   "execution_count": 4,
   "metadata": {},
   "outputs": [
    {
     "data": {
      "text/plain": [
       "Index(['Unnamed: 0', 'date', 'competition_price', 'gtin', 'item_name',\n",
       "       'enable_subsidy', 'gmv', 'revenue', 'cogs', 'gross_profit',\n",
       "       'total_discount', 'orders', 'olist_price', 'freight_value',\n",
       "       'commission_freight', 'commission_product', 'price_freight_shift',\n",
       "       'price_discount', 'stock_max', 'stock_min', 'stock_avg', 'price_max',\n",
       "       'price_min', 'price_avg', 'offer_max', 'offer_min', 'offer_avg',\n",
       "       'product_type'],\n",
       "      dtype='object')"
      ]
     },
     "execution_count": 4,
     "metadata": {},
     "output_type": "execute_result"
    }
   ],
   "source": [
    "df_all.columns"
   ]
  },
  {
   "cell_type": "markdown",
   "metadata": {},
   "source": [
    "Orders over time"
   ]
  },
  {
   "cell_type": "code",
   "execution_count": 5,
   "metadata": {},
   "outputs": [
    {
     "data": {
      "text/plain": [
       "Text(0.5, 1.0, 'orders when stocks > 0')"
      ]
     },
     "execution_count": 5,
     "metadata": {},
     "output_type": "execute_result"
    },
    {
     "data": {
      "image/png": "[encoded data removed]",
      "text/plain": [
       "<Figure size 432x288 with 2 Axes>"
      ]
     },
     "metadata": {
      "needs_background": "light"
     },
     "output_type": "display_data"
    }
   ],
   "source": [
    "y_1 = df_all.groupby('date')['orders'].sum()\n",
    "y_2 = df_all.groupby('date')['stock_avg'].sum()\n",
    "x_data = df_all['date'].unique()\n",
    "\n",
    "\n",
    "\n",
    "sns.lineplot(x = x_data, y = y_1, color = 'g')\n",
    "ax2 = plt.twinx()\n",
    "sns.lineplot(x = x_data, y = y_2, color = 'b')\n",
    "plt.title('orders when stocks > 0')"
   ]
  },
  {
   "cell_type": "markdown",
   "metadata": {},
   "source": [
    "Histogram of orders show a lot of days with 0 orders"
   ]
  },
  {
   "cell_type": "code",
   "execution_count": 6,
   "metadata": {},
   "outputs": [
    {
     "data": {
      "text/plain": [
       "Text(0.5, 1.0, 'histogram of all orders in electronics')"
      ]
     },
     "execution_count": 6,
     "metadata": {},
     "output_type": "execute_result"
    },
    {
     "data": {
      "image/png": "[encoded data removed]",
      "text/plain": [
       "<Figure size 432x288 with 1 Axes>"
      ]
     },
     "metadata": {
      "needs_background": "light"
     },
     "output_type": "display_data"
    }
   ],
   "source": [
    "sns.distplot(df_all['orders'], kde=False)\n",
    "plt.title('histogram of all orders in electronics')"
   ]
  },
  {
   "cell_type": "code",
   "execution_count": 7,
   "metadata": {},
   "outputs": [
    {
     "data": {
      "text/html": [
       "<div>\n",
       "<style scoped>\n",
       "    .dataframe tbody tr th:only-of-type {\n",
       "        vertical-align: middle;\n",
       "    }\n",
       "\n",
       "    .dataframe tbody tr th {\n",
       "        vertical-align: top;\n",
       "    }\n",
       "\n",
       "    .dataframe thead th {\n",
       "        text-align: right;\n",
       "    }\n",
       "</style>\n",
       "<table border=\"1\" class=\"dataframe\">\n",
       "  <thead>\n",
       "    <tr style=\"text-align: right;\">\n",
       "      <th></th>\n",
       "      <th>Unnamed: 0</th>\n",
       "      <th>competition_price</th>\n",
       "      <th>gmv</th>\n",
       "      <th>revenue</th>\n",
       "      <th>cogs</th>\n",
       "      <th>gross_profit</th>\n",
       "      <th>total_discount</th>\n",
       "      <th>orders</th>\n",
       "      <th>olist_price</th>\n",
       "      <th>freight_value</th>\n",
       "      <th>...</th>\n",
       "      <th>price_discount</th>\n",
       "      <th>stock_max</th>\n",
       "      <th>stock_min</th>\n",
       "      <th>stock_avg</th>\n",
       "      <th>price_max</th>\n",
       "      <th>price_min</th>\n",
       "      <th>price_avg</th>\n",
       "      <th>offer_max</th>\n",
       "      <th>offer_min</th>\n",
       "      <th>offer_avg</th>\n",
       "    </tr>\n",
       "  </thead>\n",
       "  <tbody>\n",
       "    <tr>\n",
       "      <th>count</th>\n",
       "      <td>176635.000000</td>\n",
       "      <td>79946.000000</td>\n",
       "      <td>176635.000000</td>\n",
       "      <td>176635.000000</td>\n",
       "      <td>176635.000000</td>\n",
       "      <td>176635.000000</td>\n",
       "      <td>6937.000000</td>\n",
       "      <td>176635.000000</td>\n",
       "      <td>176635.000000</td>\n",
       "      <td>6937.000000</td>\n",
       "      <td>...</td>\n",
       "      <td>6937.000000</td>\n",
       "      <td>176635.000000</td>\n",
       "      <td>176635.000000</td>\n",
       "      <td>176635.000000</td>\n",
       "      <td>176635.000000</td>\n",
       "      <td>176635.000000</td>\n",
       "      <td>176635.000000</td>\n",
       "      <td>176635.000000</td>\n",
       "      <td>176635.000000</td>\n",
       "      <td>176635.000000</td>\n",
       "    </tr>\n",
       "    <tr>\n",
       "      <th>mean</th>\n",
       "      <td>269.384103</td>\n",
       "      <td>591.383087</td>\n",
       "      <td>52.345405</td>\n",
       "      <td>8.798125</td>\n",
       "      <td>5.928534</td>\n",
       "      <td>2.869592</td>\n",
       "      <td>1.616838</td>\n",
       "      <td>0.139282</td>\n",
       "      <td>800.429556</td>\n",
       "      <td>18.107616</td>\n",
       "      <td>...</td>\n",
       "      <td>0.434717</td>\n",
       "      <td>116.086110</td>\n",
       "      <td>94.141365</td>\n",
       "      <td>104.912985</td>\n",
       "      <td>882.251153</td>\n",
       "      <td>865.243644</td>\n",
       "      <td>875.090319</td>\n",
       "      <td>817.003521</td>\n",
       "      <td>786.208763</td>\n",
       "      <td>801.409793</td>\n",
       "    </tr>\n",
       "    <tr>\n",
       "      <th>std</th>\n",
       "      <td>221.952845</td>\n",
       "      <td>597.010315</td>\n",
       "      <td>667.463276</td>\n",
       "      <td>105.863339</td>\n",
       "      <td>74.539369</td>\n",
       "      <td>32.818711</td>\n",
       "      <td>11.139193</td>\n",
       "      <td>3.357730</td>\n",
       "      <td>793.222036</td>\n",
       "      <td>18.965560</td>\n",
       "      <td>...</td>\n",
       "      <td>3.412801</td>\n",
       "      <td>2164.296401</td>\n",
       "      <td>2010.051213</td>\n",
       "      <td>2048.527386</td>\n",
       "      <td>864.997935</td>\n",
       "      <td>855.333535</td>\n",
       "      <td>859.493753</td>\n",
       "      <td>807.186346</td>\n",
       "      <td>783.112854</td>\n",
       "      <td>793.169206</td>\n",
       "    </tr>\n",
       "    <tr>\n",
       "      <th>min</th>\n",
       "      <td>0.000000</td>\n",
       "      <td>10.000000</td>\n",
       "      <td>0.000000</td>\n",
       "      <td>0.000000</td>\n",
       "      <td>0.000000</td>\n",
       "      <td>-506.220000</td>\n",
       "      <td>0.000000</td>\n",
       "      <td>0.000000</td>\n",
       "      <td>5.562500</td>\n",
       "      <td>0.000000</td>\n",
       "      <td>...</td>\n",
       "      <td>0.000000</td>\n",
       "      <td>0.000000</td>\n",
       "      <td>0.000000</td>\n",
       "      <td>0.000000</td>\n",
       "      <td>10.990000</td>\n",
       "      <td>10.990000</td>\n",
       "      <td>10.990000</td>\n",
       "      <td>10.000000</td>\n",
       "      <td>10.000000</td>\n",
       "      <td>10.000000</td>\n",
       "    </tr>\n",
       "    <tr>\n",
       "      <th>25%</th>\n",
       "      <td>89.000000</td>\n",
       "      <td>170.740000</td>\n",
       "      <td>0.000000</td>\n",
       "      <td>0.000000</td>\n",
       "      <td>0.000000</td>\n",
       "      <td>0.000000</td>\n",
       "      <td>0.000000</td>\n",
       "      <td>0.000000</td>\n",
       "      <td>219.900000</td>\n",
       "      <td>0.000000</td>\n",
       "      <td>...</td>\n",
       "      <td>0.000000</td>\n",
       "      <td>0.000000</td>\n",
       "      <td>0.000000</td>\n",
       "      <td>0.000000</td>\n",
       "      <td>255.210000</td>\n",
       "      <td>250.000000</td>\n",
       "      <td>255.000000</td>\n",
       "      <td>223.900000</td>\n",
       "      <td>218.900000</td>\n",
       "      <td>220.630000</td>\n",
       "    </tr>\n",
       "    <tr>\n",
       "      <th>50%</th>\n",
       "      <td>211.000000</td>\n",
       "      <td>369.550000</td>\n",
       "      <td>0.000000</td>\n",
       "      <td>0.000000</td>\n",
       "      <td>0.000000</td>\n",
       "      <td>0.000000</td>\n",
       "      <td>0.000000</td>\n",
       "      <td>0.000000</td>\n",
       "      <td>517.000000</td>\n",
       "      <td>17.400000</td>\n",
       "      <td>...</td>\n",
       "      <td>0.000000</td>\n",
       "      <td>5.000000</td>\n",
       "      <td>0.000000</td>\n",
       "      <td>2.500000</td>\n",
       "      <td>599.900000</td>\n",
       "      <td>579.000000</td>\n",
       "      <td>599.000000</td>\n",
       "      <td>529.900000</td>\n",
       "      <td>504.900000</td>\n",
       "      <td>518.400000</td>\n",
       "    </tr>\n",
       "    <tr>\n",
       "      <th>75%</th>\n",
       "      <td>399.000000</td>\n",
       "      <td>789.900000</td>\n",
       "      <td>0.000000</td>\n",
       "      <td>0.000000</td>\n",
       "      <td>0.000000</td>\n",
       "      <td>0.000000</td>\n",
       "      <td>0.000000</td>\n",
       "      <td>0.000000</td>\n",
       "      <td>1159.000000</td>\n",
       "      <td>26.510000</td>\n",
       "      <td>...</td>\n",
       "      <td>0.000000</td>\n",
       "      <td>10.000000</td>\n",
       "      <td>5.000000</td>\n",
       "      <td>8.000000</td>\n",
       "      <td>1269.000000</td>\n",
       "      <td>1235.000000</td>\n",
       "      <td>1254.500000</td>\n",
       "      <td>1187.990000</td>\n",
       "      <td>1110.780000</td>\n",
       "      <td>1159.000000</td>\n",
       "    </tr>\n",
       "    <tr>\n",
       "      <th>max</th>\n",
       "      <td>990.000000</td>\n",
       "      <td>4049.900000</td>\n",
       "      <td>129229.500000</td>\n",
       "      <td>19384.430000</td>\n",
       "      <td>14215.420000</td>\n",
       "      <td>5169.010000</td>\n",
       "      <td>269.900000</td>\n",
       "      <td>842.000000</td>\n",
       "      <td>5999.900000</td>\n",
       "      <td>272.680000</td>\n",
       "      <td>...</td>\n",
       "      <td>204.870000</td>\n",
       "      <td>100000.000000</td>\n",
       "      <td>100000.000000</td>\n",
       "      <td>100000.000000</td>\n",
       "      <td>8399.900000</td>\n",
       "      <td>8399.900000</td>\n",
       "      <td>8399.900000</td>\n",
       "      <td>5999.900000</td>\n",
       "      <td>5999.900000</td>\n",
       "      <td>5999.900000</td>\n",
       "    </tr>\n",
       "  </tbody>\n",
       "</table>\n",
       "<p>8 rows × 23 columns</p>\n",
       "</div>"
      ],
      "text/plain": [
       "          Unnamed: 0  competition_price            gmv        revenue  \\\n",
       "count  176635.000000       79946.000000  176635.000000  176635.000000   \n",
       "mean      269.384103         591.383087      52.345405       8.798125   \n",
       "std       221.952845         597.010315     667.463276     105.863339   \n",
       "min         0.000000          10.000000       0.000000       0.000000   \n",
       "25%        89.000000         170.740000       0.000000       0.000000   \n",
       "50%       211.000000         369.550000       0.000000       0.000000   \n",
       "75%       399.000000         789.900000       0.000000       0.000000   \n",
       "max       990.000000        4049.900000  129229.500000   19384.430000   \n",
       "\n",
       "                cogs   gross_profit  total_discount         orders  \\\n",
       "count  176635.000000  176635.000000     6937.000000  176635.000000   \n",
       "mean        5.928534       2.869592        1.616838       0.139282   \n",
       "std        74.539369      32.818711       11.139193       3.357730   \n",
       "min         0.000000    -506.220000        0.000000       0.000000   \n",
       "25%         0.000000       0.000000        0.000000       0.000000   \n",
       "50%         0.000000       0.000000        0.000000       0.000000   \n",
       "75%         0.000000       0.000000        0.000000       0.000000   \n",
       "max     14215.420000    5169.010000      269.900000     842.000000   \n",
       "\n",
       "         olist_price  freight_value  ...  price_discount      stock_max  \\\n",
       "count  176635.000000    6937.000000  ...     6937.000000  176635.000000   \n",
       "mean      800.429556      18.107616  ...        0.434717     116.086110   \n",
       "std       793.222036      18.965560  ...        3.412801    2164.296401   \n",
       "min         5.562500       0.000000  ...        0.000000       0.000000   \n",
       "25%       219.900000       0.000000  ...        0.000000       0.000000   \n",
       "50%       517.000000      17.400000  ...        0.000000       5.000000   \n",
       "75%      1159.000000      26.510000  ...        0.000000      10.000000   \n",
       "max      5999.900000     272.680000  ...      204.870000  100000.000000   \n",
       "\n",
       "           stock_min      stock_avg      price_max      price_min  \\\n",
       "count  176635.000000  176635.000000  176635.000000  176635.000000   \n",
       "mean       94.141365     104.912985     882.251153     865.243644   \n",
       "std      2010.051213    2048.527386     864.997935     855.333535   \n",
       "min         0.000000       0.000000      10.990000      10.990000   \n",
       "25%         0.000000       0.000000     255.210000     250.000000   \n",
       "50%         0.000000       2.500000     599.900000     579.000000   \n",
       "75%         5.000000       8.000000    1269.000000    1235.000000   \n",
       "max    100000.000000  100000.000000    8399.900000    8399.900000   \n",
       "\n",
       "           price_avg      offer_max      offer_min      offer_avg  \n",
       "count  176635.000000  176635.000000  176635.000000  176635.000000  \n",
       "mean      875.090319     817.003521     786.208763     801.409793  \n",
       "std       859.493753     807.186346     783.112854     793.169206  \n",
       "min        10.990000      10.000000      10.000000      10.000000  \n",
       "25%       255.000000     223.900000     218.900000     220.630000  \n",
       "50%       599.000000     529.900000     504.900000     518.400000  \n",
       "75%      1254.500000    1187.990000    1110.780000    1159.000000  \n",
       "max      8399.900000    5999.900000    5999.900000    5999.900000  \n",
       "\n",
       "[8 rows x 23 columns]"
      ]
     },
     "execution_count": 7,
     "metadata": {},
     "output_type": "execute_result"
    }
   ],
   "source": [
    "df_all.describe()"
   ]
  },
  {
   "cell_type": "code",
   "execution_count": 8,
   "metadata": {},
   "outputs": [
    {
     "data": {
      "text/html": [
       "<div>\n",
       "<style scoped>\n",
       "    .dataframe tbody tr th:only-of-type {\n",
       "        vertical-align: middle;\n",
       "    }\n",
       "\n",
       "    .dataframe tbody tr th {\n",
       "        vertical-align: top;\n",
       "    }\n",
       "\n",
       "    .dataframe thead th {\n",
       "        text-align: right;\n",
       "    }\n",
       "</style>\n",
       "<table border=\"1\" class=\"dataframe\">\n",
       "  <thead>\n",
       "    <tr style=\"text-align: right;\">\n",
       "      <th></th>\n",
       "      <th>Unnamed: 0</th>\n",
       "      <th>competition_price</th>\n",
       "      <th>gmv</th>\n",
       "      <th>revenue</th>\n",
       "      <th>cogs</th>\n",
       "      <th>gross_profit</th>\n",
       "      <th>total_discount</th>\n",
       "      <th>orders</th>\n",
       "      <th>olist_price</th>\n",
       "      <th>freight_value</th>\n",
       "      <th>...</th>\n",
       "      <th>price_discount</th>\n",
       "      <th>stock_max</th>\n",
       "      <th>stock_min</th>\n",
       "      <th>stock_avg</th>\n",
       "      <th>price_max</th>\n",
       "      <th>price_min</th>\n",
       "      <th>price_avg</th>\n",
       "      <th>offer_max</th>\n",
       "      <th>offer_min</th>\n",
       "      <th>offer_avg</th>\n",
       "    </tr>\n",
       "  </thead>\n",
       "  <tbody>\n",
       "    <tr>\n",
       "      <th>count</th>\n",
       "      <td>6937.000000</td>\n",
       "      <td>4862.000000</td>\n",
       "      <td>6937.000000</td>\n",
       "      <td>6937.000000</td>\n",
       "      <td>6937.000000</td>\n",
       "      <td>6937.000000</td>\n",
       "      <td>6937.000000</td>\n",
       "      <td>6937.000000</td>\n",
       "      <td>6937.000000</td>\n",
       "      <td>6937.000000</td>\n",
       "      <td>...</td>\n",
       "      <td>6937.000000</td>\n",
       "      <td>6937.000000</td>\n",
       "      <td>6937.000000</td>\n",
       "      <td>6937.000000</td>\n",
       "      <td>6937.000000</td>\n",
       "      <td>6937.000000</td>\n",
       "      <td>6937.000000</td>\n",
       "      <td>6937.000000</td>\n",
       "      <td>6937.000000</td>\n",
       "      <td>6937.000000</td>\n",
       "    </tr>\n",
       "    <tr>\n",
       "      <th>mean</th>\n",
       "      <td>333.083177</td>\n",
       "      <td>430.693182</td>\n",
       "      <td>1332.857224</td>\n",
       "      <td>224.024346</td>\n",
       "      <td>150.956686</td>\n",
       "      <td>73.067660</td>\n",
       "      <td>1.616838</td>\n",
       "      <td>3.546490</td>\n",
       "      <td>533.144225</td>\n",
       "      <td>18.107616</td>\n",
       "      <td>...</td>\n",
       "      <td>0.434717</td>\n",
       "      <td>277.068618</td>\n",
       "      <td>224.256739</td>\n",
       "      <td>254.170263</td>\n",
       "      <td>657.403415</td>\n",
       "      <td>617.144803</td>\n",
       "      <td>645.999926</td>\n",
       "      <td>571.261975</td>\n",
       "      <td>546.672223</td>\n",
       "      <td>558.103750</td>\n",
       "    </tr>\n",
       "    <tr>\n",
       "      <th>std</th>\n",
       "      <td>260.336907</td>\n",
       "      <td>343.110070</td>\n",
       "      <td>3104.580269</td>\n",
       "      <td>487.009989</td>\n",
       "      <td>345.828605</td>\n",
       "      <td>149.328307</td>\n",
       "      <td>11.139193</td>\n",
       "      <td>16.584034</td>\n",
       "      <td>463.267066</td>\n",
       "      <td>18.965560</td>\n",
       "      <td>...</td>\n",
       "      <td>3.412801</td>\n",
       "      <td>3682.409422</td>\n",
       "      <td>3265.356747</td>\n",
       "      <td>3416.268272</td>\n",
       "      <td>544.115850</td>\n",
       "      <td>526.556280</td>\n",
       "      <td>534.623674</td>\n",
       "      <td>487.620941</td>\n",
       "      <td>465.201345</td>\n",
       "      <td>474.581953</td>\n",
       "    </tr>\n",
       "    <tr>\n",
       "      <th>min</th>\n",
       "      <td>0.000000</td>\n",
       "      <td>12.890000</td>\n",
       "      <td>23.030000</td>\n",
       "      <td>4.380000</td>\n",
       "      <td>1.530000</td>\n",
       "      <td>-506.220000</td>\n",
       "      <td>0.000000</td>\n",
       "      <td>1.000000</td>\n",
       "      <td>5.562500</td>\n",
       "      <td>0.000000</td>\n",
       "      <td>...</td>\n",
       "      <td>0.000000</td>\n",
       "      <td>0.000000</td>\n",
       "      <td>0.000000</td>\n",
       "      <td>0.000000</td>\n",
       "      <td>12.890000</td>\n",
       "      <td>12.890000</td>\n",
       "      <td>12.890000</td>\n",
       "      <td>12.890000</td>\n",
       "      <td>12.500000</td>\n",
       "      <td>12.825000</td>\n",
       "    </tr>\n",
       "    <tr>\n",
       "      <th>25%</th>\n",
       "      <td>128.000000</td>\n",
       "      <td>169.000000</td>\n",
       "      <td>319.690000</td>\n",
       "      <td>57.680000</td>\n",
       "      <td>35.530000</td>\n",
       "      <td>17.090000</td>\n",
       "      <td>0.000000</td>\n",
       "      <td>1.000000</td>\n",
       "      <td>239.900000</td>\n",
       "      <td>0.000000</td>\n",
       "      <td>...</td>\n",
       "      <td>0.000000</td>\n",
       "      <td>9.000000</td>\n",
       "      <td>2.000000</td>\n",
       "      <td>7.000000</td>\n",
       "      <td>299.000000</td>\n",
       "      <td>289.000000</td>\n",
       "      <td>297.571429</td>\n",
       "      <td>262.900000</td>\n",
       "      <td>249.300000</td>\n",
       "      <td>258.143077</td>\n",
       "    </tr>\n",
       "    <tr>\n",
       "      <th>50%</th>\n",
       "      <td>272.000000</td>\n",
       "      <td>379.900000</td>\n",
       "      <td>640.270000</td>\n",
       "      <td>112.930000</td>\n",
       "      <td>73.740000</td>\n",
       "      <td>35.990000</td>\n",
       "      <td>0.000000</td>\n",
       "      <td>1.000000</td>\n",
       "      <td>449.900000</td>\n",
       "      <td>17.400000</td>\n",
       "      <td>...</td>\n",
       "      <td>0.000000</td>\n",
       "      <td>33.000000</td>\n",
       "      <td>18.000000</td>\n",
       "      <td>28.000000</td>\n",
       "      <td>599.990000</td>\n",
       "      <td>499.990000</td>\n",
       "      <td>598.488920</td>\n",
       "      <td>489.900000</td>\n",
       "      <td>475.100000</td>\n",
       "      <td>479.900000</td>\n",
       "    </tr>\n",
       "    <tr>\n",
       "      <th>75%</th>\n",
       "      <td>486.000000</td>\n",
       "      <td>539.900000</td>\n",
       "      <td>1357.420000</td>\n",
       "      <td>238.280000</td>\n",
       "      <td>155.650000</td>\n",
       "      <td>81.510000</td>\n",
       "      <td>0.000000</td>\n",
       "      <td>2.000000</td>\n",
       "      <td>699.000000</td>\n",
       "      <td>26.510000</td>\n",
       "      <td>...</td>\n",
       "      <td>0.000000</td>\n",
       "      <td>95.000000</td>\n",
       "      <td>77.000000</td>\n",
       "      <td>89.888889</td>\n",
       "      <td>799.900000</td>\n",
       "      <td>789.900000</td>\n",
       "      <td>799.900000</td>\n",
       "      <td>739.900000</td>\n",
       "      <td>699.000000</td>\n",
       "      <td>728.075000</td>\n",
       "    </tr>\n",
       "    <tr>\n",
       "      <th>max</th>\n",
       "      <td>990.000000</td>\n",
       "      <td>2699.000000</td>\n",
       "      <td>129229.500000</td>\n",
       "      <td>19384.430000</td>\n",
       "      <td>14215.420000</td>\n",
       "      <td>5169.010000</td>\n",
       "      <td>269.900000</td>\n",
       "      <td>842.000000</td>\n",
       "      <td>4999.000000</td>\n",
       "      <td>272.680000</td>\n",
       "      <td>...</td>\n",
       "      <td>204.870000</td>\n",
       "      <td>99999.000000</td>\n",
       "      <td>99999.000000</td>\n",
       "      <td>99999.000000</td>\n",
       "      <td>5599.000000</td>\n",
       "      <td>5599.000000</td>\n",
       "      <td>5599.000000</td>\n",
       "      <td>4999.000000</td>\n",
       "      <td>4999.000000</td>\n",
       "      <td>4999.000000</td>\n",
       "    </tr>\n",
       "  </tbody>\n",
       "</table>\n",
       "<p>8 rows × 23 columns</p>\n",
       "</div>"
      ],
      "text/plain": [
       "        Unnamed: 0  competition_price            gmv       revenue  \\\n",
       "count  6937.000000        4862.000000    6937.000000   6937.000000   \n",
       "mean    333.083177         430.693182    1332.857224    224.024346   \n",
       "std     260.336907         343.110070    3104.580269    487.009989   \n",
       "min       0.000000          12.890000      23.030000      4.380000   \n",
       "25%     128.000000         169.000000     319.690000     57.680000   \n",
       "50%     272.000000         379.900000     640.270000    112.930000   \n",
       "75%     486.000000         539.900000    1357.420000    238.280000   \n",
       "max     990.000000        2699.000000  129229.500000  19384.430000   \n",
       "\n",
       "               cogs  gross_profit  total_discount       orders  olist_price  \\\n",
       "count   6937.000000   6937.000000     6937.000000  6937.000000  6937.000000   \n",
       "mean     150.956686     73.067660        1.616838     3.546490   533.144225   \n",
       "std      345.828605    149.328307       11.139193    16.584034   463.267066   \n",
       "min        1.530000   -506.220000        0.000000     1.000000     5.562500   \n",
       "25%       35.530000     17.090000        0.000000     1.000000   239.900000   \n",
       "50%       73.740000     35.990000        0.000000     1.000000   449.900000   \n",
       "75%      155.650000     81.510000        0.000000     2.000000   699.000000   \n",
       "max    14215.420000   5169.010000      269.900000   842.000000  4999.000000   \n",
       "\n",
       "       freight_value  ...  price_discount     stock_max     stock_min  \\\n",
       "count    6937.000000  ...     6937.000000   6937.000000   6937.000000   \n",
       "mean       18.107616  ...        0.434717    277.068618    224.256739   \n",
       "std        18.965560  ...        3.412801   3682.409422   3265.356747   \n",
       "min         0.000000  ...        0.000000      0.000000      0.000000   \n",
       "25%         0.000000  ...        0.000000      9.000000      2.000000   \n",
       "50%        17.400000  ...        0.000000     33.000000     18.000000   \n",
       "75%        26.510000  ...        0.000000     95.000000     77.000000   \n",
       "max       272.680000  ...      204.870000  99999.000000  99999.000000   \n",
       "\n",
       "          stock_avg    price_max    price_min    price_avg    offer_max  \\\n",
       "count   6937.000000  6937.000000  6937.000000  6937.000000  6937.000000   \n",
       "mean     254.170263   657.403415   617.144803   645.999926   571.261975   \n",
       "std     3416.268272   544.115850   526.556280   534.623674   487.620941   \n",
       "min        0.000000    12.890000    12.890000    12.890000    12.890000   \n",
       "25%        7.000000   299.000000   289.000000   297.571429   262.900000   \n",
       "50%       28.000000   599.990000   499.990000   598.488920   489.900000   \n",
       "75%       89.888889   799.900000   789.900000   799.900000   739.900000   \n",
       "max    99999.000000  5599.000000  5599.000000  5599.000000  4999.000000   \n",
       "\n",
       "         offer_min    offer_avg  \n",
       "count  6937.000000  6937.000000  \n",
       "mean    546.672223   558.103750  \n",
       "std     465.201345   474.581953  \n",
       "min      12.500000    12.825000  \n",
       "25%     249.300000   258.143077  \n",
       "50%     475.100000   479.900000  \n",
       "75%     699.000000   728.075000  \n",
       "max    4999.000000  4999.000000  \n",
       "\n",
       "[8 rows x 23 columns]"
      ]
     },
     "execution_count": 8,
     "metadata": {},
     "output_type": "execute_result"
    }
   ],
   "source": [
    "df_all[df_all['orders'] > 0].describe()"
   ]
  },
  {
   "cell_type": "code",
   "execution_count": 9,
   "metadata": {},
   "outputs": [
    {
     "data": {
      "text/html": [
       "<div>\n",
       "<style scoped>\n",
       "    .dataframe tbody tr th:only-of-type {\n",
       "        vertical-align: middle;\n",
       "    }\n",
       "\n",
       "    .dataframe tbody tr th {\n",
       "        vertical-align: top;\n",
       "    }\n",
       "\n",
       "    .dataframe thead th {\n",
       "        text-align: right;\n",
       "    }\n",
       "</style>\n",
       "<table border=\"1\" class=\"dataframe\">\n",
       "  <thead>\n",
       "    <tr style=\"text-align: right;\">\n",
       "      <th></th>\n",
       "      <th>Unnamed: 0</th>\n",
       "      <th>competition_price</th>\n",
       "      <th>gmv</th>\n",
       "      <th>revenue</th>\n",
       "      <th>cogs</th>\n",
       "      <th>gross_profit</th>\n",
       "      <th>total_discount</th>\n",
       "      <th>orders</th>\n",
       "      <th>olist_price</th>\n",
       "      <th>freight_value</th>\n",
       "      <th>...</th>\n",
       "      <th>price_discount</th>\n",
       "      <th>stock_max</th>\n",
       "      <th>stock_min</th>\n",
       "      <th>stock_avg</th>\n",
       "      <th>price_max</th>\n",
       "      <th>price_min</th>\n",
       "      <th>price_avg</th>\n",
       "      <th>offer_max</th>\n",
       "      <th>offer_min</th>\n",
       "      <th>offer_avg</th>\n",
       "    </tr>\n",
       "  </thead>\n",
       "  <tbody>\n",
       "    <tr>\n",
       "      <th>count</th>\n",
       "      <td>121548.000000</td>\n",
       "      <td>60245.000000</td>\n",
       "      <td>121548.000000</td>\n",
       "      <td>121548.000000</td>\n",
       "      <td>121548.000000</td>\n",
       "      <td>121548.000000</td>\n",
       "      <td>6767.000000</td>\n",
       "      <td>121548.000000</td>\n",
       "      <td>121548.000000</td>\n",
       "      <td>6767.000000</td>\n",
       "      <td>...</td>\n",
       "      <td>6767.000000</td>\n",
       "      <td>121548.000000</td>\n",
       "      <td>121548.000000</td>\n",
       "      <td>121548.000000</td>\n",
       "      <td>121548.000000</td>\n",
       "      <td>121548.000000</td>\n",
       "      <td>121548.000000</td>\n",
       "      <td>121548.000000</td>\n",
       "      <td>121548.000000</td>\n",
       "      <td>121548.000000</td>\n",
       "    </tr>\n",
       "    <tr>\n",
       "      <th>mean</th>\n",
       "      <td>262.580454</td>\n",
       "      <td>530.592040</td>\n",
       "      <td>74.954179</td>\n",
       "      <td>12.578457</td>\n",
       "      <td>8.488830</td>\n",
       "      <td>4.089627</td>\n",
       "      <td>1.629721</td>\n",
       "      <td>0.200357</td>\n",
       "      <td>723.925635</td>\n",
       "      <td>17.995182</td>\n",
       "      <td>...</td>\n",
       "      <td>0.434326</td>\n",
       "      <td>168.697716</td>\n",
       "      <td>136.807352</td>\n",
       "      <td>152.460798</td>\n",
       "      <td>834.689062</td>\n",
       "      <td>813.224704</td>\n",
       "      <td>825.765431</td>\n",
       "      <td>745.729965</td>\n",
       "      <td>706.107474</td>\n",
       "      <td>725.233940</td>\n",
       "    </tr>\n",
       "    <tr>\n",
       "      <th>std</th>\n",
       "      <td>228.651346</td>\n",
       "      <td>539.420175</td>\n",
       "      <td>802.474711</td>\n",
       "      <td>127.182674</td>\n",
       "      <td>89.604263</td>\n",
       "      <td>39.371682</td>\n",
       "      <td>11.160692</td>\n",
       "      <td>4.045670</td>\n",
       "      <td>721.892828</td>\n",
       "      <td>18.927350</td>\n",
       "      <td>...</td>\n",
       "      <td>3.447832</td>\n",
       "      <td>2607.344717</td>\n",
       "      <td>2421.899787</td>\n",
       "      <td>2468.019143</td>\n",
       "      <td>835.792590</td>\n",
       "      <td>821.622963</td>\n",
       "      <td>827.940316</td>\n",
       "      <td>744.759525</td>\n",
       "      <td>705.421311</td>\n",
       "      <td>721.935611</td>\n",
       "    </tr>\n",
       "    <tr>\n",
       "      <th>min</th>\n",
       "      <td>0.000000</td>\n",
       "      <td>10.000000</td>\n",
       "      <td>0.000000</td>\n",
       "      <td>0.000000</td>\n",
       "      <td>0.000000</td>\n",
       "      <td>-506.220000</td>\n",
       "      <td>0.000000</td>\n",
       "      <td>0.000000</td>\n",
       "      <td>5.562500</td>\n",
       "      <td>0.000000</td>\n",
       "      <td>...</td>\n",
       "      <td>0.000000</td>\n",
       "      <td>1.000000</td>\n",
       "      <td>0.000000</td>\n",
       "      <td>0.111111</td>\n",
       "      <td>10.990000</td>\n",
       "      <td>10.990000</td>\n",
       "      <td>10.990000</td>\n",
       "      <td>10.000000</td>\n",
       "      <td>10.000000</td>\n",
       "      <td>10.000000</td>\n",
       "    </tr>\n",
       "    <tr>\n",
       "      <th>25%</th>\n",
       "      <td>76.000000</td>\n",
       "      <td>169.000000</td>\n",
       "      <td>0.000000</td>\n",
       "      <td>0.000000</td>\n",
       "      <td>0.000000</td>\n",
       "      <td>0.000000</td>\n",
       "      <td>0.000000</td>\n",
       "      <td>0.000000</td>\n",
       "      <td>195.522500</td>\n",
       "      <td>0.000000</td>\n",
       "      <td>...</td>\n",
       "      <td>0.000000</td>\n",
       "      <td>5.000000</td>\n",
       "      <td>0.000000</td>\n",
       "      <td>2.500000</td>\n",
       "      <td>239.990000</td>\n",
       "      <td>230.000000</td>\n",
       "      <td>239.900000</td>\n",
       "      <td>199.900000</td>\n",
       "      <td>189.990000</td>\n",
       "      <td>197.717143</td>\n",
       "    </tr>\n",
       "    <tr>\n",
       "      <th>50%</th>\n",
       "      <td>195.000000</td>\n",
       "      <td>329.900000</td>\n",
       "      <td>0.000000</td>\n",
       "      <td>0.000000</td>\n",
       "      <td>0.000000</td>\n",
       "      <td>0.000000</td>\n",
       "      <td>0.000000</td>\n",
       "      <td>0.000000</td>\n",
       "      <td>483.800000</td>\n",
       "      <td>17.327500</td>\n",
       "      <td>...</td>\n",
       "      <td>0.000000</td>\n",
       "      <td>5.000000</td>\n",
       "      <td>3.000000</td>\n",
       "      <td>5.000000</td>\n",
       "      <td>550.000000</td>\n",
       "      <td>529.900000</td>\n",
       "      <td>549.990000</td>\n",
       "      <td>499.000000</td>\n",
       "      <td>478.900000</td>\n",
       "      <td>489.255263</td>\n",
       "    </tr>\n",
       "    <tr>\n",
       "      <th>75%</th>\n",
       "      <td>399.000000</td>\n",
       "      <td>739.000000</td>\n",
       "      <td>0.000000</td>\n",
       "      <td>0.000000</td>\n",
       "      <td>0.000000</td>\n",
       "      <td>0.000000</td>\n",
       "      <td>0.000000</td>\n",
       "      <td>0.000000</td>\n",
       "      <td>998.960779</td>\n",
       "      <td>26.332500</td>\n",
       "      <td>...</td>\n",
       "      <td>0.000000</td>\n",
       "      <td>19.000000</td>\n",
       "      <td>10.000000</td>\n",
       "      <td>15.000000</td>\n",
       "      <td>1169.900000</td>\n",
       "      <td>1099.900000</td>\n",
       "      <td>1119.900000</td>\n",
       "      <td>999.990000</td>\n",
       "      <td>978.670000</td>\n",
       "      <td>999.000000</td>\n",
       "    </tr>\n",
       "    <tr>\n",
       "      <th>max</th>\n",
       "      <td>990.000000</td>\n",
       "      <td>3799.900000</td>\n",
       "      <td>129229.500000</td>\n",
       "      <td>19384.430000</td>\n",
       "      <td>14215.420000</td>\n",
       "      <td>5169.010000</td>\n",
       "      <td>269.900000</td>\n",
       "      <td>842.000000</td>\n",
       "      <td>5999.900000</td>\n",
       "      <td>272.680000</td>\n",
       "      <td>...</td>\n",
       "      <td>204.870000</td>\n",
       "      <td>100000.000000</td>\n",
       "      <td>100000.000000</td>\n",
       "      <td>100000.000000</td>\n",
       "      <td>8399.900000</td>\n",
       "      <td>8399.900000</td>\n",
       "      <td>8399.900000</td>\n",
       "      <td>5999.900000</td>\n",
       "      <td>5999.900000</td>\n",
       "      <td>5999.900000</td>\n",
       "    </tr>\n",
       "  </tbody>\n",
       "</table>\n",
       "<p>8 rows × 23 columns</p>\n",
       "</div>"
      ],
      "text/plain": [
       "          Unnamed: 0  competition_price            gmv        revenue  \\\n",
       "count  121548.000000       60245.000000  121548.000000  121548.000000   \n",
       "mean      262.580454         530.592040      74.954179      12.578457   \n",
       "std       228.651346         539.420175     802.474711     127.182674   \n",
       "min         0.000000          10.000000       0.000000       0.000000   \n",
       "25%        76.000000         169.000000       0.000000       0.000000   \n",
       "50%       195.000000         329.900000       0.000000       0.000000   \n",
       "75%       399.000000         739.000000       0.000000       0.000000   \n",
       "max       990.000000        3799.900000  129229.500000   19384.430000   \n",
       "\n",
       "                cogs   gross_profit  total_discount         orders  \\\n",
       "count  121548.000000  121548.000000     6767.000000  121548.000000   \n",
       "mean        8.488830       4.089627        1.629721       0.200357   \n",
       "std        89.604263      39.371682       11.160692       4.045670   \n",
       "min         0.000000    -506.220000        0.000000       0.000000   \n",
       "25%         0.000000       0.000000        0.000000       0.000000   \n",
       "50%         0.000000       0.000000        0.000000       0.000000   \n",
       "75%         0.000000       0.000000        0.000000       0.000000   \n",
       "max     14215.420000    5169.010000      269.900000     842.000000   \n",
       "\n",
       "         olist_price  freight_value  ...  price_discount      stock_max  \\\n",
       "count  121548.000000    6767.000000  ...     6767.000000  121548.000000   \n",
       "mean      723.925635      17.995182  ...        0.434326     168.697716   \n",
       "std       721.892828      18.927350  ...        3.447832    2607.344717   \n",
       "min         5.562500       0.000000  ...        0.000000       1.000000   \n",
       "25%       195.522500       0.000000  ...        0.000000       5.000000   \n",
       "50%       483.800000      17.327500  ...        0.000000       5.000000   \n",
       "75%       998.960779      26.332500  ...        0.000000      19.000000   \n",
       "max      5999.900000     272.680000  ...      204.870000  100000.000000   \n",
       "\n",
       "           stock_min      stock_avg      price_max      price_min  \\\n",
       "count  121548.000000  121548.000000  121548.000000  121548.000000   \n",
       "mean      136.807352     152.460798     834.689062     813.224704   \n",
       "std      2421.899787    2468.019143     835.792590     821.622963   \n",
       "min         0.000000       0.111111      10.990000      10.990000   \n",
       "25%         0.000000       2.500000     239.990000     230.000000   \n",
       "50%         3.000000       5.000000     550.000000     529.900000   \n",
       "75%        10.000000      15.000000    1169.900000    1099.900000   \n",
       "max    100000.000000  100000.000000    8399.900000    8399.900000   \n",
       "\n",
       "           price_avg      offer_max      offer_min      offer_avg  \n",
       "count  121548.000000  121548.000000  121548.000000  121548.000000  \n",
       "mean      825.765431     745.729965     706.107474     725.233940  \n",
       "std       827.940316     744.759525     705.421311     721.935611  \n",
       "min        10.990000      10.000000      10.000000      10.000000  \n",
       "25%       239.900000     199.900000     189.990000     197.717143  \n",
       "50%       549.990000     499.000000     478.900000     489.255263  \n",
       "75%      1119.900000     999.990000     978.670000     999.000000  \n",
       "max      8399.900000    5999.900000    5999.900000    5999.900000  \n",
       "\n",
       "[8 rows x 23 columns]"
      ]
     },
     "execution_count": 9,
     "metadata": {},
     "output_type": "execute_result"
    }
   ],
   "source": [
    "df_all[df_all['stock_avg'] > 0].describe()"
   ]
  },
  {
   "cell_type": "markdown",
   "metadata": {},
   "source": [
    "Number of orders/day (all day in dataset)"
   ]
  },
  {
   "cell_type": "code",
   "execution_count": 10,
   "metadata": {},
   "outputs": [
    {
     "data": {
      "text/plain": [
       "25.258726899383984"
      ]
     },
     "execution_count": 10,
     "metadata": {},
     "output_type": "execute_result"
    }
   ],
   "source": [
    "sparsity_all_dates = df_all['orders'].sum() / n_days_total\n",
    "sparsity_all_dates"
   ]
  },
  {
   "cell_type": "markdown",
   "metadata": {},
   "source": [
    "We have some days with orders >1 but stocks = 0"
   ]
  },
  {
   "cell_type": "code",
   "execution_count": 11,
   "metadata": {},
   "outputs": [
    {
     "data": {
      "text/plain": [
       "249.0"
      ]
     },
     "execution_count": 11,
     "metadata": {},
     "output_type": "execute_result"
    }
   ],
   "source": [
    "df_all['orders'][df_all['stock_avg'] == 0].sum()"
   ]
  },
  {
   "cell_type": "markdown",
   "metadata": {},
   "source": [
    "Number of orders/day when stock_avg >0. It reduces because the number of days without stock but with orders."
   ]
  },
  {
   "cell_type": "code",
   "execution_count": 12,
   "metadata": {},
   "outputs": [
    {
     "data": {
      "text/plain": [
       "25.003080082135522"
      ]
     },
     "execution_count": 12,
     "metadata": {},
     "output_type": "execute_result"
    }
   ],
   "source": [
    "sparsity_stocks = df_all['orders'][df_all['stock_avg'] >0].sum() / len(df_all['date'][df_all['stock_avg'] >0].unique())\n",
    "sparsity_stocks"
   ]
  },
  {
   "cell_type": "code",
   "execution_count": 13,
   "metadata": {},
   "outputs": [
    {
     "data": {
      "text/plain": [
       "58.02358490566038"
      ]
     },
     "execution_count": 13,
     "metadata": {},
     "output_type": "execute_result"
    }
   ],
   "source": [
    "sparcity_orders = df_all['orders'][df_all['orders'] >0].sum() / len(df_all['date'][df_all['orders'] >0].unique())\n",
    "sparcity_orders "
   ]
  },
  {
   "cell_type": "markdown",
   "metadata": {},
   "source": [
    "Check the most important products_gtins on the x last_days"
   ]
  },
  {
   "cell_type": "code",
   "execution_count": 14,
   "metadata": {},
   "outputs": [
    {
     "data": {
      "text/html": [
       "<div>\n",
       "<style scoped>\n",
       "    .dataframe tbody tr th:only-of-type {\n",
       "        vertical-align: middle;\n",
       "    }\n",
       "\n",
       "    .dataframe tbody tr th {\n",
       "        vertical-align: top;\n",
       "    }\n",
       "\n",
       "    .dataframe thead th {\n",
       "        text-align: right;\n",
       "    }\n",
       "</style>\n",
       "<table border=\"1\" class=\"dataframe\">\n",
       "  <thead>\n",
       "    <tr style=\"text-align: right;\">\n",
       "      <th></th>\n",
       "      <th>item_name</th>\n",
       "      <th>gtin</th>\n",
       "      <th>orders</th>\n",
       "    </tr>\n",
       "  </thead>\n",
       "  <tbody>\n",
       "    <tr>\n",
       "      <th>339</th>\n",
       "      <td>Smartwatch Xiaomi Mi Band 4 Oled Preto Origina...</td>\n",
       "      <td>0721047599769</td>\n",
       "      <td>844.0</td>\n",
       "    </tr>\n",
       "    <tr>\n",
       "      <th>88</th>\n",
       "      <td>Celular Lg A275 Simples Lanterna Radio Fm Idoso</td>\n",
       "      <td>7893299741364</td>\n",
       "      <td>419.0</td>\n",
       "    </tr>\n",
       "    <tr>\n",
       "      <th>114</th>\n",
       "      <td>Celular Motorola Moto E5 Play 16gb Dual Chip -...</td>\n",
       "      <td>7892597347827</td>\n",
       "      <td>402.0</td>\n",
       "    </tr>\n",
       "    <tr>\n",
       "      <th>90</th>\n",
       "      <td>Celular Lg B-220 B220 Preto 2 Chips</td>\n",
       "      <td>7909389823503</td>\n",
       "      <td>381.0</td>\n",
       "    </tr>\n",
       "    <tr>\n",
       "      <th>201</th>\n",
       "      <td>Samsung Galaxy J2 Core Dual Sim 16 Gb Preto 1 ...</td>\n",
       "      <td>7892509104661</td>\n",
       "      <td>358.0</td>\n",
       "    </tr>\n",
       "    <tr>\n",
       "      <th>239</th>\n",
       "      <td>Smartphone LG K9 TV Azul com 16GB, Tela  5.0 H...</td>\n",
       "      <td>7893299910418</td>\n",
       "      <td>316.0</td>\n",
       "    </tr>\n",
       "    <tr>\n",
       "      <th>52</th>\n",
       "      <td>Celular Dual Chip LG B220 32MB 2G Rádio FM .</td>\n",
       "      <td>7893299901607</td>\n",
       "      <td>200.0</td>\n",
       "    </tr>\n",
       "    <tr>\n",
       "      <th>111</th>\n",
       "      <td>Celular Lg K9 Tv Azul Com 16gb, Tela  5.0 Hd, ...</td>\n",
       "      <td>7893299910418</td>\n",
       "      <td>181.0</td>\n",
       "    </tr>\n",
       "    <tr>\n",
       "      <th>176</th>\n",
       "      <td>Lg K9 Tv Dual Sim  16 Gb Azul</td>\n",
       "      <td>7893299910418</td>\n",
       "      <td>177.0</td>\n",
       "    </tr>\n",
       "    <tr>\n",
       "      <th>240</th>\n",
       "      <td>Smartphone LG K9 TV Azul com 16GB, Tela  5.0&amp;q...</td>\n",
       "      <td>7893299910418</td>\n",
       "      <td>174.0</td>\n",
       "    </tr>\n",
       "  </tbody>\n",
       "</table>\n",
       "</div>"
      ],
      "text/plain": [
       "                                             item_name           gtin  orders\n",
       "339  Smartwatch Xiaomi Mi Band 4 Oled Preto Origina...  0721047599769   844.0\n",
       "88     Celular Lg A275 Simples Lanterna Radio Fm Idoso  7893299741364   419.0\n",
       "114  Celular Motorola Moto E5 Play 16gb Dual Chip -...  7892597347827   402.0\n",
       "90                 Celular Lg B-220 B220 Preto 2 Chips  7909389823503   381.0\n",
       "201  Samsung Galaxy J2 Core Dual Sim 16 Gb Preto 1 ...  7892509104661   358.0\n",
       "239  Smartphone LG K9 TV Azul com 16GB, Tela  5.0 H...  7893299910418   316.0\n",
       "52        Celular Dual Chip LG B220 32MB 2G Rádio FM .  7893299901607   200.0\n",
       "111  Celular Lg K9 Tv Azul Com 16gb, Tela  5.0 Hd, ...  7893299910418   181.0\n",
       "176                      Lg K9 Tv Dual Sim  16 Gb Azul  7893299910418   177.0\n",
       "240  Smartphone LG K9 TV Azul com 16GB, Tela  5.0&q...  7893299910418   174.0"
      ]
     },
     "execution_count": 14,
     "metadata": {},
     "output_type": "execute_result"
    }
   ],
   "source": [
    "#input the number of days to check the most important product in terms of orders.\n",
    "last_days = 60\n",
    "check_sales_date = df_all['date'].max() - pd.DateOffset(last_days)\n",
    "\n",
    "df_all[df_all['date'] >= check_sales_date].groupby(by=['item_name', 'gtin'])['orders'].sum().reset_index().sort_values(by = ['orders'], ascending = False).head(10)"
   ]
  },
  {
   "cell_type": "markdown",
   "metadata": {},
   "source": [
    "TEST PRODUCTS INDIVIDUALLY"
   ]
  },
  {
   "cell_type": "code",
   "execution_count": 15,
   "metadata": {},
   "outputs": [
    {
     "name": "stdout",
     "output_type": "stream",
     "text": [
      "Celular Lg K9 Tv 4g Dual Chip Tv Digital 16gb Tela 5 Cam8mp .\n"
     ]
    }
   ],
   "source": [
    "#choose gtin\n",
    "gtin = '7893299910340'\n",
    "df = df_all[(df_all['gtin'] == gtin)]\n",
    "print(df['item_name'].unique()[0])"
   ]
  },
  {
   "cell_type": "markdown",
   "metadata": {},
   "source": [
    "Create some features for seasonality and convert them to dummies"
   ]
  },
  {
   "cell_type": "code",
   "execution_count": 16,
   "metadata": {},
   "outputs": [],
   "source": [
    "df['month'] = pd.DatetimeIndex(df['date']).month\n",
    "df['day'] = pd.DatetimeIndex(df['date']).day\n",
    "df['weekday'] = pd.DatetimeIndex(df['date']).weekday\n",
    "\n",
    "#Fill the nan freight values by the median (we just have one product here) and nan competition price by olist price\n",
    "df['freight_value'] = df['freight_value'].fillna(df['freight_value'].median())\n",
    "df['competition_price'] = df['olist_price'].fillna(df['olist_price'])"
   ]
  },
  {
   "cell_type": "code",
   "execution_count": 17,
   "metadata": {},
   "outputs": [
    {
     "data": {
      "text/plain": [
       "<matplotlib.axes._subplots.AxesSubplot at 0x1a1d6dfa10>"
      ]
     },
     "execution_count": 17,
     "metadata": {},
     "output_type": "execute_result"
    },
    {
     "data": {
      "image/png": "[encoded data removed]",
      "text/plain": [
       "<Figure size 432x288 with 1 Axes>"
      ]
     },
     "metadata": {
      "needs_background": "light"
     },
     "output_type": "display_data"
    }
   ],
   "source": [
    "sns.lineplot(x = 'date', y = 'orders', data = df)"
   ]
  },
  {
   "cell_type": "markdown",
   "metadata": {},
   "source": [
    "Convert seasonal categorical variables to dummy"
   ]
  },
  {
   "cell_type": "code",
   "execution_count": 18,
   "metadata": {},
   "outputs": [],
   "source": [
    "vars_cat = ['weekday', 'month', 'day']\n",
    "df_cat_dummy = pd.get_dummies(df, columns = vars_cat, drop_first=True)"
   ]
  },
  {
   "cell_type": "markdown",
   "metadata": {},
   "source": [
    "Split traning and test samples"
   ]
  },
  {
   "cell_type": "code",
   "execution_count": 19,
   "metadata": {},
   "outputs": [
    {
     "name": "stdout",
     "output_type": "stream",
     "text": [
      "2018-09-19 00:00:00\n",
      "2020-02-27 00:00:00\n",
      "527\n"
     ]
    }
   ],
   "source": [
    "date_min = df['date'].min()\n",
    "print(date_min)\n",
    "date_max = df['date'].max()\n",
    "print(date_max)\n",
    "n_days_total =  len(df['date'].unique())\n",
    "print(n_days_total)"
   ]
  },
  {
   "cell_type": "code",
   "execution_count": 20,
   "metadata": {},
   "outputs": [],
   "source": [
    "#for time-series it's not a good idea subset train and test datasets randonly, because time is a important feature.\n",
    "#n_test = number os rows used in test dataset.\n",
    "n_test = 0.2                \n",
    "n_train = len(df_cat_dummy) * (1-n_test)\n",
    "n_train = int(n_train)\n",
    "\n",
    "train = df_cat_dummy.iloc[0:n_train, :].reset_index()\n",
    "test  = df_cat_dummy.iloc[n_train:, :].reset_index()\n"
   ]
  },
  {
   "cell_type": "markdown",
   "metadata": {},
   "source": [
    "Lets try a simple linear regression\n",
    "\n",
    "I drop the seasonal dummies for month and day because we dont have data for all possibilities."
   ]
  },
  {
   "cell_type": "code",
   "execution_count": 34,
   "metadata": {},
   "outputs": [
    {
     "name": "stdout",
     "output_type": "stream",
     "text": [
      "R2:0.4430979990591948\n",
      "MAE:5.571523991674564\n"
     ]
    },
    {
     "data": {
      "text/plain": [
       "<matplotlib.legend.Legend at 0x1a1ed93a90>"
      ]
     },
     "execution_count": 34,
     "metadata": {},
     "output_type": "execute_result"
    },
    {
     "data": {
      "image/png": "[encoded data removed]",
      "text/plain": [
       "<Figure size 432x288 with 1 Axes>"
      ]
     },
     "metadata": {
      "needs_background": "light"
     },
     "output_type": "display_data"
    }
   ],
   "source": [
    "y = 'orders'\n",
    "x = ['competition_price', 'olist_price', 'freight_value',\n",
    "       'stock_avg', 'weekday_1', 'weekday_2', 'weekday_3', 'weekday_4',\n",
    "       'weekday_5', 'weekday_6']\n",
    "\n",
    "mod0 = linear_model.LinearRegression()\n",
    "mod0.fit(train.loc[:,x], train.loc[:,y])\n",
    "mod0_pred = mod0.predict(test.loc[:,x])\n",
    "\n",
    "#converting all predict values <0 -> =0\n",
    "mod0_pred_c = []\n",
    "for i in range(len(mod0_pred)):\n",
    "    if mod0_pred[i] <0:\n",
    "        mod0_pred_c.append(0)\n",
    "    else:\n",
    "        mod0_pred_c.append(mod0_pred[i])\n",
    "    \n",
    "\n",
    "r2 = metrics.r2_score(train.loc[:,y], mod0.predict(train.loc[:,x]))\n",
    "median_absolute_error = metrics.median_absolute_error(test.loc[:,y], mod0_pred_c)\n",
    "print('R2:' + str(r2))\n",
    "print('MAE:' + str(median_absolute_error))\n",
    "\n",
    "y_1 = test['orders']\n",
    "y_2 = mod0_pred_c\n",
    "x_data = test['date']\n",
    "sns.lineplot(x = x_data, y = y_1, color = 'orange')\n",
    "sns.lineplot(x = x_data, y = y_2, color = 'b')\n",
    "plt.title('test predicted x realized')\n",
    "plt.legend(bbox_to_anchor=(1.05, 1), loc=2, borderaxespad=0., labels = ['real', 'predict'])"
   ]
  },
  {
   "cell_type": "markdown",
   "metadata": {},
   "source": [
    "Trying to improve the r2. First let's calculate price_ratio (price / competition_price) and freight_ratio (freight / price). Intead of use competition_price, price and freight, we run with price_ratio and freight_ratio. Very poor results."
   ]
  },
  {
   "cell_type": "code",
   "execution_count": 31,
   "metadata": {},
   "outputs": [],
   "source": [
    "df_cat_dummy['price_ratio'] = df_cat_dummy['olist_price'] / df_cat_dummy['competition_price']\n",
    "df_cat_dummy['freight_ratio'] = df_cat_dummy['freight_value'] / df_cat_dummy['olist_price']"
   ]
  },
  {
   "cell_type": "code",
   "execution_count": 86,
   "metadata": {},
   "outputs": [
    {
     "name": "stdout",
     "output_type": "stream",
     "text": [
      "R2:0.06442487183413093\n",
      "MAE:3.811262829557145\n"
     ]
    },
    {
     "data": {
      "text/plain": [
       "<matplotlib.legend.Legend at 0x1a1f374fd0>"
      ]
     },
     "execution_count": 86,
     "metadata": {},
     "output_type": "execute_result"
    },
    {
     "data": {
      "image/png": "[encoded data removed]",
      "text/plain": [
       "<Figure size 432x288 with 1 Axes>"
      ]
     },
     "metadata": {
      "needs_background": "light"
     },
     "output_type": "display_data"
    }
   ],
   "source": [
    "#for time-series it's not a good idea subset train and test datasets randonly, because time is a important feature.\n",
    "#n_test = number os rows used in test dataset.\n",
    "n_test = 0.2                \n",
    "n_train = len(df_cat_dummy) * (1-n_test)\n",
    "n_train = int(n_train)\n",
    "\n",
    "train = df_cat_dummy.iloc[0:n_train, :].reset_index()\n",
    "test  = df_cat_dummy.iloc[n_train:, :].reset_index()\n",
    "\n",
    "\n",
    "y = 'orders'\n",
    "x = ['price_ratio', 'freight_ratio',\n",
    "       'stock_avg', 'weekday_1', 'weekday_2', 'weekday_3', 'weekday_4',\n",
    "       'weekday_5', 'weekday_6']\n",
    "\n",
    "mod0 = linear_model.LinearRegression()\n",
    "mod0.fit(train.loc[:,x], train.loc[:,y])\n",
    "mod0_pred = mod0.predict(test.loc[:,x])\n",
    "\n",
    "#converting all predict values <0 -> =0\n",
    "mod0_pred_c = []\n",
    "for i in range(len(mod0_pred)):\n",
    "    if mod0_pred[i] <0:\n",
    "        mod0_pred_c.append(0)\n",
    "    else:\n",
    "        mod0_pred_c.append(mod0_pred[i])\n",
    "    \n",
    "\n",
    "r2 = metrics.r2_score(train.loc[:,y], mod0.predict(train.loc[:,x]))\n",
    "median_absolute_error = metrics.median_absolute_error(test.loc[:,y], mod0_pred_c)\n",
    "print('R2:' + str(r2))\n",
    "print('MAE:' + str(median_absolute_error))\n",
    "\n",
    "y_1 = test['orders']\n",
    "y_2 = mod0_pred_c\n",
    "x_data = test['date']\n",
    "sns.lineplot(x = x_data, y = y_1, color = 'orange')\n",
    "sns.lineplot(x = x_data, y = y_2, color = 'b')\n",
    "plt.title('test predicted x realized')\n",
    "plt.legend(bbox_to_anchor=(1.05, 1), loc=2, borderaxespad=0., labels = ['real', 'predict'])"
   ]
  },
  {
   "cell_type": "markdown",
   "metadata": {},
   "source": [
    "Back to the initial regression, let's calculate use lag variables, and rerun the regressions. We choose lags until 4 days. The results are worst than original."
   ]
  },
  {
   "cell_type": "code",
   "execution_count": 92,
   "metadata": {},
   "outputs": [],
   "source": [
    "#set the variables to lag\n",
    "var_lag = ['competition_price', 'orders', 'olist_price', 'freight_value']\n",
    "\n",
    "#set the number of lags\n",
    "n_lag = [1, 2, 3, 4]\n",
    "\n",
    "#loop to calculate the lags for var_lags\n",
    "for col in var_lag:\n",
    "    for lag in n_lag:\n",
    "        df_cat_dummy.loc[:, col + str(-lag)] = df_cat_dummy.loc[:, col].shift(lag*-1) \n",
    "\n",
    "df_cat_dummy.dropna(inplace = True)"
   ]
  },
  {
   "cell_type": "code",
   "execution_count": 91,
   "metadata": {},
   "outputs": [
    {
     "name": "stdout",
     "output_type": "stream",
     "text": [
      "R2:0.13020660898684888\n",
      "MAE:6.93402307876374\n"
     ]
    },
    {
     "data": {
      "text/plain": [
       "<matplotlib.legend.Legend at 0x1a1f979e50>"
      ]
     },
     "execution_count": 91,
     "metadata": {},
     "output_type": "execute_result"
    },
    {
     "data": {
      "image/png": "[encoded data removed]",
      "text/plain": [
       "<Figure size 432x288 with 1 Axes>"
      ]
     },
     "metadata": {
      "needs_background": "light"
     },
     "output_type": "display_data"
    }
   ],
   "source": [
    "#for time-series it's not a good idea subset train and test datasets randonly, because time is a important feature.\n",
    "#n_test = number os rows used in test dataset.\n",
    "n_test = 0.2                \n",
    "n_train = len(df_cat_dummy) * (1-n_test)\n",
    "n_train = int(n_train)\n",
    "\n",
    "train = df_cat_dummy.iloc[0:n_train, :].reset_index()\n",
    "test  = df_cat_dummy.iloc[n_train:, :].reset_index()\n",
    "\n",
    "\n",
    "y = 'orders'\n",
    "x = ['price_ratio', 'freight_ratio',\n",
    "       'stock_avg', 'weekday_1', 'weekday_2', 'weekday_3', 'weekday_4',\n",
    "       'weekday_5', 'weekday_6', 'competition_price-1', 'orders-1', 'olist_price-1', 'freight_value-1',\n",
    "       'competition_price-2', 'orders-2', 'olist_price-2', 'freight_value-2',\n",
    "       'competition_price-3', 'orders-3', 'olist_price-3', 'freight_value-3',\n",
    "       'competition_price-4', 'orders-4', 'olist_price-4', 'freight_value-4']\n",
    "\n",
    "mod0 = linear_model.LinearRegression()\n",
    "mod0.fit(train.loc[:,x], train.loc[:,y])\n",
    "mod0_pred = mod0.predict(test.loc[:,x])\n",
    "\n",
    "#converting all predict values <0 -> =0\n",
    "mod0_pred_c = []\n",
    "for i in range(len(mod0_pred)):\n",
    "    if mod0_pred[i] <0:\n",
    "        mod0_pred_c.append(0)\n",
    "    else:\n",
    "        mod0_pred_c.append(mod0_pred[i])\n",
    "    \n",
    "\n",
    "r2 = metrics.r2_score(train.loc[:,y], mod0.predict(train.loc[:,x]))\n",
    "median_absolute_error = metrics.median_absolute_error(test.loc[:,y], mod0_pred_c)\n",
    "print('R2:' + str(r2))\n",
    "print('MAE:' + str(median_absolute_error))\n",
    "\n",
    "y_1 = test['orders']\n",
    "y_2 = mod0_pred_c\n",
    "x_data = test['date']\n",
    "sns.lineplot(x = x_data, y = y_1, color = 'orange')\n",
    "sns.lineplot(x = x_data, y = y_2, color = 'b')\n",
    "plt.title('test predicted x realized')\n",
    "plt.legend(bbox_to_anchor=(1.05, 1), loc=2, borderaxespad=0., labels = ['real', 'predict'])"
   ]
  },
  {
   "cell_type": "markdown",
   "metadata": {},
   "source": [
    "Let's try the same as before (lags features) with regularization L1, L2 and elasticnet"
   ]
  },
  {
   "cell_type": "code",
   "execution_count": 102,
   "metadata": {},
   "outputs": [
    {
     "name": "stdout",
     "output_type": "stream",
     "text": [
      "R2:0.1302066060999293\n",
      "MAE:6.935587879199554\n"
     ]
    },
    {
     "data": {
      "text/plain": [
       "<matplotlib.legend.Legend at 0x1a20156750>"
      ]
     },
     "execution_count": 102,
     "metadata": {},
     "output_type": "execute_result"
    },
    {
     "data": {
      "image/png": "[encoded data removed]",
      "text/plain": [
       "<Figure size 432x288 with 1 Axes>"
      ]
     },
     "metadata": {
      "needs_background": "light"
     },
     "output_type": "display_data"
    }
   ],
   "source": [
    "#L1\n",
    "\n",
    "y = 'orders'\n",
    "x = ['price_ratio', 'freight_ratio',\n",
    "       'stock_avg', 'weekday_1', 'weekday_2', 'weekday_3', 'weekday_4',\n",
    "       'weekday_5', 'weekday_6', 'competition_price-1', 'orders-1', 'olist_price-1', 'freight_value-1',\n",
    "       'competition_price-2', 'orders-2', 'olist_price-2', 'freight_value-2',\n",
    "       'competition_price-3', 'orders-3', 'olist_price-3', 'freight_value-3',\n",
    "       'competition_price-4', 'orders-4', 'olist_price-4', 'freight_value-4']\n",
    "\n",
    "# Fitting the model\n",
    "mod = linear_model.Lasso(alpha=0.00001, fit_intercept=True)\n",
    "mod.fit(train.loc[:,x], train.loc[:,y])\n",
    "mod_pred = mod.predict(test.loc[:,x])\n",
    "\n",
    "r2 = metrics.r2_score(train.loc[:,y], mod.predict(train.loc[:,x]))\n",
    "median_absolute_error = metrics.median_absolute_error(test.loc[:,y], mod_pred)\n",
    "print('R2:' + str(r2))\n",
    "print('MAE:' + str(median_absolute_error))\n",
    "\n",
    "y_1 = test['orders']\n",
    "y_2 = mod_pred\n",
    "x_data = test['date']\n",
    "sns.lineplot(x = x_data, y = y_1, color = 'orange')\n",
    "sns.lineplot(x = x_data, y = y_2, color = 'b')\n",
    "plt.title('test predicted x realized')\n",
    "plt.legend(bbox_to_anchor=(1.05, 1), loc=2, borderaxespad=0., labels = ['real', 'predict'])\n"
   ]
  },
  {
   "cell_type": "code",
   "execution_count": 103,
   "metadata": {},
   "outputs": [
    {
     "name": "stdout",
     "output_type": "stream",
     "text": [
      "R2:0.11306871296365473\n",
      "MAE:7.132028026247481\n"
     ]
    },
    {
     "data": {
      "text/plain": [
       "<matplotlib.legend.Legend at 0x1a1f64e6d0>"
      ]
     },
     "execution_count": 103,
     "metadata": {},
     "output_type": "execute_result"
    },
    {
     "data": {
      "image/png": "[encoded data removed]",
      "text/plain": [
       "<Figure size 432x288 with 1 Axes>"
      ]
     },
     "metadata": {
      "needs_background": "light"
     },
     "output_type": "display_data"
    }
   ],
   "source": [
    "#L2\n",
    "\n",
    "y = 'orders'\n",
    "x = ['price_ratio', 'freight_ratio',\n",
    "       'stock_avg', 'weekday_1', 'weekday_2', 'weekday_3', 'weekday_4',\n",
    "       'weekday_5', 'weekday_6', 'competition_price-1', 'orders-1', 'olist_price-1', 'freight_value-1',\n",
    "       'competition_price-2', 'orders-2', 'olist_price-2', 'freight_value-2',\n",
    "       'competition_price-3', 'orders-3', 'olist_price-3', 'freight_value-3',\n",
    "       'competition_price-4', 'orders-4', 'olist_price-4', 'freight_value-4']\n",
    "\n",
    "# Fitting the model\n",
    "mod = linear_model.Ridge(alpha=46.2, fit_intercept=True) # higher alpha for stronger regularization\n",
    "mod.fit(train.loc[:,x], train.loc[:,y])\n",
    "mod_pred = mod.predict(test.loc[:,x])\n",
    "\n",
    "r2 = metrics.r2_score(train.loc[:,y], mod.predict(train.loc[:,x]))\n",
    "median_absolute_error = metrics.median_absolute_error(test.loc[:,y], mod_pred)\n",
    "print('R2:' + str(r2))\n",
    "print('MAE:' + str(median_absolute_error))\n",
    "\n",
    "y_1 = test['orders']\n",
    "y_2 = mod_pred\n",
    "x_data = test['date']\n",
    "sns.lineplot(x = x_data, y = y_1, color = 'orange')\n",
    "sns.lineplot(x = x_data, y = y_2, color = 'b')\n",
    "plt.title('test predicted x realized')\n",
    "plt.legend(bbox_to_anchor=(1.05, 1), loc=2, borderaxespad=0., labels = ['real', 'predict'])\n"
   ]
  },
  {
   "cell_type": "code",
   "execution_count": 105,
   "metadata": {},
   "outputs": [
    {
     "name": "stdout",
     "output_type": "stream",
     "text": [
      "R2:0.0948067904983273\n",
      "MAE:5.867381183287208\n"
     ]
    },
    {
     "data": {
      "text/plain": [
       "<matplotlib.legend.Legend at 0x1a2051fb50>"
      ]
     },
     "execution_count": 105,
     "metadata": {},
     "output_type": "execute_result"
    },
    {
     "data": {
      "image/png": "[encoded data removed]",
      "text/plain": [
       "<Figure size 432x288 with 1 Axes>"
      ]
     },
     "metadata": {
      "needs_background": "light"
     },
     "output_type": "display_data"
    }
   ],
   "source": [
    "#L2\n",
    "\n",
    "y = 'orders'\n",
    "x = ['price_ratio', 'freight_ratio',\n",
    "       'stock_avg', 'weekday_1', 'weekday_2', 'weekday_3', 'weekday_4',\n",
    "       'weekday_5', 'weekday_6', 'competition_price-1', 'orders-1', 'olist_price-1', 'freight_value-1',\n",
    "       'competition_price-2', 'orders-2', 'olist_price-2', 'freight_value-2',\n",
    "       'competition_price-3', 'orders-3', 'olist_price-3', 'freight_value-3',\n",
    "       'competition_price-4', 'orders-4', 'olist_price-4', 'freight_value-4']\n",
    "\n",
    "# Fitting the model\n",
    "mod = linear_model.ElasticNet(random_state=0, alpha=1, l1_ratio=0.5, fit_intercept=True)\n",
    "mod.fit(train.loc[:,x], train.loc[:,y])\n",
    "mod_pred = mod.predict(test.loc[:,x])\n",
    "\n",
    "r2 = metrics.r2_score(train.loc[:,y], mod.predict(train.loc[:,x]))\n",
    "median_absolute_error = metrics.median_absolute_error(test.loc[:,y], mod_pred)\n",
    "print('R2:' + str(r2))\n",
    "print('MAE:' + str(median_absolute_error))\n",
    "\n",
    "y_1 = test['orders']\n",
    "y_2 = mod_pred\n",
    "x_data = test['date']\n",
    "sns.lineplot(x = x_data, y = y_1, color = 'orange')\n",
    "sns.lineplot(x = x_data, y = y_2, color = 'b')\n",
    "plt.title('test predicted x realized')\n",
    "plt.legend(bbox_to_anchor=(1.05, 1), loc=2, borderaxespad=0., labels = ['real', 'predict'])\n"
   ]
  },
  {
   "cell_type": "code",
   "execution_count": null,
   "metadata": {},
   "outputs": [],
   "source": []
  }
 ],
 "metadata": {
  "kernelspec": {
   "display_name": "Python 3",
   "language": "python",
   "name": "python3"
  },
  "language_info": {
   "codemirror_mode": {
    "name": "ipython",
    "version": 3
   },
   "file_extension": ".py",
   "mimetype": "text/x-python",
   "name": "python",
   "nbconvert_exporter": "python",
   "pygments_lexer": "ipython3",
   "version": "3.7.6"
  }
 },
 "nbformat": 4,
 "nbformat_minor": 4
}
