{
 "cells": [
  {
   "cell_type": "markdown",
   "metadata": {},
   "source": [
    "## 4.1.1 - Running regressions for all products in one model"
   ]
  },
  {
   "cell_type": "code",
   "execution_count": 1,
   "metadata": {},
   "outputs": [],
   "source": [
    "import warnings\n",
    "warnings.filterwarnings('ignore')\n",
    "\n",
    "import pandas as pd\n",
    "import numpy as np\n",
    "from scipy import stats\n",
    "from statistics import mean \n",
    "\n",
    "import statsmodels.formula.api as smf\n",
    "import statsmodels.api as sm\n",
    "from sklearn import metrics, linear_model\n",
    "from sklearn.metrics import mean_squared_error, r2_score\n",
    "from sklearn.preprocessing import MinMaxScaler, minmax_scale\n",
    "from sklearn.model_selection import train_test_split\n",
    "from sklearn.tree import DecisionTreeRegressor\n",
    "from sklearn.ensemble import RandomForestRegressor\n",
    "from sklearn.svm import SVR\n",
    "\n",
    "\n",
    "import matplotlib.pyplot       as plt\n",
    "import seaborn                 as sns"
   ]
  },
  {
   "cell_type": "markdown",
   "metadata": {},
   "source": [
    "### Loading the cleaned dataset"
   ]
  },
  {
   "cell_type": "code",
   "execution_count": 2,
   "metadata": {},
   "outputs": [
    {
     "data": {
      "text/html": [
       "<div>\n",
       "<style scoped>\n",
       "    .dataframe tbody tr th:only-of-type {\n",
       "        vertical-align: middle;\n",
       "    }\n",
       "\n",
       "    .dataframe tbody tr th {\n",
       "        vertical-align: top;\n",
       "    }\n",
       "\n",
       "    .dataframe thead th {\n",
       "        text-align: right;\n",
       "    }\n",
       "</style>\n",
       "<table border=\"1\" class=\"dataframe\">\n",
       "  <thead>\n",
       "    <tr style=\"text-align: right;\">\n",
       "      <th></th>\n",
       "      <th>date</th>\n",
       "      <th>competition_price</th>\n",
       "      <th>gtin</th>\n",
       "      <th>item_name</th>\n",
       "      <th>orders</th>\n",
       "      <th>olist_price</th>\n",
       "      <th>freight_value</th>\n",
       "      <th>price_ratio</th>\n",
       "      <th>freight_ratio</th>\n",
       "      <th>weekday_1</th>\n",
       "      <th>...</th>\n",
       "      <th>monthday_22</th>\n",
       "      <th>monthday_23</th>\n",
       "      <th>monthday_24</th>\n",
       "      <th>monthday_25</th>\n",
       "      <th>monthday_26</th>\n",
       "      <th>monthday_27</th>\n",
       "      <th>monthday_28</th>\n",
       "      <th>monthday_29</th>\n",
       "      <th>monthday_30</th>\n",
       "      <th>monthday_31</th>\n",
       "    </tr>\n",
       "  </thead>\n",
       "  <tbody>\n",
       "    <tr>\n",
       "      <th>0</th>\n",
       "      <td>2019-07-14</td>\n",
       "      <td>419.90</td>\n",
       "      <td>6438409014344</td>\n",
       "      <td>Nokia  8110 4g  dual chip amarelo .</td>\n",
       "      <td>1.0</td>\n",
       "      <td>419.9</td>\n",
       "      <td>24.23</td>\n",
       "      <td>1.000000</td>\n",
       "      <td>0.057704</td>\n",
       "      <td>0</td>\n",
       "      <td>...</td>\n",
       "      <td>0</td>\n",
       "      <td>0</td>\n",
       "      <td>0</td>\n",
       "      <td>0</td>\n",
       "      <td>0</td>\n",
       "      <td>0</td>\n",
       "      <td>0</td>\n",
       "      <td>0</td>\n",
       "      <td>0</td>\n",
       "      <td>0</td>\n",
       "    </tr>\n",
       "    <tr>\n",
       "      <th>1</th>\n",
       "      <td>2019-07-15</td>\n",
       "      <td>419.90</td>\n",
       "      <td>6438409014344</td>\n",
       "      <td>Nokia  8110 4g  Dual Chip Amarelo</td>\n",
       "      <td>1.0</td>\n",
       "      <td>419.9</td>\n",
       "      <td>24.23</td>\n",
       "      <td>1.000000</td>\n",
       "      <td>0.057704</td>\n",
       "      <td>0</td>\n",
       "      <td>...</td>\n",
       "      <td>0</td>\n",
       "      <td>0</td>\n",
       "      <td>0</td>\n",
       "      <td>0</td>\n",
       "      <td>0</td>\n",
       "      <td>0</td>\n",
       "      <td>0</td>\n",
       "      <td>0</td>\n",
       "      <td>0</td>\n",
       "      <td>0</td>\n",
       "    </tr>\n",
       "    <tr>\n",
       "      <th>2</th>\n",
       "      <td>2019-07-21</td>\n",
       "      <td>377.91</td>\n",
       "      <td>6438409014344</td>\n",
       "      <td>Nokia  8110 4g  Dual Chip Amarelo</td>\n",
       "      <td>1.0</td>\n",
       "      <td>419.9</td>\n",
       "      <td>24.23</td>\n",
       "      <td>1.111111</td>\n",
       "      <td>0.057704</td>\n",
       "      <td>0</td>\n",
       "      <td>...</td>\n",
       "      <td>0</td>\n",
       "      <td>0</td>\n",
       "      <td>0</td>\n",
       "      <td>0</td>\n",
       "      <td>0</td>\n",
       "      <td>0</td>\n",
       "      <td>0</td>\n",
       "      <td>0</td>\n",
       "      <td>0</td>\n",
       "      <td>0</td>\n",
       "    </tr>\n",
       "    <tr>\n",
       "      <th>3</th>\n",
       "      <td>2019-07-27</td>\n",
       "      <td>377.91</td>\n",
       "      <td>6438409014344</td>\n",
       "      <td>Nokia  8110 4g  dual chip amarelo .</td>\n",
       "      <td>1.0</td>\n",
       "      <td>419.9</td>\n",
       "      <td>42.58</td>\n",
       "      <td>1.111111</td>\n",
       "      <td>0.101405</td>\n",
       "      <td>0</td>\n",
       "      <td>...</td>\n",
       "      <td>0</td>\n",
       "      <td>0</td>\n",
       "      <td>0</td>\n",
       "      <td>0</td>\n",
       "      <td>0</td>\n",
       "      <td>1</td>\n",
       "      <td>0</td>\n",
       "      <td>0</td>\n",
       "      <td>0</td>\n",
       "      <td>0</td>\n",
       "    </tr>\n",
       "    <tr>\n",
       "      <th>4</th>\n",
       "      <td>2019-08-05</td>\n",
       "      <td>379.90</td>\n",
       "      <td>6438409014344</td>\n",
       "      <td>Nokia  8110 4g  Dual Chip Amarelo</td>\n",
       "      <td>1.0</td>\n",
       "      <td>419.9</td>\n",
       "      <td>20.19</td>\n",
       "      <td>1.105291</td>\n",
       "      <td>0.048083</td>\n",
       "      <td>0</td>\n",
       "      <td>...</td>\n",
       "      <td>0</td>\n",
       "      <td>0</td>\n",
       "      <td>0</td>\n",
       "      <td>0</td>\n",
       "      <td>0</td>\n",
       "      <td>0</td>\n",
       "      <td>0</td>\n",
       "      <td>0</td>\n",
       "      <td>0</td>\n",
       "      <td>0</td>\n",
       "    </tr>\n",
       "  </tbody>\n",
       "</table>\n",
       "<p>5 rows × 107 columns</p>\n",
       "</div>"
      ],
      "text/plain": [
       "        date  competition_price           gtin  \\\n",
       "0 2019-07-14             419.90  6438409014344   \n",
       "1 2019-07-15             419.90  6438409014344   \n",
       "2 2019-07-21             377.91  6438409014344   \n",
       "3 2019-07-27             377.91  6438409014344   \n",
       "4 2019-08-05             379.90  6438409014344   \n",
       "\n",
       "                             item_name  orders  olist_price  freight_value  \\\n",
       "0  Nokia  8110 4g  dual chip amarelo .     1.0        419.9          24.23   \n",
       "1    Nokia  8110 4g  Dual Chip Amarelo     1.0        419.9          24.23   \n",
       "2    Nokia  8110 4g  Dual Chip Amarelo     1.0        419.9          24.23   \n",
       "3  Nokia  8110 4g  dual chip amarelo .     1.0        419.9          42.58   \n",
       "4    Nokia  8110 4g  Dual Chip Amarelo     1.0        419.9          20.19   \n",
       "\n",
       "   price_ratio  freight_ratio  weekday_1  ...  monthday_22  monthday_23  \\\n",
       "0     1.000000       0.057704          0  ...            0            0   \n",
       "1     1.000000       0.057704          0  ...            0            0   \n",
       "2     1.111111       0.057704          0  ...            0            0   \n",
       "3     1.111111       0.101405          0  ...            0            0   \n",
       "4     1.105291       0.048083          0  ...            0            0   \n",
       "\n",
       "   monthday_24  monthday_25  monthday_26  monthday_27  monthday_28  \\\n",
       "0            0            0            0            0            0   \n",
       "1            0            0            0            0            0   \n",
       "2            0            0            0            0            0   \n",
       "3            0            0            0            1            0   \n",
       "4            0            0            0            0            0   \n",
       "\n",
       "   monthday_29  monthday_30  monthday_31  \n",
       "0            0            0            0  \n",
       "1            0            0            0  \n",
       "2            0            0            0  \n",
       "3            0            0            0  \n",
       "4            0            0            0  \n",
       "\n",
       "[5 rows x 107 columns]"
      ]
     },
     "execution_count": 2,
     "metadata": {},
     "output_type": "execute_result"
    }
   ],
   "source": [
    "df = pd.read_csv('../data/celular_over50.csv', dtype={'gtin':'str'})\n",
    "df['date'] = pd.to_datetime(df['date'])\n",
    "df.head()"
   ]
  },
  {
   "cell_type": "code",
   "execution_count": 3,
   "metadata": {},
   "outputs": [
    {
     "data": {
      "text/html": [
       "<div>\n",
       "<style scoped>\n",
       "    .dataframe tbody tr th:only-of-type {\n",
       "        vertical-align: middle;\n",
       "    }\n",
       "\n",
       "    .dataframe tbody tr th {\n",
       "        vertical-align: top;\n",
       "    }\n",
       "\n",
       "    .dataframe thead th {\n",
       "        text-align: right;\n",
       "    }\n",
       "</style>\n",
       "<table border=\"1\" class=\"dataframe\">\n",
       "  <thead>\n",
       "    <tr style=\"text-align: right;\">\n",
       "      <th></th>\n",
       "      <th>competition_price</th>\n",
       "      <th>orders</th>\n",
       "      <th>olist_price</th>\n",
       "      <th>freight_value</th>\n",
       "      <th>price_ratio</th>\n",
       "      <th>freight_ratio</th>\n",
       "      <th>weekday_1</th>\n",
       "      <th>weekday_2</th>\n",
       "      <th>weekday_3</th>\n",
       "      <th>weekday_4</th>\n",
       "      <th>...</th>\n",
       "      <th>monthday_22</th>\n",
       "      <th>monthday_23</th>\n",
       "      <th>monthday_24</th>\n",
       "      <th>monthday_25</th>\n",
       "      <th>monthday_26</th>\n",
       "      <th>monthday_27</th>\n",
       "      <th>monthday_28</th>\n",
       "      <th>monthday_29</th>\n",
       "      <th>monthday_30</th>\n",
       "      <th>monthday_31</th>\n",
       "    </tr>\n",
       "  </thead>\n",
       "  <tbody>\n",
       "    <tr>\n",
       "      <th>count</th>\n",
       "      <td>22908.000000</td>\n",
       "      <td>22908.000000</td>\n",
       "      <td>22908.000000</td>\n",
       "      <td>22908.000000</td>\n",
       "      <td>22908.000000</td>\n",
       "      <td>22908.000000</td>\n",
       "      <td>22908.000000</td>\n",
       "      <td>22908.000000</td>\n",
       "      <td>22908.000000</td>\n",
       "      <td>22908.000000</td>\n",
       "      <td>...</td>\n",
       "      <td>22908.000000</td>\n",
       "      <td>22908.000000</td>\n",
       "      <td>22908.000000</td>\n",
       "      <td>22908.000000</td>\n",
       "      <td>22908.000000</td>\n",
       "      <td>22908.000000</td>\n",
       "      <td>22908.000000</td>\n",
       "      <td>22908.000000</td>\n",
       "      <td>22908.000000</td>\n",
       "      <td>22908.000000</td>\n",
       "    </tr>\n",
       "    <tr>\n",
       "      <th>mean</th>\n",
       "      <td>383.803589</td>\n",
       "      <td>0.949450</td>\n",
       "      <td>381.690125</td>\n",
       "      <td>13.306168</td>\n",
       "      <td>1.002510</td>\n",
       "      <td>0.067974</td>\n",
       "      <td>0.145320</td>\n",
       "      <td>0.144666</td>\n",
       "      <td>0.144840</td>\n",
       "      <td>0.143007</td>\n",
       "      <td>...</td>\n",
       "      <td>0.033263</td>\n",
       "      <td>0.032740</td>\n",
       "      <td>0.032958</td>\n",
       "      <td>0.032390</td>\n",
       "      <td>0.032783</td>\n",
       "      <td>0.033307</td>\n",
       "      <td>0.032478</td>\n",
       "      <td>0.031386</td>\n",
       "      <td>0.031430</td>\n",
       "      <td>0.019731</td>\n",
       "    </tr>\n",
       "    <tr>\n",
       "      <th>std</th>\n",
       "      <td>343.014487</td>\n",
       "      <td>9.267128</td>\n",
       "      <td>335.194410</td>\n",
       "      <td>10.923233</td>\n",
       "      <td>0.135873</td>\n",
       "      <td>0.074435</td>\n",
       "      <td>0.352431</td>\n",
       "      <td>0.351771</td>\n",
       "      <td>0.351947</td>\n",
       "      <td>0.350087</td>\n",
       "      <td>...</td>\n",
       "      <td>0.179328</td>\n",
       "      <td>0.177958</td>\n",
       "      <td>0.178530</td>\n",
       "      <td>0.177039</td>\n",
       "      <td>0.178073</td>\n",
       "      <td>0.179441</td>\n",
       "      <td>0.177269</td>\n",
       "      <td>0.174364</td>\n",
       "      <td>0.174481</td>\n",
       "      <td>0.139078</td>\n",
       "    </tr>\n",
       "    <tr>\n",
       "      <th>min</th>\n",
       "      <td>44.995000</td>\n",
       "      <td>0.000000</td>\n",
       "      <td>5.562500</td>\n",
       "      <td>0.000000</td>\n",
       "      <td>0.062500</td>\n",
       "      <td>0.000000</td>\n",
       "      <td>0.000000</td>\n",
       "      <td>0.000000</td>\n",
       "      <td>0.000000</td>\n",
       "      <td>0.000000</td>\n",
       "      <td>...</td>\n",
       "      <td>0.000000</td>\n",
       "      <td>0.000000</td>\n",
       "      <td>0.000000</td>\n",
       "      <td>0.000000</td>\n",
       "      <td>0.000000</td>\n",
       "      <td>0.000000</td>\n",
       "      <td>0.000000</td>\n",
       "      <td>0.000000</td>\n",
       "      <td>0.000000</td>\n",
       "      <td>0.000000</td>\n",
       "    </tr>\n",
       "    <tr>\n",
       "      <th>25%</th>\n",
       "      <td>134.100000</td>\n",
       "      <td>0.000000</td>\n",
       "      <td>129.000000</td>\n",
       "      <td>0.000000</td>\n",
       "      <td>1.000000</td>\n",
       "      <td>0.000000</td>\n",
       "      <td>0.000000</td>\n",
       "      <td>0.000000</td>\n",
       "      <td>0.000000</td>\n",
       "      <td>0.000000</td>\n",
       "      <td>...</td>\n",
       "      <td>0.000000</td>\n",
       "      <td>0.000000</td>\n",
       "      <td>0.000000</td>\n",
       "      <td>0.000000</td>\n",
       "      <td>0.000000</td>\n",
       "      <td>0.000000</td>\n",
       "      <td>0.000000</td>\n",
       "      <td>0.000000</td>\n",
       "      <td>0.000000</td>\n",
       "      <td>0.000000</td>\n",
       "    </tr>\n",
       "    <tr>\n",
       "      <th>50%</th>\n",
       "      <td>279.900000</td>\n",
       "      <td>0.000000</td>\n",
       "      <td>279.900000</td>\n",
       "      <td>17.096000</td>\n",
       "      <td>1.000000</td>\n",
       "      <td>0.058641</td>\n",
       "      <td>0.000000</td>\n",
       "      <td>0.000000</td>\n",
       "      <td>0.000000</td>\n",
       "      <td>0.000000</td>\n",
       "      <td>...</td>\n",
       "      <td>0.000000</td>\n",
       "      <td>0.000000</td>\n",
       "      <td>0.000000</td>\n",
       "      <td>0.000000</td>\n",
       "      <td>0.000000</td>\n",
       "      <td>0.000000</td>\n",
       "      <td>0.000000</td>\n",
       "      <td>0.000000</td>\n",
       "      <td>0.000000</td>\n",
       "      <td>0.000000</td>\n",
       "    </tr>\n",
       "    <tr>\n",
       "      <th>75%</th>\n",
       "      <td>526.910000</td>\n",
       "      <td>0.000000</td>\n",
       "      <td>535.310000</td>\n",
       "      <td>19.990000</td>\n",
       "      <td>1.000000</td>\n",
       "      <td>0.102946</td>\n",
       "      <td>0.000000</td>\n",
       "      <td>0.000000</td>\n",
       "      <td>0.000000</td>\n",
       "      <td>0.000000</td>\n",
       "      <td>...</td>\n",
       "      <td>0.000000</td>\n",
       "      <td>0.000000</td>\n",
       "      <td>0.000000</td>\n",
       "      <td>0.000000</td>\n",
       "      <td>0.000000</td>\n",
       "      <td>0.000000</td>\n",
       "      <td>0.000000</td>\n",
       "      <td>0.000000</td>\n",
       "      <td>0.000000</td>\n",
       "      <td>0.000000</td>\n",
       "    </tr>\n",
       "    <tr>\n",
       "      <th>max</th>\n",
       "      <td>2743.900000</td>\n",
       "      <td>842.000000</td>\n",
       "      <td>2057.333333</td>\n",
       "      <td>113.700000</td>\n",
       "      <td>2.327112</td>\n",
       "      <td>1.506638</td>\n",
       "      <td>1.000000</td>\n",
       "      <td>1.000000</td>\n",
       "      <td>1.000000</td>\n",
       "      <td>1.000000</td>\n",
       "      <td>...</td>\n",
       "      <td>1.000000</td>\n",
       "      <td>1.000000</td>\n",
       "      <td>1.000000</td>\n",
       "      <td>1.000000</td>\n",
       "      <td>1.000000</td>\n",
       "      <td>1.000000</td>\n",
       "      <td>1.000000</td>\n",
       "      <td>1.000000</td>\n",
       "      <td>1.000000</td>\n",
       "      <td>1.000000</td>\n",
       "    </tr>\n",
       "  </tbody>\n",
       "</table>\n",
       "<p>8 rows × 104 columns</p>\n",
       "</div>"
      ],
      "text/plain": [
       "       competition_price        orders   olist_price  freight_value  \\\n",
       "count       22908.000000  22908.000000  22908.000000   22908.000000   \n",
       "mean          383.803589      0.949450    381.690125      13.306168   \n",
       "std           343.014487      9.267128    335.194410      10.923233   \n",
       "min            44.995000      0.000000      5.562500       0.000000   \n",
       "25%           134.100000      0.000000    129.000000       0.000000   \n",
       "50%           279.900000      0.000000    279.900000      17.096000   \n",
       "75%           526.910000      0.000000    535.310000      19.990000   \n",
       "max          2743.900000    842.000000   2057.333333     113.700000   \n",
       "\n",
       "        price_ratio  freight_ratio     weekday_1     weekday_2     weekday_3  \\\n",
       "count  22908.000000   22908.000000  22908.000000  22908.000000  22908.000000   \n",
       "mean       1.002510       0.067974      0.145320      0.144666      0.144840   \n",
       "std        0.135873       0.074435      0.352431      0.351771      0.351947   \n",
       "min        0.062500       0.000000      0.000000      0.000000      0.000000   \n",
       "25%        1.000000       0.000000      0.000000      0.000000      0.000000   \n",
       "50%        1.000000       0.058641      0.000000      0.000000      0.000000   \n",
       "75%        1.000000       0.102946      0.000000      0.000000      0.000000   \n",
       "max        2.327112       1.506638      1.000000      1.000000      1.000000   \n",
       "\n",
       "          weekday_4  ...   monthday_22   monthday_23   monthday_24  \\\n",
       "count  22908.000000  ...  22908.000000  22908.000000  22908.000000   \n",
       "mean       0.143007  ...      0.033263      0.032740      0.032958   \n",
       "std        0.350087  ...      0.179328      0.177958      0.178530   \n",
       "min        0.000000  ...      0.000000      0.000000      0.000000   \n",
       "25%        0.000000  ...      0.000000      0.000000      0.000000   \n",
       "50%        0.000000  ...      0.000000      0.000000      0.000000   \n",
       "75%        0.000000  ...      0.000000      0.000000      0.000000   \n",
       "max        1.000000  ...      1.000000      1.000000      1.000000   \n",
       "\n",
       "        monthday_25   monthday_26   monthday_27   monthday_28   monthday_29  \\\n",
       "count  22908.000000  22908.000000  22908.000000  22908.000000  22908.000000   \n",
       "mean       0.032390      0.032783      0.033307      0.032478      0.031386   \n",
       "std        0.177039      0.178073      0.179441      0.177269      0.174364   \n",
       "min        0.000000      0.000000      0.000000      0.000000      0.000000   \n",
       "25%        0.000000      0.000000      0.000000      0.000000      0.000000   \n",
       "50%        0.000000      0.000000      0.000000      0.000000      0.000000   \n",
       "75%        0.000000      0.000000      0.000000      0.000000      0.000000   \n",
       "max        1.000000      1.000000      1.000000      1.000000      1.000000   \n",
       "\n",
       "        monthday_30   monthday_31  \n",
       "count  22908.000000  22908.000000  \n",
       "mean       0.031430      0.019731  \n",
       "std        0.174481      0.139078  \n",
       "min        0.000000      0.000000  \n",
       "25%        0.000000      0.000000  \n",
       "50%        0.000000      0.000000  \n",
       "75%        0.000000      0.000000  \n",
       "max        1.000000      1.000000  \n",
       "\n",
       "[8 rows x 104 columns]"
      ]
     },
     "execution_count": 3,
     "metadata": {},
     "output_type": "execute_result"
    }
   ],
   "source": [
    "df.describe()"
   ]
  },
  {
   "cell_type": "markdown",
   "metadata": {},
   "source": [
    "### Basic EDA"
   ]
  },
  {
   "cell_type": "code",
   "execution_count": 4,
   "metadata": {},
   "outputs": [
    {
     "data": {
      "image/png": "[encoded data removed]",
      "text/plain": [
       "<Figure size 432x288 with 2 Axes>"
      ]
     },
     "metadata": {
      "needs_background": "light"
     },
     "output_type": "display_data"
    }
   ],
   "source": [
    "plt.subplot(1, 2, 1)\n",
    "sns.distplot(df['price_ratio'])\n",
    "plt.title('Histogram of price_ratio')\n",
    "\n",
    "plt.subplot(1, 2, 2)\n",
    "sns.distplot(df['freight_ratio'])\n",
    "plt.title('Histogram of freight_ratio')\n",
    "\n",
    "plt.tight_layout()          \n",
    "plt.show()\n"
   ]
  },
  {
   "cell_type": "code",
   "execution_count": 5,
   "metadata": {},
   "outputs": [
    {
     "data": {
      "image/png": "[encoded data removed]",
      "text/plain": [
       "<Figure size 432x288 with 2 Axes>"
      ]
     },
     "metadata": {
      "needs_background": "light"
     },
     "output_type": "display_data"
    }
   ],
   "source": [
    "plt.subplot(1, 2, 1)\n",
    "sns.scatterplot(x = 'price_ratio', y = 'orders', data = df)\n",
    "plt.title('Orders x price_ratio')\n",
    "\n",
    "plt.subplot(1, 2, 2)\n",
    "sns.scatterplot(x = 'freight_ratio', y = 'orders', data = df)\n",
    "plt.title('Orders by freight_ratio')\n",
    "\n",
    "plt.tight_layout()          \n",
    "plt.show()\n"
   ]
  },
  {
   "cell_type": "markdown",
   "metadata": {},
   "source": [
    "### Normalizing the prices and freights"
   ]
  },
  {
   "cell_type": "code",
   "execution_count": 6,
   "metadata": {},
   "outputs": [],
   "source": [
    "df['competition_price_sc'] = df.groupby('gtin').competition_price.transform(lambda x: minmax_scale(x.astype(float)))\n",
    "df['price_sc'] = df.groupby('gtin').olist_price.transform(lambda x: minmax_scale(x.astype(float)))\n",
    "df['freight_sc'] = df.groupby('gtin').freight_value.transform(lambda x: minmax_scale(x.astype(float)))"
   ]
  },
  {
   "cell_type": "markdown",
   "metadata": {},
   "source": [
    "### Trying some regressions"
   ]
  },
  {
   "cell_type": "code",
   "execution_count": 7,
   "metadata": {},
   "outputs": [
    {
     "data": {
      "text/plain": [
       "1.0186109034186788"
      ]
     },
     "execution_count": 7,
     "metadata": {},
     "output_type": "execute_result"
    }
   ],
   "source": [
    "mae = []\n",
    "for i in range(0,100):\n",
    "    train, test = train_test_split(df, test_size=0.8)\n",
    "    formula = 'orders ~ price_sc + competition_price_sc + freight_ratio'\n",
    "    model = smf.ols(formula = formula, data = train).fit()\n",
    "    mae.append(metrics.median_absolute_error(test['orders'], model.predict(test)))\n",
    "\n",
    "mean(mae)    \n",
    "#print(model.summary())\n",
    "    "
   ]
  },
  {
   "cell_type": "code",
   "execution_count": 8,
   "metadata": {},
   "outputs": [
    {
     "data": {
      "text/plain": [
       "1.023008381338282"
      ]
     },
     "execution_count": 8,
     "metadata": {},
     "output_type": "execute_result"
    }
   ],
   "source": [
    "mae = []\n",
    "for i in range(0,100):\n",
    "    train, test = train_test_split(df, test_size=0.8)\n",
    "    formula = 'orders ~ price_ratio + freight_ratio'\n",
    "    model = smf.ols(formula = formula, data = train).fit()\n",
    "    mae.append(metrics.median_absolute_error(test['orders'], model.predict(test)))\n",
    "\n",
    "mean(mae)\n",
    "#print(model.summary())\n",
    "    "
   ]
  },
  {
   "cell_type": "code",
   "execution_count": 9,
   "metadata": {},
   "outputs": [
    {
     "data": {
      "text/plain": [
       "1.00013081845005"
      ]
     },
     "execution_count": 9,
     "metadata": {},
     "output_type": "execute_result"
    }
   ],
   "source": [
    "mae = []\n",
    "for i in range(0,100):\n",
    "    train, test = train_test_split(df, test_size=0.8)\n",
    "    formula = 'orders ~ price_ratio + freight_value'\n",
    "    model = smf.ols(formula = formula, data = train).fit()\n",
    "    mae.append(metrics.median_absolute_error(test['orders'], model.predict(test)))\n",
    "\n",
    "mean(mae)    \n",
    "#print(model.summary())\n",
    "    "
   ]
  },
  {
   "cell_type": "code",
   "execution_count": 10,
   "metadata": {},
   "outputs": [
    {
     "data": {
      "text/plain": [
       "1.4918922633254745"
      ]
     },
     "execution_count": 10,
     "metadata": {},
     "output_type": "execute_result"
    }
   ],
   "source": [
    "mae = []\n",
    "for i in range(0,100):\n",
    "    train, test = train_test_split(df, test_size=0.8)\n",
    "    formula = 'orders ~ price_ratio + freight_ratio + competition_price_sc + price_sc + freight_sc + weekday_1 + weekday_2 + weekday_3 +\\\n",
    "        weekday_4 + weekday_5 + weekday_6 + week_2 + week_3 + week_4 + week_5 + week_6 + week_7 + \\\n",
    "        week_8 + week_9 + week_10 + week_11 + week_12 + week_13 + week_14 + week_15 + week_16 + week_17 +\\\n",
    "        week_18 + week_19 + week_20 + week_21 + week_22 + week_23 + week_24 + week_25 + week_26 + week_27 +\\\n",
    "        week_28 + week_29 + week_30 + week_31 + week_32 + week_33 + week_34 + week_35 + week_36 + week_37 +\\\n",
    "        week_38 + week_39 + week_40 + week_41 + week_42 + week_43 + week_44 + week_45 + week_46 + week_47 +\\\n",
    "        week_48 + week_49 + week_50 + week_51 + week_52 + month_2 + month_3 + month_4 + month_5 + month_6 +\\\n",
    "        month_7 + month_8 + month_9 + month_10 + month_11 + month_12 + monthday_2 + monthday_3 + monthday_4 +\\\n",
    "        monthday_5 + monthday_6 + monthday_7 + monthday_8 + monthday_9 + monthday_10 + monthday_11 + monthday_12 +\\\n",
    "        monthday_13 + monthday_14 + monthday_15 + monthday_16 + monthday_17 + monthday_18 + monthday_19 +\\\n",
    "        monthday_20 + monthday_21 + monthday_22 + monthday_23 + monthday_24 + monthday_25 + monthday_26 +\\\n",
    "        monthday_27 + monthday_28 + monthday_29 + monthday_30 + monthday_31'\n",
    "    model = smf.ols(formula = formula, data = train).fit()\n",
    "    mae.append(metrics.median_absolute_error(test['orders'], model.predict(test)))\n",
    "\n",
    "mean(mae)   \n",
    "#print(model.summary())\n",
    "    "
   ]
  },
  {
   "cell_type": "markdown",
   "metadata": {},
   "source": [
    "So far, the results are very poor. Let's try to use gtin as feature."
   ]
  },
  {
   "cell_type": "code",
   "execution_count": 11,
   "metadata": {},
   "outputs": [
    {
     "data": {
      "text/plain": [
       "1.3854172810985568"
      ]
     },
     "execution_count": 11,
     "metadata": {},
     "output_type": "execute_result"
    }
   ],
   "source": [
    "mae = []\n",
    "for i in range(0,100):\n",
    "    train, test = train_test_split(df, test_size=0.8)\n",
    "    formula = 'orders ~ price_ratio +\\\n",
    " freight_ratio + competition_price_sc + price_sc + freight_sc + weekday_1 + weekday_2 + weekday_3 +\\\n",
    "    weekday_4 + weekday_5 + weekday_6 + week_2 + week_3 + week_4 + week_5 + week_6 + week_7 + \\\n",
    "    week_8 + week_9 + week_10 + week_11 + week_12 + week_13 + week_14 + week_15 + week_16 + week_17 +\\\n",
    "    week_18 + week_19 + week_20 + week_21 + week_22 + week_23 + week_24 + week_25 + week_26 + week_27 +\\\n",
    "    week_28 + week_29 + week_30 + week_31 + week_32 + week_33 + week_34 + week_35 + week_36 + week_37 +\\\n",
    "    week_38 + week_39 + week_40 + week_41 + week_42 + week_43 + week_44 + week_45 + week_46 + week_47 +\\\n",
    "    week_48 + week_49 + week_50 + week_51 + week_52 + month_2 + month_3 + month_4 + month_5 + month_6 +\\\n",
    "    month_7 + month_8 + month_9 + month_10 + month_11 + month_12 + monthday_2 + monthday_3 + monthday_4 +\\\n",
    "    monthday_5 + monthday_6 + monthday_7 + monthday_8 + monthday_9 + monthday_10 + monthday_11 + monthday_12 +\\\n",
    "    monthday_13 + monthday_14 + monthday_15 + monthday_16 + monthday_17 + monthday_18 + monthday_19 +\\\n",
    "    monthday_20 + monthday_21 + monthday_22 + monthday_23 + monthday_24 + monthday_25 + monthday_26 +\\\n",
    "    monthday_27 + monthday_28 + monthday_29 + monthday_30 + monthday_31 + C(gtin)'\n",
    "    model = smf.ols(formula = formula, data = train).fit()\n",
    "    mae.append(metrics.median_absolute_error(test['orders'], model.predict(test)))\n",
    "\n",
    "mean(mae)    \n",
    "#print(model.summary())\n",
    "    "
   ]
  },
  {
   "cell_type": "markdown",
   "metadata": {},
   "source": [
    "### Decision Trees"
   ]
  },
  {
   "cell_type": "code",
   "execution_count": 12,
   "metadata": {},
   "outputs": [
    {
     "data": {
      "text/plain": [
       "0.5135490014996572"
      ]
     },
     "execution_count": 12,
     "metadata": {},
     "output_type": "execute_result"
    }
   ],
   "source": [
    "sel_col = ['competition_price_sc', 'price_sc', 'freight_value_sc']\n",
    "y = df['orders']\n",
    "x = df[df.columns.intersection(sel_col)]\n",
    "mae = []\n",
    "\n",
    "for i in range(0,100):\n",
    "    x_train, x_test, y_train, y_test = train_test_split(x, y, test_size=0.2)\n",
    "    treeregressor = DecisionTreeRegressor(max_depth = 5)\n",
    "    tree_fit = treeregressor.fit(x_train, y_train)\n",
    "    tree_pred = tree_fit.predict(x_test)\n",
    "    mae.append(metrics.median_absolute_error(y_test, tree_pred))\n",
    "\n",
    "mean(mae)"
   ]
  },
  {
   "cell_type": "code",
   "execution_count": 13,
   "metadata": {},
   "outputs": [
    {
     "data": {
      "text/plain": [
       "0.29193298650504984"
      ]
     },
     "execution_count": 13,
     "metadata": {},
     "output_type": "execute_result"
    }
   ],
   "source": [
    "sel_col = ['competition_price_sc', 'price_sc', 'freight_value_sc', 'price_ratio', 'freight_ratio']\n",
    "y = df['orders']\n",
    "x = df[df.columns.intersection(sel_col)]\n",
    "mae = []\n",
    "\n",
    "for i in range(0,100):\n",
    "    x_train, x_test, y_train, y_test = train_test_split(x, y, test_size=0.2)\n",
    "    treeregressor = DecisionTreeRegressor(max_depth = 5)\n",
    "    tree_fit = treeregressor.fit(x_train, y_train)\n",
    "    tree_pred = tree_fit.predict(x_test)\n",
    "    mae.append(metrics.median_absolute_error(y_test, tree_pred))\n",
    "\n",
    "mean(mae)"
   ]
  },
  {
   "cell_type": "code",
   "execution_count": 14,
   "metadata": {},
   "outputs": [
    {
     "data": {
      "text/plain": [
       "0.2994459065358349"
      ]
     },
     "execution_count": 14,
     "metadata": {},
     "output_type": "execute_result"
    }
   ],
   "source": [
    "sel_col = ['competition_price_sc', 'price_sc', 'freight_value_sc', 'price_ratio', 'freight_ratio', \n",
    "           'weekday_1', 'weekday_2', 'weekday_3', 'weekday_4', 'weekday_5', 'weekday_6']\n",
    "y = df['orders']\n",
    "x = df[df.columns.intersection(sel_col)]\n",
    "mae = []\n",
    "\n",
    "for i in range(0,100):\n",
    "    x_train, x_test, y_train, y_test = train_test_split(x, y, test_size=0.2)\n",
    "    treeregressor = DecisionTreeRegressor(max_depth = 5)\n",
    "    tree_fit = treeregressor.fit(x_train, y_train)\n",
    "    tree_pred = tree_fit.predict(x_test)\n",
    "    mae.append(metrics.median_absolute_error(y_test, tree_pred))\n",
    "\n",
    "mean(mae)"
   ]
  },
  {
   "cell_type": "code",
   "execution_count": 15,
   "metadata": {},
   "outputs": [
    {
     "data": {
      "text/plain": [
       "0.305971359399141"
      ]
     },
     "execution_count": 15,
     "metadata": {},
     "output_type": "execute_result"
    }
   ],
   "source": [
    "sel_col = ['competition_price_sc', 'price_sc', 'freight_value_sc', 'price_ratio', 'freight_ratio', \n",
    "           'weekday_1', 'weekday_2', 'weekday_3', 'weekday_4', 'weekday_5', 'weekday_6', 'week_2', 'week_3', 'week_4',\n",
    "            'week_5', 'week_6', 'week_7', 'week_8', 'week_9', 'week_10', 'week_11', 'week_12', 'week_13',\n",
    "            'week_14', 'week_15', 'week_16', 'week_17', 'week_18', 'week_19', 'week_20', 'week_21', 'week_22',\n",
    "            'week_23', 'week_24', 'week_25', 'week_26', 'week_27', 'week_28', 'week_29', 'week_30', 'week_31', \n",
    "            'week_32', 'week_33', 'week_34', 'week_35', 'week_36', 'week_37', 'week_38', 'week_39', 'week_40', \n",
    "            'week_41', 'week_42', 'week_43', 'week_44', 'week_45', 'week_46', 'week_47', 'week_48', 'week_49', \n",
    "            'week_50', 'week_51', 'week_52']\n",
    "y = df['orders']\n",
    "x = df[df.columns.intersection(sel_col)]\n",
    "mae = []\n",
    "\n",
    "for i in range(0,100):\n",
    "    x_train, x_test, y_train, y_test = train_test_split(x, y, test_size=0.2)\n",
    "    treeregressor = DecisionTreeRegressor(max_depth = 5)\n",
    "    tree_fit = treeregressor.fit(x_train, y_train)\n",
    "    tree_pred = tree_fit.predict(x_test)\n",
    "    mae.append(metrics.median_absolute_error(y_test, tree_pred))\n",
    "\n",
    "mean(mae)"
   ]
  },
  {
   "cell_type": "code",
   "execution_count": 16,
   "metadata": {},
   "outputs": [
    {
     "data": {
      "text/plain": [
       "0.2966786412565419"
      ]
     },
     "execution_count": 16,
     "metadata": {},
     "output_type": "execute_result"
    }
   ],
   "source": [
    "sel_col = ['competition_price_sc', 'price_sc', 'freight_value_sc', 'price_ratio', 'freight_ratio', \n",
    "           'weekday_1', 'weekday_2', 'weekday_3', 'weekday_4', 'weekday_5', 'weekday_6', 'month_2',\n",
    "           'month_3', 'month_4', 'month_5', 'month_6', 'month_7', 'month_8', 'month_9', 'month_10', \n",
    "           'month_11','month_12']\n",
    "y = df['orders']\n",
    "x = df[df.columns.intersection(sel_col)]\n",
    "mae = []\n",
    "\n",
    "for i in range(0,100):\n",
    "    x_train, x_test, y_train, y_test = train_test_split(x, y, test_size=0.2)\n",
    "    treeregressor = DecisionTreeRegressor(max_depth = 5)\n",
    "    tree_fit = treeregressor.fit(x_train, y_train)\n",
    "    tree_pred = tree_fit.predict(x_test)\n",
    "    mae.append(metrics.median_absolute_error(y_test, tree_pred))\n",
    "\n",
    "mean(mae)"
   ]
  },
  {
   "cell_type": "code",
   "execution_count": 17,
   "metadata": {},
   "outputs": [
    {
     "data": {
      "text/plain": [
       "0.310081208852871"
      ]
     },
     "execution_count": 17,
     "metadata": {},
     "output_type": "execute_result"
    }
   ],
   "source": [
    "sel_col = ['competition_price_sc', 'price_sc', 'freight_value_sc', 'price_ratio', 'freight_ratio', \n",
    "            'weekday_1', 'weekday_2', 'weekday_3', 'weekday_4', 'weekday_5', 'weekday_6', 'month_2',\n",
    "            'month_3', 'month_4', 'month_5', 'month_6', 'month_7', 'month_8', 'month_9', 'month_10', \n",
    "            'month_11','month_12''monthday_2', 'monthday_3', 'monthday_4', 'monthday_5', 'monthday_6', \n",
    "            'monthday_7', 'monthday_8', 'monthday_9', 'monthday_10', 'monthday_11', 'monthday_12', \n",
    "            'monthday_13', 'monthday_14', 'monthday_15', 'monthday_16', 'monthday_17', 'monthday_18', \n",
    "            'monthday_19', 'monthday_20', 'monthday_21', 'monthday_22', 'monthday_23','monthday_24',\n",
    "            'monthday_25', 'monthday_26', 'monthday_27', 'monthday_28', 'monthday_29', 'monthday_30',\n",
    "            'monthday_31']\n",
    "y = df['orders']\n",
    "x = df[df.columns.intersection(sel_col)]\n",
    "mae = []\n",
    "\n",
    "for i in range(0,100):\n",
    "    x_train, x_test, y_train, y_test = train_test_split(x, y, test_size=0.2)\n",
    "    treeregressor = DecisionTreeRegressor(max_depth = 5)\n",
    "    tree_fit = treeregressor.fit(x_train, y_train)\n",
    "    tree_pred = tree_fit.predict(x_test)\n",
    "    mae.append(metrics.median_absolute_error(y_test, tree_pred))\n",
    "\n",
    "mean(mae)"
   ]
  },
  {
   "cell_type": "code",
   "execution_count": 18,
   "metadata": {},
   "outputs": [],
   "source": [
    "df_dummies = pd.get_dummies(df, 'gtin', drop_first=True)"
   ]
  },
  {
   "cell_type": "code",
   "execution_count": 19,
   "metadata": {},
   "outputs": [
    {
     "data": {
      "text/plain": [
       "0.2169618225505028"
      ]
     },
     "execution_count": 19,
     "metadata": {},
     "output_type": "execute_result"
    }
   ],
   "source": [
    "sel_col = ['competition_price_sc', 'price_sc', 'freight_value_sc', 'price_ratio', 'freight_ratio', 'weekday_1',\n",
    "            'weekday_2', 'weekday_3', 'weekday_4', 'weekday_5', 'weekday_6', 'week_2', 'week_3', 'week_4',\n",
    "            'week_5', 'week_6', 'week_7', 'week_8', 'week_9', 'week_10', 'week_11', 'week_12', 'week_13',\n",
    "            'week_14', 'week_15', 'week_16', 'week_17', 'week_18', 'week_19', 'week_20', 'week_21', 'week_22',\n",
    "            'week_23', 'week_24', 'week_25', 'week_26', 'week_27', 'week_28', 'week_29', 'week_30', 'week_31', 'week_32',\n",
    "            'week_33', 'week_34', 'week_35', 'week_36', 'week_37', 'week_38', 'week_39', 'week_40', 'week_41', 'week_42',\n",
    "            'week_43', 'week_44', 'week_45', 'week_46', 'week_47', 'week_48', 'week_49', 'week_50', 'week_51', 'week_52',\n",
    "            'month_2', 'month_3', 'month_4', 'month_5', 'month_6', 'month_7', 'month_8', 'month_9', 'month_10', 'month_11',\n",
    "            'month_12', 'monthday_2', 'monthday_3', 'monthday_4', 'monthday_5', 'monthday_6', 'monthday_7', 'monthday_8',\n",
    "            'monthday_9', 'monthday_10', 'monthday_11', 'monthday_12', 'monthday_13', 'monthday_14', 'monthday_15', 'monthday_16',\n",
    "            'monthday_17', 'monthday_18', 'monthday_19', 'monthday_20', 'monthday_21', 'monthday_22', 'monthday_23','monthday_24',\n",
    "            'monthday_25', 'monthday_26', 'monthday_27', 'monthday_28', 'monthday_29', 'monthday_30', 'monthday_31','competition_price_sc',\n",
    "            'price_sc', 'freight_sc', 'gtin_1220000112322', 'gtin_6438158400962', 'gtin_6438409014344', 'gtin_7426844268063', 'gtin_7892509086851',\n",
    "            'gtin_7892509088183', 'gtin_7892509098212', 'gtin_7892509098243', 'gtin_7892509104586', 'gtin_7892509104661', 'gtin_7892509106894',\n",
    "            'gtin_7892509107563', 'gtin_7892597346707', 'gtin_7892597347827', 'gtin_7892597347858', 'gtin_7893299734854', 'gtin_7893299741364',\n",
    "            'gtin_7893299901607', 'gtin_7893299910340', 'gtin_7893299910418', 'gtin_7893299910425', 'gtin_7893299910616', 'gtin_7893299910623',\n",
    "            'gtin_7893299910753', 'gtin_7893299912115', 'gtin_7893299912122', 'gtin_7893299912320', 'gtin_7893299912788', 'gtin_7896904603170',\n",
    "           'gtin_7896904603965', 'gtin_7897181909061', 'gtin_7897181909078', 'gtin_7897181909405', 'gtin_7897181929045', 'gtin_7897181939037',\n",
    "           'gtin_7897181939044', 'gtin_7897181939051', 'gtin_7897181939082', 'gtin_7898419493161', 'gtin_7898506472918', 'gtin_7898552004385',\n",
    "           'gtin_7898631690676', 'gtin_7899838815640', 'gtin_7899838823140', 'gtin_7899838834511', 'gtin_7899838851990',\n",
    "           'gtin_7899838852003', 'gtin_7899838861371', 'gtin_7909389317101', 'gtin_7909389823503', 'gtin_810296024082',\n",
    "           'gtin_8806084974501', 'gtin_8806087000566', 'gtin_8806087000573']\n",
    "\n",
    "y = df_dummies['orders']\n",
    "x = df_dummies[df.columns.intersection(sel_col)]\n",
    "\n",
    "x_train, x_test, y_train, y_test = train_test_split(x, y, test_size=0.2, random_state=42)\n",
    "mae = []\n",
    "for i in range(0,100):\n",
    "    treeregressor = DecisionTreeRegressor(max_depth = 5)\n",
    "    tree_fit = treeregressor.fit(x_train, y_train)\n",
    "    tree_pred = tree_fit.predict(x_test)\n",
    "    mae.append(metrics.median_absolute_error(y_test, tree_pred))\n",
    "\n",
    "mean(mae)"
   ]
  },
  {
   "cell_type": "markdown",
   "metadata": {},
   "source": [
    "### Random Forest"
   ]
  },
  {
   "cell_type": "markdown",
   "metadata": {},
   "source": [
    "After some hyperparameter adjusts, I found that. It's not better than decicion tree"
   ]
  },
  {
   "cell_type": "code",
   "execution_count": 20,
   "metadata": {},
   "outputs": [
    {
     "name": "stdout",
     "output_type": "stream",
     "text": [
      "0.5346221892863965\n"
     ]
    }
   ],
   "source": [
    "sel_col = ['competition_price_sc', 'price_sc', 'freight_value_sc']\n",
    "y = df['orders']\n",
    "x = df[df.columns.intersection(sel_col)]\n",
    "\n",
    "x_train, x_test, y_train, y_test = train_test_split(x, y, test_size=0.2)\n",
    "treeregressor = RandomForestRegressor(n_estimators=1000, max_depth=5)\n",
    "tree_fit = treeregressor.fit(x_train, y_train)\n",
    "tree_pred = tree_fit.predict(x_test)\n",
    "print(metrics.median_absolute_error(y_test, tree_pred))\n"
   ]
  },
  {
   "cell_type": "markdown",
   "metadata": {},
   "source": [
    "### SVM"
   ]
  },
  {
   "cell_type": "code",
   "execution_count": 21,
   "metadata": {},
   "outputs": [
    {
     "name": "stdout",
     "output_type": "stream",
     "text": [
      "MAE: 0.19971214322200564\n"
     ]
    }
   ],
   "source": [
    "sel_col = ['competition_price', 'olist_price', 'freight_value', 'price_ratio', \n",
    "           'freight_ratio', 'competition_price_sc', 'price_sc', 'freight_sc']\n",
    "\n",
    "y = df['orders']\n",
    "x = df[df.columns.intersection(sel_col)]\n",
    "\n",
    "x_train, x_test, y_train, y_test = train_test_split(x, y, test_size=0.2, random_state=42)\n",
    "\n",
    "regressor = SVR(C=1.0, epsilon=0.2)\n",
    "fit = regressor.fit(x_train, y_train)\n",
    "pred = fit.predict(x_test)\n",
    "print('MAE: '+ str(metrics.median_absolute_error(y_test, pred)))"
   ]
  },
  {
   "cell_type": "code",
   "execution_count": 22,
   "metadata": {},
   "outputs": [
    {
     "name": "stdout",
     "output_type": "stream",
     "text": [
      "MAE: 0.19967529155711222\n"
     ]
    }
   ],
   "source": [
    "sel_col = ['competition_price', 'olist_price', 'freight_value', 'price_ratio', 'freight_ratio', 'weekday_1',\n",
    "            'weekday_2', 'weekday_3', 'weekday_4', 'weekday_5', 'weekday_6', 'week_2', 'week_3', 'week_4',\n",
    "            'week_5', 'week_6', 'week_7', 'week_8', 'week_9', 'week_10', 'week_11', 'week_12', 'week_13',\n",
    "            'week_14', 'week_15', 'week_16', 'week_17', 'week_18', 'week_19', 'week_20', 'week_21', 'week_22',\n",
    "            'week_23', 'week_24', 'week_25', 'week_26', 'week_27', 'week_28', 'week_29', 'week_30', 'week_31', 'week_32',\n",
    "            'week_33', 'week_34', 'week_35', 'week_36', 'week_37', 'week_38', 'week_39', 'week_40', 'week_41', 'week_42',\n",
    "            'week_43', 'week_44', 'week_45', 'week_46', 'week_47', 'week_48', 'week_49', 'week_50', 'week_51', 'week_52',\n",
    "            'month_2', 'month_3', 'month_4', 'month_5', 'month_6', 'month_7', 'month_8', 'month_9', 'month_10', 'month_11',\n",
    "            'month_12', 'monthday_2', 'monthday_3', 'monthday_4', 'monthday_5', 'monthday_6', 'monthday_7', 'monthday_8',\n",
    "            'monthday_9', 'monthday_10', 'monthday_11', 'monthday_12', 'monthday_13', 'monthday_14', 'monthday_15', 'monthday_16',\n",
    "            'monthday_17', 'monthday_18', 'monthday_19', 'monthday_20', 'monthday_21', 'monthday_22', 'monthday_23','monthday_24',\n",
    "            'monthday_25', 'monthday_26', 'monthday_27', 'monthday_28', 'monthday_29', 'monthday_30', 'monthday_31','competition_price_sc',\n",
    "            'price_sc', 'freight_sc', 'gtin_1220000112322', 'gtin_6438158400962', 'gtin_6438409014344', 'gtin_7426844268063', 'gtin_7892509086851',\n",
    "            'gtin_7892509088183', 'gtin_7892509098212', 'gtin_7892509098243', 'gtin_7892509104586', 'gtin_7892509104661', 'gtin_7892509106894',\n",
    "            'gtin_7892509107563', 'gtin_7892597346707', 'gtin_7892597347827', 'gtin_7892597347858', 'gtin_7893299734854', 'gtin_7893299741364',\n",
    "            'gtin_7893299901607', 'gtin_7893299910340', 'gtin_7893299910418', 'gtin_7893299910425', 'gtin_7893299910616', 'gtin_7893299910623',\n",
    "            'gtin_7893299910753', 'gtin_7893299912115', 'gtin_7893299912122', 'gtin_7893299912320', 'gtin_7893299912788', 'gtin_7896904603170',\n",
    "           'gtin_7896904603965', 'gtin_7897181909061', 'gtin_7897181909078', 'gtin_7897181909405', 'gtin_7897181929045', 'gtin_7897181939037',\n",
    "           'gtin_7897181939044', 'gtin_7897181939051', 'gtin_7897181939082', 'gtin_7898419493161', 'gtin_7898506472918', 'gtin_7898552004385',\n",
    "           'gtin_7898631690676', 'gtin_7899838815640', 'gtin_7899838823140', 'gtin_7899838834511', 'gtin_7899838851990',\n",
    "           'gtin_7899838852003', 'gtin_7899838861371', 'gtin_7909389317101', 'gtin_7909389823503', 'gtin_810296024082',\n",
    "           'gtin_8806084974501', 'gtin_8806087000566', 'gtin_8806087000573']\n",
    "\n",
    "y = df['orders']\n",
    "x = df[df.columns.intersection(sel_col)]\n",
    "\n",
    "x_train, x_test, y_train, y_test = train_test_split(x, y, test_size=0.2, random_state=42)\n",
    "\n",
    "regressor = SVR(C=1.0, epsilon=0.2)\n",
    "fit = regressor.fit(x_train, y_train)\n",
    "pred = fit.predict(x_test)\n",
    "print('MAE: '+ str(metrics.median_absolute_error(y_test, pred)))"
   ]
  }
 ],
 "metadata": {
  "kernelspec": {
   "display_name": "Python 3",
   "language": "python",
   "name": "python3"
  },
  "language_info": {
   "codemirror_mode": {
    "name": "ipython",
    "version": 3
   },
   "file_extension": ".py",
   "mimetype": "text/x-python",
   "name": "python",
   "nbconvert_exporter": "python",
   "pygments_lexer": "ipython3",
   "version": "3.7.6"
  }
 },
 "nbformat": 4,
 "nbformat_minor": 4
}
