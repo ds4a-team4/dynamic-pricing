{
 "cells": [
   "cell_type": "code",
   "metadata": {},
   "outputs": [],
   "source": [
    "import pandas as pd\n",
    "import random"
   ]
  },
  {
   "cell_type": "code",
   "execution_count": null,
   "metadata": {},
   "outputs": [],
   "source": [
    "base_price =                                  #probably the last_price on training set.\n",
    "olist_margin_perc = 20%                       #I set a fixed 20%\n",
    "olist_cost = base_price * olist_margin        #how much olist pass to the seller.\n",
    "olist_margin_real = olist_price - olist_cost  #gross margin of olist, considering that there's no incentive on freights"
   ]
  },
  {
   "cell_type": "code",
   "execution_count": null,
   "metadata": {},
   "outputs": [],
   "source": [
    "competition_price =                           #I believe we need forecast competition price and replace at X_test, or in the dataset we will forecast"
   ]
  },
  {
   "cell_type": "code",
   "execution_count": null,
   "metadata": {},
   "outputs": [],
   "source": [
    "orders = f(competition_price, olist_price, freight_value, date (dummies)) #from the best simulator model."
   ]
  },
  {
   "cell_type": "code",
   "execution_count": 4,
   "metadata": {},
   "outputs": [],
   "source": [
    "#bins of olist_price simulator\n",
    "olist_price_bin = range(-10, 12, 2)\n",
    "\n",
    "#initial stocks\n",
    "stock0 = 10\n",
    "\n",
    "#days of simulation\n",
    "days_of_simulation = 7"
   ]
  },
  {
   "cell_type": "code",
   "execution_count": null,
   "metadata": {},
   "outputs": [],
   "source": [
    "#Simulate possible olist results.\n",
    "\n",
    "#Number of simulations\n",
    "n_sim = 10\n",
    "\n",
    "#set gamma\n",
    "gamma = 1\n",
    "\n",
    "#copy the original X_test to vary price\n",
    "X_test_sim = X_test.copy()\n",
    "\n",
    "#some auxiliary lists and vars\n",
    "out_results = []\n",
    "out_price_bin = []\n",
    "\n",
    "#for each day in the simulation\n",
    "stock = stock0\n",
    "\n",
    "for sim in range(n_sim):\n",
    "    temp_results = 0\n",
    "    temp_bin = []\n",
    "   \n",
    "    for day in range(days_of_simulation):\n",
    "        \n",
    "        #check if there's stock.\n",
    "        if stock == 0:\n",
    "            out_results.append(0)\n",
    "\n",
    "        else:\n",
    "            #randomly chose a bin, apply to the price, calculate the simulation price for this day.\n",
    "            price_bin = random.sample(list(olist_price_bin), 1)[0]\n",
    "            X_test_sim['olist_price'] = X_test_sim['olist_price'] * (1 + price_bin/100)\n",
    "    \n",
    "            #calculate the number of orders\n",
    "            orders = model.predict(X_test_sim)\n",
    "    \n",
    "            #check if there's stock enought for the orders calculated in this day\n",
    "            if orders < stock:\n",
    "                stock = stock - orders\n",
    "            else:\n",
    "                orders = stock\n",
    "                stock = 0\n",
    "        \n",
    "            #calculate the olist result\n",
    "            olist_result = (X_test_sim['olist_price'] - olist_cost) * orders * gamma**day\n",
    "    \n",
    "            #acumulate the results of each day\n",
    "            temp_results += olist_result\n",
    "            temp_bins = temp_bins.append(price_bin)\n",
    "    \n",
    "    #save the results of this scenario\n",
    "    out_results.append(temp_results)\n",
    "    out_bins.append(temp_bins)   "
   ]
  },
  {
   "cell_type": "code",
   "execution_count": 70,
   "metadata": {},
   "outputs": [
    {
     "data": {
      "text/plain": [
       "[3, 7]"
      ]
     },
     "execution_count": 70,
     "metadata": {},
     "output_type": "execute_result"
    }
   ],
   "source": [
    "# print the best scenario results\n",
    "best_results = max(out_results)\n",
    "best_positions = [ind for ind, result in enumerate(out_results) if result == best_results]\n",
    "\n",
    "print('Best olist result in period:')\n",
    "print(best_results)\n",
    "\n",
    "print('Prices bins for the est olist result in period:')\n",
    "for sim in enumerate(best_positions):\n",
    "    print(out_bins[sim])    "
   ]
  }
 ],
 "metadata": {
  "kernelspec": {
   "display_name": "Python 3",
   "language": "python",
   "name": "python3"
  },
  "language_info": {
   "codemirror_mode": {
    "name": "ipython",
    "version": 3
   },
   "file_extension": ".py",
   "mimetype": "text/x-python",
   "name": "python",
   "nbconvert_exporter": "python",
   "pygments_lexer": "ipython3",
   "version": "3.7.6"
  }
 },
 "nbformat": 4,
 "nbformat_minor": 4
}
