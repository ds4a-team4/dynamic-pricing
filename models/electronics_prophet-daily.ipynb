{
 "cells": [
  {
   "cell_type": "code",
   "execution_count": null,
   "metadata": {},
   "outputs": [],
   "source": [
    "import numpy as np\n",
    "import pandas as pd\n",
    "import s3fs\n",
    "import fbprophet\n",
    "\n",
    "from datetime import datetime\n",
    "\n",
    "from htsprophet.hts import hts, orderHier, makeWeekly\n",
    "from htsprophet.htsPlot import plotNode, plotChild, plotNodeComponents\n",
    "\n",
    "from fbprophet import Prophet\n",
    "from fbprophet.diagnostics import cross_validation, performance_metrics"
   ]
  },
  {
   "cell_type": "code",
   "execution_count": 2,
   "metadata": {},
   "outputs": [],
   "source": [
    "data = pd.read_csv('s3://bsa-correlation-one/electronics_data.csv', dtype={'gtin':'str'})"
   ]
  },
  {
   "cell_type": "code",
   "execution_count": 8,
   "metadata": {},
   "outputs": [],
   "source": [
    "df = data[['date', 'product_type', 'gtin', 'orders']].copy()"
   ]
  },
  {
   "cell_type": "code",
   "execution_count": 5,
   "metadata": {},
   "outputs": [],
   "source": [
    "#wkl = makeWeekly(data)"
   ]
  },
  {
   "cell_type": "code",
   "execution_count": 3,
   "metadata": {},
   "outputs": [],
   "source": [
    "def get_holidays():\n",
    "    \"\"\"\n",
    "    Get Black Friday dates\n",
    "    \"\"\"\n",
    "    black_friday = pd.DataFrame({\n",
    "                  'holiday': 'black_friday',\n",
    "                  'ds': pd.to_datetime(['2017-11-24', '2018-11-23', '2019-11-29',\n",
    "                                        '2020-11-27', '2021-11-26', '2022-11-25',\n",
    "                                        '2023-11-24', '2024-11-29', '2025-11-28']),\n",
    "                  'lower_window': -1,\n",
    "                  'upper_window': 3,\n",
    "                })\n",
    "\n",
    "    xmas = pd.DataFrame({\n",
    "                  'holiday': 'christmas',\n",
    "                  'ds': pd.to_datetime(['2017-12-25', '2018-12-25', '2019-12-25',\n",
    "                                        '2020-12-25', '2021-12-25', '2022-12-25',\n",
    "                                        '2023-12-25', '2024-12-25', '2025-12-25']),\n",
    "                  'lower_window': -1,\n",
    "                  'upper_window': 0,\n",
    "                })\n",
    "\n",
    "    new_year = pd.DataFrame({\n",
    "                  'holiday': 'new_year',\n",
    "                  'ds': pd.to_datetime(['2017-01-01', '2018-01-01', '2019-01-01',\n",
    "                                        '2020-01-01', '2021-01-01', '2022-01-01',\n",
    "                                        '2023-01-01', '2024-01-01', '2025-01-01']),\n",
    "                  'lower_window': -1,\n",
    "                  'upper_window': 0,\n",
    "                })\n",
    "\n",
    "    carnival = pd.DataFrame({\n",
    "                  'holiday': 'carnival',\n",
    "                  'ds': pd.to_datetime(['2017-02-28', '2018-02-13', '2019-03-05',\n",
    "                                        '2020-02-25', '2021-02-16', '2022-03-01',\n",
    "                                        '2023-02-21', '2024-02-13', '2025-03-04']),\n",
    "                  'lower_window': -1,\n",
    "                  'upper_window': 0,\n",
    "                })\n",
    "\n",
    "    good_friday = pd.DataFrame({\n",
    "                  'holiday': 'good_friday',\n",
    "                  'ds': pd.to_datetime(['2018-03-18','2019-04-19','2020-04-10',\n",
    "                                        '2021-04-02','2022-04-15','2023-04-07',\n",
    "                                        '2024-03-29']),\n",
    "                  'lower_window': 0,\n",
    "                  'upper_window': 2,\n",
    "                })\n",
    "\n",
    "    # long holidays\n",
    "\n",
    "    monday = pd.DataFrame({\n",
    "                  'holiday': 'monday',\n",
    "                  'ds': pd.to_datetime(['2020-09-07','2020-10-12','2020-11-02',\n",
    "                                        '2021-11-15']),\n",
    "                  'lower_window': -2,\n",
    "                  'upper_window': 0,\n",
    "                })\n",
    "\n",
    "    friday = pd.DataFrame({\n",
    "                  'holiday': 'friday',\n",
    "                  'ds': pd.to_datetime(['2018-09-07','2018-10-12','2018-11-02',\n",
    "                                        '2019-11-15','2020-05-01']),\n",
    "                  'lower_window': 0,\n",
    "                  'upper_window': 2,\n",
    "                })\n",
    "\n",
    "    # Different cases\n",
    "    # 2019-12-30 (christmas and New year's eve from tuesday to wednesday. Monday was also affected)\n",
    "    others = pd.DataFrame({\n",
    "                  'holiday': 'others',\n",
    "                  'ds': pd.to_datetime(['2019-12-23','2019-12-30']),\n",
    "                  'lower_window': 0,\n",
    "                  'upper_window': 0,\n",
    "                })\n",
    "\n",
    "    holidays = pd.concat((black_friday, xmas, new_year, carnival,\n",
    "                         monday, friday, others))\n",
    "\n",
    "    return holidays"
   ]
  },
  {
   "cell_type": "code",
   "execution_count": 4,
   "metadata": {},
   "outputs": [],
   "source": [
    "holidays = get_holidays()"
   ]
  },
  {
   "cell_type": "code",
   "execution_count": null,
   "metadata": {},
   "outputs": [],
   "source": [
    "# Can take a few minutes\n",
    "start = datetime.now()\n",
    "data_hts, nodes = orderHier(df, 1, 2)\n",
    "end = datetime.now()"
   ]
  },
  {
   "cell_type": "code",
   "execution_count": null,
   "metadata": {},
   "outputs": [],
   "source": [
    "print('Execution = {}'.format(end-start))"
   ]
  },
  {
   "cell_type": "code",
   "execution_count": null,
   "metadata": {},
   "outputs": [],
   "source": [
    "myDict = hts(data_hts, 52, nodes, holidays = holidays, method = \"FP\", transform = \"BoxCox\")"
   ]
  }
 ],
 "metadata": {
  "kernelspec": {
   "display_name": "ds4a",
   "language": "python",
   "name": "ds4a"
  },
  "language_info": {
   "codemirror_mode": {
    "name": "ipython",
    "version": 3
   },
   "file_extension": ".py",
   "mimetype": "text/x-python",
   "name": "python",
   "nbconvert_exporter": "python",
   "pygments_lexer": "ipython3",
   "version": "3.6.6"
  }
 },
 "nbformat": 4,
 "nbformat_minor": 4
}
