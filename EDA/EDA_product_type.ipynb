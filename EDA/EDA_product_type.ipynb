{
 "cells": [
  {
   "cell_type": "code",
   "execution_count": 2,
   "metadata": {},
   "outputs": [],
   "source": [
    "import datetime              as dt\n",
    "import numpy                 as np\n",
    "import pandas                as pd\n",
    "import matplotlib.pyplot     as plt\n",
    "import seaborn               as sns"
   ]
  },
  {
   "cell_type": "code",
   "execution_count": 3,
   "metadata": {},
   "outputs": [
    {
     "name": "stderr",
     "output_type": "stream",
     "text": [
      "C:\\Anaconda\\envs\\dynamic-pricing\\lib\\site-packages\\IPython\\core\\interactiveshell.py:3062: DtypeWarning: Columns (4) have mixed types.Specify dtype option on import or set low_memory=False.\n",
      "  has_raised = await self.run_ast_nodes(code_ast.body, cell_name,\n"
     ]
    },
    {
     "data": {
      "text/html": [
       "<div>\n",
       "<style scoped>\n",
       "    .dataframe tbody tr th:only-of-type {\n",
       "        vertical-align: middle;\n",
       "    }\n",
       "\n",
       "    .dataframe tbody tr th {\n",
       "        vertical-align: top;\n",
       "    }\n",
       "\n",
       "    .dataframe thead th {\n",
       "        text-align: right;\n",
       "    }\n",
       "</style>\n",
       "<table border=\"1\" class=\"dataframe\">\n",
       "  <thead>\n",
       "    <tr style=\"text-align: right;\">\n",
       "      <th></th>\n",
       "      <th>odin</th>\n",
       "      <th>product_type</th>\n",
       "      <th>product_type_group</th>\n",
       "      <th>identifier_type</th>\n",
       "      <th>value</th>\n",
       "    </tr>\n",
       "  </thead>\n",
       "  <tbody>\n",
       "    <tr>\n",
       "      <th>0</th>\n",
       "      <td>O1657A805FB85C4E76BDEF8E5B9037492D</td>\n",
       "      <td>Avental</td>\n",
       "      <td>vestuario</td>\n",
       "      <td>gtin</td>\n",
       "      <td>110010494</td>\n",
       "    </tr>\n",
       "    <tr>\n",
       "      <th>1</th>\n",
       "      <td>O14121ABC7E11848C58BE87C91943F88B6</td>\n",
       "      <td>Avental</td>\n",
       "      <td>vestuario</td>\n",
       "      <td>gtin</td>\n",
       "      <td>110010500</td>\n",
       "    </tr>\n",
       "    <tr>\n",
       "      <th>2</th>\n",
       "      <td>O13E8792B144BF4F44824BC80017AA7A47</td>\n",
       "      <td>Teste de condição da água</td>\n",
       "      <td>limpeza</td>\n",
       "      <td>gtin</td>\n",
       "      <td>116001007</td>\n",
       "    </tr>\n",
       "    <tr>\n",
       "      <th>3</th>\n",
       "      <td>O19E2B76CEE87F48E3AFB32017EFE29993</td>\n",
       "      <td>Estabilizador biológico para aquário</td>\n",
       "      <td>petshop</td>\n",
       "      <td>gtin</td>\n",
       "      <td>116006309</td>\n",
       "    </tr>\n",
       "    <tr>\n",
       "      <th>4</th>\n",
       "      <td>O1C5805AEDB9624FBDB43D7A4DECABA0F2</td>\n",
       "      <td>Estabilizador biológico para aquário</td>\n",
       "      <td>petshop</td>\n",
       "      <td>gtin</td>\n",
       "      <td>116006507</td>\n",
       "    </tr>\n",
       "  </tbody>\n",
       "</table>\n",
       "</div>"
      ],
      "text/plain": [
       "                                 odin                          product_type  \\\n",
       "0  O1657A805FB85C4E76BDEF8E5B9037492D                               Avental   \n",
       "1  O14121ABC7E11848C58BE87C91943F88B6                               Avental   \n",
       "2  O13E8792B144BF4F44824BC80017AA7A47             Teste de condição da água   \n",
       "3  O19E2B76CEE87F48E3AFB32017EFE29993  Estabilizador biológico para aquário   \n",
       "4  O1C5805AEDB9624FBDB43D7A4DECABA0F2  Estabilizador biológico para aquário   \n",
       "\n",
       "  product_type_group identifier_type      value  \n",
       "0          vestuario            gtin  110010494  \n",
       "1          vestuario            gtin  110010500  \n",
       "2            limpeza            gtin  116001007  \n",
       "3            petshop            gtin  116006309  \n",
       "4            petshop            gtin  116006507  "
      ]
     },
     "execution_count": 3,
     "metadata": {},
     "output_type": "execute_result"
    }
   ],
   "source": [
    "df = pd.read_csv('../ETL/data/product_type.csv')\n",
    "df.head(5)"
   ]
  },
  {
   "cell_type": "code",
   "execution_count": 4,
   "metadata": {},
   "outputs": [
    {
     "data": {
      "text/plain": [
       "(750296, 5)"
      ]
     },
     "execution_count": 4,
     "metadata": {},
     "output_type": "execute_result"
    }
   ],
   "source": [
    "df.shape"
   ]
  },
  {
   "cell_type": "code",
   "execution_count": 5,
   "metadata": {},
   "outputs": [
    {
     "name": "stdout",
     "output_type": "stream",
     "text": [
      "<class 'pandas.core.frame.DataFrame'>\n",
      "RangeIndex: 750296 entries, 0 to 750295\n",
      "Data columns (total 5 columns):\n",
      " #   Column              Non-Null Count   Dtype \n",
      "---  ------              --------------   ----- \n",
      " 0   odin                750296 non-null  object\n",
      " 1   product_type        750296 non-null  object\n",
      " 2   product_type_group  750296 non-null  object\n",
      " 3   identifier_type     750296 non-null  object\n",
      " 4   value               750296 non-null  object\n",
      "dtypes: object(5)\n",
      "memory usage: 28.6+ MB\n"
     ]
    }
   ],
   "source": [
    "df.info()"
   ]
  },
  {
   "cell_type": "code",
   "execution_count": 6,
   "metadata": {
    "scrolled": true
   },
   "outputs": [
    {
     "data": {
      "text/html": [
       "<div>\n",
       "<style scoped>\n",
       "    .dataframe tbody tr th:only-of-type {\n",
       "        vertical-align: middle;\n",
       "    }\n",
       "\n",
       "    .dataframe tbody tr th {\n",
       "        vertical-align: top;\n",
       "    }\n",
       "\n",
       "    .dataframe thead th {\n",
       "        text-align: right;\n",
       "    }\n",
       "</style>\n",
       "<table border=\"1\" class=\"dataframe\">\n",
       "  <thead>\n",
       "    <tr style=\"text-align: right;\">\n",
       "      <th></th>\n",
       "      <th>odin</th>\n",
       "      <th>product_type</th>\n",
       "      <th>product_type_group</th>\n",
       "      <th>identifier_type</th>\n",
       "      <th>value</th>\n",
       "    </tr>\n",
       "  </thead>\n",
       "  <tbody>\n",
       "    <tr>\n",
       "      <th>count</th>\n",
       "      <td>750296</td>\n",
       "      <td>750296</td>\n",
       "      <td>750296</td>\n",
       "      <td>750296</td>\n",
       "      <td>750296</td>\n",
       "    </tr>\n",
       "    <tr>\n",
       "      <th>unique</th>\n",
       "      <td>750295</td>\n",
       "      <td>2592</td>\n",
       "      <td>52</td>\n",
       "      <td>2</td>\n",
       "      <td>749039</td>\n",
       "    </tr>\n",
       "    <tr>\n",
       "      <th>top</th>\n",
       "      <td>O1473706EB02FE4E3193E6E83BA48B0488</td>\n",
       "      <td>Quadro</td>\n",
       "      <td>utilidades_domesticas</td>\n",
       "      <td>gtin</td>\n",
       "      <td>88300101382</td>\n",
       "    </tr>\n",
       "    <tr>\n",
       "      <th>freq</th>\n",
       "      <td>2</td>\n",
       "      <td>45857</td>\n",
       "      <td>91192</td>\n",
       "      <td>750295</td>\n",
       "      <td>3</td>\n",
       "    </tr>\n",
       "  </tbody>\n",
       "</table>\n",
       "</div>"
      ],
      "text/plain": [
       "                                      odin product_type  \\\n",
       "count                               750296       750296   \n",
       "unique                              750295         2592   \n",
       "top     O1473706EB02FE4E3193E6E83BA48B0488       Quadro   \n",
       "freq                                     2        45857   \n",
       "\n",
       "           product_type_group identifier_type        value  \n",
       "count                  750296          750296       750296  \n",
       "unique                     52               2       749039  \n",
       "top     utilidades_domesticas            gtin  88300101382  \n",
       "freq                    91192          750295            3  "
      ]
     },
     "execution_count": 6,
     "metadata": {},
     "output_type": "execute_result"
    }
   ],
   "source": [
    "df.describe()"
   ]
  },
  {
   "cell_type": "markdown",
   "metadata": {},
   "source": [
    "We can see from the table above that we have 2592 product types within 52 groups. Also, the top product type is 'Quadro' and the top group is 'utilidades domésticas'"
   ]
  },
  {
   "cell_type": "code",
   "execution_count": 8,
   "metadata": {},
   "outputs": [
    {
     "data": {
      "text/plain": [
       "array(['vestuario', 'limpeza', 'petshop', 'jardinagem',\n",
       "       'papelaria_escritorio', 'suplementos', 'utilidades_domesticas',\n",
       "       'eletronicos', 'decoracao', 'cosmeticos', 'moveis',\n",
       "       'casa_construcao', 'acessorios_eletrodomesticos',\n",
       "       'cama_mesa_banho', 'instrumentos_musicais', 'esporte_lazer',\n",
       "       'brinquedo', 'automotivos', 'alimentos', 'beleza_saude', 'joias',\n",
       "       'acessorios', 'informatica', 'ferramentas',\n",
       "       'acessorios_eletronicos', 'livro', 'games', 'eletroportateis',\n",
       "       'bebe_cia', 'cine_foto', 'artesanato', 'beleza_cosmeticos',\n",
       "       'eletrodomesticos', 'bebidas', 'hospitalar', 'calcados',\n",
       "       'fantasia', 'industrial', 'higiene_saude', 'filmes_musica',\n",
       "       'artigos_festa', 'acessorios_moveis', 'mercado', 'ar_condicionado',\n",
       "       'ar_ventilacao', 'telefonia', 'acessorios_informatica',\n",
       "       'acessorios_eletroportateis', 'sex_shop', 'camera_foto',\n",
       "       'arte_artesanato', 'fitness'], dtype=object)"
      ]
     },
     "execution_count": 8,
     "metadata": {},
     "output_type": "execute_result"
    }
   ],
   "source": [
    "df['product_type_group'].unique()"
   ]
  }
 ],
 "metadata": {
  "kernelspec": {
   "display_name": "Python 3",
   "language": "python",
   "name": "python3"
  },
  "language_info": {
   "codemirror_mode": {
    "name": "ipython",
    "version": 3
   },
   "file_extension": ".py",
   "mimetype": "text/x-python",
   "name": "python",
   "nbconvert_exporter": "python",
   "pygments_lexer": "ipython3",
   "version": "3.8.2"
  }
 },
 "nbformat": 4,
 "nbformat_minor": 4
}
