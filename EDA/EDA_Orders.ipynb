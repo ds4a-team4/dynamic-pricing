{
 "cells": [
  {
   "cell_type": "code",
   "execution_count": 3,
   "metadata": {},
   "outputs": [],
   "source": [
    "import datetime              as dt\n",
    "import numpy                 as np\n",
    "import pandas                as pd\n",
    "import matplotlib.pyplot     as plt\n",
    "import seaborn               as sns\n",
    "import sklearn.metrics       as Metrics\n",
    "import pandas                as pd\n",
    "import matplotlib.pyplot     as plt\n",
    "import warnings\n",
    "\n",
    "from sklearn.preprocessing import minmax_scale\n",
    "\n",
    "warnings.filterwarnings('ignore')"
   ]
  },
  {
   "cell_type": "code",
   "execution_count": 4,
   "metadata": {},
   "outputs": [
    {
     "data": {
      "text/html": [
       "<div>\n",
       "<style scoped>\n",
       "    .dataframe tbody tr th:only-of-type {\n",
       "        vertical-align: middle;\n",
       "    }\n",
       "\n",
       "    .dataframe tbody tr th {\n",
       "        vertical-align: top;\n",
       "    }\n",
       "\n",
       "    .dataframe thead th {\n",
       "        text-align: right;\n",
       "    }\n",
       "</style>\n",
       "<table border=\"1\" class=\"dataframe\">\n",
       "  <thead>\n",
       "    <tr style=\"text-align: right;\">\n",
       "      <th></th>\n",
       "      <th>purchase_timestamp</th>\n",
       "      <th>seller_id</th>\n",
       "      <th>product_gtin</th>\n",
       "      <th>product_sku</th>\n",
       "      <th>channel_slug</th>\n",
       "      <th>channel_store</th>\n",
       "      <th>price</th>\n",
       "      <th>freight_value</th>\n",
       "      <th>price_freight_shift</th>\n",
       "      <th>commission_product_olist</th>\n",
       "      <th>commission_freight_olist</th>\n",
       "      <th>origin_zip</th>\n",
       "      <th>origin_state</th>\n",
       "      <th>origin_city</th>\n",
       "      <th>destination_zip</th>\n",
       "      <th>destination_state</th>\n",
       "      <th>destination_city</th>\n",
       "    </tr>\n",
       "  </thead>\n",
       "  <tbody>\n",
       "    <tr>\n",
       "      <th>0</th>\n",
       "      <td>2019-07-20 11:19:43</td>\n",
       "      <td>a97001a2-a7d2-4bd6-b0d5-1da2a2b8abd9</td>\n",
       "      <td>6952202281890</td>\n",
       "      <td>PRDWRHUYLLMFX2U0</td>\n",
       "      <td>mercadolivre</td>\n",
       "      <td>mercadolivre</td>\n",
       "      <td>82.99</td>\n",
       "      <td>20.86</td>\n",
       "      <td>0.0</td>\n",
       "      <td>0.20</td>\n",
       "      <td>0.20</td>\n",
       "      <td>1109010</td>\n",
       "      <td>SP</td>\n",
       "      <td>SAO PAULO</td>\n",
       "      <td>89265575</td>\n",
       "      <td>SC</td>\n",
       "      <td>Jaraguá do Sul</td>\n",
       "    </tr>\n",
       "    <tr>\n",
       "      <th>1</th>\n",
       "      <td>2019-11-11 20:43:23</td>\n",
       "      <td>a97001a2-a7d2-4bd6-b0d5-1da2a2b8abd9</td>\n",
       "      <td>6951003643197</td>\n",
       "      <td>PRDACYVT895VMO7H</td>\n",
       "      <td>mercadolivre</td>\n",
       "      <td>mercadolivre</td>\n",
       "      <td>119.90</td>\n",
       "      <td>0.00</td>\n",
       "      <td>0.0</td>\n",
       "      <td>0.20</td>\n",
       "      <td>0.20</td>\n",
       "      <td>1109010</td>\n",
       "      <td>SP</td>\n",
       "      <td>SAO PAULO</td>\n",
       "      <td>06040470</td>\n",
       "      <td>SP</td>\n",
       "      <td>Osasco</td>\n",
       "    </tr>\n",
       "    <tr>\n",
       "      <th>2</th>\n",
       "      <td>2020-03-01 16:25:00</td>\n",
       "      <td>c58b83e5-52de-43fe-8399-a7bc312e2aa5</td>\n",
       "      <td>7898907175302</td>\n",
       "      <td>PRDKTDU50G9FVV57</td>\n",
       "      <td>cnova</td>\n",
       "      <td>ex</td>\n",
       "      <td>39.90</td>\n",
       "      <td>14.24</td>\n",
       "      <td>0.0</td>\n",
       "      <td>0.19</td>\n",
       "      <td>0.19</td>\n",
       "      <td>20910970</td>\n",
       "      <td>RJ</td>\n",
       "      <td>RIO DE JANEIRO</td>\n",
       "      <td>22260210</td>\n",
       "      <td>RJ</td>\n",
       "      <td>Rio de Janeiro</td>\n",
       "    </tr>\n",
       "    <tr>\n",
       "      <th>3</th>\n",
       "      <td>2020-02-04 12:04:10</td>\n",
       "      <td>a97001a2-a7d2-4bd6-b0d5-1da2a2b8abd9</td>\n",
       "      <td>6951003643197</td>\n",
       "      <td>PRDACYVT895VMO7H</td>\n",
       "      <td>mercadolivre</td>\n",
       "      <td>mercadolivre</td>\n",
       "      <td>130.95</td>\n",
       "      <td>0.00</td>\n",
       "      <td>0.0</td>\n",
       "      <td>0.20</td>\n",
       "      <td>0.20</td>\n",
       "      <td>1109010</td>\n",
       "      <td>SP</td>\n",
       "      <td>SAO PAULO</td>\n",
       "      <td>89062100</td>\n",
       "      <td>SC</td>\n",
       "      <td>Blumenau</td>\n",
       "    </tr>\n",
       "    <tr>\n",
       "      <th>4</th>\n",
       "      <td>2018-12-14 13:52:19</td>\n",
       "      <td>a97001a2-a7d2-4bd6-b0d5-1da2a2b8abd9</td>\n",
       "      <td>6951003643197</td>\n",
       "      <td>PRDACYVT895VMO7H</td>\n",
       "      <td>mercadolivre</td>\n",
       "      <td>mercadolivre</td>\n",
       "      <td>128.99</td>\n",
       "      <td>21.51</td>\n",
       "      <td>0.0</td>\n",
       "      <td>0.20</td>\n",
       "      <td>0.20</td>\n",
       "      <td>1109010</td>\n",
       "      <td>SP</td>\n",
       "      <td>SAO PAULO</td>\n",
       "      <td>66055000</td>\n",
       "      <td>PA</td>\n",
       "      <td>Belém</td>\n",
       "    </tr>\n",
       "  </tbody>\n",
       "</table>\n",
       "</div>"
      ],
      "text/plain": [
       "    purchase_timestamp                             seller_id   product_gtin  \\\n",
       "0  2019-07-20 11:19:43  a97001a2-a7d2-4bd6-b0d5-1da2a2b8abd9  6952202281890   \n",
       "1  2019-11-11 20:43:23  a97001a2-a7d2-4bd6-b0d5-1da2a2b8abd9  6951003643197   \n",
       "2  2020-03-01 16:25:00  c58b83e5-52de-43fe-8399-a7bc312e2aa5  7898907175302   \n",
       "3  2020-02-04 12:04:10  a97001a2-a7d2-4bd6-b0d5-1da2a2b8abd9  6951003643197   \n",
       "4  2018-12-14 13:52:19  a97001a2-a7d2-4bd6-b0d5-1da2a2b8abd9  6951003643197   \n",
       "\n",
       "        product_sku  channel_slug channel_store   price  freight_value  \\\n",
       "0  PRDWRHUYLLMFX2U0  mercadolivre  mercadolivre   82.99          20.86   \n",
       "1  PRDACYVT895VMO7H  mercadolivre  mercadolivre  119.90           0.00   \n",
       "2  PRDKTDU50G9FVV57         cnova            ex   39.90          14.24   \n",
       "3  PRDACYVT895VMO7H  mercadolivre  mercadolivre  130.95           0.00   \n",
       "4  PRDACYVT895VMO7H  mercadolivre  mercadolivre  128.99          21.51   \n",
       "\n",
       "   price_freight_shift  commission_product_olist  commission_freight_olist  \\\n",
       "0                  0.0                      0.20                      0.20   \n",
       "1                  0.0                      0.20                      0.20   \n",
       "2                  0.0                      0.19                      0.19   \n",
       "3                  0.0                      0.20                      0.20   \n",
       "4                  0.0                      0.20                      0.20   \n",
       "\n",
       "   origin_zip origin_state     origin_city destination_zip destination_state  \\\n",
       "0     1109010           SP       SAO PAULO        89265575                SC   \n",
       "1     1109010           SP       SAO PAULO        06040470                SP   \n",
       "2    20910970           RJ  RIO DE JANEIRO        22260210                RJ   \n",
       "3     1109010           SP       SAO PAULO        89062100                SC   \n",
       "4     1109010           SP       SAO PAULO        66055000                PA   \n",
       "\n",
       "  destination_city  \n",
       "0   Jaraguá do Sul  \n",
       "1           Osasco  \n",
       "2   Rio de Janeiro  \n",
       "3         Blumenau  \n",
       "4            Belém  "
      ]
     },
     "execution_count": 4,
     "metadata": {},
     "output_type": "execute_result"
    }
   ],
   "source": [
    "#downloading product orders dataset. to first trials.\n",
    "#do we have to reference the 'read_csv'direct to the github folder?\n",
    "orders = pd.read_csv('https://bsa-correlation-one.s3.amazonaws.com/202003131045_orders.csv')\n",
    "orders.head(5)"
   ]
  },
  {
   "cell_type": "code",
   "execution_count": 4,
   "metadata": {},
   "outputs": [
    {
     "data": {
      "text/html": [
       "<div>\n",
       "<style scoped>\n",
       "    .dataframe tbody tr th:only-of-type {\n",
       "        vertical-align: middle;\n",
       "    }\n",
       "\n",
       "    .dataframe tbody tr th {\n",
       "        vertical-align: top;\n",
       "    }\n",
       "\n",
       "    .dataframe thead th {\n",
       "        text-align: right;\n",
       "    }\n",
       "</style>\n",
       "<table border=\"1\" class=\"dataframe\">\n",
       "  <thead>\n",
       "    <tr style=\"text-align: right;\">\n",
       "      <th></th>\n",
       "      <th>purchase_timestamp</th>\n",
       "      <th>seller_id</th>\n",
       "      <th>product_gtin</th>\n",
       "      <th>product_sku</th>\n",
       "      <th>channel_slug</th>\n",
       "      <th>channel_store</th>\n",
       "      <th>price</th>\n",
       "      <th>freight_value</th>\n",
       "      <th>price_freight_shift</th>\n",
       "      <th>commission_product_olist</th>\n",
       "      <th>commission_freight_olist</th>\n",
       "      <th>origin_zip</th>\n",
       "      <th>origin_state</th>\n",
       "      <th>origin_city</th>\n",
       "      <th>destination_zip</th>\n",
       "      <th>destination_state</th>\n",
       "      <th>destination_city</th>\n",
       "      <th>date</th>\n",
       "    </tr>\n",
       "  </thead>\n",
       "  <tbody>\n",
       "    <tr>\n",
       "      <th>24613</th>\n",
       "      <td>2015-09-23 13:00:13</td>\n",
       "      <td>ae3537b0-1bba-4690-8219-d4be662e1f6a</td>\n",
       "      <td>7899893323067</td>\n",
       "      <td>OLT1FE68051DD0E</td>\n",
       "      <td>cnova</td>\n",
       "      <td>cnova</td>\n",
       "      <td>168.00</td>\n",
       "      <td>0.0</td>\n",
       "      <td>0.0</td>\n",
       "      <td>0.20</td>\n",
       "      <td>0.00</td>\n",
       "      <td>5138100</td>\n",
       "      <td>SP</td>\n",
       "      <td>São Paulo</td>\n",
       "      <td>95720000</td>\n",
       "      <td>RS</td>\n",
       "      <td>Garibaldi</td>\n",
       "      <td>2015-09-23</td>\n",
       "    </tr>\n",
       "    <tr>\n",
       "      <th>36494</th>\n",
       "      <td>2020-03-13 07:37:36</td>\n",
       "      <td>5fc08652-2e29-45c8-a967-428d73dd35e0</td>\n",
       "      <td>7897181941436</td>\n",
       "      <td>PRD4ZU8AMTULO709</td>\n",
       "      <td>mercadolivre</td>\n",
       "      <td>mercadolivre</td>\n",
       "      <td>94.05</td>\n",
       "      <td>0.0</td>\n",
       "      <td>0.0</td>\n",
       "      <td>0.16</td>\n",
       "      <td>0.16</td>\n",
       "      <td>6422120</td>\n",
       "      <td>SP</td>\n",
       "      <td>Barueri</td>\n",
       "      <td>24210200</td>\n",
       "      <td>RJ</td>\n",
       "      <td>Niterói</td>\n",
       "      <td>2020-03-13</td>\n",
       "    </tr>\n",
       "  </tbody>\n",
       "</table>\n",
       "</div>"
      ],
      "text/plain": [
       "       purchase_timestamp                             seller_id  \\\n",
       "24613 2015-09-23 13:00:13  ae3537b0-1bba-4690-8219-d4be662e1f6a   \n",
       "36494 2020-03-13 07:37:36  5fc08652-2e29-45c8-a967-428d73dd35e0   \n",
       "\n",
       "        product_gtin       product_sku  channel_slug channel_store   price  \\\n",
       "24613  7899893323067   OLT1FE68051DD0E         cnova         cnova  168.00   \n",
       "36494  7897181941436  PRD4ZU8AMTULO709  mercadolivre  mercadolivre   94.05   \n",
       "\n",
       "       freight_value  price_freight_shift  commission_product_olist  \\\n",
       "24613            0.0                  0.0                      0.20   \n",
       "36494            0.0                  0.0                      0.16   \n",
       "\n",
       "       commission_freight_olist  origin_zip origin_state origin_city  \\\n",
       "24613                      0.00     5138100           SP   São Paulo   \n",
       "36494                      0.16     6422120           SP     Barueri   \n",
       "\n",
       "      destination_zip destination_state destination_city        date  \n",
       "24613        95720000                RS        Garibaldi  2015-09-23  \n",
       "36494        24210200                RJ          Niterói  2020-03-13  "
      ]
     },
     "execution_count": 4,
     "metadata": {},
     "output_type": "execute_result"
    }
   ],
   "source": [
    "#checking range of dates aka 'purchase_timestamp'\n",
    "orders['purchase_timestamp'] = pd.to_datetime(orders['purchase_timestamp'])  \n",
    "orders['date'] = orders['purchase_timestamp'].dt.date\n",
    "orders.sort_values('purchase_timestamp').iloc[[0,-1]]"
   ]
  },
  {
   "cell_type": "code",
   "execution_count": 5,
   "metadata": {},
   "outputs": [
    {
     "data": {
      "text/html": [
       "<div>\n",
       "<style scoped>\n",
       "    .dataframe tbody tr th:only-of-type {\n",
       "        vertical-align: middle;\n",
       "    }\n",
       "\n",
       "    .dataframe tbody tr th {\n",
       "        vertical-align: top;\n",
       "    }\n",
       "\n",
       "    .dataframe thead th {\n",
       "        text-align: right;\n",
       "    }\n",
       "</style>\n",
       "<table border=\"1\" class=\"dataframe\">\n",
       "  <thead>\n",
       "    <tr style=\"text-align: right;\">\n",
       "      <th></th>\n",
       "      <th>price</th>\n",
       "      <th>freight_value</th>\n",
       "      <th>price_freight_shift</th>\n",
       "      <th>commission_product_olist</th>\n",
       "      <th>commission_freight_olist</th>\n",
       "    </tr>\n",
       "  </thead>\n",
       "  <tbody>\n",
       "    <tr>\n",
       "      <th>count</th>\n",
       "      <td>40997.000000</td>\n",
       "      <td>40997.000000</td>\n",
       "      <td>40997.000000</td>\n",
       "      <td>40997.000000</td>\n",
       "      <td>40997.000000</td>\n",
       "    </tr>\n",
       "    <tr>\n",
       "      <th>mean</th>\n",
       "      <td>110.292697</td>\n",
       "      <td>18.431204</td>\n",
       "      <td>0.110380</td>\n",
       "      <td>0.192374</td>\n",
       "      <td>0.188754</td>\n",
       "    </tr>\n",
       "    <tr>\n",
       "      <th>std</th>\n",
       "      <td>139.258356</td>\n",
       "      <td>17.080063</td>\n",
       "      <td>1.511568</td>\n",
       "      <td>0.016219</td>\n",
       "      <td>0.030310</td>\n",
       "    </tr>\n",
       "    <tr>\n",
       "      <th>min</th>\n",
       "      <td>6.920000</td>\n",
       "      <td>0.000000</td>\n",
       "      <td>0.000000</td>\n",
       "      <td>0.090000</td>\n",
       "      <td>0.000000</td>\n",
       "    </tr>\n",
       "    <tr>\n",
       "      <th>25%</th>\n",
       "      <td>35.130000</td>\n",
       "      <td>8.530000</td>\n",
       "      <td>0.000000</td>\n",
       "      <td>0.190000</td>\n",
       "      <td>0.190000</td>\n",
       "    </tr>\n",
       "    <tr>\n",
       "      <th>50%</th>\n",
       "      <td>71.900000</td>\n",
       "      <td>16.220000</td>\n",
       "      <td>0.000000</td>\n",
       "      <td>0.200000</td>\n",
       "      <td>0.200000</td>\n",
       "    </tr>\n",
       "    <tr>\n",
       "      <th>75%</th>\n",
       "      <td>134.900000</td>\n",
       "      <td>23.110000</td>\n",
       "      <td>0.000000</td>\n",
       "      <td>0.200000</td>\n",
       "      <td>0.200000</td>\n",
       "    </tr>\n",
       "    <tr>\n",
       "      <th>max</th>\n",
       "      <td>5079.940000</td>\n",
       "      <td>344.700000</td>\n",
       "      <td>72.900000</td>\n",
       "      <td>0.250000</td>\n",
       "      <td>0.250000</td>\n",
       "    </tr>\n",
       "  </tbody>\n",
       "</table>\n",
       "</div>"
      ],
      "text/plain": [
       "              price  freight_value  price_freight_shift  \\\n",
       "count  40997.000000   40997.000000         40997.000000   \n",
       "mean     110.292697      18.431204             0.110380   \n",
       "std      139.258356      17.080063             1.511568   \n",
       "min        6.920000       0.000000             0.000000   \n",
       "25%       35.130000       8.530000             0.000000   \n",
       "50%       71.900000      16.220000             0.000000   \n",
       "75%      134.900000      23.110000             0.000000   \n",
       "max     5079.940000     344.700000            72.900000   \n",
       "\n",
       "       commission_product_olist  commission_freight_olist  \n",
       "count              40997.000000              40997.000000  \n",
       "mean                   0.192374                  0.188754  \n",
       "std                    0.016219                  0.030310  \n",
       "min                    0.090000                  0.000000  \n",
       "25%                    0.190000                  0.190000  \n",
       "50%                    0.200000                  0.200000  \n",
       "75%                    0.200000                  0.200000  \n",
       "max                    0.250000                  0.250000  "
      ]
     },
     "execution_count": 5,
     "metadata": {},
     "output_type": "execute_result"
    }
   ],
   "source": [
    "orders[['price', 'freight_value', 'price_freight_shift', 'commission_product_olist', 'commission_freight_olist']].describe()"
   ]
  },
  {
   "cell_type": "code",
   "execution_count": 6,
   "metadata": {},
   "outputs": [
    {
     "data": {
      "text/plain": [
       "647"
      ]
     },
     "execution_count": 6,
     "metadata": {},
     "output_type": "execute_result"
    }
   ],
   "source": [
    "orders['product_gtin'].nunique()"
   ]
  },
  {
   "cell_type": "markdown",
   "metadata": {},
   "source": [
    "**We can see that there's no NaN in our dataset**"
   ]
  },
  {
   "cell_type": "code",
   "execution_count": 7,
   "metadata": {},
   "outputs": [
    {
     "data": {
      "image/png": "[encoded data removed]",
      "text/plain": [
       "<Figure size 720x216 with 2 Axes>"
      ]
     },
     "metadata": {
      "needs_background": "light"
     },
     "output_type": "display_data"
    }
   ],
   "source": [
    "plotsize = (10, 3)\n",
    "fig, ax = plt.subplots(1,2, figsize = plotsize)\n",
    "ax1 = sns.distplot(orders['price'], ax=ax[0], kde=False)\n",
    "ax2 = sns.boxplot(orders['price'], ax=ax[1])\n",
    "ax1.set_title('Histogram of raw prices')\n",
    "ax2.set_title('Boxplot of raw prices')\n",
    "ax1.set_xscale('log')\n",
    "ax2.set_xscale('log')\n"
   ]
  },
  {
   "cell_type": "code",
   "execution_count": 8,
   "metadata": {},
   "outputs": [
    {
     "data": {
      "image/png": "[encoded data removed]",
      "text/plain": [
       "<Figure size 720x216 with 2 Axes>"
      ]
     },
     "metadata": {
      "needs_background": "light"
     },
     "output_type": "display_data"
    }
   ],
   "source": [
    "plotsize = (10, 3)\n",
    "fig, ax = plt.subplots(1,2, figsize = plotsize)\n",
    "ax3 = sns.distplot(orders['freight_value'], ax=ax[0], kde=False)\n",
    "ax4 = sns.boxplot(orders['freight_value'], ax=ax[1])\n",
    "ax3.set_title('Histogram of raw freights')\n",
    "ax4.set_title('Boxplot of raw freights')\n",
    "ax3.set_xscale('log')\n",
    "ax4.set_xscale('log')"
   ]
  },
  {
   "cell_type": "markdown",
   "metadata": {},
   "source": [
    "**The histograms and boxplots indicates a high dispersion of price and freight. For price, mostly of data are below 200 reais and for freight below 40 reais. Booth information were expected once Olist sell any kind of product, at any value. Perhaps a good approach to understand the data would be put them on scale by each product_gtin.**"
   ]
  },
  {
   "cell_type": "code",
   "execution_count": 9,
   "metadata": {},
   "outputs": [],
   "source": [
    "orders['price_sc'] = orders.groupby('product_gtin').price.transform(lambda x: minmax_scale(x.astype(float)))\n",
    "orders['freight_sc'] = orders.groupby('product_gtin').freight_value.transform(lambda x: minmax_scale(x.astype(float)))"
   ]
  },
  {
   "cell_type": "code",
   "execution_count": 10,
   "metadata": {},
   "outputs": [
    {
     "data": {
      "text/plain": [
       "Text(0.5, 1.0, 'Boxplot of Scaled prices')"
      ]
     },
     "execution_count": 10,
     "metadata": {},
     "output_type": "execute_result"
    },
    {
     "data": {
      "image/png": "[encoded data removed]",
      "text/plain": [
       "<Figure size 720x216 with 2 Axes>"
      ]
     },
     "metadata": {
      "needs_background": "light"
     },
     "output_type": "display_data"
    }
   ],
   "source": [
    "plotsize = (10, 3)\n",
    "fig, ax = plt.subplots(1,2, figsize = plotsize)\n",
    "ax1 = sns.distplot(orders['price_sc'], ax=ax[0], kde=False)\n",
    "ax2 = sns.boxplot(orders['price_sc'], ax=ax[1])\n",
    "ax1.set_title('Histogram of Scaled prices')\n",
    "ax2.set_title('Boxplot of Scaled prices')\n"
   ]
  },
  {
   "cell_type": "code",
   "execution_count": 11,
   "metadata": {},
   "outputs": [
    {
     "data": {
      "text/plain": [
       "Text(0.5, 1.0, 'Boxplot of Scaled freight')"
      ]
     },
     "execution_count": 11,
     "metadata": {},
     "output_type": "execute_result"
    },
    {
     "data": {
      "image/png": "[encoded data removed]",
      "text/plain": [
       "<Figure size 720x216 with 2 Axes>"
      ]
     },
     "metadata": {
      "needs_background": "light"
     },
     "output_type": "display_data"
    }
   ],
   "source": [
    "plotsize = (10, 3)\n",
    "fig, ax = plt.subplots(1,2, figsize = plotsize)\n",
    "ax1 = sns.distplot(orders['freight_sc'], ax=ax[0], kde=False)\n",
    "ax2 = sns.boxplot(orders['freight_sc'], ax=ax[1])\n",
    "ax1.set_title('Histogram of Scaled freight')\n",
    "ax2.set_title('Boxplot of Scaled freight')\n"
   ]
  },
  {
   "cell_type": "markdown",
   "metadata": {},
   "source": [
    "**It's possible observe a concentration of prices at min and max for each gtin. An the the possible 'outliers was as a matter of fact, products with differents prices. For freights, we have a high concentration near the min.**"
   ]
  },
  {
   "cell_type": "code",
   "execution_count": 12,
   "metadata": {},
   "outputs": [
    {
     "data": {
      "text/html": [
       "<div>\n",
       "<style scoped>\n",
       "    .dataframe tbody tr th:only-of-type {\n",
       "        vertical-align: middle;\n",
       "    }\n",
       "\n",
       "    .dataframe tbody tr th {\n",
       "        vertical-align: top;\n",
       "    }\n",
       "\n",
       "    .dataframe thead th {\n",
       "        text-align: right;\n",
       "    }\n",
       "</style>\n",
       "<table border=\"1\" class=\"dataframe\">\n",
       "  <thead>\n",
       "    <tr style=\"text-align: right;\">\n",
       "      <th></th>\n",
       "      <th>product_gtin</th>\n",
       "      <th>n_orders</th>\n",
       "      <th>share</th>\n",
       "      <th>rank</th>\n",
       "    </tr>\n",
       "  </thead>\n",
       "  <tbody>\n",
       "    <tr>\n",
       "      <th>0</th>\n",
       "      <td>8800550956404</td>\n",
       "      <td>2859</td>\n",
       "      <td>6.973681</td>\n",
       "      <td>1</td>\n",
       "    </tr>\n",
       "    <tr>\n",
       "      <th>1</th>\n",
       "      <td>7899495703106</td>\n",
       "      <td>2079</td>\n",
       "      <td>5.071103</td>\n",
       "      <td>2</td>\n",
       "    </tr>\n",
       "    <tr>\n",
       "      <th>2</th>\n",
       "      <td>7909389621864</td>\n",
       "      <td>1999</td>\n",
       "      <td>4.875967</td>\n",
       "      <td>3</td>\n",
       "    </tr>\n",
       "    <tr>\n",
       "      <th>3</th>\n",
       "      <td>7895099385786</td>\n",
       "      <td>1652</td>\n",
       "      <td>4.029563</td>\n",
       "      <td>4</td>\n",
       "    </tr>\n",
       "    <tr>\n",
       "      <th>4</th>\n",
       "      <td>7892049060281</td>\n",
       "      <td>1614</td>\n",
       "      <td>3.936873</td>\n",
       "      <td>5</td>\n",
       "    </tr>\n",
       "    <tr>\n",
       "      <th>5</th>\n",
       "      <td>7908243600137</td>\n",
       "      <td>1187</td>\n",
       "      <td>2.895334</td>\n",
       "      <td>6</td>\n",
       "    </tr>\n",
       "    <tr>\n",
       "      <th>6</th>\n",
       "      <td>7898605383559</td>\n",
       "      <td>977</td>\n",
       "      <td>2.383101</td>\n",
       "      <td>7</td>\n",
       "    </tr>\n",
       "    <tr>\n",
       "      <th>7</th>\n",
       "      <td>6951003643197</td>\n",
       "      <td>917</td>\n",
       "      <td>2.236749</td>\n",
       "      <td>8</td>\n",
       "    </tr>\n",
       "    <tr>\n",
       "      <th>8</th>\n",
       "      <td>7898554982766</td>\n",
       "      <td>907</td>\n",
       "      <td>2.212357</td>\n",
       "      <td>9</td>\n",
       "    </tr>\n",
       "    <tr>\n",
       "      <th>9</th>\n",
       "      <td>7892509104128</td>\n",
       "      <td>834</td>\n",
       "      <td>2.034295</td>\n",
       "      <td>10</td>\n",
       "    </tr>\n",
       "  </tbody>\n",
       "</table>\n",
       "</div>"
      ],
      "text/plain": [
       "    product_gtin  n_orders     share  rank\n",
       "0  8800550956404      2859  6.973681     1\n",
       "1  7899495703106      2079  5.071103     2\n",
       "2  7909389621864      1999  4.875967     3\n",
       "3  7895099385786      1652  4.029563     4\n",
       "4  7892049060281      1614  3.936873     5\n",
       "5  7908243600137      1187  2.895334     6\n",
       "6  7898605383559       977  2.383101     7\n",
       "7  6951003643197       917  2.236749     8\n",
       "8  7898554982766       907  2.212357     9\n",
       "9  7892509104128       834  2.034295    10"
      ]
     },
     "execution_count": 12,
     "metadata": {},
     "output_type": "execute_result"
    }
   ],
   "source": [
    "#Looking for the most frequent orders bby gtin.\n",
    "#Here, we don't have the information of how many units was each order.\n",
    "#As at least one product was sold at each order, I considered that I sell one product by order.\n",
    "#I choose an random column to count the rows and identify how many orders we have for each gtin\n",
    "orders_bygtin = orders.groupby(by=['product_gtin'])['seller_id'].count().sort_values(ascending = False).to_frame().rename(columns={'seller_id': 'n_orders'})\n",
    "orders_bygtin = orders_bygtin.reset_index()\n",
    "orders_bygtin['share'] = orders_bygtin['n_orders']/orders_bygtin['n_orders'].sum() * 100\n",
    "orders_bygtin['rank'] = orders_bygtin['share'].rank(method = 'first', ascending = False).astype(int)\n",
    "orders_bygtin.head(10)"
   ]
  },
  {
   "cell_type": "code",
   "execution_count": 13,
   "metadata": {},
   "outputs": [
    {
     "data": {
      "text/plain": [
       "647"
      ]
     },
     "execution_count": 13,
     "metadata": {},
     "output_type": "execute_result"
    }
   ],
   "source": [
    "orders['product_gtin'].nunique()"
   ]
  },
  {
   "cell_type": "code",
   "execution_count": 14,
   "metadata": {},
   "outputs": [
    {
     "name": "stdout",
     "output_type": "stream",
     "text": [
      "The top 20 products represents 48.86455106471205% of sales\n"
     ]
    }
   ],
   "source": [
    "value =  orders_bygtin['share'][orders_bygtin['rank'] <= 20].sum().astype(str)\n",
    "print('The top 20 products represents ' + value + '% of sales')"
   ]
  },
  {
   "cell_type": "code",
   "execution_count": 15,
   "metadata": {},
   "outputs": [
    {
     "data": {
      "text/html": [
       "<div>\n",
       "<style scoped>\n",
       "    .dataframe tbody tr th:only-of-type {\n",
       "        vertical-align: middle;\n",
       "    }\n",
       "\n",
       "    .dataframe tbody tr th {\n",
       "        vertical-align: top;\n",
       "    }\n",
       "\n",
       "    .dataframe thead th {\n",
       "        text-align: right;\n",
       "    }\n",
       "</style>\n",
       "<table border=\"1\" class=\"dataframe\">\n",
       "  <thead>\n",
       "    <tr style=\"text-align: right;\">\n",
       "      <th></th>\n",
       "      <th>product_gtin</th>\n",
       "      <th>revenue</th>\n",
       "      <th>share</th>\n",
       "      <th>rank</th>\n",
       "    </tr>\n",
       "  </thead>\n",
       "  <tbody>\n",
       "    <tr>\n",
       "      <th>0</th>\n",
       "      <td>7892509104128</td>\n",
       "      <td>476295.40</td>\n",
       "      <td>10.533618</td>\n",
       "      <td>1</td>\n",
       "    </tr>\n",
       "    <tr>\n",
       "      <th>1</th>\n",
       "      <td>7909389621864</td>\n",
       "      <td>299414.59</td>\n",
       "      <td>6.621771</td>\n",
       "      <td>2</td>\n",
       "    </tr>\n",
       "    <tr>\n",
       "      <th>2</th>\n",
       "      <td>7899495703106</td>\n",
       "      <td>289927.63</td>\n",
       "      <td>6.411960</td>\n",
       "      <td>3</td>\n",
       "    </tr>\n",
       "    <tr>\n",
       "      <th>3</th>\n",
       "      <td>7908243600137</td>\n",
       "      <td>198415.24</td>\n",
       "      <td>4.388097</td>\n",
       "      <td>4</td>\n",
       "    </tr>\n",
       "    <tr>\n",
       "      <th>4</th>\n",
       "      <td>6951003643197</td>\n",
       "      <td>121700.74</td>\n",
       "      <td>2.691500</td>\n",
       "      <td>5</td>\n",
       "    </tr>\n",
       "    <tr>\n",
       "      <th>5</th>\n",
       "      <td>8800550956404</td>\n",
       "      <td>112004.24</td>\n",
       "      <td>2.477055</td>\n",
       "      <td>6</td>\n",
       "    </tr>\n",
       "    <tr>\n",
       "      <th>6</th>\n",
       "      <td>7897181941436</td>\n",
       "      <td>92982.58</td>\n",
       "      <td>2.056377</td>\n",
       "      <td>7</td>\n",
       "    </tr>\n",
       "    <tr>\n",
       "      <th>7</th>\n",
       "      <td>7894203014031</td>\n",
       "      <td>77549.55</td>\n",
       "      <td>1.715064</td>\n",
       "      <td>8</td>\n",
       "    </tr>\n",
       "    <tr>\n",
       "      <th>8</th>\n",
       "      <td>7897889805825</td>\n",
       "      <td>76231.64</td>\n",
       "      <td>1.685918</td>\n",
       "      <td>9</td>\n",
       "    </tr>\n",
       "    <tr>\n",
       "      <th>9</th>\n",
       "      <td>619960626351</td>\n",
       "      <td>72630.74</td>\n",
       "      <td>1.606281</td>\n",
       "      <td>10</td>\n",
       "    </tr>\n",
       "  </tbody>\n",
       "</table>\n",
       "</div>"
      ],
      "text/plain": [
       "    product_gtin    revenue      share  rank\n",
       "0  7892509104128  476295.40  10.533618     1\n",
       "1  7909389621864  299414.59   6.621771     2\n",
       "2  7899495703106  289927.63   6.411960     3\n",
       "3  7908243600137  198415.24   4.388097     4\n",
       "4  6951003643197  121700.74   2.691500     5\n",
       "5  8800550956404  112004.24   2.477055     6\n",
       "6  7897181941436   92982.58   2.056377     7\n",
       "7  7894203014031   77549.55   1.715064     8\n",
       "8  7897889805825   76231.64   1.685918     9\n",
       "9   619960626351   72630.74   1.606281    10"
      ]
     },
     "execution_count": 15,
     "metadata": {},
     "output_type": "execute_result"
    }
   ],
   "source": [
    "orders_byrev = orders.groupby(by=['product_gtin'])['price'].sum().sort_values(ascending = False).to_frame().rename(columns={'price': 'revenue'})\n",
    "orders_byrev = orders_byrev.reset_index()\n",
    "orders_byrev['share'] = orders_byrev['revenue']/orders_byrev['revenue'].sum() * 100\n",
    "orders_byrev['rank'] = orders_byrev['share'].rank(method = 'first', ascending = False).astype(int)\n",
    "orders_byrev.head(10)"
   ]
  },
  {
   "cell_type": "code",
   "execution_count": 16,
   "metadata": {},
   "outputs": [
    {
     "name": "stdout",
     "output_type": "stream",
     "text": [
      "The top 20 products represents 52.62487671893607% of revenues\n"
     ]
    }
   ],
   "source": [
    "value =  orders_byrev['share'][orders_byrev['rank'] <= 20].sum().astype(str)\n",
    "print('The top 20 products represents ' + value + '% of revenues')"
   ]
  },
  {
   "cell_type": "code",
   "execution_count": 47,
   "metadata": {},
   "outputs": [],
   "source": [
    "#Merging rank of sales and revenues with orders\n",
    "orders = orders.merge(orders_bygtin[['product_gtin', 'rank']], on = 'product_gtin').rename({'rank':'rank_sales'})"
   ]
  },
  {
   "cell_type": "code",
   "execution_count": 49,
   "metadata": {},
   "outputs": [],
   "source": [
    "orders['year'] = orders['purchase_timestamp'].dt.year\n",
    "list_gtins_2020 = orders['product_gtin'][(orders['year'] == 2020) & (orders['rank'] <=20)]"
   ]
  },
  {
   "cell_type": "code",
   "execution_count": 50,
   "metadata": {},
   "outputs": [
    {
     "data": {
      "text/plain": [
       "<matplotlib.axes._subplots.AxesSubplot at 0x11b8f9cd0>"
      ]
     },
     "execution_count": 50,
     "metadata": {},
     "output_type": "execute_result"
    },
    {
     "data": {
      "image/png": "[encoded data removed]",
      "text/plain": [
       "<Figure size 432x288 with 1 Axes>"
      ]
     },
     "metadata": {
      "needs_background": "light"
     },
     "output_type": "display_data"
    }
   ],
   "source": [
    "sns.lineplot(x='date', y='price_sc', hue = orders['product_gtin'][orders['product_gtin'].isin(list_gtins_2020)], data=orders)"
   ]
  },
  {
   "cell_type": "markdown",
   "metadata": {},
   "source": [
    "The plot of top 20's price gtins over time shows differents behaviours. So, we cannot analyse them as one single product"
   ]
  }
 ],
 "metadata": {
  "kernelspec": {
   "display_name": "Python 3",
   "language": "python",
   "name": "python3"
  },
  "language_info": {
   "codemirror_mode": {
    "name": "ipython",
    "version": 3
   },
   "file_extension": ".py",
   "mimetype": "text/x-python",
   "name": "python",
   "nbconvert_exporter": "python",
   "pygments_lexer": "ipython3",
   "version": "3.7.7"
  }
 },
 "nbformat": 4,
 "nbformat_minor": 4
}
