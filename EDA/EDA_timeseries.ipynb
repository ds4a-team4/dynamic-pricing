{
 "cells": [
  {
   "cell_type": "markdown",
   "metadata": {},
   "source": [
    "# Timeseries data\n",
    "\n",
    "In the current notebook, we will explore some of the nuances of the 'timeseries' dataset.  \n",
    "This notebook will expand the EDA process for the individual datasets, focusing on investigating the interaction between different variables.  \n",
    "\n",
    "The 'timeseries' dataset consists of the historical data of products orders. We track some measures like stocks, prices, competitor's prices, shipping values, order quantities over time, for 644 different products."
   ]
  },
  {
   "cell_type": "markdown",
   "metadata": {},
   "source": [
    "## TABLE OF CONTENTS\n",
    "\n",
    "0. [Library and data imports](#library)  \n",
    "1. [Dataset Exploration](#exploration)  \n",
    "    1.1 Headers  \n",
    "    1.2 Data types  \n",
    "    1.3 Missing Values  \n",
    "    1.4 Artificial columns  \n",
    "    1.5 Summary statistics  \n",
    "2. [Univariate Analysis](#univariate)  \n",
    "    2.1 Prices (olist, competition, deltas)  \n",
    "    2.2 Shipping (freight ratio)  \n",
    "    2.3 Orders  \n",
    "3. [Bivariate Analysis](#bivariate)  \n",
    "    3.1 Price x Orders  \n",
    "    3.2 Shipping x Orders  \n",
    "    3.3 Product Attributes x Orders  \n",
    "4. [Demand Sparsity](#sparsity)  \n",
    "    4.1 Demonstrate sparsity of sales inside product_groups and types; show that we have few gtins per category  \n",
    "5. [Product Group Analysis](#group)  \n",
    "6. [Product GTIN analysis](#gtin)  \n",
    "    6.1 Makeup Kit  "
   ]
  },
  {
   "cell_type": "markdown",
   "metadata": {},
   "source": [
    "<a name=\"library\"></a>\n",
    "### 0 - Imports and reading the data\n",
    "\n",
    "Let's import some packages and read the data."
   ]
  },
  {
   "cell_type": "code",
   "execution_count": 1,
   "metadata": {},
   "outputs": [],
   "source": [
    "import numpy as np\n",
    "import pandas as pd\n",
    "import matplotlib.pyplot as plt\n",
    "import matplotlib.dates as mdates\n",
    "import seaborn as sns\n",
    "\n",
    "from sklearn.preprocessing import minmax_scale\n",
    "\n",
    "from matplotlib.dates import DateFormatter"
   ]
  },
  {
   "cell_type": "code",
   "execution_count": 2,
   "metadata": {},
   "outputs": [],
   "source": [
    "pd.set_option('display.max_columns', None)\n",
    "plt.style.use('ggplot')\n",
    "\n",
    "%matplotlib inline"
   ]
  },
  {
   "cell_type": "code",
   "execution_count": 3,
   "metadata": {},
   "outputs": [],
   "source": [
    "#df = pd.read_csv('https://bsa-correlation-one.s3.amazonaws.com/timeseries644.csv', dtype={'product_gtin':'str'})\n",
    "df = pd.read_csv('../data/timeseries644.csv', dtype={'product_gtin':'str'})"
   ]
  },
  {
   "cell_type": "markdown",
   "metadata": {},
   "source": [
    "<a name=\"exploration\"></a>\n",
    "### 1. Dataset exploration\n",
    "\n",
    "At first, let's explore a few of the dataset's attributes. It is important to understand some of the column's information, data types, missing values and major statistics.\n"
   ]
  },
  {
   "cell_type": "markdown",
   "metadata": {},
   "source": [
    "#### 1.1 Dataset Headers:\n",
    "\n",
    "Each row of the dataset consists of the following information, for a given date: a product (gtin), the competition price and olist's price, the commission rates, the number of sales (orders), the product type and group, stock information and product's name and description."
   ]
  },
  {
   "cell_type": "code",
   "execution_count": 4,
   "metadata": {},
   "outputs": [
    {
     "data": {
      "text/html": [
       "<div>\n",
       "<style scoped>\n",
       "    .dataframe tbody tr th:only-of-type {\n",
       "        vertical-align: middle;\n",
       "    }\n",
       "\n",
       "    .dataframe tbody tr th {\n",
       "        vertical-align: top;\n",
       "    }\n",
       "\n",
       "    .dataframe thead th {\n",
       "        text-align: right;\n",
       "    }\n",
       "</style>\n",
       "<table border=\"1\" class=\"dataframe\">\n",
       "  <thead>\n",
       "    <tr style=\"text-align: right;\">\n",
       "      <th></th>\n",
       "      <th>date</th>\n",
       "      <th>product_gtin</th>\n",
       "      <th>competition_price</th>\n",
       "      <th>price</th>\n",
       "      <th>freight_value</th>\n",
       "      <th>commission_product_olist</th>\n",
       "      <th>commission_freight_olist</th>\n",
       "      <th>orders</th>\n",
       "      <th>product_type</th>\n",
       "      <th>product_type_group</th>\n",
       "      <th>stock_max</th>\n",
       "      <th>stock_min</th>\n",
       "      <th>stock_avg</th>\n",
       "      <th>price_max</th>\n",
       "      <th>price_min</th>\n",
       "      <th>price_avg</th>\n",
       "      <th>offer_max</th>\n",
       "      <th>offer_min</th>\n",
       "      <th>offer_avg</th>\n",
       "      <th>name</th>\n",
       "      <th>description</th>\n",
       "    </tr>\n",
       "  </thead>\n",
       "  <tbody>\n",
       "    <tr>\n",
       "      <th>0</th>\n",
       "      <td>2016-10-03</td>\n",
       "      <td>7909389107160</td>\n",
       "      <td>169.9</td>\n",
       "      <td>179.9</td>\n",
       "      <td>NaN</td>\n",
       "      <td>NaN</td>\n",
       "      <td>NaN</td>\n",
       "      <td>0.0</td>\n",
       "      <td>Prato giratório</td>\n",
       "      <td>utilidades_domesticas</td>\n",
       "      <td>0.0</td>\n",
       "      <td>0.0</td>\n",
       "      <td>0.0</td>\n",
       "      <td>179.9</td>\n",
       "      <td>179.9</td>\n",
       "      <td>179.9</td>\n",
       "      <td>179.9</td>\n",
       "      <td>179.9</td>\n",
       "      <td>179.9</td>\n",
       "      <td>Prato Giratório 80 cm em Madeira Laminado</td>\n",
       "      <td>Prato Giratório para Mesa Sala de Jantar;\\nDim...</td>\n",
       "    </tr>\n",
       "    <tr>\n",
       "      <th>1</th>\n",
       "      <td>2016-10-04</td>\n",
       "      <td>7909389107160</td>\n",
       "      <td>169.9</td>\n",
       "      <td>179.9</td>\n",
       "      <td>NaN</td>\n",
       "      <td>NaN</td>\n",
       "      <td>NaN</td>\n",
       "      <td>0.0</td>\n",
       "      <td>Prato giratório</td>\n",
       "      <td>utilidades_domesticas</td>\n",
       "      <td>0.0</td>\n",
       "      <td>0.0</td>\n",
       "      <td>0.0</td>\n",
       "      <td>179.9</td>\n",
       "      <td>179.9</td>\n",
       "      <td>179.9</td>\n",
       "      <td>179.9</td>\n",
       "      <td>179.9</td>\n",
       "      <td>179.9</td>\n",
       "      <td>Prato Giratório 80 cm em Madeira Laminado</td>\n",
       "      <td>Prato Giratório para Mesa Sala de Jantar;\\nDim...</td>\n",
       "    </tr>\n",
       "    <tr>\n",
       "      <th>2</th>\n",
       "      <td>2016-10-05</td>\n",
       "      <td>7909389107160</td>\n",
       "      <td>169.9</td>\n",
       "      <td>179.9</td>\n",
       "      <td>NaN</td>\n",
       "      <td>NaN</td>\n",
       "      <td>NaN</td>\n",
       "      <td>0.0</td>\n",
       "      <td>Prato giratório</td>\n",
       "      <td>utilidades_domesticas</td>\n",
       "      <td>0.0</td>\n",
       "      <td>0.0</td>\n",
       "      <td>0.0</td>\n",
       "      <td>179.9</td>\n",
       "      <td>179.9</td>\n",
       "      <td>179.9</td>\n",
       "      <td>179.9</td>\n",
       "      <td>179.9</td>\n",
       "      <td>179.9</td>\n",
       "      <td>Prato Giratório 80 cm em Madeira Laminado</td>\n",
       "      <td>Prato Giratório para Mesa Sala de Jantar;\\nDim...</td>\n",
       "    </tr>\n",
       "  </tbody>\n",
       "</table>\n",
       "</div>"
      ],
      "text/plain": [
       "         date   product_gtin  competition_price  price  freight_value  \\\n",
       "0  2016-10-03  7909389107160              169.9  179.9            NaN   \n",
       "1  2016-10-04  7909389107160              169.9  179.9            NaN   \n",
       "2  2016-10-05  7909389107160              169.9  179.9            NaN   \n",
       "\n",
       "   commission_product_olist  commission_freight_olist  orders  \\\n",
       "0                       NaN                       NaN     0.0   \n",
       "1                       NaN                       NaN     0.0   \n",
       "2                       NaN                       NaN     0.0   \n",
       "\n",
       "      product_type     product_type_group  stock_max  stock_min  stock_avg  \\\n",
       "0  Prato giratório  utilidades_domesticas        0.0        0.0        0.0   \n",
       "1  Prato giratório  utilidades_domesticas        0.0        0.0        0.0   \n",
       "2  Prato giratório  utilidades_domesticas        0.0        0.0        0.0   \n",
       "\n",
       "   price_max  price_min  price_avg  offer_max  offer_min  offer_avg  \\\n",
       "0      179.9      179.9      179.9      179.9      179.9      179.9   \n",
       "1      179.9      179.9      179.9      179.9      179.9      179.9   \n",
       "2      179.9      179.9      179.9      179.9      179.9      179.9   \n",
       "\n",
       "                                        name  \\\n",
       "0  Prato Giratório 80 cm em Madeira Laminado   \n",
       "1  Prato Giratório 80 cm em Madeira Laminado   \n",
       "2  Prato Giratório 80 cm em Madeira Laminado   \n",
       "\n",
       "                                         description  \n",
       "0  Prato Giratório para Mesa Sala de Jantar;\\nDim...  \n",
       "1  Prato Giratório para Mesa Sala de Jantar;\\nDim...  \n",
       "2  Prato Giratório para Mesa Sala de Jantar;\\nDim...  "
      ]
     },
     "execution_count": 4,
     "metadata": {},
     "output_type": "execute_result"
    }
   ],
   "source": [
    "df.head(3)"
   ]
  },
  {
   "cell_type": "markdown",
   "metadata": {},
   "source": [
    "#### 1.2 Dataset info:\n",
    "\n",
    "We have 299941 rows, with 21 columns. Most of the columns are complete, but notice that freight_value and commission columns have only 6.26% of the rows with information (18875). This information is only available when orders were created for a given product, on any given day.  \n",
    "Also, product_type and group are present in 71.4% of the rows (214135). This means that roughly 30% of the products were not being sold in 1Q of 2020, when the categorization system was created."
   ]
  },
  {
   "cell_type": "code",
   "execution_count": 5,
   "metadata": {},
   "outputs": [
    {
     "name": "stdout",
     "output_type": "stream",
     "text": [
      "<class 'pandas.core.frame.DataFrame'>\n",
      "RangeIndex: 299941 entries, 0 to 299940\n",
      "Data columns (total 21 columns):\n",
      " #   Column                    Non-Null Count   Dtype  \n",
      "---  ------                    --------------   -----  \n",
      " 0   date                      299941 non-null  object \n",
      " 1   product_gtin              299941 non-null  object \n",
      " 2   competition_price         299941 non-null  float64\n",
      " 3   price                     299941 non-null  float64\n",
      " 4   freight_value             18775 non-null   float64\n",
      " 5   commission_product_olist  18775 non-null   float64\n",
      " 6   commission_freight_olist  18775 non-null   float64\n",
      " 7   orders                    299941 non-null  float64\n",
      " 8   product_type              214135 non-null  object \n",
      " 9   product_type_group        214135 non-null  object \n",
      " 10  stock_max                 299941 non-null  float64\n",
      " 11  stock_min                 299941 non-null  float64\n",
      " 12  stock_avg                 299941 non-null  float64\n",
      " 13  price_max                 299941 non-null  float64\n",
      " 14  price_min                 299941 non-null  float64\n",
      " 15  price_avg                 299941 non-null  float64\n",
      " 16  offer_max                 299941 non-null  float64\n",
      " 17  offer_min                 299941 non-null  float64\n",
      " 18  offer_avg                 299941 non-null  float64\n",
      " 19  name                      299941 non-null  object \n",
      " 20  description               299941 non-null  object \n",
      "dtypes: float64(15), object(6)\n",
      "memory usage: 48.1+ MB\n"
     ]
    }
   ],
   "source": [
    "df.info()"
   ]
  },
  {
   "cell_type": "markdown",
   "metadata": {},
   "source": [
    "It's important to note that, besides the Nan product_type and product_type_group, we still have a big number of types and types group in our dataset. The same can be said for the product gtin. The question is, how deal with that? shall we analyse it at all, by group or individually?"
   ]
  },
  {
   "cell_type": "code",
   "execution_count": 6,
   "metadata": {},
   "outputs": [
    {
     "data": {
      "text/plain": [
       "39"
      ]
     },
     "execution_count": 6,
     "metadata": {},
     "output_type": "execute_result"
    }
   ],
   "source": [
    "len(df['product_type_group'].unique())"
   ]
  },
  {
   "cell_type": "code",
   "execution_count": 7,
   "metadata": {},
   "outputs": [
    {
     "data": {
      "text/plain": [
       "251"
      ]
     },
     "execution_count": 7,
     "metadata": {},
     "output_type": "execute_result"
    }
   ],
   "source": [
    "len(df['product_type'].unique())"
   ]
  },
  {
   "cell_type": "code",
   "execution_count": 8,
   "metadata": {},
   "outputs": [
    {
     "data": {
      "text/plain": [
       "644"
      ]
     },
     "execution_count": 8,
     "metadata": {},
     "output_type": "execute_result"
    }
   ],
   "source": [
    "len(df['product_gtin'].unique())"
   ]
  },
  {
   "cell_type": "markdown",
   "metadata": {},
   "source": [
    "We chosed to replace Nan values of product_type and product_type_group by a category called \"non-classified\""
   ]
  },
  {
   "cell_type": "code",
   "execution_count": 9,
   "metadata": {},
   "outputs": [],
   "source": [
    "df['product_type'] = df['product_type'].fillna('non-classified')\n",
    "df['product_type_group'] = df['product_type_group'].fillna('non-classified')"
   ]
  },
  {
   "cell_type": "markdown",
   "metadata": {},
   "source": [
    "#### 1.3 Missing values:\n",
    "\n",
    "We can observe that freight value (which is the amount of shipping that was paid by the final customer) and commission_values are missing. Those columns will be dealt with later."
   ]
  },
  {
   "cell_type": "code",
   "execution_count": 10,
   "metadata": {},
   "outputs": [
    {
     "data": {
      "image/png": "[encoded data removed]",
      "text/plain": [
       "<Figure size 576x432 with 1 Axes>"
      ]
     },
     "metadata": {
      "needs_background": "light"
     },
     "output_type": "display_data"
    }
   ],
   "source": [
    "plt.figure(figsize=(8,6))\n",
    "sns.heatmap(df.isnull(), cbar=False)\n",
    "plt.show()"
   ]
  },
  {
   "cell_type": "markdown",
   "metadata": {},
   "source": [
    "#### 1.4 Artificial columns and missing values:\n",
    "\n",
    "Let's fill the empty values when needed and create some other columns that might be interesting to our analysis.  \n",
    "\n",
    "Missing values:\n",
    "- commissions: The empty commission rows will be filled with 0.20, since it is olist's default commision.\n",
    "\n",
    "Artificial columns:\n",
    "- freight_ratio: the ratio between shipping prices and the product's value. This might be problematic for product's that did not have any sales. This could be solved in a few weeks, since olist is preparing its shipping quotes historical database.  \n",
    "- delta_price: percentual price difference between olist's price and competitor's price."
   ]
  },
  {
   "cell_type": "code",
   "execution_count": 11,
   "metadata": {},
   "outputs": [],
   "source": [
    "# Missing Values:\n",
    "\n",
    "df[['commission_product_olist','commission_freight_olist']] = df[['commission_product_olist','commission_freight_olist']].fillna(value=0.20)"
   ]
  },
  {
   "cell_type": "code",
   "execution_count": 12,
   "metadata": {},
   "outputs": [],
   "source": [
    "# Artificial columns:\n",
    "\n",
    "### Freight ratio:\n",
    "def freight_ratio(row):\n",
    "    shipping = row['freight_value']\n",
    "    price = row['price']\n",
    "    if np.isnan(shipping):\n",
    "        ratio = np.nan\n",
    "    else:\n",
    "        ratio = round(shipping / price, 3)\n",
    "    \n",
    "    return ratio\n",
    "\n",
    "\n",
    "df['freight_ratio'] = df.apply(freight_ratio, axis=1)\n",
    "#df['freight_ratio'] = df.freight_ratio.fillna(value=df.freight_ratio.mean())\n",
    "\n",
    "\n",
    "### Delta price\n",
    "df['delta_price'] = (df.price.values / df.competition_price.values) - 1"
   ]
  },
  {
   "cell_type": "code",
   "execution_count": 13,
   "metadata": {},
   "outputs": [
    {
     "data": {
      "text/html": [
       "<div>\n",
       "<style scoped>\n",
       "    .dataframe tbody tr th:only-of-type {\n",
       "        vertical-align: middle;\n",
       "    }\n",
       "\n",
       "    .dataframe tbody tr th {\n",
       "        vertical-align: top;\n",
       "    }\n",
       "\n",
       "    .dataframe thead th {\n",
       "        text-align: right;\n",
       "    }\n",
       "</style>\n",
       "<table border=\"1\" class=\"dataframe\">\n",
       "  <thead>\n",
       "    <tr style=\"text-align: right;\">\n",
       "      <th></th>\n",
       "      <th>date</th>\n",
       "      <th>product_gtin</th>\n",
       "      <th>competition_price</th>\n",
       "      <th>price</th>\n",
       "      <th>freight_value</th>\n",
       "      <th>commission_product_olist</th>\n",
       "      <th>commission_freight_olist</th>\n",
       "      <th>orders</th>\n",
       "      <th>product_type</th>\n",
       "      <th>product_type_group</th>\n",
       "      <th>stock_max</th>\n",
       "      <th>stock_min</th>\n",
       "      <th>stock_avg</th>\n",
       "      <th>price_max</th>\n",
       "      <th>price_min</th>\n",
       "      <th>price_avg</th>\n",
       "      <th>offer_max</th>\n",
       "      <th>offer_min</th>\n",
       "      <th>offer_avg</th>\n",
       "      <th>name</th>\n",
       "      <th>description</th>\n",
       "      <th>freight_ratio</th>\n",
       "      <th>delta_price</th>\n",
       "    </tr>\n",
       "  </thead>\n",
       "  <tbody>\n",
       "    <tr>\n",
       "      <th>0</th>\n",
       "      <td>2016-10-03</td>\n",
       "      <td>7909389107160</td>\n",
       "      <td>169.9</td>\n",
       "      <td>179.9</td>\n",
       "      <td>NaN</td>\n",
       "      <td>0.2</td>\n",
       "      <td>0.2</td>\n",
       "      <td>0.0</td>\n",
       "      <td>Prato giratório</td>\n",
       "      <td>utilidades_domesticas</td>\n",
       "      <td>0.0</td>\n",
       "      <td>0.0</td>\n",
       "      <td>0.0</td>\n",
       "      <td>179.9</td>\n",
       "      <td>179.9</td>\n",
       "      <td>179.9</td>\n",
       "      <td>179.9</td>\n",
       "      <td>179.9</td>\n",
       "      <td>179.9</td>\n",
       "      <td>Prato Giratório 80 cm em Madeira Laminado</td>\n",
       "      <td>Prato Giratório para Mesa Sala de Jantar;\\nDim...</td>\n",
       "      <td>NaN</td>\n",
       "      <td>0.058858</td>\n",
       "    </tr>\n",
       "    <tr>\n",
       "      <th>1</th>\n",
       "      <td>2016-10-04</td>\n",
       "      <td>7909389107160</td>\n",
       "      <td>169.9</td>\n",
       "      <td>179.9</td>\n",
       "      <td>NaN</td>\n",
       "      <td>0.2</td>\n",
       "      <td>0.2</td>\n",
       "      <td>0.0</td>\n",
       "      <td>Prato giratório</td>\n",
       "      <td>utilidades_domesticas</td>\n",
       "      <td>0.0</td>\n",
       "      <td>0.0</td>\n",
       "      <td>0.0</td>\n",
       "      <td>179.9</td>\n",
       "      <td>179.9</td>\n",
       "      <td>179.9</td>\n",
       "      <td>179.9</td>\n",
       "      <td>179.9</td>\n",
       "      <td>179.9</td>\n",
       "      <td>Prato Giratório 80 cm em Madeira Laminado</td>\n",
       "      <td>Prato Giratório para Mesa Sala de Jantar;\\nDim...</td>\n",
       "      <td>NaN</td>\n",
       "      <td>0.058858</td>\n",
       "    </tr>\n",
       "    <tr>\n",
       "      <th>2</th>\n",
       "      <td>2016-10-05</td>\n",
       "      <td>7909389107160</td>\n",
       "      <td>169.9</td>\n",
       "      <td>179.9</td>\n",
       "      <td>NaN</td>\n",
       "      <td>0.2</td>\n",
       "      <td>0.2</td>\n",
       "      <td>0.0</td>\n",
       "      <td>Prato giratório</td>\n",
       "      <td>utilidades_domesticas</td>\n",
       "      <td>0.0</td>\n",
       "      <td>0.0</td>\n",
       "      <td>0.0</td>\n",
       "      <td>179.9</td>\n",
       "      <td>179.9</td>\n",
       "      <td>179.9</td>\n",
       "      <td>179.9</td>\n",
       "      <td>179.9</td>\n",
       "      <td>179.9</td>\n",
       "      <td>Prato Giratório 80 cm em Madeira Laminado</td>\n",
       "      <td>Prato Giratório para Mesa Sala de Jantar;\\nDim...</td>\n",
       "      <td>NaN</td>\n",
       "      <td>0.058858</td>\n",
       "    </tr>\n",
       "    <tr>\n",
       "      <th>3</th>\n",
       "      <td>2016-10-06</td>\n",
       "      <td>7909389107160</td>\n",
       "      <td>169.9</td>\n",
       "      <td>179.9</td>\n",
       "      <td>NaN</td>\n",
       "      <td>0.2</td>\n",
       "      <td>0.2</td>\n",
       "      <td>0.0</td>\n",
       "      <td>Prato giratório</td>\n",
       "      <td>utilidades_domesticas</td>\n",
       "      <td>0.0</td>\n",
       "      <td>0.0</td>\n",
       "      <td>0.0</td>\n",
       "      <td>179.9</td>\n",
       "      <td>179.9</td>\n",
       "      <td>179.9</td>\n",
       "      <td>179.9</td>\n",
       "      <td>179.9</td>\n",
       "      <td>179.9</td>\n",
       "      <td>Prato Giratório 80 cm em Madeira Laminado</td>\n",
       "      <td>Prato Giratório para Mesa Sala de Jantar;\\nDim...</td>\n",
       "      <td>NaN</td>\n",
       "      <td>0.058858</td>\n",
       "    </tr>\n",
       "    <tr>\n",
       "      <th>4</th>\n",
       "      <td>2016-10-07</td>\n",
       "      <td>7909389107160</td>\n",
       "      <td>169.9</td>\n",
       "      <td>179.9</td>\n",
       "      <td>NaN</td>\n",
       "      <td>0.2</td>\n",
       "      <td>0.2</td>\n",
       "      <td>0.0</td>\n",
       "      <td>Prato giratório</td>\n",
       "      <td>utilidades_domesticas</td>\n",
       "      <td>0.0</td>\n",
       "      <td>0.0</td>\n",
       "      <td>0.0</td>\n",
       "      <td>179.9</td>\n",
       "      <td>179.9</td>\n",
       "      <td>179.9</td>\n",
       "      <td>179.9</td>\n",
       "      <td>179.9</td>\n",
       "      <td>179.9</td>\n",
       "      <td>Prato Giratório 80 cm em Madeira Laminado</td>\n",
       "      <td>Prato Giratório para Mesa Sala de Jantar;\\nDim...</td>\n",
       "      <td>NaN</td>\n",
       "      <td>0.058858</td>\n",
       "    </tr>\n",
       "  </tbody>\n",
       "</table>\n",
       "</div>"
      ],
      "text/plain": [
       "         date   product_gtin  competition_price  price  freight_value  \\\n",
       "0  2016-10-03  7909389107160              169.9  179.9            NaN   \n",
       "1  2016-10-04  7909389107160              169.9  179.9            NaN   \n",
       "2  2016-10-05  7909389107160              169.9  179.9            NaN   \n",
       "3  2016-10-06  7909389107160              169.9  179.9            NaN   \n",
       "4  2016-10-07  7909389107160              169.9  179.9            NaN   \n",
       "\n",
       "   commission_product_olist  commission_freight_olist  orders  \\\n",
       "0                       0.2                       0.2     0.0   \n",
       "1                       0.2                       0.2     0.0   \n",
       "2                       0.2                       0.2     0.0   \n",
       "3                       0.2                       0.2     0.0   \n",
       "4                       0.2                       0.2     0.0   \n",
       "\n",
       "      product_type     product_type_group  stock_max  stock_min  stock_avg  \\\n",
       "0  Prato giratório  utilidades_domesticas        0.0        0.0        0.0   \n",
       "1  Prato giratório  utilidades_domesticas        0.0        0.0        0.0   \n",
       "2  Prato giratório  utilidades_domesticas        0.0        0.0        0.0   \n",
       "3  Prato giratório  utilidades_domesticas        0.0        0.0        0.0   \n",
       "4  Prato giratório  utilidades_domesticas        0.0        0.0        0.0   \n",
       "\n",
       "   price_max  price_min  price_avg  offer_max  offer_min  offer_avg  \\\n",
       "0      179.9      179.9      179.9      179.9      179.9      179.9   \n",
       "1      179.9      179.9      179.9      179.9      179.9      179.9   \n",
       "2      179.9      179.9      179.9      179.9      179.9      179.9   \n",
       "3      179.9      179.9      179.9      179.9      179.9      179.9   \n",
       "4      179.9      179.9      179.9      179.9      179.9      179.9   \n",
       "\n",
       "                                        name  \\\n",
       "0  Prato Giratório 80 cm em Madeira Laminado   \n",
       "1  Prato Giratório 80 cm em Madeira Laminado   \n",
       "2  Prato Giratório 80 cm em Madeira Laminado   \n",
       "3  Prato Giratório 80 cm em Madeira Laminado   \n",
       "4  Prato Giratório 80 cm em Madeira Laminado   \n",
       "\n",
       "                                         description  freight_ratio  \\\n",
       "0  Prato Giratório para Mesa Sala de Jantar;\\nDim...            NaN   \n",
       "1  Prato Giratório para Mesa Sala de Jantar;\\nDim...            NaN   \n",
       "2  Prato Giratório para Mesa Sala de Jantar;\\nDim...            NaN   \n",
       "3  Prato Giratório para Mesa Sala de Jantar;\\nDim...            NaN   \n",
       "4  Prato Giratório para Mesa Sala de Jantar;\\nDim...            NaN   \n",
       "\n",
       "   delta_price  \n",
       "0     0.058858  \n",
       "1     0.058858  \n",
       "2     0.058858  \n",
       "3     0.058858  \n",
       "4     0.058858  "
      ]
     },
     "execution_count": 13,
     "metadata": {},
     "output_type": "execute_result"
    }
   ],
   "source": [
    "df.head()"
   ]
  },
  {
   "cell_type": "markdown",
   "metadata": {},
   "source": [
    "#### 1.5 Summary Statistics:\n",
    "\n",
    "From the summary statistics table below, we can observe a few interesting patterns:  \n",
    "- For olist and competition prices, we observe similar values for every statistic, with olist prices apparently being slightly higher.  \n",
    "- For commisions (over products and freight value), we see a similar mean and quartiles values. Olist's default commision is set to 0.20.  \n",
    "- The orders column, which may be the most important for our analysis, we notice that most of the days have zero orders. This indicates a significant sparsity in our orders.\n",
    "- For delta price, we observe that olist's price is, on average, 3% higher than its competitors'. One major issue with the data gathering process is that some of the competitor's prices are olist's prices itself. This happens when olist is the only vendor for a given product, or has the lowest price in the marketplace."
   ]
  },
  {
   "cell_type": "code",
   "execution_count": 14,
   "metadata": {},
   "outputs": [
    {
     "data": {
      "text/html": [
       "<div>\n",
       "<style scoped>\n",
       "    .dataframe tbody tr th:only-of-type {\n",
       "        vertical-align: middle;\n",
       "    }\n",
       "\n",
       "    .dataframe tbody tr th {\n",
       "        vertical-align: top;\n",
       "    }\n",
       "\n",
       "    .dataframe thead th {\n",
       "        text-align: right;\n",
       "    }\n",
       "</style>\n",
       "<table border=\"1\" class=\"dataframe\">\n",
       "  <thead>\n",
       "    <tr style=\"text-align: right;\">\n",
       "      <th></th>\n",
       "      <th>competition_price</th>\n",
       "      <th>price</th>\n",
       "      <th>freight_value</th>\n",
       "      <th>commission_product_olist</th>\n",
       "      <th>commission_freight_olist</th>\n",
       "      <th>orders</th>\n",
       "      <th>stock_max</th>\n",
       "      <th>stock_min</th>\n",
       "      <th>stock_avg</th>\n",
       "      <th>price_max</th>\n",
       "      <th>price_min</th>\n",
       "      <th>price_avg</th>\n",
       "      <th>offer_max</th>\n",
       "      <th>offer_min</th>\n",
       "      <th>offer_avg</th>\n",
       "      <th>freight_ratio</th>\n",
       "      <th>delta_price</th>\n",
       "    </tr>\n",
       "  </thead>\n",
       "  <tbody>\n",
       "    <tr>\n",
       "      <th>count</th>\n",
       "      <td>299941.00</td>\n",
       "      <td>299941.00</td>\n",
       "      <td>18775.00</td>\n",
       "      <td>299941.00</td>\n",
       "      <td>299941.00</td>\n",
       "      <td>299941.00</td>\n",
       "      <td>299941.00</td>\n",
       "      <td>299941.00</td>\n",
       "      <td>299941.00</td>\n",
       "      <td>299941.00</td>\n",
       "      <td>299941.00</td>\n",
       "      <td>299941.00</td>\n",
       "      <td>299941.00</td>\n",
       "      <td>299941.00</td>\n",
       "      <td>299941.00</td>\n",
       "      <td>18775.00</td>\n",
       "      <td>299941.00</td>\n",
       "    </tr>\n",
       "    <tr>\n",
       "      <th>mean</th>\n",
       "      <td>225.83</td>\n",
       "      <td>230.60</td>\n",
       "      <td>21.43</td>\n",
       "      <td>0.20</td>\n",
       "      <td>0.20</td>\n",
       "      <td>0.14</td>\n",
       "      <td>947.99</td>\n",
       "      <td>781.91</td>\n",
       "      <td>866.69</td>\n",
       "      <td>259.58</td>\n",
       "      <td>256.31</td>\n",
       "      <td>258.45</td>\n",
       "      <td>232.73</td>\n",
       "      <td>228.59</td>\n",
       "      <td>230.71</td>\n",
       "      <td>0.29</td>\n",
       "      <td>0.03</td>\n",
       "    </tr>\n",
       "    <tr>\n",
       "      <th>std</th>\n",
       "      <td>385.85</td>\n",
       "      <td>397.31</td>\n",
       "      <td>18.14</td>\n",
       "      <td>0.00</td>\n",
       "      <td>0.01</td>\n",
       "      <td>1.00</td>\n",
       "      <td>11724.94</td>\n",
       "      <td>11062.90</td>\n",
       "      <td>11301.07</td>\n",
       "      <td>433.64</td>\n",
       "      <td>430.36</td>\n",
       "      <td>432.76</td>\n",
       "      <td>401.33</td>\n",
       "      <td>393.73</td>\n",
       "      <td>397.47</td>\n",
       "      <td>0.25</td>\n",
       "      <td>0.15</td>\n",
       "    </tr>\n",
       "    <tr>\n",
       "      <th>min</th>\n",
       "      <td>6.99</td>\n",
       "      <td>6.97</td>\n",
       "      <td>0.00</td>\n",
       "      <td>0.09</td>\n",
       "      <td>0.00</td>\n",
       "      <td>0.00</td>\n",
       "      <td>0.00</td>\n",
       "      <td>0.00</td>\n",
       "      <td>0.00</td>\n",
       "      <td>6.99</td>\n",
       "      <td>6.99</td>\n",
       "      <td>6.99</td>\n",
       "      <td>6.99</td>\n",
       "      <td>6.92</td>\n",
       "      <td>6.97</td>\n",
       "      <td>0.00</td>\n",
       "      <td>-0.87</td>\n",
       "    </tr>\n",
       "    <tr>\n",
       "      <th>25%</th>\n",
       "      <td>65.00</td>\n",
       "      <td>65.00</td>\n",
       "      <td>12.16</td>\n",
       "      <td>0.20</td>\n",
       "      <td>0.20</td>\n",
       "      <td>0.00</td>\n",
       "      <td>5.00</td>\n",
       "      <td>1.00</td>\n",
       "      <td>4.00</td>\n",
       "      <td>79.00</td>\n",
       "      <td>76.80</td>\n",
       "      <td>78.47</td>\n",
       "      <td>65.81</td>\n",
       "      <td>64.99</td>\n",
       "      <td>65.00</td>\n",
       "      <td>0.13</td>\n",
       "      <td>0.00</td>\n",
       "    </tr>\n",
       "    <tr>\n",
       "      <th>50%</th>\n",
       "      <td>129.99</td>\n",
       "      <td>134.90</td>\n",
       "      <td>18.12</td>\n",
       "      <td>0.20</td>\n",
       "      <td>0.20</td>\n",
       "      <td>0.00</td>\n",
       "      <td>14.00</td>\n",
       "      <td>5.00</td>\n",
       "      <td>11.38</td>\n",
       "      <td>150.64</td>\n",
       "      <td>150.00</td>\n",
       "      <td>150.00</td>\n",
       "      <td>137.99</td>\n",
       "      <td>134.00</td>\n",
       "      <td>134.90</td>\n",
       "      <td>0.23</td>\n",
       "      <td>0.00</td>\n",
       "    </tr>\n",
       "    <tr>\n",
       "      <th>75%</th>\n",
       "      <td>239.90</td>\n",
       "      <td>240.00</td>\n",
       "      <td>25.08</td>\n",
       "      <td>0.20</td>\n",
       "      <td>0.20</td>\n",
       "      <td>0.00</td>\n",
       "      <td>99.00</td>\n",
       "      <td>80.00</td>\n",
       "      <td>97.00</td>\n",
       "      <td>288.80</td>\n",
       "      <td>279.99</td>\n",
       "      <td>282.00</td>\n",
       "      <td>243.99</td>\n",
       "      <td>239.99</td>\n",
       "      <td>240.00</td>\n",
       "      <td>0.39</td>\n",
       "      <td>0.01</td>\n",
       "    </tr>\n",
       "    <tr>\n",
       "      <th>max</th>\n",
       "      <td>7406.30</td>\n",
       "      <td>7387.78</td>\n",
       "      <td>344.70</td>\n",
       "      <td>0.25</td>\n",
       "      <td>0.25</td>\n",
       "      <td>91.00</td>\n",
       "      <td>246225.00</td>\n",
       "      <td>246225.00</td>\n",
       "      <td>246225.00</td>\n",
       "      <td>7406.30</td>\n",
       "      <td>7406.30</td>\n",
       "      <td>7406.30</td>\n",
       "      <td>7406.30</td>\n",
       "      <td>7332.24</td>\n",
       "      <td>7387.78</td>\n",
       "      <td>3.29</td>\n",
       "      <td>5.07</td>\n",
       "    </tr>\n",
       "  </tbody>\n",
       "</table>\n",
       "</div>"
      ],
      "text/plain": [
       "       competition_price      price  freight_value  commission_product_olist  \\\n",
       "count          299941.00  299941.00       18775.00                 299941.00   \n",
       "mean              225.83     230.60          21.43                      0.20   \n",
       "std               385.85     397.31          18.14                      0.00   \n",
       "min                 6.99       6.97           0.00                      0.09   \n",
       "25%                65.00      65.00          12.16                      0.20   \n",
       "50%               129.99     134.90          18.12                      0.20   \n",
       "75%               239.90     240.00          25.08                      0.20   \n",
       "max              7406.30    7387.78         344.70                      0.25   \n",
       "\n",
       "       commission_freight_olist     orders  stock_max  stock_min  stock_avg  \\\n",
       "count                 299941.00  299941.00  299941.00  299941.00  299941.00   \n",
       "mean                       0.20       0.14     947.99     781.91     866.69   \n",
       "std                        0.01       1.00   11724.94   11062.90   11301.07   \n",
       "min                        0.00       0.00       0.00       0.00       0.00   \n",
       "25%                        0.20       0.00       5.00       1.00       4.00   \n",
       "50%                        0.20       0.00      14.00       5.00      11.38   \n",
       "75%                        0.20       0.00      99.00      80.00      97.00   \n",
       "max                        0.25      91.00  246225.00  246225.00  246225.00   \n",
       "\n",
       "       price_max  price_min  price_avg  offer_max  offer_min  offer_avg  \\\n",
       "count  299941.00  299941.00  299941.00  299941.00  299941.00  299941.00   \n",
       "mean      259.58     256.31     258.45     232.73     228.59     230.71   \n",
       "std       433.64     430.36     432.76     401.33     393.73     397.47   \n",
       "min         6.99       6.99       6.99       6.99       6.92       6.97   \n",
       "25%        79.00      76.80      78.47      65.81      64.99      65.00   \n",
       "50%       150.64     150.00     150.00     137.99     134.00     134.90   \n",
       "75%       288.80     279.99     282.00     243.99     239.99     240.00   \n",
       "max      7406.30    7406.30    7406.30    7406.30    7332.24    7387.78   \n",
       "\n",
       "       freight_ratio  delta_price  \n",
       "count       18775.00    299941.00  \n",
       "mean            0.29         0.03  \n",
       "std             0.25         0.15  \n",
       "min             0.00        -0.87  \n",
       "25%             0.13         0.00  \n",
       "50%             0.23         0.00  \n",
       "75%             0.39         0.01  \n",
       "max             3.29         5.07  "
      ]
     },
     "execution_count": 14,
     "metadata": {},
     "output_type": "execute_result"
    }
   ],
   "source": [
    "df.describe().round(2)"
   ]
  },
  {
   "cell_type": "markdown",
   "metadata": {},
   "source": [
    "<a name=\"univariate\"></a>\n",
    "### 2. Univariate analysis\n",
    "\n",
    "We now explore some of our variables behaviours, most notably:  \n",
    "- prices (competitor's, olist's and delta)\n",
    "- shipping values (freight_values and freight_ratio)\n",
    "- product types and groups (categorical)\n",
    "- orders"
   ]
  },
  {
   "cell_type": "markdown",
   "metadata": {},
   "source": [
    "#### 2.1 Prices\n",
    "\n",
    "We see below how olist's and its competitors match overall. The prices are highly skewed, so we display them log transformed as well.  \n",
    "The behavior of olist's prices is very similar to its competitors' prices. On the delta prices plot, we observe that most of prices differences is close to 0%. We also observe that olist's prices tend to be a little bit higher then its competitors'."
   ]
  },
  {
   "cell_type": "code",
   "execution_count": 15,
   "metadata": {},
   "outputs": [
    {
     "data": {
      "image/png": "[encoded data removed]",
      "text/plain": [
       "<Figure size 576x576 with 4 Axes>"
      ]
     },
     "metadata": {
      "needs_background": "light"
     },
     "output_type": "display_data"
    }
   ],
   "source": [
    "fig, ax = plt.subplots(nrows=2, ncols=2, figsize=(8, 8))\n",
    "\n",
    "sns.distplot(df.price, hist=True, kde=True, color='blue', hist_kws=dict(alpha=0.6), ax=ax[0][0])\n",
    "ax[0][0].set_xlabel(\"Olist prices\")\n",
    "sns.distplot(np.log(df.price), hist=True, kde=True, color='blue', hist_kws=dict(alpha=0.6), ax=ax[0][1])\n",
    "ax[0][1].set_xlabel(\"Olist log prices\")\n",
    "\n",
    "sns.distplot(df.competition_price, hist=True, kde=True, color='red', hist_kws=dict(alpha=0.6), ax=ax[1][0])\n",
    "ax[1][0].set_xlabel(\"Competition prices\")\n",
    "sns.distplot(np.log(df.competition_price), hist=True, kde=True, color='red', hist_kws=dict(alpha=0.6), ax=ax[1][1])\n",
    "ax[1][1].set_xlabel(\"Competition log prices\")\n",
    "\n",
    "plt.tight_layout()\n",
    "plt.show()"
   ]
  },
  {
   "cell_type": "code",
   "execution_count": 16,
   "metadata": {},
   "outputs": [
    {
     "data": {
      "image/png": "[encoded data removed]",
      "text/plain": [
       "<Figure size 576x432 with 1 Axes>"
      ]
     },
     "metadata": {
      "needs_background": "light"
     },
     "output_type": "display_data"
    }
   ],
   "source": [
    "fig, ax = plt.subplots(figsize=(8, 6))\n",
    "sns.distplot(df.delta_price*100, kde=False, bins=200, ax=ax)\n",
    "plt.xlabel('delta prices (%)')\n",
    "plt.xlim((-100,100))\n",
    "plt.tight_layout()\n",
    "plt.show()"
   ]
  },
  {
   "cell_type": "markdown",
   "metadata": {},
   "source": [
    "#### 2.2 Normalized Prices Grouped by Gtin, Product Type and Product Type Group.\n",
    "\n",
    "As we have many different products with different prices in our dataset, we could see the  prices normalized by  gtin, product_type and product_type_group."
   ]
  },
  {
   "cell_type": "markdown",
   "metadata": {},
   "source": [
    "*2.2.1 - by gtin:*"
   ]
  },
  {
   "cell_type": "markdown",
   "metadata": {},
   "source": [
    "The histogramsfor the prices and competition_prices scaled by gtin shows a strong concentration of the data at the extremes."
   ]
  },
  {
   "cell_type": "code",
   "execution_count": 17,
   "metadata": {},
   "outputs": [
    {
     "data": {
      "image/png": "[encoded data removed]",
      "text/plain": [
       "<Figure size 576x576 with 2 Axes>"
      ]
     },
     "metadata": {
      "needs_background": "light"
     },
     "output_type": "display_data"
    }
   ],
   "source": [
    "price_sc = df.groupby('product_gtin').price.transform(lambda x: minmax_scale(x.astype(float)))\n",
    "competition_sc = df.groupby('product_gtin').competition_price.transform(lambda x: minmax_scale(x.astype(float)))\n",
    "\n",
    "fig, ax = plt.subplots(nrows=1, ncols=2, figsize=(8, 8))\n",
    "\n",
    "sns.distplot(price_sc, hist=True, kde=True, color='blue', hist_kws=dict(alpha=0.6), ax=ax[0])\n",
    "ax[0].set_xlabel(\"Olist prices Scaled by gtin\")\n",
    "ax[0].set_yscale(\"log\")\n",
    "\n",
    "sns.distplot(competition_sc, hist=True, kde=True, color='red', hist_kws=dict(alpha=0.6), ax=ax[1])\n",
    "ax[1].set_xlabel(\"Competition prices Scaled by gtin\")\n",
    "ax[1].set_yscale(\"log\")\n",
    "\n",
    "plt.tight_layout()\n",
    "plt.show()"
   ]
  },
  {
   "cell_type": "markdown",
   "metadata": {},
   "source": [
    "*2.2.2 - by product_type:*"
   ]
  },
  {
   "cell_type": "markdown",
   "metadata": {},
   "source": [
    "A little diferent from the gtin group, the product_type group show a far from normal distribution, but we can see more data in the middle of the extremes."
   ]
  },
  {
   "cell_type": "code",
   "execution_count": 18,
   "metadata": {},
   "outputs": [
    {
     "data": {
      "image/png": "[encoded data removed]",
      "text/plain": [
       "<Figure size 576x576 with 2 Axes>"
      ]
     },
     "metadata": {
      "needs_background": "light"
     },
     "output_type": "display_data"
    }
   ],
   "source": [
    "price_sc = df.groupby('product_type').price.transform(lambda x: minmax_scale(x.astype(float)))\n",
    "competition_sc = df.groupby('product_type').competition_price.transform(lambda x: minmax_scale(x.astype(float)))\n",
    "\n",
    "fig, ax = plt.subplots(nrows=1, ncols=2, figsize=(8, 8))\n",
    "\n",
    "sns.distplot(price_sc, hist=True, kde=True, color='blue', hist_kws=dict(alpha=0.6), ax=ax[0])\n",
    "ax[0].set_xlabel(\"Olist prices Scaled by Product_Type\")\n",
    "ax[0].set_yscale(\"log\")\n",
    "\n",
    "sns.distplot(competition_sc, hist=True, kde=True, color='red', hist_kws=dict(alpha=0.6), ax=ax[1])\n",
    "ax[1].set_xlabel(\"Competition prices Scaled by Product_Type\")\n",
    "ax[1].set_yscale(\"log\")\n",
    "\n",
    "\n",
    "plt.tight_layout()\n",
    "plt.show()"
   ]
  },
  {
   "cell_type": "markdown",
   "metadata": {},
   "source": [
    "*2.2.3 - by product_type_group:*"
   ]
  },
  {
   "cell_type": "markdown",
   "metadata": {},
   "source": [
    "We are still far from a normal distribution, but each level of group se go up, more data we see at the middle. "
   ]
  },
  {
   "cell_type": "code",
   "execution_count": 19,
   "metadata": {},
   "outputs": [
    {
     "data": {
      "image/png": "[encoded data removed]",
      "text/plain": [
       "<Figure size 576x576 with 2 Axes>"
      ]
     },
     "metadata": {
      "needs_background": "light"
     },
     "output_type": "display_data"
    }
   ],
   "source": [
    "price_sc = df.groupby('product_type_group').price.transform(lambda x: minmax_scale(x.astype(float)))\n",
    "competition_sc = df.groupby('product_type_group').competition_price.transform(lambda x: minmax_scale(x.astype(float)))\n",
    "\n",
    "fig, ax = plt.subplots(nrows=1, ncols=2, figsize=(8, 8))\n",
    "\n",
    "sns.distplot(price_sc, hist=True, kde=True, color='blue', hist_kws=dict(alpha=0.6), ax=ax[0])\n",
    "ax[0].set_xlabel(\"Olist prices Scaled by Product_Type\")\n",
    "ax[0].set_yscale(\"log\")\n",
    "\n",
    "sns.distplot(competition_sc, hist=True, kde=True, color='red', hist_kws=dict(alpha=0.6), ax=ax[1])\n",
    "ax[1].set_xlabel(\"Competition prices Scaled by Product_Type\")\n",
    "ax[1].set_yscale(\"log\")\n",
    "\n",
    "plt.tight_layout()\n",
    "plt.show()"
   ]
  },
  {
   "cell_type": "markdown",
   "metadata": {},
   "source": [
    "#### 2.3 Shipping: values and ratio"
   ]
  },
  {
   "cell_type": "code",
   "execution_count": 20,
   "metadata": {},
   "outputs": [
    {
     "data": {
      "image/png": "[encoded data removed]",
      "text/plain": [
       "<Figure size 576x432 with 2 Axes>"
      ]
     },
     "metadata": {
      "needs_background": "light"
     },
     "output_type": "display_data"
    }
   ],
   "source": [
    "fig, ax = plt.subplots(ncols=2, figsize=(8,6))\n",
    "\n",
    "sns.distplot(df.freight_value, ax=ax[0])\n",
    "\n",
    "sns.distplot(np.log(df.freight_value+1), ax=ax[1])\n",
    "ax[1].set_xlabel('log freight value')\n",
    "\n",
    "plt.tight_layout()"
   ]
  },
  {
   "cell_type": "code",
   "execution_count": 21,
   "metadata": {},
   "outputs": [
    {
     "data": {
      "image/png": "[encoded data removed]",
      "text/plain": [
       "<Figure size 576x432 with 1 Axes>"
      ]
     },
     "metadata": {
      "needs_background": "light"
     },
     "output_type": "display_data"
    },
    {
     "name": "stdout",
     "output_type": "stream",
     "text": [
      "count    18775.00\n",
      "mean        29.49\n",
      "std         25.24\n",
      "min          0.00\n",
      "25%         12.95\n",
      "50%         23.20\n",
      "75%         38.90\n",
      "max        329.40\n",
      "Name: freight_ratio, dtype: float64\n"
     ]
    }
   ],
   "source": [
    "fig, ax = plt.subplots(figsize=(8, 6))\n",
    "sns.boxplot(y=df.freight_ratio*100, ax=ax)\n",
    "plt.xlabel('freight ratio (%)')\n",
    "plt.yticks(range(0,350,25))\n",
    "plt.tight_layout()\n",
    "plt.show()\n",
    "\n",
    "print((df.freight_ratio*100).describe().round(2))"
   ]
  },
  {
   "cell_type": "markdown",
   "metadata": {},
   "source": [
    "#### 2.4 Scaled Shipping: values - Grouped by gtin, product_type and product_type_group"
   ]
  },
  {
   "cell_type": "markdown",
   "metadata": {},
   "source": [
    "*2.4.1 - by product_gtin:*"
   ]
  },
  {
   "cell_type": "code",
   "execution_count": 22,
   "metadata": {},
   "outputs": [
    {
     "data": {
      "image/png": "[encoded data removed]",
      "text/plain": [
       "<Figure size 432x288 with 1 Axes>"
      ]
     },
     "metadata": {
      "needs_background": "light"
     },
     "output_type": "display_data"
    }
   ],
   "source": [
    "freight_sc = df.groupby('product_gtin').price.transform(lambda x: minmax_scale(x.astype(float)))\n",
    "\n",
    "sns.distplot(freight_sc)\n",
    "plt.xlabel('freigh scaled by gtin')\n",
    "plt.tight_layout()"
   ]
  },
  {
   "cell_type": "markdown",
   "metadata": {},
   "source": [
    "*2.4.2 - by product_type:*"
   ]
  },
  {
   "cell_type": "code",
   "execution_count": 23,
   "metadata": {},
   "outputs": [
    {
     "data": {
      "image/png": "[encoded data removed]",
      "text/plain": [
       "<Figure size 432x288 with 1 Axes>"
      ]
     },
     "metadata": {
      "needs_background": "light"
     },
     "output_type": "display_data"
    }
   ],
   "source": [
    "freight_sc = df.groupby('product_type').price.transform(lambda x: minmax_scale(x.astype(float)))\n",
    "\n",
    "sns.distplot(freight_sc)\n",
    "plt.xlabel('freigh scaled by product type')\n",
    "plt.tight_layout()"
   ]
  },
  {
   "cell_type": "markdown",
   "metadata": {},
   "source": [
    "*2.4.3 - by product_type_group:*"
   ]
  },
  {
   "cell_type": "code",
   "execution_count": null,
   "metadata": {},
   "outputs": [],
   "source": [
    "freight_sc = df.groupby('product_type_group').price.transform(lambda x: minmax_scale(x.astype(float)))\n",
    "\n",
    "sns.distplot(freight_sc)\n",
    "plt.xlabel('freigh scaled by product_type_group')\n",
    "plt.tight_layout()"
   ]
  },
  {
   "cell_type": "markdown",
   "metadata": {},
   "source": [
    "#### 2.5 Orders\n",
    "\n",
    "TODO"
   ]
  },
  {
   "cell_type": "code",
   "execution_count": null,
   "metadata": {},
   "outputs": [],
   "source": [
    "fig, ax = plt.subplots(figsize=(12,6))\n",
    "sns.countplot(df.orders.round(0), ax=ax)\n",
    "plt.xticks(rotation=90)\n",
    "plt.tight_layout()"
   ]
  },
  {
   "cell_type": "markdown",
   "metadata": {},
   "source": [
    "<a name=\"bivariate\"></a>\n",
    "### 3. Bivariate Analysis\n",
    "\n",
    "Our main focus of this EDA is to understand what drives order quantities.  \n",
    "1. Freight Value (how does free shipping impact our sales)  \n",
    "2. Relationship to competitor's prices\n",
    "3. Orders Sazonality"
   ]
  },
  {
   "cell_type": "markdown",
   "metadata": {},
   "source": [
    "Let's create 5 different columns to map some relationships between variables:  \n",
    "\n",
    "- delta_price: price difference (%) between olist's price and our competition's price;\n",
    "- freight_ratio: ratio between freight value and product's price. When freight_value is NaN, it will be assumed as 16%"
   ]
  },
  {
   "cell_type": "markdown",
   "metadata": {},
   "source": [
    "Now, let's see how orders are correlated with other variables"
   ]
  },
  {
   "cell_type": "code",
   "execution_count": null,
   "metadata": {},
   "outputs": [],
   "source": [
    "sns.set(style=\"white\")\n",
    "\n",
    "corr = df[['competition_price','price','delta_price',\n",
    "           'freight_value','freight_ratio','orders']].corr().round(2)\n",
    "\n",
    "mask = np.triu(np.ones_like(corr, dtype=np.bool))\n",
    "\n",
    "f, ax = plt.subplots(figsize=(12, 9))\n",
    "\n",
    "cmap = sns.diverging_palette(220, 10, as_cmap=True)\n",
    "\n",
    "sns.heatmap(corr, mask=mask, cmap=cmap, vmax=.3, center=0,\n",
    "            square=True, linewidths=.5, cbar_kws={\"shrink\": .5}, annot=True)"
   ]
  },
  {
   "cell_type": "markdown",
   "metadata": {},
   "source": [
    "#### 3.1 Prices x Orders"
   ]
  },
  {
   "cell_type": "markdown",
   "metadata": {},
   "source": [
    "#### 3.2 Orders Sazonality"
   ]
  },
  {
   "cell_type": "markdown",
   "metadata": {},
   "source": [
    "Let's create 3 more variables trying to understand eventual sazonality of the data:\n",
    "- weekday\n",
    "- monthday\n",
    "- month"
   ]
  },
  {
   "cell_type": "code",
   "execution_count": null,
   "metadata": {},
   "outputs": [],
   "source": [
    "df['weekday'] = pd.DatetimeIndex(df['date']).weekday\n",
    "df['monthday'] = pd.DatetimeIndex(df['date']).day\n",
    "df['month'] = pd.DatetimeIndex(df['date']).month"
   ]
  },
  {
   "cell_type": "code",
   "execution_count": null,
   "metadata": {},
   "outputs": [],
   "source": [
    "sns.boxplot(x='weekday', y='orders',  data=df).set_title('Orders by weekday')\n",
    "plt.yscale('log')"
   ]
  },
  {
   "cell_type": "code",
   "execution_count": null,
   "metadata": {},
   "outputs": [],
   "source": [
    "sns.boxplot(x='monthday', y='orders',  data=df).set_title('Orders by month')\n",
    "plt.yscale('log')"
   ]
  },
  {
   "cell_type": "code",
   "execution_count": null,
   "metadata": {},
   "outputs": [],
   "source": [
    "sns.boxplot(x='day', y='orders',  data=df).set_title('Orders by day')\n",
    "plt.yscale('log')"
   ]
  },
  {
   "cell_type": "markdown",
   "metadata": {},
   "source": [
    "<a name=\"sparsity\"></a>\n",
    "### 4. Demand sparsity\n",
    "\n",
    "Olist offers many long-tail products, i.e. hard to find products, that are sold in low volumes to many customers. To mitigate this problem, let's first analyze the top selling products/categories."
   ]
  },
  {
   "cell_type": "markdown",
   "metadata": {},
   "source": [
    "##### Products"
   ]
  },
  {
   "cell_type": "code",
   "execution_count": null,
   "metadata": {},
   "outputs": [],
   "source": [
    "df['days'] = 1"
   ]
  },
  {
   "cell_type": "code",
   "execution_count": null,
   "metadata": {},
   "outputs": [],
   "source": [
    "sparsity = df.groupby('product_gtin')[['orders','days']].sum().reset_index()\n",
    "\n",
    "sparsity['orders_per_day'] = sparsity['orders'].values / sparsity['days'].values\n",
    "\n",
    "sparsity = sparsity.sort_values(by=['orders','orders_per_day'], ascending=False).reset_index(drop=True)\n",
    "\n",
    "sparsity.describe()"
   ]
  },
  {
   "cell_type": "code",
   "execution_count": null,
   "metadata": {},
   "outputs": [],
   "source": [
    "plt.style.use('ggplot')\n",
    "fig, ax = plt.subplots(nrows=2, ncols=2, figsize=(12,8))\n",
    "sns.distplot(sparsity.orders, ax=ax[0][0])\n",
    "sns.distplot(sparsity.orders_per_day, ax=ax[0][1])\n",
    "\n",
    "sns.boxplot(sparsity.orders, ax=ax[1][0])\n",
    "sns.boxplot(sparsity.orders_per_day, ax=ax[1][1])"
   ]
  },
  {
   "cell_type": "code",
   "execution_count": null,
   "metadata": {},
   "outputs": [],
   "source": [
    "plt.style.use('ggplot')\n",
    "fig, ax = plt.subplots(nrows=2, ncols=2, figsize=(12,8))\n",
    "sns.distplot(sparsity.orders, ax=ax[0][0])\n",
    "ax[0][0].set_yscale('log')\n",
    "\n",
    "sns.distplot(sparsity.orders_per_day, ax=ax[0][1])\n",
    "ax[0][1].set_yscale('log')\n",
    "\n",
    "sns.boxplot(sparsity.orders, ax=ax[1][0])\n",
    "ax[1][0].set_xscale('log')\n",
    "sns.boxplot(sparsity.orders_per_day, ax=ax[1][1])\n",
    "ax[1][1].set_xscale('log')"
   ]
  },
  {
   "cell_type": "markdown",
   "metadata": {},
   "source": [
    "##### Product types"
   ]
  },
  {
   "cell_type": "code",
   "execution_count": null,
   "metadata": {},
   "outputs": [],
   "source": [
    "sparsity_ty = df.groupby('product_type')[['orders','days']].sum().reset_index()\n",
    "\n",
    "sparsity_ty['orders_per_day'] = sparsity_ty['orders'].values / sparsity_ty['days'].values\n",
    "\n",
    "sparsity_ty = sparsity_ty.sort_values(by=['orders','orders_per_day'], ascending=False).reset_index(drop=True)\n",
    "\n",
    "sparsity_ty.describe()"
   ]
  },
  {
   "cell_type": "code",
   "execution_count": null,
   "metadata": {},
   "outputs": [],
   "source": [
    "sparsity_ty.head(5)"
   ]
  },
  {
   "cell_type": "code",
   "execution_count": null,
   "metadata": {},
   "outputs": [],
   "source": [
    "temp = sparsity_ty.sort_values(by='orders_per_day', ascending=False)\n",
    "\n",
    "fig, ax = plt.subplots(ncols=2, figsize=(12,8))\n",
    "\n",
    "\n",
    "sns.barplot(temp.product_type.head(), temp.orders_per_day.head(), ax=ax[0])\n",
    "sns.barplot(temp.product_type.head(), temp.orders.head(), ax=ax[1])\n",
    "\n",
    "ax[0].set_xticklabels(temp.product_type.head(),rotation=45)\n",
    "ax[1].set_xticklabels(temp.product_type.head(),rotation=45)\n",
    "\n",
    "\n",
    "plt.tight_layout()\n",
    "\n",
    "plt.show()"
   ]
  },
  {
   "cell_type": "markdown",
   "metadata": {},
   "source": [
    "##### Product groups"
   ]
  },
  {
   "cell_type": "code",
   "execution_count": null,
   "metadata": {},
   "outputs": [],
   "source": [
    "sparsity_gr = df.groupby('product_type_group')[['orders','days']].sum().reset_index()\n",
    "\n",
    "sparsity_gr['orders_per_day'] = sparsity_gr['orders'].values / sparsity_gr['days'].values\n",
    "\n",
    "sparsity_gr = sparsity_gr.sort_values(by=['orders','orders_per_day'], ascending=False).reset_index(drop=True)\n",
    "\n",
    "sparsity_gr.describe()"
   ]
  },
  {
   "cell_type": "code",
   "execution_count": null,
   "metadata": {},
   "outputs": [],
   "source": [
    "temp = sparsity_gr.sort_values(by='orders_per_day', ascending=False)\n",
    "\n",
    "fig, ax = plt.subplots(ncols=2, figsize=(12,8))\n",
    "\n",
    "\n",
    "sns.barplot(temp.product_type_group.head(), temp.orders_per_day.head(), ax=ax[0])\n",
    "sns.barplot(temp.product_type_group.head(), temp.orders.head(), ax=ax[1])\n",
    "\n",
    "ax[0].set_xticklabels(temp.product_type_group.head(),rotation=45)\n",
    "ax[1].set_xticklabels(temp.product_type_group.head(),rotation=45)\n",
    "\n",
    "\n",
    "plt.tight_layout()\n",
    "\n",
    "plt.show()"
   ]
  },
  {
   "cell_type": "markdown",
   "metadata": {},
   "source": [
    "<a name=\"gtin\"></a>\n",
    "### 6. GTIN Analysis"
   ]
  },
  {
   "cell_type": "markdown",
   "metadata": {},
   "source": [
    "#### 6.1 Product 1: Make-up kit\n",
    "Let's choose a single product_type: makeup kit.  \n",
    "It contains the largest average of orders per day (~5)"
   ]
  },
  {
   "cell_type": "code",
   "execution_count": null,
   "metadata": {},
   "outputs": [],
   "source": [
    "makeup = df[df.product_type == 'Kit maquiagem'].copy().reset_index(drop=True)"
   ]
  },
  {
   "cell_type": "code",
   "execution_count": null,
   "metadata": {},
   "outputs": [],
   "source": [
    "makeup.product_gtin.nunique()"
   ]
  },
  {
   "cell_type": "code",
   "execution_count": null,
   "metadata": {},
   "outputs": [],
   "source": [
    "makeup.info()"
   ]
  },
  {
   "cell_type": "code",
   "execution_count": null,
   "metadata": {},
   "outputs": [],
   "source": [
    "makeup.describe()"
   ]
  },
  {
   "cell_type": "code",
   "execution_count": null,
   "metadata": {},
   "outputs": [],
   "source": [
    "makeup.corr().round(3)[['orders']]"
   ]
  },
  {
   "cell_type": "markdown",
   "metadata": {},
   "source": [
    "Now, we see that both freight ratio and freight value columns have negative correlations with orders. That could indicate that offering free shipping might have a bigger impact on sales.  \n",
    "If we observe the delta_price correlation we might consider that having a higher price than our competitors may not hinder our competitiveness.  \n",
    "\n",
    "Let's analyze our timeseries behavior:"
   ]
  },
  {
   "cell_type": "code",
   "execution_count": null,
   "metadata": {},
   "outputs": [],
   "source": [
    "columns = ['competition_price', 'price', 'freight_value','orders', 'stock_max'] "
   ]
  },
  {
   "cell_type": "code",
   "execution_count": null,
   "metadata": {},
   "outputs": [],
   "source": [
    "sns.set_style()\n",
    "\n",
    "fig, ax = plt.subplots(nrows=4, figsize=(14,14))\n",
    "\n",
    "sns.lineplot(x=makeup.index, y=makeup['competition_price'], ax=ax[0])\n",
    "sns.lineplot(x=makeup.index, y=makeup['price'], ax=ax[0])\n",
    "\n",
    "\n",
    "sns.lineplot(x=makeup.index, y=makeup['stock_max'], ax=ax[1])\n",
    "\n",
    "sns.lineplot(x=makeup.index, y=makeup['freight_value'], ax=ax[2])\n",
    "\n",
    "sns.lineplot(x=makeup.index, y=makeup['orders'], ax=ax[3])\n",
    "\n",
    "\n",
    "plt.tight_layout()"
   ]
  },
  {
   "cell_type": "markdown",
   "metadata": {},
   "source": [
    "Looking at the above plot, we can observe a few interesting things: the period in which we have the most sales is a few weeks before Christmas; The period without sales from mid December 2019 to January is the same period when our stocks are the lowest (around 5 units); We observe that from Jan 28th to Feb 3, there was a small rise in sales when the shipping values were 0 (free shipping); "
   ]
  },
  {
   "cell_type": "code",
   "execution_count": null,
   "metadata": {},
   "outputs": [],
   "source": [
    "makeup.name[0]"
   ]
  },
  {
   "cell_type": "code",
   "execution_count": null,
   "metadata": {},
   "outputs": [],
   "source": [
    "makeup.product_gtin[0]"
   ]
  },
  {
   "cell_type": "code",
   "execution_count": null,
   "metadata": {},
   "outputs": [],
   "source": []
  }
 ],
 "metadata": {
  "kernelspec": {
   "display_name": "Python 3",
   "language": "python",
   "name": "python3"
  },
  "language_info": {
   "codemirror_mode": {
    "name": "ipython",
    "version": 3
   },
   "file_extension": ".py",
   "mimetype": "text/x-python",
   "name": "python",
   "nbconvert_exporter": "python",
   "pygments_lexer": "ipython3",
   "version": "3.7.6"
  }
 },
 "nbformat": 4,
 "nbformat_minor": 4
}
